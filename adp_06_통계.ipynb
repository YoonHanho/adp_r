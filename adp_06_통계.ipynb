{
 "cells": [
  {
   "cell_type": "code",
   "execution_count": 2,
   "id": "63cd26ad",
   "metadata": {},
   "outputs": [],
   "source": [
    "import pandas as pd\n",
    "import numpy as np\n",
    "import matplotlib.pyplot as plt\n",
    "plt.rcParams['axes.unicode_minus'] = False\n",
    "\n",
    "from matplotlib import rc, rcParams, font_manager \n",
    "#!find / -name \"*Nanum*.ttf\"\n",
    "font_path = '/usr/share/fonts/truetype/nanum/NanumGothicCoding-Bold.ttf'\n",
    "fontName = font_manager.FontProperties(fname=font_path).get_name()\n",
    "rc('font', family=fontName)\n",
    "\n",
    "import seaborn as sns\n",
    "from sklearn.datasets import load_wine, load_iris\n",
    "import warnings \n",
    "warnings.filterwarnings('ignore')\n",
    "\n",
    "pd.set_option(\"display.float_format\", \"{:,.2f}\".format)\n",
    "pd.set_option(\"display.max_columns\", None)"
   ]
  },
  {
   "cell_type": "markdown",
   "id": "a441f6c6",
   "metadata": {},
   "source": [
    "---\n",
    "### 단일표본 t 검정 \n",
    "\n",
    "- 정규성 검정 : shapiro \n",
    "  - 정규분포 O : t-test\n",
    "  - 정규분포 X : 윌콕슨 부호 순위 검정 \n",
    "\n",
    "\n",
    "- 소표본이면, 비모수 통계(윌콕슨)"
   ]
  },
  {
   "cell_type": "code",
   "execution_count": 22,
   "id": "cc5501e3",
   "metadata": {},
   "outputs": [
    {
     "name": "stdout",
     "output_type": "stream",
     "text": [
      "Sex    0\n",
      "Bwt    0\n",
      "Hwt    0\n",
      "dtype: int64\n"
     ]
    },
    {
     "data": {
      "text/html": [
       "<div>\n",
       "<style scoped>\n",
       "    .dataframe tbody tr th:only-of-type {\n",
       "        vertical-align: middle;\n",
       "    }\n",
       "\n",
       "    .dataframe tbody tr th {\n",
       "        vertical-align: top;\n",
       "    }\n",
       "\n",
       "    .dataframe thead th {\n",
       "        text-align: right;\n",
       "    }\n",
       "</style>\n",
       "<table border=\"1\" class=\"dataframe\">\n",
       "  <thead>\n",
       "    <tr style=\"text-align: right;\">\n",
       "      <th></th>\n",
       "      <th>Sex</th>\n",
       "      <th>Bwt</th>\n",
       "      <th>Hwt</th>\n",
       "    </tr>\n",
       "  </thead>\n",
       "  <tbody>\n",
       "    <tr>\n",
       "      <th>141</th>\n",
       "      <td>M</td>\n",
       "      <td>3.80</td>\n",
       "      <td>16.80</td>\n",
       "    </tr>\n",
       "    <tr>\n",
       "      <th>142</th>\n",
       "      <td>M</td>\n",
       "      <td>3.90</td>\n",
       "      <td>14.40</td>\n",
       "    </tr>\n",
       "    <tr>\n",
       "      <th>143</th>\n",
       "      <td>M</td>\n",
       "      <td>3.90</td>\n",
       "      <td>20.50</td>\n",
       "    </tr>\n",
       "  </tbody>\n",
       "</table>\n",
       "</div>"
      ],
      "text/plain": [
       "    Sex  Bwt   Hwt\n",
       "141   M 3.80 16.80\n",
       "142   M 3.90 14.40\n",
       "143   M 3.90 20.50"
      ]
     },
     "execution_count": 22,
     "metadata": {},
     "output_type": "execute_result"
    }
   ],
   "source": [
    "# H0 : 고양이 몸무게는 2.6킬로그램이다. \n",
    "cats = pd.read_csv('ADP_book_ver01/data/cats.csv')\n",
    "print(cats.isnull().sum())\n",
    "cats.tail(3)"
   ]
  },
  {
   "cell_type": "code",
   "execution_count": 24,
   "id": "a9d7226c",
   "metadata": {},
   "outputs": [
    {
     "data": {
      "text/plain": [
       "ShapiroResult(statistic=0.9518786668777466, pvalue=6.730248423991725e-05)"
      ]
     },
     "execution_count": 24,
     "metadata": {},
     "output_type": "execute_result"
    }
   ],
   "source": [
    "# 1. 정규성 검증 \n",
    "import scipy.stats as stats\n",
    "from scipy.stats import shapiro \n",
    "\n",
    "shapiro(cats['Bwt'])   # H0 기각, 정규분포 아님 -> 윌크스 통계 "
   ]
  },
  {
   "cell_type": "code",
   "execution_count": 34,
   "id": "445a1b3c",
   "metadata": {},
   "outputs": [
    {
     "name": "stdout",
     "output_type": "stream",
     "text": [
      "count   144.00\n",
      "mean      2.72\n",
      "std       0.49\n",
      "min       2.00\n",
      "25%       2.30\n",
      "50%       2.70\n",
      "75%       3.02\n",
      "max       3.90\n",
      "Name: Bwt, dtype: float64\n"
     ]
    },
    {
     "data": {
      "image/png": "[encoded data removed]",
      "text/plain": [
       "<Figure size 432x288 with 1 Axes>"
      ]
     },
     "metadata": {
      "needs_background": "light"
     },
     "output_type": "display_data"
    }
   ],
   "source": [
    "print(cats['Bwt'].describe())\n",
    "sns.histplot(cats['Bwt'], kde=True, bins=20);"
   ]
  },
  {
   "cell_type": "code",
   "execution_count": 30,
   "id": "43f0fb8d",
   "metadata": {},
   "outputs": [
    {
     "data": {
      "text/plain": [
       "WilcoxonResult(statistic=3573.0, pvalue=0.02524520294814093)"
      ]
     },
     "execution_count": 30,
     "metadata": {},
     "output_type": "execute_result"
    }
   ],
   "source": [
    "mu = 2.6\n",
    "stats.wilcoxon(cats['Bwt'] - mu, alternative='two-sided')  # H0 기각, 2.6이 아니다. "
   ]
  },
  {
   "cell_type": "code",
   "execution_count": 37,
   "id": "c2f44382",
   "metadata": {},
   "outputs": [
    {
     "data": {
      "text/plain": [
       "Ttest_1sampResult(statistic=3.0564867998078107, pvalue=0.0026730362561723613)"
      ]
     },
     "execution_count": 37,
     "metadata": {},
     "output_type": "execute_result"
    }
   ],
   "source": [
    "# (참고) 정규분포 가정을 만족하면, t-test를 시행한다. \n",
    "stats.ttest_1samp(cats['Bwt'], popmean=2.6, alternative='two-sided')"
   ]
  },
  {
   "cell_type": "markdown",
   "id": "7aa3e021",
   "metadata": {},
   "source": [
    "---\n",
    "### 대응표본 t-검정\n",
    "\n",
    "- 정규성 검정 \n",
    "  - 정규성 기각 : 윌콕슨 부호 순위 검정 \n",
    "  - 정규성 만족 : t-test\n",
    "  \n",
    "  \n",
    "- 소표본이면, 비모수 통계(윌콕슨)"
   ]
  },
  {
   "cell_type": "code",
   "execution_count": 38,
   "id": "b24907cc",
   "metadata": {},
   "outputs": [
    {
     "data": {
      "text/html": [
       "<div>\n",
       "<style scoped>\n",
       "    .dataframe tbody tr th:only-of-type {\n",
       "        vertical-align: middle;\n",
       "    }\n",
       "\n",
       "    .dataframe tbody tr th {\n",
       "        vertical-align: top;\n",
       "    }\n",
       "\n",
       "    .dataframe thead th {\n",
       "        text-align: right;\n",
       "    }\n",
       "</style>\n",
       "<table border=\"1\" class=\"dataframe\">\n",
       "  <thead>\n",
       "    <tr style=\"text-align: right;\">\n",
       "      <th></th>\n",
       "      <th>before</th>\n",
       "      <th>after</th>\n",
       "    </tr>\n",
       "  </thead>\n",
       "  <tbody>\n",
       "    <tr>\n",
       "      <th>0</th>\n",
       "      <td>7</td>\n",
       "      <td>8</td>\n",
       "    </tr>\n",
       "    <tr>\n",
       "      <th>1</th>\n",
       "      <td>3</td>\n",
       "      <td>4</td>\n",
       "    </tr>\n",
       "    <tr>\n",
       "      <th>2</th>\n",
       "      <td>4</td>\n",
       "      <td>5</td>\n",
       "    </tr>\n",
       "    <tr>\n",
       "      <th>3</th>\n",
       "      <td>5</td>\n",
       "      <td>6</td>\n",
       "    </tr>\n",
       "    <tr>\n",
       "      <th>4</th>\n",
       "      <td>2</td>\n",
       "      <td>2</td>\n",
       "    </tr>\n",
       "    <tr>\n",
       "      <th>5</th>\n",
       "      <td>1</td>\n",
       "      <td>3</td>\n",
       "    </tr>\n",
       "    <tr>\n",
       "      <th>6</th>\n",
       "      <td>6</td>\n",
       "      <td>6</td>\n",
       "    </tr>\n",
       "    <tr>\n",
       "      <th>7</th>\n",
       "      <td>6</td>\n",
       "      <td>8</td>\n",
       "    </tr>\n",
       "    <tr>\n",
       "      <th>8</th>\n",
       "      <td>5</td>\n",
       "      <td>6</td>\n",
       "    </tr>\n",
       "    <tr>\n",
       "      <th>9</th>\n",
       "      <td>4</td>\n",
       "      <td>5</td>\n",
       "    </tr>\n",
       "  </tbody>\n",
       "</table>\n",
       "</div>"
      ],
      "text/plain": [
       "   before  after\n",
       "0       7      8\n",
       "1       3      4\n",
       "2       4      5\n",
       "3       5      6\n",
       "4       2      2\n",
       "5       1      3\n",
       "6       6      6\n",
       "7       6      8\n",
       "8       5      6\n",
       "9       4      5"
      ]
     },
     "execution_count": 38,
     "metadata": {},
     "output_type": "execute_result"
    }
   ],
   "source": [
    "# H0 : 두 모평균에 차이가 없다. \n",
    "data = {'before':[7,3,4,5,2,1,6,6,5,4],\n",
    "        'after':[8,4,5,6,2,3,6,8,6,5]}\n",
    "data = pd.DataFrame(data)\n",
    "data"
   ]
  },
  {
   "cell_type": "code",
   "execution_count": 39,
   "id": "47528b63",
   "metadata": {},
   "outputs": [
    {
     "name": "stdout",
     "output_type": "stream",
     "text": [
      "ShapiroResult(statistic=0.9644595384597778, pvalue=0.8352707624435425)\n",
      "ShapiroResult(statistic=0.9456837177276611, pvalue=0.6177994012832642)\n"
     ]
    }
   ],
   "source": [
    "# 정규성 검정 \n",
    "from scipy.stats import shapiro \n",
    "print(shapiro(data['before']))\n",
    "print(shapiro(data['after']))  # 모두 정규분포 만족 -> t-test "
   ]
  },
  {
   "cell_type": "code",
   "execution_count": 42,
   "id": "e0ece3ec",
   "metadata": {},
   "outputs": [
    {
     "data": {
      "text/plain": [
       "Ttest_relResult(statistic=-4.743416490252569, pvalue=0.0010538712570165528)"
      ]
     },
     "execution_count": 42,
     "metadata": {},
     "output_type": "execute_result"
    }
   ],
   "source": [
    "stats.ttest_rel(data['before'], data['after'], alternative='two-sided')  # 차이가 존재함"
   ]
  },
  {
   "cell_type": "code",
   "execution_count": 48,
   "id": "d582e267",
   "metadata": {},
   "outputs": [
    {
     "data": {
      "text/html": [
       "<div>\n",
       "<style scoped>\n",
       "    .dataframe tbody tr th:only-of-type {\n",
       "        vertical-align: middle;\n",
       "    }\n",
       "\n",
       "    .dataframe tbody tr th {\n",
       "        vertical-align: top;\n",
       "    }\n",
       "\n",
       "    .dataframe thead th {\n",
       "        text-align: right;\n",
       "    }\n",
       "</style>\n",
       "<table border=\"1\" class=\"dataframe\">\n",
       "  <thead>\n",
       "    <tr style=\"text-align: right;\">\n",
       "      <th></th>\n",
       "      <th>level_0</th>\n",
       "      <th>treat</th>\n",
       "      <th>values</th>\n",
       "    </tr>\n",
       "  </thead>\n",
       "  <tbody>\n",
       "    <tr>\n",
       "      <th>15</th>\n",
       "      <td>7</td>\n",
       "      <td>after</td>\n",
       "      <td>8</td>\n",
       "    </tr>\n",
       "    <tr>\n",
       "      <th>16</th>\n",
       "      <td>8</td>\n",
       "      <td>before</td>\n",
       "      <td>5</td>\n",
       "    </tr>\n",
       "    <tr>\n",
       "      <th>17</th>\n",
       "      <td>8</td>\n",
       "      <td>after</td>\n",
       "      <td>6</td>\n",
       "    </tr>\n",
       "    <tr>\n",
       "      <th>18</th>\n",
       "      <td>9</td>\n",
       "      <td>before</td>\n",
       "      <td>4</td>\n",
       "    </tr>\n",
       "    <tr>\n",
       "      <th>19</th>\n",
       "      <td>9</td>\n",
       "      <td>after</td>\n",
       "      <td>5</td>\n",
       "    </tr>\n",
       "  </tbody>\n",
       "</table>\n",
       "</div>"
      ],
      "text/plain": [
       "    level_0   treat  values\n",
       "15        7   after       8\n",
       "16        8  before       5\n",
       "17        8   after       6\n",
       "18        9  before       4\n",
       "19        9   after       5"
      ]
     },
     "execution_count": 48,
     "metadata": {},
     "output_type": "execute_result"
    }
   ],
   "source": [
    "# 시각화 확인\n",
    "ata_stacked = data.stack().reset_index()\n",
    "data_stacked.columns = ['level_0', 'treat', 'values']\n",
    "data_stacked.tail()"
   ]
  },
  {
   "cell_type": "code",
   "execution_count": 53,
   "id": "ac144122",
   "metadata": {},
   "outputs": [
    {
     "data": {
      "image/png": "[encoded data removed]",
      "text/plain": [
       "<Figure size 432x288 with 1 Axes>"
      ]
     },
     "metadata": {
      "needs_background": "light"
     },
     "output_type": "display_data"
    }
   ],
   "source": [
    "sns.histplot(x='values', hue='treat', kde=True, alpha=0.25, data=data_stacked);"
   ]
  },
  {
   "cell_type": "code",
   "execution_count": 54,
   "id": "1f78b956",
   "metadata": {},
   "outputs": [
    {
     "data": {
      "text/plain": [
       "<AxesSubplot:xlabel='treat', ylabel='values'>"
      ]
     },
     "execution_count": 54,
     "metadata": {},
     "output_type": "execute_result"
    },
    {
     "data": {
      "image/png": "[encoded data removed]",
      "text/plain": [
       "<Figure size 432x288 with 1 Axes>"
      ]
     },
     "metadata": {
      "needs_background": "light"
     },
     "output_type": "display_data"
    }
   ],
   "source": [
    "sns.boxplot(x='treat', y='values', data=data_stacked)"
   ]
  },
  {
   "cell_type": "code",
   "execution_count": 58,
   "id": "bd09a76b",
   "metadata": {},
   "outputs": [
    {
     "data": {
      "image/png": "[encoded data removed]",
      "text/plain": [
       "<Figure size 432x288 with 1 Axes>"
      ]
     },
     "metadata": {
      "needs_background": "light"
     },
     "output_type": "display_data"
    }
   ],
   "source": [
    "data_stacked.groupby(['treat'])['values'].mean().plot(kind='bar');"
   ]
  },
  {
   "cell_type": "code",
   "execution_count": 61,
   "id": "9e5ff988",
   "metadata": {},
   "outputs": [
    {
     "data": {
      "image/png": "[encoded data removed]",
      "text/plain": [
       "<Figure size 432x288 with 1 Axes>"
      ]
     },
     "metadata": {
      "needs_background": "light"
     },
     "output_type": "display_data"
    }
   ],
   "source": [
    "sns.barplot(x='treat', y='values', data=data_stacked);"
   ]
  },
  {
   "cell_type": "code",
   "execution_count": 66,
   "id": "84a467fa",
   "metadata": {},
   "outputs": [
    {
     "data": {
      "text/plain": [
       "ShapiroResult(statistic=0.8148399591445923, pvalue=0.021947985514998436)"
      ]
     },
     "execution_count": 66,
     "metadata": {},
     "output_type": "execute_result"
    }
   ],
   "source": [
    "# (참고) 차이값이 0인지 검정  \n",
    "data['gap'] = data['after'] - data['before']\n",
    "shapiro(data['gap']) # H0기각 : 정규분포 아님 (샘플수도 적어서 비모수 통계가 어짜피 적합)"
   ]
  },
  {
   "cell_type": "code",
   "execution_count": 67,
   "id": "010e3099",
   "metadata": {},
   "outputs": [
    {
     "data": {
      "text/plain": [
       "WilcoxonResult(statistic=0.0, pvalue=0.00829921599528076)"
      ]
     },
     "execution_count": 67,
     "metadata": {},
     "output_type": "execute_result"
    }
   ],
   "source": [
    "stats.wilcoxon(data['gap'], alternative='two-sided')  # H0 기각 : 0이 아님(전후 효과 존재)"
   ]
  },
  {
   "cell_type": "code",
   "execution_count": 68,
   "id": "1d6eae4a",
   "metadata": {},
   "outputs": [
    {
     "data": {
      "text/plain": [
       "<AxesSubplot:xlabel='gap', ylabel='Count'>"
      ]
     },
     "execution_count": 68,
     "metadata": {},
     "output_type": "execute_result"
    },
    {
     "data": {
      "image/png": "[encoded data removed]",
      "text/plain": [
       "<Figure size 432x288 with 1 Axes>"
      ]
     },
     "metadata": {
      "needs_background": "light"
     },
     "output_type": "display_data"
    }
   ],
   "source": [
    "sns.histplot(data['gap'], kde=True)"
   ]
  },
  {
   "cell_type": "markdown",
   "id": "2e11a47f",
   "metadata": {},
   "source": [
    "---\n",
    "### 독립표본 t-test\n",
    "\n",
    "- 정규성 검정 : 정규분포가 아니면 윌콕슨 순위 검정 \n",
    "- 등분산성 검정 : 등분산이면 equal_var=True, 이분산이면 equal_var=False "
   ]
  },
  {
   "cell_type": "code",
   "execution_count": 80,
   "id": "e0de4dcb",
   "metadata": {},
   "outputs": [
    {
     "name": "stdout",
     "output_type": "stream",
     "text": [
      "     size  mean  std\n",
      "Sex                 \n",
      "F      47  2.36 0.27\n",
      "M      97  2.90 0.47\n"
     ]
    }
   ],
   "source": [
    "# H0 : 고양이 암컷과 수컷간에 몸무가 차이가 없다. \n",
    "cats = pd.read_csv('ADP_book_ver01/data/cats.csv')\n",
    "print(cats.groupby(['Sex'])['Bwt'].agg(['size', 'mean', 'std']))\n",
    "\n",
    "female = cats.query(\" Sex == 'F'\")['Bwt']\n",
    "male = cats.query(\" Sex == 'M'\")['Bwt']"
   ]
  },
  {
   "cell_type": "code",
   "execution_count": 73,
   "id": "5051cbe5",
   "metadata": {},
   "outputs": [
    {
     "name": "stdout",
     "output_type": "stream",
     "text": [
      "ShapiroResult(statistic=0.9788321852684021, pvalue=0.11895745247602463)\n",
      "ShapiroResult(statistic=0.8909613490104675, pvalue=0.0003754299250431359)\n"
     ]
    }
   ],
   "source": [
    "# 정규성 검정 ---> 교재에서는 생략 \n",
    "print(shapiro(male))\n",
    "print(shapiro(female))"
   ]
  },
  {
   "cell_type": "code",
   "execution_count": 77,
   "id": "c5a6c282",
   "metadata": {},
   "outputs": [
    {
     "data": {
      "text/plain": [
       "WilcoxonResult(statistic=52.5, pvalue=9.531065760143355e-08)"
      ]
     },
     "execution_count": 77,
     "metadata": {},
     "output_type": "execute_result"
    }
   ],
   "source": [
    "# 정규성 위해 되므로 윌콕슨 검정 --> 교재에서는 생략\n",
    "# stats.wilcoxon(male, female, alternative='two-sided')  # -> 두 관측치수가 틀려서 검정 불가\n",
    "stats.wilcoxon(male.sample(len(female)), female, alternative='two-sided')  #>> 요거는 샘플수 강제 맞추기 꼼수.. H0 기각됨 "
   ]
  },
  {
   "cell_type": "code",
   "execution_count": 82,
   "id": "1b88c844",
   "metadata": {},
   "outputs": [
    {
     "data": {
      "text/plain": [
       "LeveneResult(statistic=19.43101190877999, pvalue=2.0435285255189404e-05)"
      ]
     },
     "execution_count": 82,
     "metadata": {},
     "output_type": "execute_result"
    }
   ],
   "source": [
    "# 등분산 검정 : H0 분산이 같다 \n",
    "stats.levene(female, male)  # H0 기각, 분산이 틀림 "
   ]
  },
  {
   "cell_type": "code",
   "execution_count": 83,
   "id": "e1a84b9d",
   "metadata": {},
   "outputs": [
    {
     "data": {
      "text/plain": [
       "Ttest_indResult(statistic=-8.70948849909559, pvalue=8.831034455859356e-15)"
      ]
     },
     "execution_count": 83,
     "metadata": {},
     "output_type": "execute_result"
    }
   ],
   "source": [
    "# 평균차이 검정  : 등분산이 아니므로 equal_var=False\n",
    "stats.ttest_ind(female, male, equal_var=False)  # H0 기각, 평균 차이 존재 "
   ]
  },
  {
   "cell_type": "code",
   "execution_count": 88,
   "id": "ff4ca9c0",
   "metadata": {},
   "outputs": [
    {
     "data": {
      "image/png": "[encoded data removed]",
      "text/plain": [
       "<Figure size 432x288 with 1 Axes>"
      ]
     },
     "metadata": {
      "needs_background": "light"
     },
     "output_type": "display_data"
    }
   ],
   "source": [
    "sns.histplot(x='Bwt', hue='Sex', alpha=0.5, kde=True, data=cats);"
   ]
  },
  {
   "cell_type": "markdown",
   "id": "1c5946e6",
   "metadata": {},
   "source": [
    "### 분산 검정 \n",
    "\n",
    "- ADP 파이썬 422쪽"
   ]
  },
  {
   "cell_type": "code",
   "execution_count": 89,
   "id": "de3a2064",
   "metadata": {},
   "outputs": [
    {
     "data": {
      "text/html": [
       "<div>\n",
       "<style scoped>\n",
       "    .dataframe tbody tr th:only-of-type {\n",
       "        vertical-align: middle;\n",
       "    }\n",
       "\n",
       "    .dataframe tbody tr th {\n",
       "        vertical-align: top;\n",
       "    }\n",
       "\n",
       "    .dataframe thead th {\n",
       "        text-align: right;\n",
       "    }\n",
       "</style>\n",
       "<table border=\"1\" class=\"dataframe\">\n",
       "  <thead>\n",
       "    <tr style=\"text-align: right;\">\n",
       "      <th></th>\n",
       "      <th>metalicity</th>\n",
       "    </tr>\n",
       "  </thead>\n",
       "  <tbody>\n",
       "    <tr>\n",
       "      <th>145</th>\n",
       "      <td>45.92</td>\n",
       "    </tr>\n",
       "    <tr>\n",
       "      <th>146</th>\n",
       "      <td>45.28</td>\n",
       "    </tr>\n",
       "    <tr>\n",
       "      <th>147</th>\n",
       "      <td>45.08</td>\n",
       "    </tr>\n",
       "    <tr>\n",
       "      <th>148</th>\n",
       "      <td>44.30</td>\n",
       "    </tr>\n",
       "    <tr>\n",
       "      <th>149</th>\n",
       "      <td>45.51</td>\n",
       "    </tr>\n",
       "  </tbody>\n",
       "</table>\n",
       "</div>"
      ],
      "text/plain": [
       "     metalicity\n",
       "145       45.92\n",
       "146       45.28\n",
       "147       45.08\n",
       "148       44.30\n",
       "149       45.51"
      ]
     },
     "execution_count": 89,
     "metadata": {},
     "output_type": "execute_result"
    }
   ],
   "source": [
    "# H0 : 금속 재료 분산은 1.3이다 \n",
    "\n",
    "df = pd.read_csv('ADP_book_ver01/data/metalicity')\n",
    "df.tail()"
   ]
  },
  {
   "cell_type": "code",
   "execution_count": 90,
   "id": "6914d508",
   "metadata": {},
   "outputs": [
    {
     "data": {
      "text/plain": [
       "ShapiroResult(statistic=0.9822468757629395, pvalue=0.05002119019627571)"
      ]
     },
     "execution_count": 90,
     "metadata": {},
     "output_type": "execute_result"
    }
   ],
   "source": [
    "# 정규분포인지 검정\n",
    "shapiro(df['metalicity'])  # 0.05보다 살짝 크다. H0 정규분포 채택  "
   ]
  },
  {
   "cell_type": "code",
   "execution_count": 91,
   "id": "aaee6be0",
   "metadata": {},
   "outputs": [
    {
     "data": {
      "text/plain": [
       "count   150.00\n",
       "mean     45.27\n",
       "std       0.86\n",
       "min      42.73\n",
       "25%      44.60\n",
       "50%      45.36\n",
       "75%      45.83\n",
       "max      47.04\n",
       "Name: metalicity, dtype: float64"
      ]
     },
     "execution_count": 91,
     "metadata": {},
     "output_type": "execute_result"
    }
   ],
   "source": [
    "df['metalicity'].describe()"
   ]
  },
  {
   "cell_type": "code",
   "execution_count": 95,
   "id": "57b6140a",
   "metadata": {},
   "outputs": [
    {
     "name": "stdout",
     "output_type": "stream",
     "text": [
      "45.26662991017956 1.140175425099138\n"
     ]
    }
   ],
   "source": [
    "# 정규분포이면서, 평균은 모집단과 동일하고, 분산은 1.3(표준편차는 1.4)를 만족하는 테스트 세트를 만든다. \n",
    "mu = df['metalicity'].mean()\n",
    "std = np.sqrt(1.3)\n",
    "print(mu, std)\n",
    "\n",
    "test = np.random.normal(mu, std, len(df))"
   ]
  },
  {
   "cell_type": "code",
   "execution_count": 97,
   "id": "f2d4f1dd",
   "metadata": {},
   "outputs": [
    {
     "data": {
      "text/plain": [
       "LeveneResult(statistic=5.604037106465578, pvalue=0.018557907349710804)"
      ]
     },
     "execution_count": 97,
     "metadata": {},
     "output_type": "execute_result"
    }
   ],
   "source": [
    "# 등분산 검정  \n",
    "stats.levene(df['metalicity'], test)  # H0 기각 : 등분산 아님 "
   ]
  },
  {
   "cell_type": "code",
   "execution_count": 103,
   "id": "a51f1598",
   "metadata": {},
   "outputs": [
    {
     "data": {
      "text/html": [
       "<div>\n",
       "<style scoped>\n",
       "    .dataframe tbody tr th:only-of-type {\n",
       "        vertical-align: middle;\n",
       "    }\n",
       "\n",
       "    .dataframe tbody tr th {\n",
       "        vertical-align: top;\n",
       "    }\n",
       "\n",
       "    .dataframe thead th {\n",
       "        text-align: right;\n",
       "    }\n",
       "</style>\n",
       "<table border=\"1\" class=\"dataframe\">\n",
       "  <thead>\n",
       "    <tr style=\"text-align: right;\">\n",
       "      <th></th>\n",
       "      <th>level_0</th>\n",
       "      <th>treat</th>\n",
       "      <th>values</th>\n",
       "    </tr>\n",
       "  </thead>\n",
       "  <tbody>\n",
       "    <tr>\n",
       "      <th>295</th>\n",
       "      <td>147</td>\n",
       "      <td>test_value</td>\n",
       "      <td>44.47</td>\n",
       "    </tr>\n",
       "    <tr>\n",
       "      <th>296</th>\n",
       "      <td>148</td>\n",
       "      <td>metalicity</td>\n",
       "      <td>44.30</td>\n",
       "    </tr>\n",
       "    <tr>\n",
       "      <th>297</th>\n",
       "      <td>148</td>\n",
       "      <td>test_value</td>\n",
       "      <td>45.47</td>\n",
       "    </tr>\n",
       "    <tr>\n",
       "      <th>298</th>\n",
       "      <td>149</td>\n",
       "      <td>metalicity</td>\n",
       "      <td>45.51</td>\n",
       "    </tr>\n",
       "    <tr>\n",
       "      <th>299</th>\n",
       "      <td>149</td>\n",
       "      <td>test_value</td>\n",
       "      <td>45.01</td>\n",
       "    </tr>\n",
       "  </tbody>\n",
       "</table>\n",
       "</div>"
      ],
      "text/plain": [
       "     level_0       treat  values\n",
       "295      147  test_value   44.47\n",
       "296      148  metalicity   44.30\n",
       "297      148  test_value   45.47\n",
       "298      149  metalicity   45.51\n",
       "299      149  test_value   45.01"
      ]
     },
     "execution_count": 103,
     "metadata": {},
     "output_type": "execute_result"
    }
   ],
   "source": [
    "df_merge = df.copy()\n",
    "df_merge['test_value'] = test\n",
    "df_merge = df_merge.stack().reset_index()\n",
    "df_merge.columns = ['level_0', 'treat', 'values']\n",
    "df_merge.tail()"
   ]
  },
  {
   "cell_type": "code",
   "execution_count": 106,
   "id": "daacc95c",
   "metadata": {},
   "outputs": [
    {
     "data": {
      "image/png": "[encoded data removed]",
      "text/plain": [
       "<Figure size 432x288 with 1 Axes>"
      ]
     },
     "metadata": {
      "needs_background": "light"
     },
     "output_type": "display_data"
    }
   ],
   "source": [
    "sns.histplot(x='values', hue='treat', alpha=0.5, kde=True, data=df_merge);  # 정규분포와는 상이함(파란색)"
   ]
  },
  {
   "cell_type": "markdown",
   "id": "4a8971a6",
   "metadata": {},
   "source": [
    "---\n",
    "\n",
    "### 분산분석 - 일원배치 \n",
    "\n",
    "- 정규성 검정 \n",
    "  - 기각시 stats.kruscal \n",
    "  \n",
    "- 등분산 검정 \n",
    "  - 기각시 welch_anova \n",
    "  - 채택시 stats.f_oneway\n",
    "  \n",
    "- 사후검정 (평균차이 존재) \n",
    "  - 튜키 검정 "
   ]
  },
  {
   "cell_type": "code",
   "execution_count": 113,
   "id": "86ae8761",
   "metadata": {},
   "outputs": [],
   "source": [
    "#!pip install pingouin  # 시험장 미리 설치됨\n",
    "import scipy.stats as stats\n",
    "#import pingouin as pg   # 등분산이 아닐때 --> 클라우드 설치 오류 ㅠ.ㅜ\n",
    "from statsmodels.stats.multicomp import pairwise_tukeyhsd\n",
    "from statsmodels.stats.multicomp import MultiComparison"
   ]
  },
  {
   "cell_type": "code",
   "execution_count": 115,
   "id": "6bcb1ee0",
   "metadata": {},
   "outputs": [
    {
     "data": {
      "text/html": [
       "<div>\n",
       "<style scoped>\n",
       "    .dataframe tbody tr th:only-of-type {\n",
       "        vertical-align: middle;\n",
       "    }\n",
       "\n",
       "    .dataframe tbody tr th {\n",
       "        vertical-align: top;\n",
       "    }\n",
       "\n",
       "    .dataframe thead th {\n",
       "        text-align: right;\n",
       "    }\n",
       "</style>\n",
       "<table border=\"1\" class=\"dataframe\">\n",
       "  <thead>\n",
       "    <tr style=\"text-align: right;\">\n",
       "      <th></th>\n",
       "      <th>sepal length</th>\n",
       "      <th>sepal width</th>\n",
       "      <th>petal length</th>\n",
       "      <th>petal width</th>\n",
       "      <th>target</th>\n",
       "    </tr>\n",
       "  </thead>\n",
       "  <tbody>\n",
       "    <tr>\n",
       "      <th>149</th>\n",
       "      <td>5.90</td>\n",
       "      <td>3.00</td>\n",
       "      <td>5.10</td>\n",
       "      <td>1.80</td>\n",
       "      <td>Iris-virginica</td>\n",
       "    </tr>\n",
       "  </tbody>\n",
       "</table>\n",
       "</div>"
      ],
      "text/plain": [
       "     sepal length  sepal width  petal length  petal width          target\n",
       "149          5.90         3.00          5.10         1.80  Iris-virginica"
      ]
     },
     "execution_count": 115,
     "metadata": {},
     "output_type": "execute_result"
    }
   ],
   "source": [
    "iris_data = pd.read_csv('ADP_book_ver01/data/iris.csv')\n",
    "iris_data.tail(1)"
   ]
  },
  {
   "cell_type": "code",
   "execution_count": 117,
   "id": "af262c5c",
   "metadata": {},
   "outputs": [
    {
     "name": "stdout",
     "output_type": "stream",
     "text": [
      "ShapiroResult(statistic=0.968691885471344, pvalue=0.20465604960918427)\n",
      "ShapiroResult(statistic=0.9741330742835999, pvalue=0.33798879384994507)\n",
      "ShapiroResult(statistic=0.9673910140991211, pvalue=0.1809043288230896)\n"
     ]
    }
   ],
   "source": [
    "# H0 : 세 품종의 sepal.width 평균은 같다 \n",
    "target_list = iris_data['target'].unique()\n",
    "setosa = iris_data.query(\"target == 'Iris-setosa'\")['sepal width']\n",
    "versicolor = iris_data.query(\"target == 'Iris-versicolor'\")['sepal width']\n",
    "virginica = iris_data.query(\"target == 'Iris-virginica'\")['sepal width']\n",
    "\n",
    "# 정규성 검정 \n",
    "print(shapiro(setosa))\n",
    "print(shapiro(versicolor))\n",
    "print(shapiro(virginica))  # H0 채택 : 모두 정규분포 "
   ]
  },
  {
   "cell_type": "code",
   "execution_count": 119,
   "id": "d814bbfd",
   "metadata": {},
   "outputs": [
    {
     "data": {
      "text/plain": [
       "LeveneResult(statistic=0.6475222363405327, pvalue=0.5248269975064537)"
      ]
     },
     "execution_count": 119,
     "metadata": {},
     "output_type": "execute_result"
    }
   ],
   "source": [
    "# 등분산 검정\n",
    "stats.levene(setosa, versicolor, virginica)  # H0 채택 : 등분산 만족 "
   ]
  },
  {
   "cell_type": "code",
   "execution_count": 121,
   "id": "9fc9ac11",
   "metadata": {},
   "outputs": [
    {
     "data": {
      "text/plain": [
       "F_onewayResult(statistic=47.36446140299382, pvalue=1.3279165184572242e-16)"
      ]
     },
     "execution_count": 121,
     "metadata": {},
     "output_type": "execute_result"
    }
   ],
   "source": [
    "# 분산분석 \n",
    "stats.f_oneway(setosa, versicolor, virginica)  # H0 기각 : 평균차이 존재 "
   ]
  },
  {
   "cell_type": "code",
   "execution_count": 122,
   "id": "6c648a17",
   "metadata": {},
   "outputs": [
    {
     "data": {
      "text/plain": [
       "<AxesSubplot:xlabel='target', ylabel='sepal width'>"
      ]
     },
     "execution_count": 122,
     "metadata": {},
     "output_type": "execute_result"
    },
    {
     "data": {
      "image/png": "[encoded data removed]",
      "text/plain": [
       "<Figure size 432x288 with 1 Axes>"
      ]
     },
     "metadata": {
      "needs_background": "light"
     },
     "output_type": "display_data"
    }
   ],
   "source": [
    "sns.scatterplot(x='target',\n",
    "                y='sepal width',\n",
    "                hue='target',\n",
    "                style='target',\n",
    "                s=100,\n",
    "                data=iris_data)"
   ]
  },
  {
   "cell_type": "code",
   "execution_count": 124,
   "id": "0095c92d",
   "metadata": {},
   "outputs": [
    {
     "data": {
      "image/png": "[encoded data removed]",
      "text/plain": [
       "<Figure size 432x288 with 1 Axes>"
      ]
     },
     "metadata": {
      "needs_background": "light"
     },
     "output_type": "display_data"
    }
   ],
   "source": [
    "sns.boxplot(x='target', y='sepal width', data=iris_data);"
   ]
  },
  {
   "cell_type": "code",
   "execution_count": 126,
   "id": "7c971aaa",
   "metadata": {},
   "outputs": [
    {
     "data": {
      "text/html": [
       "<table class=\"simpletable\">\n",
       "<caption>Multiple Comparison of Means - Tukey HSD, FWER=0.05</caption>\n",
       "<tr>\n",
       "      <th>group1</th>          <th>group2</th>      <th>meandiff</th>  <th>p-adj</th>  <th>lower</th>   <th>upper</th>  <th>reject</th>\n",
       "</tr>\n",
       "<tr>\n",
       "    <td>Iris-setosa</td>   <td>Iris-versicolor</td>  <td>-0.648</td>   <td>0.001</td> <td>-0.8092</td> <td>-0.4868</td>  <td>True</td> \n",
       "</tr>\n",
       "<tr>\n",
       "    <td>Iris-setosa</td>   <td>Iris-virginica</td>   <td>-0.444</td>   <td>0.001</td> <td>-0.6052</td> <td>-0.2828</td>  <td>True</td> \n",
       "</tr>\n",
       "<tr>\n",
       "  <td>Iris-versicolor</td> <td>Iris-virginica</td>    <td>0.204</td>  <td>0.0089</td> <td>0.0428</td>  <td>0.3652</td>   <td>True</td> \n",
       "</tr>\n",
       "</table>"
      ],
      "text/plain": [
       "<class 'statsmodels.iolib.table.SimpleTable'>"
      ]
     },
     "execution_count": 126,
     "metadata": {},
     "output_type": "execute_result"
    }
   ],
   "source": [
    "# 평균차이 검정 \n",
    "from statsmodels.stats.multicomp import pairwise_tukeyhsd, MultiComparison\n",
    "\n",
    "mc = MultiComparison(data=iris_data['sepal width'], groups=iris_data['target'])\n",
    "tukey = mc.tukeyhsd(alpha=0.05)\n",
    "tukey.summary()"
   ]
  },
  {
   "cell_type": "code",
   "execution_count": 127,
   "id": "bb6feab7",
   "metadata": {},
   "outputs": [
    {
     "data": {
      "text/plain": [
       "KruskalResult(statistic=62.49463010053111, pvalue=2.6882119006774528e-14)"
      ]
     },
     "execution_count": 127,
     "metadata": {},
     "output_type": "execute_result"
    }
   ],
   "source": [
    "# 만약 정규성을 만족하지 못한 경우, kruskal 검정 \n",
    "stats.kruskal(setosa, versicolor, virginica)"
   ]
  },
  {
   "cell_type": "code",
   "execution_count": null,
   "id": "1e43784b",
   "metadata": {},
   "outputs": [],
   "source": [
    "# 만약 등분산성을 만족하지 못한 경우, welch-anova 분석\n",
    "#pg.welch_anova??\n",
    "from pingouin import welch_anova, read_dataset\n",
    "df = read_dataset('anova')\n",
    "aov = welch_anova(dv='Pain threshold', between='Hair color', data=df)\n",
    "aov"
   ]
  },
  {
   "cell_type": "markdown",
   "id": "9e911910",
   "metadata": {},
   "source": [
    "---\n",
    "### 이원배치 분산분석\n",
    "\n",
    "- 주효과 1,2와 교호작용 검증"
   ]
  },
  {
   "cell_type": "code",
   "execution_count": 130,
   "id": "93cff8a7",
   "metadata": {},
   "outputs": [
    {
     "data": {
      "text/html": [
       "<div>\n",
       "<style scoped>\n",
       "    .dataframe tbody tr th:only-of-type {\n",
       "        vertical-align: middle;\n",
       "    }\n",
       "\n",
       "    .dataframe tbody tr th {\n",
       "        vertical-align: top;\n",
       "    }\n",
       "\n",
       "    .dataframe thead th {\n",
       "        text-align: right;\n",
       "    }\n",
       "</style>\n",
       "<table border=\"1\" class=\"dataframe\">\n",
       "  <thead>\n",
       "    <tr style=\"text-align: right;\">\n",
       "      <th></th>\n",
       "      <th>df</th>\n",
       "      <th>sum_sq</th>\n",
       "      <th>mean_sq</th>\n",
       "      <th>F</th>\n",
       "      <th>PR(&gt;F)</th>\n",
       "    </tr>\n",
       "  </thead>\n",
       "  <tbody>\n",
       "    <tr>\n",
       "      <th>C(cyl)</th>\n",
       "      <td>2.00</td>\n",
       "      <td>824.78</td>\n",
       "      <td>412.39</td>\n",
       "      <td>44.85</td>\n",
       "      <td>0.00</td>\n",
       "    </tr>\n",
       "    <tr>\n",
       "      <th>C(am)</th>\n",
       "      <td>1.00</td>\n",
       "      <td>36.77</td>\n",
       "      <td>36.77</td>\n",
       "      <td>4.00</td>\n",
       "      <td>0.06</td>\n",
       "    </tr>\n",
       "    <tr>\n",
       "      <th>C(cyl):C(am)</th>\n",
       "      <td>2.00</td>\n",
       "      <td>25.44</td>\n",
       "      <td>12.72</td>\n",
       "      <td>1.38</td>\n",
       "      <td>0.27</td>\n",
       "    </tr>\n",
       "    <tr>\n",
       "      <th>Residual</th>\n",
       "      <td>26.00</td>\n",
       "      <td>239.06</td>\n",
       "      <td>9.19</td>\n",
       "      <td>NaN</td>\n",
       "      <td>NaN</td>\n",
       "    </tr>\n",
       "  </tbody>\n",
       "</table>\n",
       "</div>"
      ],
      "text/plain": [
       "                df  sum_sq  mean_sq     F  PR(>F)\n",
       "C(cyl)        2.00  824.78   412.39 44.85    0.00\n",
       "C(am)         1.00   36.77    36.77  4.00    0.06\n",
       "C(cyl):C(am)  2.00   25.44    12.72  1.38    0.27\n",
       "Residual     26.00  239.06     9.19   NaN     NaN"
      ]
     },
     "execution_count": 130,
     "metadata": {},
     "output_type": "execute_result"
    }
   ],
   "source": [
    "from statsmodels.formula.api import ols\n",
    "from statsmodels.stats.anova import anova_lm \n",
    "\n",
    "df = pd.read_csv('ADP_book_ver01/data/mtcars.csv')[['mpg', 'am', 'cyl']]\n",
    "\n",
    "formula = 'mpg ~ C(cyl) + C(am) + C(cyl):C(am)'\n",
    "model = ols(formula, df).fit()\n",
    "aov_table = anova_lm(model, tpy=2)\n",
    "aov_table   # 주효과 1,2는 평균차이 존재. 교호작업은 유의하지 않음 "
   ]
  },
  {
   "cell_type": "code",
   "execution_count": 131,
   "id": "b69026f9",
   "metadata": {},
   "outputs": [
    {
     "data": {
      "image/png": "[encoded data removed]",
      "text/plain": [
       "<Figure size 432x432 with 1 Axes>"
      ]
     },
     "metadata": {
      "needs_background": "light"
     },
     "output_type": "display_data"
    }
   ],
   "source": [
    "from statsmodels.graphics.factorplots import interaction_plot \n",
    "import matplotlib.pyplot as plt \n",
    "\n",
    "fig, ax = plt.subplots(figsize=(6,6))\n",
    "fig = interaction_plot(df['cyl'], df['am'], df['mpg'],\n",
    "                       colors=['r', 'b'], markers=['D', '^'],\n",
    "                       ms=10, ax=ax)"
   ]
  },
  {
   "cell_type": "code",
   "execution_count": 134,
   "id": "5c46e582",
   "metadata": {},
   "outputs": [
    {
     "data": {
      "text/html": [
       "<div>\n",
       "<style scoped>\n",
       "    .dataframe tbody tr th:only-of-type {\n",
       "        vertical-align: middle;\n",
       "    }\n",
       "\n",
       "    .dataframe tbody tr th {\n",
       "        vertical-align: top;\n",
       "    }\n",
       "\n",
       "    .dataframe thead th {\n",
       "        text-align: right;\n",
       "    }\n",
       "</style>\n",
       "<table border=\"1\" class=\"dataframe\">\n",
       "  <thead>\n",
       "    <tr style=\"text-align: right;\">\n",
       "      <th></th>\n",
       "      <th>partner_status</th>\n",
       "      <th>conformity</th>\n",
       "      <th>fcategory</th>\n",
       "      <th>fscore</th>\n",
       "    </tr>\n",
       "  </thead>\n",
       "  <tbody>\n",
       "    <tr>\n",
       "      <th>42</th>\n",
       "      <td>high</td>\n",
       "      <td>16</td>\n",
       "      <td>low</td>\n",
       "      <td>35</td>\n",
       "    </tr>\n",
       "    <tr>\n",
       "      <th>43</th>\n",
       "      <td>high</td>\n",
       "      <td>10</td>\n",
       "      <td>high</td>\n",
       "      <td>52</td>\n",
       "    </tr>\n",
       "    <tr>\n",
       "      <th>44</th>\n",
       "      <td>high</td>\n",
       "      <td>15</td>\n",
       "      <td>medium</td>\n",
       "      <td>44</td>\n",
       "    </tr>\n",
       "  </tbody>\n",
       "</table>\n",
       "</div>"
      ],
      "text/plain": [
       "   partner_status  conformity fcategory  fscore\n",
       "42           high          16       low      35\n",
       "43           high          10      high      52\n",
       "44           high          15    medium      44"
      ]
     },
     "execution_count": 134,
     "metadata": {},
     "output_type": "execute_result"
    }
   ],
   "source": [
    "# anova_lm help 문 \n",
    "import statsmodels.api as sm\n",
    "from statsmodels.formula.api import ols\n",
    "    \n",
    "moore = sm.datasets.get_rdataset(\"Moore\", \"carData\", cache=True) # load\n",
    "data = moore.data\n",
    "data = data.rename(columns={\"partner.status\" : \"partner_status\"}) # make name pythonic\n",
    "data.tail(3)"
   ]
  },
  {
   "cell_type": "code",
   "execution_count": 135,
   "id": "e32f100b",
   "metadata": {},
   "outputs": [
    {
     "name": "stdout",
     "output_type": "stream",
     "text": [
      "                                          sum_sq    df     F  PR(>F)\n",
      "C(fcategory, Sum)                          11.61  2.00  0.28    0.76\n",
      "C(partner_status, Sum)                    212.21  1.00 10.12    0.00\n",
      "C(fcategory, Sum):C(partner_status, Sum)  175.49  2.00  4.18    0.02\n",
      "Residual                                  817.76 39.00   NaN     NaN\n"
     ]
    }
   ],
   "source": [
    "moore_lm = ols('conformity ~ C(fcategory, Sum)*C(partner_status, Sum)', data=data).fit()\n",
    "table = sm.stats.anova_lm(moore_lm, typ=2) # Type 2 Anova DataFrame\n",
    "print(table)"
   ]
  },
  {
   "cell_type": "code",
   "execution_count": 136,
   "id": "18132099",
   "metadata": {},
   "outputs": [
    {
     "data": {
      "image/png": "[encoded data removed]",
      "text/plain": [
       "<Figure size 432x432 with 1 Axes>"
      ]
     },
     "metadata": {
      "needs_background": "light"
     },
     "output_type": "display_data"
    }
   ],
   "source": [
    "fig, ax =  plt.subplots(figsize=(6,6))\n",
    "fig = interaction_plot(data['fcategory'], data['partner_status'], data['conformity'], \n",
    "                        colors=['red', 'blue'], markers=['D', '^'],\n",
    "                        ms=10, ax=ax)"
   ]
  },
  {
   "cell_type": "code",
   "execution_count": 139,
   "id": "ed26b3c7",
   "metadata": {},
   "outputs": [
    {
     "data": {
      "image/png": "[encoded data removed]",
      "text/plain": [
       "<Figure size 432x432 with 1 Axes>"
      ]
     },
     "metadata": {
      "needs_background": "light"
     },
     "output_type": "display_data"
    }
   ],
   "source": [
    "fig, ax =  plt.subplots(figsize=(6,6))\n",
    "fig = interaction_plot(data['partner_status'], data['fcategory'], data['conformity'], \n",
    "                       colors=['red', 'blue', 'yellow'], markers=['D', '^', 'o'],\n",
    "                       ms=10, ax=ax)"
   ]
  },
  {
   "cell_type": "markdown",
   "id": "ac4eca0a",
   "metadata": {},
   "source": [
    "그래프 교차시, 교호작용 존재하는 것으로 해석"
   ]
  },
  {
   "cell_type": "markdown",
   "id": "94f2cbf8",
   "metadata": {},
   "source": [
    "--- \n",
    "\n",
    "### 상관분석"
   ]
  },
  {
   "cell_type": "code",
   "execution_count": 171,
   "id": "b35452e2",
   "metadata": {},
   "outputs": [
    {
     "data": {
      "text/html": [
       "<div>\n",
       "<style scoped>\n",
       "    .dataframe tbody tr th:only-of-type {\n",
       "        vertical-align: middle;\n",
       "    }\n",
       "\n",
       "    .dataframe tbody tr th {\n",
       "        vertical-align: top;\n",
       "    }\n",
       "\n",
       "    .dataframe thead th {\n",
       "        text-align: right;\n",
       "    }\n",
       "</style>\n",
       "<table border=\"1\" class=\"dataframe\">\n",
       "  <thead>\n",
       "    <tr style=\"text-align: right;\">\n",
       "      <th></th>\n",
       "      <th>GRE</th>\n",
       "      <th>TOEFL</th>\n",
       "      <th>Univ_Rating</th>\n",
       "      <th>SOP</th>\n",
       "      <th>LOR</th>\n",
       "      <th>CGPA</th>\n",
       "      <th>Research</th>\n",
       "      <th>Chance_of_Admit</th>\n",
       "    </tr>\n",
       "  </thead>\n",
       "  <tbody>\n",
       "    <tr>\n",
       "      <th>397</th>\n",
       "      <td>330</td>\n",
       "      <td>116</td>\n",
       "      <td>4</td>\n",
       "      <td>5.00</td>\n",
       "      <td>4.50</td>\n",
       "      <td>9.45</td>\n",
       "      <td>1</td>\n",
       "      <td>0.91</td>\n",
       "    </tr>\n",
       "    <tr>\n",
       "      <th>398</th>\n",
       "      <td>312</td>\n",
       "      <td>103</td>\n",
       "      <td>3</td>\n",
       "      <td>3.50</td>\n",
       "      <td>4.00</td>\n",
       "      <td>8.78</td>\n",
       "      <td>0</td>\n",
       "      <td>0.67</td>\n",
       "    </tr>\n",
       "    <tr>\n",
       "      <th>399</th>\n",
       "      <td>333</td>\n",
       "      <td>117</td>\n",
       "      <td>4</td>\n",
       "      <td>5.00</td>\n",
       "      <td>4.00</td>\n",
       "      <td>9.66</td>\n",
       "      <td>1</td>\n",
       "      <td>0.95</td>\n",
       "    </tr>\n",
       "  </tbody>\n",
       "</table>\n",
       "</div>"
      ],
      "text/plain": [
       "     GRE  TOEFL  Univ_Rating  SOP  LOR   CGPA  Research  Chance_of_Admit\n",
       "397  330    116            4 5.00  4.50  9.45         1             0.91\n",
       "398  312    103            3 3.50  4.00  8.78         0             0.67\n",
       "399  333    117            4 5.00  4.00  9.66         1             0.95"
      ]
     },
     "execution_count": 171,
     "metadata": {},
     "output_type": "execute_result"
    }
   ],
   "source": [
    "adms = pd.read_csv('datafiles/Admission.csv')\n",
    "adms.tail(3)"
   ]
  },
  {
   "cell_type": "code",
   "execution_count": 175,
   "id": "59c7127b",
   "metadata": {},
   "outputs": [
    {
     "name": "stdout",
     "output_type": "stream",
     "text": [
      "상관계수 분석 :  GRE\n",
      "상관계수: 0.80, p-value: 0.00000000\n",
      "\n",
      "\n",
      "상관계수 분석 :  TOEFL\n",
      "상관계수: 0.79, p-value: 0.00000000\n",
      "\n",
      "\n",
      "상관계수 분석 :  Univ_Rating\n",
      "상관계수: 0.71, p-value: 0.00000000\n",
      "\n",
      "\n",
      "상관계수 분석 :  SOP\n",
      "상관계수: 0.68, p-value: 0.00000000\n",
      "\n",
      "\n",
      "상관계수 분석 :  LOR \n",
      "상관계수: 0.67, p-value: 0.00000000\n",
      "\n",
      "\n"
     ]
    }
   ],
   "source": [
    "from scipy.stats import pearsonr, spearmanr \n",
    "\n",
    "for col in ['GRE','TOEFL','Univ_Rating','SOP','LOR ']:\n",
    "    print('상관계수 분석 : ', col)\n",
    "    c, p = pearsonr(adms['Chance_of_Admit'], adms[col])\n",
    "    print('상관계수: {:,.2f}, p-value: {:,.8f}'.format(c, p))\n",
    "    print('\\n')"
   ]
  },
  {
   "cell_type": "code",
   "execution_count": 178,
   "id": "695a6b6a",
   "metadata": {},
   "outputs": [
    {
     "data": {
      "image/png": "[encoded data removed]",
      "text/plain": [
       "<Figure size 576x432 with 2 Axes>"
      ]
     },
     "metadata": {
      "needs_background": "light"
     },
     "output_type": "display_data"
    }
   ],
   "source": [
    "cor = adms[['GRE','TOEFL','Univ_Rating','SOP','LOR ','Chance_of_Admit']].corr()\n",
    "plt.figure(figsize=(8,6))\n",
    "sns.heatmap(cor, cmap='RdBu_r', linewidth=1, linecolor='white', annot=True);"
   ]
  },
  {
   "cell_type": "code",
   "execution_count": 198,
   "id": "748f71c5",
   "metadata": {},
   "outputs": [
    {
     "name": "stdout",
     "output_type": "stream",
     "text": [
      "Unnamed: 0     0\n",
      "Ozone         37\n",
      "Solar.R        7\n",
      "Wind           0\n",
      "Temp           0\n",
      "Month          0\n",
      "Day            0\n",
      "dtype: int64\n"
     ]
    },
    {
     "data": {
      "text/html": [
       "<div>\n",
       "<style scoped>\n",
       "    .dataframe tbody tr th:only-of-type {\n",
       "        vertical-align: middle;\n",
       "    }\n",
       "\n",
       "    .dataframe tbody tr th {\n",
       "        vertical-align: top;\n",
       "    }\n",
       "\n",
       "    .dataframe thead th {\n",
       "        text-align: right;\n",
       "    }\n",
       "</style>\n",
       "<table border=\"1\" class=\"dataframe\">\n",
       "  <thead>\n",
       "    <tr style=\"text-align: right;\">\n",
       "      <th></th>\n",
       "      <th>Unnamed: 0</th>\n",
       "      <th>Ozone</th>\n",
       "      <th>Solar.R</th>\n",
       "      <th>Wind</th>\n",
       "      <th>Temp</th>\n",
       "      <th>Month</th>\n",
       "      <th>Day</th>\n",
       "    </tr>\n",
       "  </thead>\n",
       "  <tbody>\n",
       "    <tr>\n",
       "      <th>150</th>\n",
       "      <td>151</td>\n",
       "      <td>14.00</td>\n",
       "      <td>191.00</td>\n",
       "      <td>14.30</td>\n",
       "      <td>75</td>\n",
       "      <td>9</td>\n",
       "      <td>28</td>\n",
       "    </tr>\n",
       "    <tr>\n",
       "      <th>151</th>\n",
       "      <td>152</td>\n",
       "      <td>18.00</td>\n",
       "      <td>131.00</td>\n",
       "      <td>8.00</td>\n",
       "      <td>76</td>\n",
       "      <td>9</td>\n",
       "      <td>29</td>\n",
       "    </tr>\n",
       "    <tr>\n",
       "      <th>152</th>\n",
       "      <td>153</td>\n",
       "      <td>20.00</td>\n",
       "      <td>223.00</td>\n",
       "      <td>11.50</td>\n",
       "      <td>68</td>\n",
       "      <td>9</td>\n",
       "      <td>30</td>\n",
       "    </tr>\n",
       "  </tbody>\n",
       "</table>\n",
       "</div>"
      ],
      "text/plain": [
       "     Unnamed: 0  Ozone  Solar.R  Wind  Temp  Month  Day\n",
       "150         151  14.00   191.00 14.30    75      9   28\n",
       "151         152  18.00   131.00  8.00    76      9   29\n",
       "152         153  20.00   223.00 11.50    68      9   30"
      ]
     },
     "execution_count": 198,
     "metadata": {},
     "output_type": "execute_result"
    }
   ],
   "source": [
    "# R교재 : 177쪽\n",
    "df = pd.read_csv('datafiles/airquality.csv')\n",
    "print(df.isnull().sum())  # 오존 결측치 있음 \n",
    "df.tail(3)"
   ]
  },
  {
   "cell_type": "code",
   "execution_count": 194,
   "id": "b2e3c9ed",
   "metadata": {},
   "outputs": [
    {
     "data": {
      "text/html": [
       "<div>\n",
       "<style scoped>\n",
       "    .dataframe tbody tr th:only-of-type {\n",
       "        vertical-align: middle;\n",
       "    }\n",
       "\n",
       "    .dataframe tbody tr th {\n",
       "        vertical-align: top;\n",
       "    }\n",
       "\n",
       "    .dataframe thead th {\n",
       "        text-align: right;\n",
       "    }\n",
       "</style>\n",
       "<table border=\"1\" class=\"dataframe\">\n",
       "  <thead>\n",
       "    <tr style=\"text-align: right;\">\n",
       "      <th></th>\n",
       "      <th>Ozone</th>\n",
       "      <th>Solar.R</th>\n",
       "      <th>Wind</th>\n",
       "      <th>Temp</th>\n",
       "      <th>Month</th>\n",
       "    </tr>\n",
       "  </thead>\n",
       "  <tbody>\n",
       "    <tr>\n",
       "      <th>Ozone</th>\n",
       "      <td>1.00</td>\n",
       "      <td>0.35</td>\n",
       "      <td>-0.60</td>\n",
       "      <td>0.70</td>\n",
       "      <td>0.16</td>\n",
       "    </tr>\n",
       "    <tr>\n",
       "      <th>Solar.R</th>\n",
       "      <td>0.35</td>\n",
       "      <td>1.00</td>\n",
       "      <td>-0.06</td>\n",
       "      <td>0.28</td>\n",
       "      <td>-0.08</td>\n",
       "    </tr>\n",
       "    <tr>\n",
       "      <th>Wind</th>\n",
       "      <td>-0.60</td>\n",
       "      <td>-0.06</td>\n",
       "      <td>1.00</td>\n",
       "      <td>-0.46</td>\n",
       "      <td>-0.18</td>\n",
       "    </tr>\n",
       "    <tr>\n",
       "      <th>Temp</th>\n",
       "      <td>0.70</td>\n",
       "      <td>0.28</td>\n",
       "      <td>-0.46</td>\n",
       "      <td>1.00</td>\n",
       "      <td>0.42</td>\n",
       "    </tr>\n",
       "    <tr>\n",
       "      <th>Month</th>\n",
       "      <td>0.16</td>\n",
       "      <td>-0.08</td>\n",
       "      <td>-0.18</td>\n",
       "      <td>0.42</td>\n",
       "      <td>1.00</td>\n",
       "    </tr>\n",
       "  </tbody>\n",
       "</table>\n",
       "</div>"
      ],
      "text/plain": [
       "         Ozone  Solar.R  Wind  Temp  Month\n",
       "Ozone     1.00     0.35 -0.60  0.70   0.16\n",
       "Solar.R   0.35     1.00 -0.06  0.28  -0.08\n",
       "Wind     -0.60    -0.06  1.00 -0.46  -0.18\n",
       "Temp      0.70     0.28 -0.46  1.00   0.42\n",
       "Month     0.16    -0.08 -0.18  0.42   1.00"
      ]
     },
     "execution_count": 194,
     "metadata": {},
     "output_type": "execute_result"
    }
   ],
   "source": [
    "df[['Ozone','Solar.R','Wind','Temp','Month']].corr(method='pearson') #method : {'pearson', 'kendall', 'spearman'} "
   ]
  },
  {
   "cell_type": "code",
   "execution_count": 195,
   "id": "45f4dca8",
   "metadata": {},
   "outputs": [
    {
     "data": {
      "text/html": [
       "<div>\n",
       "<style scoped>\n",
       "    .dataframe tbody tr th:only-of-type {\n",
       "        vertical-align: middle;\n",
       "    }\n",
       "\n",
       "    .dataframe tbody tr th {\n",
       "        vertical-align: top;\n",
       "    }\n",
       "\n",
       "    .dataframe thead th {\n",
       "        text-align: right;\n",
       "    }\n",
       "</style>\n",
       "<table border=\"1\" class=\"dataframe\">\n",
       "  <thead>\n",
       "    <tr style=\"text-align: right;\">\n",
       "      <th></th>\n",
       "      <th>Ozone</th>\n",
       "      <th>Solar.R</th>\n",
       "      <th>Wind</th>\n",
       "      <th>Temp</th>\n",
       "      <th>Month</th>\n",
       "    </tr>\n",
       "  </thead>\n",
       "  <tbody>\n",
       "    <tr>\n",
       "      <th>Ozone</th>\n",
       "      <td>1.00</td>\n",
       "      <td>0.24</td>\n",
       "      <td>-0.43</td>\n",
       "      <td>0.59</td>\n",
       "      <td>0.10</td>\n",
       "    </tr>\n",
       "    <tr>\n",
       "      <th>Solar.R</th>\n",
       "      <td>0.24</td>\n",
       "      <td>1.00</td>\n",
       "      <td>0.00</td>\n",
       "      <td>0.14</td>\n",
       "      <td>-0.10</td>\n",
       "    </tr>\n",
       "    <tr>\n",
       "      <th>Wind</th>\n",
       "      <td>-0.43</td>\n",
       "      <td>0.00</td>\n",
       "      <td>1.00</td>\n",
       "      <td>-0.32</td>\n",
       "      <td>-0.12</td>\n",
       "    </tr>\n",
       "    <tr>\n",
       "      <th>Temp</th>\n",
       "      <td>0.59</td>\n",
       "      <td>0.14</td>\n",
       "      <td>-0.32</td>\n",
       "      <td>1.00</td>\n",
       "      <td>0.28</td>\n",
       "    </tr>\n",
       "    <tr>\n",
       "      <th>Month</th>\n",
       "      <td>0.10</td>\n",
       "      <td>-0.10</td>\n",
       "      <td>-0.12</td>\n",
       "      <td>0.28</td>\n",
       "      <td>1.00</td>\n",
       "    </tr>\n",
       "  </tbody>\n",
       "</table>\n",
       "</div>"
      ],
      "text/plain": [
       "         Ozone  Solar.R  Wind  Temp  Month\n",
       "Ozone     1.00     0.24 -0.43  0.59   0.10\n",
       "Solar.R   0.24     1.00  0.00  0.14  -0.10\n",
       "Wind     -0.43     0.00  1.00 -0.32  -0.12\n",
       "Temp      0.59     0.14 -0.32  1.00   0.28\n",
       "Month     0.10    -0.10 -0.12  0.28   1.00"
      ]
     },
     "execution_count": 195,
     "metadata": {},
     "output_type": "execute_result"
    }
   ],
   "source": [
    "df[['Ozone','Solar.R','Wind','Temp','Month']].corr(method='kendall') #method : {'pearson', 'kendall', 'spearman'} "
   ]
  },
  {
   "cell_type": "code",
   "execution_count": 196,
   "id": "bfa2efdb",
   "metadata": {},
   "outputs": [
    {
     "data": {
      "text/html": [
       "<div>\n",
       "<style scoped>\n",
       "    .dataframe tbody tr th:only-of-type {\n",
       "        vertical-align: middle;\n",
       "    }\n",
       "\n",
       "    .dataframe tbody tr th {\n",
       "        vertical-align: top;\n",
       "    }\n",
       "\n",
       "    .dataframe thead th {\n",
       "        text-align: right;\n",
       "    }\n",
       "</style>\n",
       "<table border=\"1\" class=\"dataframe\">\n",
       "  <thead>\n",
       "    <tr style=\"text-align: right;\">\n",
       "      <th></th>\n",
       "      <th>Ozone</th>\n",
       "      <th>Solar.R</th>\n",
       "      <th>Wind</th>\n",
       "      <th>Temp</th>\n",
       "      <th>Month</th>\n",
       "    </tr>\n",
       "  </thead>\n",
       "  <tbody>\n",
       "    <tr>\n",
       "      <th>Ozone</th>\n",
       "      <td>1.00</td>\n",
       "      <td>0.35</td>\n",
       "      <td>-0.59</td>\n",
       "      <td>0.77</td>\n",
       "      <td>0.14</td>\n",
       "    </tr>\n",
       "    <tr>\n",
       "      <th>Solar.R</th>\n",
       "      <td>0.35</td>\n",
       "      <td>1.00</td>\n",
       "      <td>-0.00</td>\n",
       "      <td>0.21</td>\n",
       "      <td>-0.13</td>\n",
       "    </tr>\n",
       "    <tr>\n",
       "      <th>Wind</th>\n",
       "      <td>-0.59</td>\n",
       "      <td>-0.00</td>\n",
       "      <td>1.00</td>\n",
       "      <td>-0.45</td>\n",
       "      <td>-0.16</td>\n",
       "    </tr>\n",
       "    <tr>\n",
       "      <th>Temp</th>\n",
       "      <td>0.77</td>\n",
       "      <td>0.21</td>\n",
       "      <td>-0.45</td>\n",
       "      <td>1.00</td>\n",
       "      <td>0.37</td>\n",
       "    </tr>\n",
       "    <tr>\n",
       "      <th>Month</th>\n",
       "      <td>0.14</td>\n",
       "      <td>-0.13</td>\n",
       "      <td>-0.16</td>\n",
       "      <td>0.37</td>\n",
       "      <td>1.00</td>\n",
       "    </tr>\n",
       "  </tbody>\n",
       "</table>\n",
       "</div>"
      ],
      "text/plain": [
       "         Ozone  Solar.R  Wind  Temp  Month\n",
       "Ozone     1.00     0.35 -0.59  0.77   0.14\n",
       "Solar.R   0.35     1.00 -0.00  0.21  -0.13\n",
       "Wind     -0.59    -0.00  1.00 -0.45  -0.16\n",
       "Temp      0.77     0.21 -0.45  1.00   0.37\n",
       "Month     0.14    -0.13 -0.16  0.37   1.00"
      ]
     },
     "execution_count": 196,
     "metadata": {},
     "output_type": "execute_result"
    }
   ],
   "source": [
    "df[['Ozone','Solar.R','Wind','Temp','Month']].corr(method='spearman') #method : {'pearson', 'kendall', 'spearman'} "
   ]
  },
  {
   "cell_type": "code",
   "execution_count": 205,
   "id": "c9bfb65d",
   "metadata": {},
   "outputs": [
    {
     "name": "stdout",
     "output_type": "stream",
     "text": [
      "116\n"
     ]
    },
    {
     "data": {
      "text/plain": [
       "(0.698360342150932, 2.9318965924778345e-18)"
      ]
     },
     "execution_count": 205,
     "metadata": {},
     "output_type": "execute_result"
    }
   ],
   "source": [
    "#### 주의 : 파이썬에서는 결측치 포함시 상관계수 검정 안됨 (R에서는 자동 계산 )\n",
    "from scipy.stats import pearsonr, spearmanr \n",
    "\n",
    "df_clean = df.dropna(subset=['Ozone'])\n",
    "print(len(df_clean))\n",
    "pearsonr(df_clean['Ozone'], df_clean['Temp'])"
   ]
  },
  {
   "cell_type": "code",
   "execution_count": 206,
   "id": "5761f34e",
   "metadata": {},
   "outputs": [
    {
     "data": {
      "text/plain": [
       "(-0.6015465298889503, 9.271973903938078e-13)"
      ]
     },
     "execution_count": 206,
     "metadata": {},
     "output_type": "execute_result"
    }
   ],
   "source": [
    "pearsonr(df_clean['Ozone'], df_clean['Wind'])"
   ]
  },
  {
   "cell_type": "markdown",
   "id": "3c32d6a8",
   "metadata": {},
   "source": [
    "---\n",
    "\n",
    "### 교차분석"
   ]
  },
  {
   "cell_type": "code",
   "execution_count": 141,
   "id": "924384e9",
   "metadata": {},
   "outputs": [
    {
     "data": {
      "text/html": [
       "<div>\n",
       "<style scoped>\n",
       "    .dataframe tbody tr th:only-of-type {\n",
       "        vertical-align: middle;\n",
       "    }\n",
       "\n",
       "    .dataframe tbody tr th {\n",
       "        vertical-align: top;\n",
       "    }\n",
       "\n",
       "    .dataframe thead th {\n",
       "        text-align: right;\n",
       "    }\n",
       "</style>\n",
       "<table border=\"1\" class=\"dataframe\">\n",
       "  <thead>\n",
       "    <tr style=\"text-align: right;\">\n",
       "      <th></th>\n",
       "      <th>survived</th>\n",
       "      <th>pclass</th>\n",
       "      <th>sex</th>\n",
       "      <th>age</th>\n",
       "      <th>sibsp</th>\n",
       "      <th>parch</th>\n",
       "      <th>fare</th>\n",
       "      <th>embarked</th>\n",
       "      <th>class</th>\n",
       "      <th>adult_male</th>\n",
       "      <th>embark_town</th>\n",
       "    </tr>\n",
       "  </thead>\n",
       "  <tbody>\n",
       "    <tr>\n",
       "      <th>888</th>\n",
       "      <td>0</td>\n",
       "      <td>3</td>\n",
       "      <td>female</td>\n",
       "      <td>NaN</td>\n",
       "      <td>1</td>\n",
       "      <td>2</td>\n",
       "      <td>23.45</td>\n",
       "      <td>S</td>\n",
       "      <td>Third</td>\n",
       "      <td>False</td>\n",
       "      <td>Southampton</td>\n",
       "    </tr>\n",
       "    <tr>\n",
       "      <th>889</th>\n",
       "      <td>1</td>\n",
       "      <td>1</td>\n",
       "      <td>male</td>\n",
       "      <td>26.00</td>\n",
       "      <td>0</td>\n",
       "      <td>0</td>\n",
       "      <td>30.00</td>\n",
       "      <td>C</td>\n",
       "      <td>First</td>\n",
       "      <td>True</td>\n",
       "      <td>Cherbourg</td>\n",
       "    </tr>\n",
       "    <tr>\n",
       "      <th>890</th>\n",
       "      <td>0</td>\n",
       "      <td>3</td>\n",
       "      <td>male</td>\n",
       "      <td>32.00</td>\n",
       "      <td>0</td>\n",
       "      <td>0</td>\n",
       "      <td>7.75</td>\n",
       "      <td>Q</td>\n",
       "      <td>Third</td>\n",
       "      <td>True</td>\n",
       "      <td>Queenstown</td>\n",
       "    </tr>\n",
       "  </tbody>\n",
       "</table>\n",
       "</div>"
      ],
      "text/plain": [
       "     survived  pclass     sex   age  sibsp  parch  fare embarked  class  \\\n",
       "888         0       3  female   NaN      1      2 23.45        S  Third   \n",
       "889         1       1    male 26.00      0      0 30.00        C  First   \n",
       "890         0       3    male 32.00      0      0  7.75        Q  Third   \n",
       "\n",
       "     adult_male  embark_town  \n",
       "888       False  Southampton  \n",
       "889        True    Cherbourg  \n",
       "890        True   Queenstown  "
      ]
     },
     "execution_count": 141,
     "metadata": {},
     "output_type": "execute_result"
    }
   ],
   "source": [
    "# 적합성 검정 : 이론적으로 기대하는 분포를 따르는지 검정(예: 주사위 1/6인가?)\n",
    "# H0 : 생존자의 남자와 여자 비율이 50% \n",
    "df = pd.read_csv('ADP_book_ver01/data/titanic.csv')\n",
    "df.tail(3)"
   ]
  },
  {
   "cell_type": "code",
   "execution_count": 161,
   "id": "df2e0a38",
   "metadata": {},
   "outputs": [
    {
     "name": "stdout",
     "output_type": "stream",
     "text": [
      "        count  pct\n",
      "female    233 0.68\n",
      "male      109 0.32\n",
      "========================\n",
      "데이터 건수:342, 50%건수:171.0\n"
     ]
    }
   ],
   "source": [
    "ser = df.query(\" survived == 1 \")['sex']\n",
    "table = ser.value_counts()\n",
    "print(pd.concat([table, ser.value_counts(normalize=True)], axis=1, keys=['count', 'pct']), \n",
    "      end='\\n========================\\n')\n",
    "print(\"데이터 건수:{}, 50%건수:{}\".format(len(ser), len(ser)/2))"
   ]
  },
  {
   "cell_type": "code",
   "execution_count": 165,
   "id": "b8eb1a96",
   "metadata": {},
   "outputs": [
    {
     "name": "stdout",
     "output_type": "stream",
     "text": [
      "적합도 검정 결과 :  Power_divergenceResult(statistic=44.95906432748538, pvalue=2.0119672574477235e-11)\n"
     ]
    }
   ],
   "source": [
    "# H0 : 해당 분포를 따른다. \n",
    "from scipy.stats import chisquare \n",
    "chi = chisquare(table, f_exp=[171, 171])\n",
    "print(\"적합도 검정 결과 : \", chi)  # H0 기각. 생존자의 남녀 비율은 다르다. "
   ]
  },
  {
   "cell_type": "code",
   "execution_count": 164,
   "id": "3ed6cde6",
   "metadata": {},
   "outputs": [],
   "source": [
    ">>> chisquare?\n",
    ">>> chisquare([16, 18, 16, 14, 12, 12], f_exp=[16, 16, 16, 16, 16, 8])\n",
    "(3.5, 0.62338762774958223)"
   ]
  },
  {
   "cell_type": "code",
   "execution_count": 166,
   "id": "e151e252",
   "metadata": {},
   "outputs": [
    {
     "data": {
      "text/html": [
       "<div>\n",
       "<style scoped>\n",
       "    .dataframe tbody tr th:only-of-type {\n",
       "        vertical-align: middle;\n",
       "    }\n",
       "\n",
       "    .dataframe tbody tr th {\n",
       "        vertical-align: top;\n",
       "    }\n",
       "\n",
       "    .dataframe thead th {\n",
       "        text-align: right;\n",
       "    }\n",
       "</style>\n",
       "<table border=\"1\" class=\"dataframe\">\n",
       "  <thead>\n",
       "    <tr style=\"text-align: right;\">\n",
       "      <th>survived</th>\n",
       "      <th>0</th>\n",
       "      <th>1</th>\n",
       "    </tr>\n",
       "    <tr>\n",
       "      <th>class</th>\n",
       "      <th></th>\n",
       "      <th></th>\n",
       "    </tr>\n",
       "  </thead>\n",
       "  <tbody>\n",
       "    <tr>\n",
       "      <th>First</th>\n",
       "      <td>80</td>\n",
       "      <td>136</td>\n",
       "    </tr>\n",
       "    <tr>\n",
       "      <th>Second</th>\n",
       "      <td>97</td>\n",
       "      <td>87</td>\n",
       "    </tr>\n",
       "    <tr>\n",
       "      <th>Third</th>\n",
       "      <td>372</td>\n",
       "      <td>119</td>\n",
       "    </tr>\n",
       "  </tbody>\n",
       "</table>\n",
       "</div>"
      ],
      "text/plain": [
       "survived    0    1\n",
       "class             \n",
       "First      80  136\n",
       "Second     97   87\n",
       "Third     372  119"
      ]
     },
     "execution_count": 166,
     "metadata": {},
     "output_type": "execute_result"
    }
   ],
   "source": [
    "# 독립성 검정 : H0 : 좌석등급(class)과 생존여부는 독립이다. \n",
    "df = pd.read_csv('ADP_book_ver01/data/titanic.csv')\n",
    "table = pd.crosstab(df['class'], df['survived'])\n",
    "table"
   ]
  },
  {
   "cell_type": "code",
   "execution_count": 169,
   "id": "d75561c5",
   "metadata": {},
   "outputs": [
    {
     "data": {
      "text/html": [
       "<div>\n",
       "<style scoped>\n",
       "    .dataframe tbody tr th:only-of-type {\n",
       "        vertical-align: middle;\n",
       "    }\n",
       "\n",
       "    .dataframe tbody tr th {\n",
       "        vertical-align: top;\n",
       "    }\n",
       "\n",
       "    .dataframe thead th {\n",
       "        text-align: right;\n",
       "    }\n",
       "</style>\n",
       "<table border=\"1\" class=\"dataframe\">\n",
       "  <thead>\n",
       "    <tr style=\"text-align: right;\">\n",
       "      <th>survived</th>\n",
       "      <th>0</th>\n",
       "      <th>1</th>\n",
       "      <th>All</th>\n",
       "    </tr>\n",
       "    <tr>\n",
       "      <th>class</th>\n",
       "      <th></th>\n",
       "      <th></th>\n",
       "      <th></th>\n",
       "    </tr>\n",
       "  </thead>\n",
       "  <tbody>\n",
       "    <tr>\n",
       "      <th>First</th>\n",
       "      <td>0.15</td>\n",
       "      <td>0.40</td>\n",
       "      <td>0.24</td>\n",
       "    </tr>\n",
       "    <tr>\n",
       "      <th>Second</th>\n",
       "      <td>0.18</td>\n",
       "      <td>0.25</td>\n",
       "      <td>0.21</td>\n",
       "    </tr>\n",
       "    <tr>\n",
       "      <th>Third</th>\n",
       "      <td>0.68</td>\n",
       "      <td>0.35</td>\n",
       "      <td>0.55</td>\n",
       "    </tr>\n",
       "  </tbody>\n",
       "</table>\n",
       "</div>"
      ],
      "text/plain": [
       "survived    0    1  All\n",
       "class                  \n",
       "First    0.15 0.40 0.24\n",
       "Second   0.18 0.25 0.21\n",
       "Third    0.68 0.35 0.55"
      ]
     },
     "execution_count": 169,
     "metadata": {},
     "output_type": "execute_result"
    }
   ],
   "source": [
    "pd.crosstab(df['class'], df['survived'], normalize=1, margins=True) # normalize는 0 또는 1"
   ]
  },
  {
   "cell_type": "code",
   "execution_count": 167,
   "id": "6c69b0d1",
   "metadata": {},
   "outputs": [
    {
     "data": {
      "text/plain": [
       "(102.88898875696056,\n",
       " 4.549251711298793e-23,\n",
       " 2,\n",
       " array([[133.09090909,  82.90909091],\n",
       "        [113.37373737,  70.62626263],\n",
       "        [302.53535354, 188.46464646]]))"
      ]
     },
     "execution_count": 167,
     "metadata": {},
     "output_type": "execute_result"
    }
   ],
   "source": [
    "from scipy.stats import chi2_contingency \n",
    "chi2_contingency(table)  # 출력순서 : 통계량, p값, 자유도, 기대도수"
   ]
  },
  {
   "cell_type": "code",
   "execution_count": 170,
   "id": "e73df93c",
   "metadata": {},
   "outputs": [],
   "source": [
    ">>> chi2_contingency?\n",
    ">>> [[ A four-way example (2 x 2 x 2 x 2) ]]\n",
    ">>> obs = np.array(\n",
    "...     [[[[12, 17],\n",
    "...        [11, 16]],\n",
    "...       [[11, 12],\n",
    "...        [15, 16]]],\n",
    "...      [[[23, 15],\n",
    "...        [30, 22]],\n",
    "...       [[14, 17],\n",
    "...        [15, 16]]]])\n",
    ">>> chi2_contingency(obs)\n",
    "(8.7584514426741897,\n",
    " 0.64417725029295503,\n",
    " 11,\n",
    " array.. 생략) "
   ]
  },
  {
   "cell_type": "markdown",
   "id": "e7e6656a",
   "metadata": {},
   "source": [
    "---\n",
    "\n",
    "### RUN 검정  \n",
    "\n",
    "- H0 : 구매패턴으로 볼 때 연속된 관측된 값은 임의적이다. (연관성이 없다)"
   ]
  },
  {
   "cell_type": "code",
   "execution_count": 211,
   "id": "95cd1610",
   "metadata": {},
   "outputs": [
    {
     "data": {
      "text/plain": [
       "(-0.8550172947996348, 0.39254157333241946)"
      ]
     },
     "execution_count": 211,
     "metadata": {},
     "output_type": "execute_result"
    }
   ],
   "source": [
    "from statsmodels.sandbox.stats.runs import runstest_1samp\n",
    "# runstest_1samp?\n",
    "\n",
    "sample = ['a','a','b','b','a','a','a','b','b','b','b','b','a','a','b','b','a','b','b']\n",
    "data = pd.Series(sample).map({'a':0, 'b':1})   # 값은 반드시 수치형으로 들어가야 함 \n",
    "\n",
    "runstest_1samp(data)  # H0 기각, 임의적이다. "
   ]
  },
  {
   "cell_type": "code",
   "execution_count": 245,
   "id": "1cad7645",
   "metadata": {},
   "outputs": [
    {
     "name": "stdout",
     "output_type": "stream",
     "text": [
      "ties detected\n"
     ]
    },
    {
     "data": {
      "text/plain": [
       "(0.27817432013209337, 0.7808785467488142)"
      ]
     },
     "execution_count": 245,
     "metadata": {},
     "output_type": "execute_result"
    }
   ],
   "source": [
    "# 참고 : 2표본 run 검정 \n",
    "# H0 : x, y는 같은 분포다 \n",
    "# https://www.statology.org/runs-test-python/\n",
    "from statsmodels.sandbox.stats.runs import runstest_2samp\n",
    "\n",
    "x = [1,1,1,2,2,3,4]\n",
    "y = [1,2,1,1,2,3,3]\n",
    "z = [8,5,6,9,7,9,9]\n",
    "\n",
    "y[-1] += 1e-6  #avoid tie that creates warning (이거 안쓰면 애러 뜸 ㅠ.ㅜ. 마지막 관측치에 0.000001 추가 \n",
    "runstest_2samp(x, y)  # H0 채택 : 같은 분포 "
   ]
  },
  {
   "cell_type": "code",
   "execution_count": 246,
   "id": "c8840cbc",
   "metadata": {},
   "outputs": [
    {
     "name": "stdout",
     "output_type": "stream",
     "text": [
      "ties detected\n"
     ]
    },
    {
     "data": {
      "text/plain": [
       "(-3.0599175214530274, 0.002213979530265031)"
      ]
     },
     "execution_count": 246,
     "metadata": {},
     "output_type": "execute_result"
    }
   ],
   "source": [
    "z[-1] += 1e-6\n",
    "runstest_2samp(x, z)  # H0 기각 : 다른 분포 "
   ]
  },
  {
   "cell_type": "code",
   "execution_count": 249,
   "id": "4f6060e8",
   "metadata": {},
   "outputs": [
    {
     "data": {
      "image/png": "[encoded data removed]",
      "text/plain": [
       "<Figure size 432x288 with 1 Axes>"
      ]
     },
     "metadata": {
      "needs_background": "light"
     },
     "output_type": "display_data"
    }
   ],
   "source": [
    "plt.plot(x)\n",
    "plt.plot(y)\n",
    "plt.plot(z)\n",
    "plt.legend(['x','y','z']);"
   ]
  },
  {
   "cell_type": "markdown",
   "id": "b6edd8ef",
   "metadata": {},
   "source": [
    "---\n",
    "\n",
    "### 주성분분석\n",
    "\n",
    "- adp02지도학습 전략 편 참조"
   ]
  },
  {
   "cell_type": "markdown",
   "id": "6f8c77c0",
   "metadata": {},
   "source": [
    "---\n",
    "\n",
    "### 연관성분석"
   ]
  },
  {
   "cell_type": "code",
   "execution_count": null,
   "id": "5206f4b6",
   "metadata": {},
   "outputs": [],
   "source": [
    "### 1번 유형 "
   ]
  },
  {
   "cell_type": "code",
   "execution_count": 254,
   "id": "98abf6ed",
   "metadata": {},
   "outputs": [
    {
     "data": {
      "text/html": [
       "<div>\n",
       "<style scoped>\n",
       "    .dataframe tbody tr th:only-of-type {\n",
       "        vertical-align: middle;\n",
       "    }\n",
       "\n",
       "    .dataframe tbody tr th {\n",
       "        vertical-align: top;\n",
       "    }\n",
       "\n",
       "    .dataframe thead th {\n",
       "        text-align: right;\n",
       "    }\n",
       "</style>\n",
       "<table border=\"1\" class=\"dataframe\">\n",
       "  <thead>\n",
       "    <tr style=\"text-align: right;\">\n",
       "      <th></th>\n",
       "      <th>Apple</th>\n",
       "      <th>AppleBananas</th>\n",
       "      <th>Bananas</th>\n",
       "      <th>Beer</th>\n",
       "      <th>Chicken</th>\n",
       "      <th>Milk</th>\n",
       "      <th>Rice</th>\n",
       "    </tr>\n",
       "  </thead>\n",
       "  <tbody>\n",
       "    <tr>\n",
       "      <th>5</th>\n",
       "      <td>False</td>\n",
       "      <td>False</td>\n",
       "      <td>False</td>\n",
       "      <td>True</td>\n",
       "      <td>False</td>\n",
       "      <td>True</td>\n",
       "      <td>True</td>\n",
       "    </tr>\n",
       "    <tr>\n",
       "      <th>6</th>\n",
       "      <td>False</td>\n",
       "      <td>False</td>\n",
       "      <td>False</td>\n",
       "      <td>True</td>\n",
       "      <td>False</td>\n",
       "      <td>True</td>\n",
       "      <td>False</td>\n",
       "    </tr>\n",
       "    <tr>\n",
       "      <th>7</th>\n",
       "      <td>True</td>\n",
       "      <td>False</td>\n",
       "      <td>True</td>\n",
       "      <td>False</td>\n",
       "      <td>False</td>\n",
       "      <td>False</td>\n",
       "      <td>False</td>\n",
       "    </tr>\n",
       "  </tbody>\n",
       "</table>\n",
       "</div>"
      ],
      "text/plain": [
       "   Apple  AppleBananas  Bananas   Beer  Chicken   Milk   Rice\n",
       "5  False         False    False   True    False   True   True\n",
       "6  False         False    False   True    False   True  False\n",
       "7   True         False     True  False    False  False  False"
      ]
     },
     "execution_count": 254,
     "metadata": {},
     "output_type": "execute_result"
    }
   ],
   "source": [
    "from mlxtend.preprocessing import TransactionEncoder\n",
    "\n",
    "dataset = [['Apple', 'Beer', 'Rice', 'Chicken'],\n",
    "           ['Apple', 'Beer', 'Rice'],\n",
    "           ['Apple', 'Beer'],\n",
    "           ['Apple' 'Bananas'],\n",
    "           ['Milk', 'Beer', 'Rice', 'Chicken'],\n",
    "           ['Milk', 'Beer', 'Rice'],\n",
    "           ['Milk', 'Beer'],\n",
    "           ['Apple', 'Bananas']]\n",
    "\n",
    "# 데이터 전처리 : Bool 형태 변환\n",
    "te = TransactionEncoder()\n",
    "te_ary = te.fit_transform(dataset)\n",
    "df = pd.DataFrame(te_ary, columns=te.columns_)\n",
    "df.tail(3)"
   ]
  },
  {
   "cell_type": "code",
   "execution_count": 255,
   "id": "b25007c1",
   "metadata": {},
   "outputs": [
    {
     "data": {
      "text/html": [
       "<div>\n",
       "<style scoped>\n",
       "    .dataframe tbody tr th:only-of-type {\n",
       "        vertical-align: middle;\n",
       "    }\n",
       "\n",
       "    .dataframe tbody tr th {\n",
       "        vertical-align: top;\n",
       "    }\n",
       "\n",
       "    .dataframe thead th {\n",
       "        text-align: right;\n",
       "    }\n",
       "</style>\n",
       "<table border=\"1\" class=\"dataframe\">\n",
       "  <thead>\n",
       "    <tr style=\"text-align: right;\">\n",
       "      <th></th>\n",
       "      <th>support</th>\n",
       "      <th>itemsets</th>\n",
       "    </tr>\n",
       "  </thead>\n",
       "  <tbody>\n",
       "    <tr>\n",
       "      <th>0</th>\n",
       "      <td>0.75</td>\n",
       "      <td>(Beer)</td>\n",
       "    </tr>\n",
       "  </tbody>\n",
       "</table>\n",
       "</div>"
      ],
      "text/plain": [
       "   support itemsets\n",
       "0     0.75   (Beer)"
      ]
     },
     "execution_count": 255,
     "metadata": {},
     "output_type": "execute_result"
    }
   ],
   "source": [
    "# 최소지지도 0.6 이상 \n",
    "from mlxtend.frequent_patterns import apriori \n",
    "apriori(df, min_support=0.6, use_colnames=True)"
   ]
  },
  {
   "cell_type": "code",
   "execution_count": null,
   "id": "b516f01c",
   "metadata": {},
   "outputs": [],
   "source": [
    "# itemsets는 frozenset. list로 감싸서 원본 추출 \n",
    "fs = apriori(df, min_support=0.6, use_colnames=True)['itemsets']\n",
    "list(fs[0])[0]\n",
    ">> Beer"
   ]
  },
  {
   "cell_type": "code",
   "execution_count": 265,
   "id": "d003358d",
   "metadata": {},
   "outputs": [
    {
     "data": {
      "text/html": [
       "<div>\n",
       "<style scoped>\n",
       "    .dataframe tbody tr th:only-of-type {\n",
       "        vertical-align: middle;\n",
       "    }\n",
       "\n",
       "    .dataframe tbody tr th {\n",
       "        vertical-align: top;\n",
       "    }\n",
       "\n",
       "    .dataframe thead th {\n",
       "        text-align: right;\n",
       "    }\n",
       "</style>\n",
       "<table border=\"1\" class=\"dataframe\">\n",
       "  <thead>\n",
       "    <tr style=\"text-align: right;\">\n",
       "      <th></th>\n",
       "      <th>support</th>\n",
       "      <th>itemsets</th>\n",
       "      <th>length</th>\n",
       "    </tr>\n",
       "  </thead>\n",
       "  <tbody>\n",
       "    <tr>\n",
       "      <th>0</th>\n",
       "      <td>0.50</td>\n",
       "      <td>(Apple)</td>\n",
       "      <td>1</td>\n",
       "    </tr>\n",
       "    <tr>\n",
       "      <th>1</th>\n",
       "      <td>0.75</td>\n",
       "      <td>(Beer)</td>\n",
       "      <td>1</td>\n",
       "    </tr>\n",
       "    <tr>\n",
       "      <th>2</th>\n",
       "      <td>0.38</td>\n",
       "      <td>(Milk)</td>\n",
       "      <td>1</td>\n",
       "    </tr>\n",
       "    <tr>\n",
       "      <th>3</th>\n",
       "      <td>0.50</td>\n",
       "      <td>(Rice)</td>\n",
       "      <td>1</td>\n",
       "    </tr>\n",
       "    <tr>\n",
       "      <th>4</th>\n",
       "      <td>0.38</td>\n",
       "      <td>(Beer, Apple)</td>\n",
       "      <td>2</td>\n",
       "    </tr>\n",
       "    <tr>\n",
       "      <th>5</th>\n",
       "      <td>0.38</td>\n",
       "      <td>(Milk, Beer)</td>\n",
       "      <td>2</td>\n",
       "    </tr>\n",
       "    <tr>\n",
       "      <th>6</th>\n",
       "      <td>0.50</td>\n",
       "      <td>(Beer, Rice)</td>\n",
       "      <td>2</td>\n",
       "    </tr>\n",
       "  </tbody>\n",
       "</table>\n",
       "</div>"
      ],
      "text/plain": [
       "   support       itemsets  length\n",
       "0     0.50        (Apple)       1\n",
       "1     0.75         (Beer)       1\n",
       "2     0.38         (Milk)       1\n",
       "3     0.50         (Rice)       1\n",
       "4     0.38  (Beer, Apple)       2\n",
       "5     0.38   (Milk, Beer)       2\n",
       "6     0.50   (Beer, Rice)       2"
      ]
     },
     "execution_count": 265,
     "metadata": {},
     "output_type": "execute_result"
    }
   ],
   "source": [
    "# 규칙 길이 추출 방법 \n",
    "freq_items = apriori(df, min_support=0.3, use_colnames=True)\n",
    "freq_items['length'] = freq_items['itemsets'].apply(lambda x: len(x))\n",
    "freq_items"
   ]
  },
  {
   "cell_type": "code",
   "execution_count": null,
   "id": "bc7e093a",
   "metadata": {},
   "outputs": [],
   "source": [
    "### 2번 유형 \n",
    "- 데이터 전처리 "
   ]
  },
  {
   "cell_type": "code",
   "execution_count": 266,
   "id": "7293c22e",
   "metadata": {},
   "outputs": [
    {
     "data": {
      "text/html": [
       "<div>\n",
       "<style scoped>\n",
       "    .dataframe tbody tr th:only-of-type {\n",
       "        vertical-align: middle;\n",
       "    }\n",
       "\n",
       "    .dataframe tbody tr th {\n",
       "        vertical-align: top;\n",
       "    }\n",
       "\n",
       "    .dataframe thead th {\n",
       "        text-align: right;\n",
       "    }\n",
       "</style>\n",
       "<table border=\"1\" class=\"dataframe\">\n",
       "  <thead>\n",
       "    <tr style=\"text-align: right;\">\n",
       "      <th></th>\n",
       "      <th>citrus fruit,semi-finished bread,margarine,ready soups</th>\n",
       "    </tr>\n",
       "  </thead>\n",
       "  <tbody>\n",
       "    <tr>\n",
       "      <th>9833</th>\n",
       "      <td>chicken,tropical fruit,other vegetables,vinega...</td>\n",
       "    </tr>\n",
       "  </tbody>\n",
       "</table>\n",
       "</div>"
      ],
      "text/plain": [
       "     citrus fruit,semi-finished bread,margarine,ready soups\n",
       "9833  chicken,tropical fruit,other vegetables,vinega...    "
      ]
     },
     "execution_count": 266,
     "metadata": {},
     "output_type": "execute_result"
    }
   ],
   "source": [
    "df = pd.read_csv('ADP_book_ver01/data/groceries.csv')\n",
    "df.tail(1)"
   ]
  },
  {
   "cell_type": "code",
   "execution_count": 268,
   "id": "3c74c345",
   "metadata": {},
   "outputs": [
    {
     "data": {
      "text/plain": [
       "[['tropical fruit', 'yogurt', 'coffee'],\n",
       " ['whole milk'],\n",
       " ['pip fruit', 'yogurt', 'cream cheese', 'meat spreads']]"
      ]
     },
     "execution_count": 268,
     "metadata": {},
     "output_type": "execute_result"
    }
   ],
   "source": [
    "split = df.iloc[:,0].str.split(',', expand=True).values # 콤마 구분후, numpy 변환\n",
    "\n",
    "groceries = []\n",
    "for i in range(len(split)):\n",
    "    temp = list(filter(None, split[i]))\n",
    "    groceries.append(temp)\n",
    "    \n",
    "groceries[:3]"
   ]
  },
  {
   "cell_type": "code",
   "execution_count": 270,
   "id": "4823b8f6",
   "metadata": {},
   "outputs": [
    {
     "name": "stdout",
     "output_type": "stream",
     "text": [
      "(9834, 169)\n"
     ]
    },
    {
     "data": {
      "text/html": [
       "<div>\n",
       "<style scoped>\n",
       "    .dataframe tbody tr th:only-of-type {\n",
       "        vertical-align: middle;\n",
       "    }\n",
       "\n",
       "    .dataframe tbody tr th {\n",
       "        vertical-align: top;\n",
       "    }\n",
       "\n",
       "    .dataframe thead th {\n",
       "        text-align: right;\n",
       "    }\n",
       "</style>\n",
       "<table border=\"1\" class=\"dataframe\">\n",
       "  <thead>\n",
       "    <tr style=\"text-align: right;\">\n",
       "      <th></th>\n",
       "      <th>Instant food products</th>\n",
       "      <th>UHT-milk</th>\n",
       "      <th>abrasive cleaner</th>\n",
       "      <th>artif. sweetener</th>\n",
       "      <th>baby cosmetics</th>\n",
       "      <th>baby food</th>\n",
       "      <th>bags</th>\n",
       "      <th>baking powder</th>\n",
       "      <th>bathroom cleaner</th>\n",
       "      <th>beef</th>\n",
       "      <th>berries</th>\n",
       "      <th>beverages</th>\n",
       "      <th>bottled beer</th>\n",
       "      <th>bottled water</th>\n",
       "      <th>brandy</th>\n",
       "      <th>brown bread</th>\n",
       "      <th>butter</th>\n",
       "      <th>butter milk</th>\n",
       "      <th>cake bar</th>\n",
       "      <th>candles</th>\n",
       "      <th>candy</th>\n",
       "      <th>canned beer</th>\n",
       "      <th>canned fish</th>\n",
       "      <th>canned fruit</th>\n",
       "      <th>canned vegetables</th>\n",
       "      <th>cat food</th>\n",
       "      <th>cereals</th>\n",
       "      <th>chewing gum</th>\n",
       "      <th>chicken</th>\n",
       "      <th>chocolate</th>\n",
       "      <th>chocolate marshmallow</th>\n",
       "      <th>citrus fruit</th>\n",
       "      <th>cleaner</th>\n",
       "      <th>cling film/bags</th>\n",
       "      <th>cocoa drinks</th>\n",
       "      <th>coffee</th>\n",
       "      <th>condensed milk</th>\n",
       "      <th>cooking chocolate</th>\n",
       "      <th>cookware</th>\n",
       "      <th>cream</th>\n",
       "      <th>cream cheese</th>\n",
       "      <th>curd</th>\n",
       "      <th>curd cheese</th>\n",
       "      <th>decalcifier</th>\n",
       "      <th>dental care</th>\n",
       "      <th>dessert</th>\n",
       "      <th>detergent</th>\n",
       "      <th>dish cleaner</th>\n",
       "      <th>dishes</th>\n",
       "      <th>dog food</th>\n",
       "      <th>domestic eggs</th>\n",
       "      <th>female sanitary products</th>\n",
       "      <th>finished products</th>\n",
       "      <th>fish</th>\n",
       "      <th>flour</th>\n",
       "      <th>flower (seeds)</th>\n",
       "      <th>flower soil/fertilizer</th>\n",
       "      <th>frankfurter</th>\n",
       "      <th>frozen chicken</th>\n",
       "      <th>frozen dessert</th>\n",
       "      <th>frozen fish</th>\n",
       "      <th>frozen fruits</th>\n",
       "      <th>frozen meals</th>\n",
       "      <th>frozen potato products</th>\n",
       "      <th>frozen vegetables</th>\n",
       "      <th>fruit/vegetable juice</th>\n",
       "      <th>grapes</th>\n",
       "      <th>hair spray</th>\n",
       "      <th>ham</th>\n",
       "      <th>hamburger meat</th>\n",
       "      <th>hard cheese</th>\n",
       "      <th>herbs</th>\n",
       "      <th>honey</th>\n",
       "      <th>house keeping products</th>\n",
       "      <th>hygiene articles</th>\n",
       "      <th>ice cream</th>\n",
       "      <th>instant coffee</th>\n",
       "      <th>jam</th>\n",
       "      <th>ketchup</th>\n",
       "      <th>kitchen towels</th>\n",
       "      <th>kitchen utensil</th>\n",
       "      <th>light bulbs</th>\n",
       "      <th>liqueur</th>\n",
       "      <th>liquor</th>\n",
       "      <th>liquor (appetizer)</th>\n",
       "      <th>liver loaf</th>\n",
       "      <th>long life bakery product</th>\n",
       "      <th>make up remover</th>\n",
       "      <th>male cosmetics</th>\n",
       "      <th>margarine</th>\n",
       "      <th>mayonnaise</th>\n",
       "      <th>meat</th>\n",
       "      <th>meat spreads</th>\n",
       "      <th>misc. beverages</th>\n",
       "      <th>mustard</th>\n",
       "      <th>napkins</th>\n",
       "      <th>newspapers</th>\n",
       "      <th>nut snack</th>\n",
       "      <th>nuts/prunes</th>\n",
       "      <th>oil</th>\n",
       "      <th>onions</th>\n",
       "      <th>organic products</th>\n",
       "      <th>organic sausage</th>\n",
       "      <th>other vegetables</th>\n",
       "      <th>packaged fruit/vegetables</th>\n",
       "      <th>pasta</th>\n",
       "      <th>pastry</th>\n",
       "      <th>pet care</th>\n",
       "      <th>photo/film</th>\n",
       "      <th>pickled vegetables</th>\n",
       "      <th>pip fruit</th>\n",
       "      <th>popcorn</th>\n",
       "      <th>pork</th>\n",
       "      <th>potato products</th>\n",
       "      <th>potted plants</th>\n",
       "      <th>preservation products</th>\n",
       "      <th>processed cheese</th>\n",
       "      <th>prosecco</th>\n",
       "      <th>pudding powder</th>\n",
       "      <th>ready soups</th>\n",
       "      <th>red/blush wine</th>\n",
       "      <th>rice</th>\n",
       "      <th>roll products</th>\n",
       "      <th>rolls/buns</th>\n",
       "      <th>root vegetables</th>\n",
       "      <th>rubbing alcohol</th>\n",
       "      <th>rum</th>\n",
       "      <th>salad dressing</th>\n",
       "      <th>salt</th>\n",
       "      <th>salty snack</th>\n",
       "      <th>sauces</th>\n",
       "      <th>sausage</th>\n",
       "      <th>seasonal products</th>\n",
       "      <th>semi-finished bread</th>\n",
       "      <th>shopping bags</th>\n",
       "      <th>skin care</th>\n",
       "      <th>sliced cheese</th>\n",
       "      <th>snack products</th>\n",
       "      <th>soap</th>\n",
       "      <th>soda</th>\n",
       "      <th>soft cheese</th>\n",
       "      <th>softener</th>\n",
       "      <th>sound storage medium</th>\n",
       "      <th>soups</th>\n",
       "      <th>sparkling wine</th>\n",
       "      <th>specialty bar</th>\n",
       "      <th>specialty cheese</th>\n",
       "      <th>specialty chocolate</th>\n",
       "      <th>specialty fat</th>\n",
       "      <th>specialty vegetables</th>\n",
       "      <th>spices</th>\n",
       "      <th>spread cheese</th>\n",
       "      <th>sugar</th>\n",
       "      <th>sweet spreads</th>\n",
       "      <th>syrup</th>\n",
       "      <th>tea</th>\n",
       "      <th>tidbits</th>\n",
       "      <th>toilet cleaner</th>\n",
       "      <th>tropical fruit</th>\n",
       "      <th>turkey</th>\n",
       "      <th>vinegar</th>\n",
       "      <th>waffles</th>\n",
       "      <th>whipped/sour cream</th>\n",
       "      <th>whisky</th>\n",
       "      <th>white bread</th>\n",
       "      <th>white wine</th>\n",
       "      <th>whole milk</th>\n",
       "      <th>yogurt</th>\n",
       "      <th>zwieback</th>\n",
       "    </tr>\n",
       "  </thead>\n",
       "  <tbody>\n",
       "    <tr>\n",
       "      <th>9831</th>\n",
       "      <td>False</td>\n",
       "      <td>False</td>\n",
       "      <td>False</td>\n",
       "      <td>False</td>\n",
       "      <td>False</td>\n",
       "      <td>False</td>\n",
       "      <td>False</td>\n",
       "      <td>False</td>\n",
       "      <td>False</td>\n",
       "      <td>False</td>\n",
       "      <td>False</td>\n",
       "      <td>False</td>\n",
       "      <td>False</td>\n",
       "      <td>False</td>\n",
       "      <td>False</td>\n",
       "      <td>False</td>\n",
       "      <td>True</td>\n",
       "      <td>False</td>\n",
       "      <td>False</td>\n",
       "      <td>False</td>\n",
       "      <td>False</td>\n",
       "      <td>False</td>\n",
       "      <td>False</td>\n",
       "      <td>False</td>\n",
       "      <td>False</td>\n",
       "      <td>False</td>\n",
       "      <td>False</td>\n",
       "      <td>False</td>\n",
       "      <td>True</td>\n",
       "      <td>False</td>\n",
       "      <td>False</td>\n",
       "      <td>True</td>\n",
       "      <td>False</td>\n",
       "      <td>True</td>\n",
       "      <td>False</td>\n",
       "      <td>False</td>\n",
       "      <td>False</td>\n",
       "      <td>False</td>\n",
       "      <td>False</td>\n",
       "      <td>False</td>\n",
       "      <td>False</td>\n",
       "      <td>False</td>\n",
       "      <td>False</td>\n",
       "      <td>False</td>\n",
       "      <td>False</td>\n",
       "      <td>False</td>\n",
       "      <td>False</td>\n",
       "      <td>False</td>\n",
       "      <td>False</td>\n",
       "      <td>False</td>\n",
       "      <td>True</td>\n",
       "      <td>False</td>\n",
       "      <td>False</td>\n",
       "      <td>False</td>\n",
       "      <td>False</td>\n",
       "      <td>False</td>\n",
       "      <td>False</td>\n",
       "      <td>False</td>\n",
       "      <td>False</td>\n",
       "      <td>True</td>\n",
       "      <td>False</td>\n",
       "      <td>False</td>\n",
       "      <td>False</td>\n",
       "      <td>False</td>\n",
       "      <td>False</td>\n",
       "      <td>False</td>\n",
       "      <td>False</td>\n",
       "      <td>False</td>\n",
       "      <td>False</td>\n",
       "      <td>False</td>\n",
       "      <td>False</td>\n",
       "      <td>False</td>\n",
       "      <td>False</td>\n",
       "      <td>False</td>\n",
       "      <td>False</td>\n",
       "      <td>False</td>\n",
       "      <td>False</td>\n",
       "      <td>False</td>\n",
       "      <td>False</td>\n",
       "      <td>False</td>\n",
       "      <td>False</td>\n",
       "      <td>False</td>\n",
       "      <td>False</td>\n",
       "      <td>False</td>\n",
       "      <td>False</td>\n",
       "      <td>False</td>\n",
       "      <td>False</td>\n",
       "      <td>False</td>\n",
       "      <td>False</td>\n",
       "      <td>False</td>\n",
       "      <td>False</td>\n",
       "      <td>False</td>\n",
       "      <td>False</td>\n",
       "      <td>False</td>\n",
       "      <td>False</td>\n",
       "      <td>False</td>\n",
       "      <td>False</td>\n",
       "      <td>False</td>\n",
       "      <td>False</td>\n",
       "      <td>False</td>\n",
       "      <td>False</td>\n",
       "      <td>False</td>\n",
       "      <td>False</td>\n",
       "      <td>True</td>\n",
       "      <td>False</td>\n",
       "      <td>False</td>\n",
       "      <td>False</td>\n",
       "      <td>False</td>\n",
       "      <td>False</td>\n",
       "      <td>False</td>\n",
       "      <td>False</td>\n",
       "      <td>False</td>\n",
       "      <td>False</td>\n",
       "      <td>False</td>\n",
       "      <td>False</td>\n",
       "      <td>False</td>\n",
       "      <td>False</td>\n",
       "      <td>False</td>\n",
       "      <td>False</td>\n",
       "      <td>False</td>\n",
       "      <td>False</td>\n",
       "      <td>False</td>\n",
       "      <td>False</td>\n",
       "      <td>True</td>\n",
       "      <td>False</td>\n",
       "      <td>False</td>\n",
       "      <td>True</td>\n",
       "      <td>False</td>\n",
       "      <td>False</td>\n",
       "      <td>False</td>\n",
       "      <td>False</td>\n",
       "      <td>False</td>\n",
       "      <td>False</td>\n",
       "      <td>False</td>\n",
       "      <td>False</td>\n",
       "      <td>False</td>\n",
       "      <td>False</td>\n",
       "      <td>False</td>\n",
       "      <td>False</td>\n",
       "      <td>False</td>\n",
       "      <td>False</td>\n",
       "      <td>False</td>\n",
       "      <td>False</td>\n",
       "      <td>False</td>\n",
       "      <td>False</td>\n",
       "      <td>False</td>\n",
       "      <td>False</td>\n",
       "      <td>False</td>\n",
       "      <td>False</td>\n",
       "      <td>False</td>\n",
       "      <td>False</td>\n",
       "      <td>False</td>\n",
       "      <td>False</td>\n",
       "      <td>False</td>\n",
       "      <td>False</td>\n",
       "      <td>False</td>\n",
       "      <td>False</td>\n",
       "      <td>False</td>\n",
       "      <td>False</td>\n",
       "      <td>False</td>\n",
       "      <td>False</td>\n",
       "      <td>False</td>\n",
       "      <td>False</td>\n",
       "      <td>False</td>\n",
       "      <td>False</td>\n",
       "      <td>False</td>\n",
       "      <td>False</td>\n",
       "      <td>True</td>\n",
       "      <td>False</td>\n",
       "    </tr>\n",
       "    <tr>\n",
       "      <th>9832</th>\n",
       "      <td>False</td>\n",
       "      <td>False</td>\n",
       "      <td>False</td>\n",
       "      <td>False</td>\n",
       "      <td>False</td>\n",
       "      <td>False</td>\n",
       "      <td>False</td>\n",
       "      <td>False</td>\n",
       "      <td>False</td>\n",
       "      <td>False</td>\n",
       "      <td>False</td>\n",
       "      <td>False</td>\n",
       "      <td>True</td>\n",
       "      <td>True</td>\n",
       "      <td>False</td>\n",
       "      <td>False</td>\n",
       "      <td>False</td>\n",
       "      <td>False</td>\n",
       "      <td>False</td>\n",
       "      <td>False</td>\n",
       "      <td>False</td>\n",
       "      <td>False</td>\n",
       "      <td>False</td>\n",
       "      <td>False</td>\n",
       "      <td>False</td>\n",
       "      <td>False</td>\n",
       "      <td>False</td>\n",
       "      <td>False</td>\n",
       "      <td>False</td>\n",
       "      <td>False</td>\n",
       "      <td>False</td>\n",
       "      <td>False</td>\n",
       "      <td>False</td>\n",
       "      <td>False</td>\n",
       "      <td>False</td>\n",
       "      <td>False</td>\n",
       "      <td>False</td>\n",
       "      <td>False</td>\n",
       "      <td>False</td>\n",
       "      <td>False</td>\n",
       "      <td>False</td>\n",
       "      <td>False</td>\n",
       "      <td>False</td>\n",
       "      <td>False</td>\n",
       "      <td>False</td>\n",
       "      <td>False</td>\n",
       "      <td>False</td>\n",
       "      <td>False</td>\n",
       "      <td>False</td>\n",
       "      <td>False</td>\n",
       "      <td>False</td>\n",
       "      <td>False</td>\n",
       "      <td>False</td>\n",
       "      <td>False</td>\n",
       "      <td>False</td>\n",
       "      <td>False</td>\n",
       "      <td>False</td>\n",
       "      <td>False</td>\n",
       "      <td>False</td>\n",
       "      <td>False</td>\n",
       "      <td>False</td>\n",
       "      <td>False</td>\n",
       "      <td>False</td>\n",
       "      <td>False</td>\n",
       "      <td>False</td>\n",
       "      <td>False</td>\n",
       "      <td>False</td>\n",
       "      <td>False</td>\n",
       "      <td>False</td>\n",
       "      <td>False</td>\n",
       "      <td>False</td>\n",
       "      <td>False</td>\n",
       "      <td>False</td>\n",
       "      <td>False</td>\n",
       "      <td>False</td>\n",
       "      <td>False</td>\n",
       "      <td>False</td>\n",
       "      <td>False</td>\n",
       "      <td>False</td>\n",
       "      <td>False</td>\n",
       "      <td>False</td>\n",
       "      <td>False</td>\n",
       "      <td>False</td>\n",
       "      <td>False</td>\n",
       "      <td>False</td>\n",
       "      <td>False</td>\n",
       "      <td>False</td>\n",
       "      <td>False</td>\n",
       "      <td>False</td>\n",
       "      <td>False</td>\n",
       "      <td>False</td>\n",
       "      <td>False</td>\n",
       "      <td>False</td>\n",
       "      <td>False</td>\n",
       "      <td>False</td>\n",
       "      <td>False</td>\n",
       "      <td>False</td>\n",
       "      <td>False</td>\n",
       "      <td>False</td>\n",
       "      <td>False</td>\n",
       "      <td>False</td>\n",
       "      <td>False</td>\n",
       "      <td>False</td>\n",
       "      <td>False</td>\n",
       "      <td>False</td>\n",
       "      <td>False</td>\n",
       "      <td>False</td>\n",
       "      <td>False</td>\n",
       "      <td>False</td>\n",
       "      <td>False</td>\n",
       "      <td>False</td>\n",
       "      <td>False</td>\n",
       "      <td>False</td>\n",
       "      <td>False</td>\n",
       "      <td>False</td>\n",
       "      <td>False</td>\n",
       "      <td>False</td>\n",
       "      <td>False</td>\n",
       "      <td>False</td>\n",
       "      <td>False</td>\n",
       "      <td>False</td>\n",
       "      <td>False</td>\n",
       "      <td>False</td>\n",
       "      <td>False</td>\n",
       "      <td>False</td>\n",
       "      <td>False</td>\n",
       "      <td>False</td>\n",
       "      <td>False</td>\n",
       "      <td>False</td>\n",
       "      <td>False</td>\n",
       "      <td>False</td>\n",
       "      <td>False</td>\n",
       "      <td>False</td>\n",
       "      <td>True</td>\n",
       "      <td>False</td>\n",
       "      <td>False</td>\n",
       "      <td>False</td>\n",
       "      <td>False</td>\n",
       "      <td>False</td>\n",
       "      <td>True</td>\n",
       "      <td>False</td>\n",
       "      <td>False</td>\n",
       "      <td>False</td>\n",
       "      <td>False</td>\n",
       "      <td>False</td>\n",
       "      <td>False</td>\n",
       "      <td>False</td>\n",
       "      <td>False</td>\n",
       "      <td>False</td>\n",
       "      <td>False</td>\n",
       "      <td>False</td>\n",
       "      <td>False</td>\n",
       "      <td>False</td>\n",
       "      <td>False</td>\n",
       "      <td>False</td>\n",
       "      <td>False</td>\n",
       "      <td>False</td>\n",
       "      <td>False</td>\n",
       "      <td>False</td>\n",
       "      <td>False</td>\n",
       "      <td>False</td>\n",
       "      <td>False</td>\n",
       "      <td>False</td>\n",
       "      <td>False</td>\n",
       "      <td>False</td>\n",
       "      <td>False</td>\n",
       "      <td>False</td>\n",
       "      <td>False</td>\n",
       "      <td>False</td>\n",
       "    </tr>\n",
       "    <tr>\n",
       "      <th>9833</th>\n",
       "      <td>False</td>\n",
       "      <td>False</td>\n",
       "      <td>False</td>\n",
       "      <td>False</td>\n",
       "      <td>False</td>\n",
       "      <td>False</td>\n",
       "      <td>False</td>\n",
       "      <td>False</td>\n",
       "      <td>False</td>\n",
       "      <td>False</td>\n",
       "      <td>False</td>\n",
       "      <td>False</td>\n",
       "      <td>False</td>\n",
       "      <td>False</td>\n",
       "      <td>False</td>\n",
       "      <td>False</td>\n",
       "      <td>False</td>\n",
       "      <td>False</td>\n",
       "      <td>False</td>\n",
       "      <td>False</td>\n",
       "      <td>False</td>\n",
       "      <td>False</td>\n",
       "      <td>False</td>\n",
       "      <td>False</td>\n",
       "      <td>False</td>\n",
       "      <td>False</td>\n",
       "      <td>False</td>\n",
       "      <td>False</td>\n",
       "      <td>True</td>\n",
       "      <td>False</td>\n",
       "      <td>False</td>\n",
       "      <td>False</td>\n",
       "      <td>False</td>\n",
       "      <td>False</td>\n",
       "      <td>False</td>\n",
       "      <td>False</td>\n",
       "      <td>False</td>\n",
       "      <td>False</td>\n",
       "      <td>False</td>\n",
       "      <td>False</td>\n",
       "      <td>False</td>\n",
       "      <td>False</td>\n",
       "      <td>False</td>\n",
       "      <td>False</td>\n",
       "      <td>False</td>\n",
       "      <td>False</td>\n",
       "      <td>False</td>\n",
       "      <td>False</td>\n",
       "      <td>False</td>\n",
       "      <td>False</td>\n",
       "      <td>False</td>\n",
       "      <td>False</td>\n",
       "      <td>False</td>\n",
       "      <td>False</td>\n",
       "      <td>False</td>\n",
       "      <td>False</td>\n",
       "      <td>False</td>\n",
       "      <td>False</td>\n",
       "      <td>False</td>\n",
       "      <td>False</td>\n",
       "      <td>False</td>\n",
       "      <td>False</td>\n",
       "      <td>False</td>\n",
       "      <td>False</td>\n",
       "      <td>False</td>\n",
       "      <td>False</td>\n",
       "      <td>False</td>\n",
       "      <td>False</td>\n",
       "      <td>False</td>\n",
       "      <td>False</td>\n",
       "      <td>False</td>\n",
       "      <td>False</td>\n",
       "      <td>False</td>\n",
       "      <td>False</td>\n",
       "      <td>False</td>\n",
       "      <td>False</td>\n",
       "      <td>False</td>\n",
       "      <td>False</td>\n",
       "      <td>False</td>\n",
       "      <td>False</td>\n",
       "      <td>False</td>\n",
       "      <td>False</td>\n",
       "      <td>False</td>\n",
       "      <td>False</td>\n",
       "      <td>False</td>\n",
       "      <td>False</td>\n",
       "      <td>False</td>\n",
       "      <td>False</td>\n",
       "      <td>False</td>\n",
       "      <td>False</td>\n",
       "      <td>False</td>\n",
       "      <td>False</td>\n",
       "      <td>False</td>\n",
       "      <td>False</td>\n",
       "      <td>False</td>\n",
       "      <td>False</td>\n",
       "      <td>False</td>\n",
       "      <td>False</td>\n",
       "      <td>False</td>\n",
       "      <td>False</td>\n",
       "      <td>False</td>\n",
       "      <td>False</td>\n",
       "      <td>False</td>\n",
       "      <td>True</td>\n",
       "      <td>False</td>\n",
       "      <td>False</td>\n",
       "      <td>False</td>\n",
       "      <td>False</td>\n",
       "      <td>False</td>\n",
       "      <td>False</td>\n",
       "      <td>False</td>\n",
       "      <td>False</td>\n",
       "      <td>False</td>\n",
       "      <td>False</td>\n",
       "      <td>False</td>\n",
       "      <td>False</td>\n",
       "      <td>False</td>\n",
       "      <td>False</td>\n",
       "      <td>False</td>\n",
       "      <td>False</td>\n",
       "      <td>False</td>\n",
       "      <td>False</td>\n",
       "      <td>False</td>\n",
       "      <td>False</td>\n",
       "      <td>False</td>\n",
       "      <td>False</td>\n",
       "      <td>False</td>\n",
       "      <td>False</td>\n",
       "      <td>False</td>\n",
       "      <td>False</td>\n",
       "      <td>False</td>\n",
       "      <td>False</td>\n",
       "      <td>False</td>\n",
       "      <td>False</td>\n",
       "      <td>True</td>\n",
       "      <td>False</td>\n",
       "      <td>False</td>\n",
       "      <td>False</td>\n",
       "      <td>False</td>\n",
       "      <td>False</td>\n",
       "      <td>False</td>\n",
       "      <td>False</td>\n",
       "      <td>False</td>\n",
       "      <td>False</td>\n",
       "      <td>False</td>\n",
       "      <td>False</td>\n",
       "      <td>False</td>\n",
       "      <td>False</td>\n",
       "      <td>False</td>\n",
       "      <td>False</td>\n",
       "      <td>False</td>\n",
       "      <td>False</td>\n",
       "      <td>False</td>\n",
       "      <td>False</td>\n",
       "      <td>False</td>\n",
       "      <td>False</td>\n",
       "      <td>False</td>\n",
       "      <td>False</td>\n",
       "      <td>True</td>\n",
       "      <td>False</td>\n",
       "      <td>True</td>\n",
       "      <td>False</td>\n",
       "      <td>False</td>\n",
       "      <td>False</td>\n",
       "      <td>False</td>\n",
       "      <td>False</td>\n",
       "      <td>False</td>\n",
       "      <td>False</td>\n",
       "      <td>False</td>\n",
       "    </tr>\n",
       "  </tbody>\n",
       "</table>\n",
       "</div>"
      ],
      "text/plain": [
       "      Instant food products  UHT-milk  abrasive cleaner  artif. sweetener  \\\n",
       "9831                  False     False             False             False   \n",
       "9832                  False     False             False             False   \n",
       "9833                  False     False             False             False   \n",
       "\n",
       "      baby cosmetics  baby food   bags  baking powder  bathroom cleaner  \\\n",
       "9831           False      False  False          False             False   \n",
       "9832           False      False  False          False             False   \n",
       "9833           False      False  False          False             False   \n",
       "\n",
       "       beef  berries  beverages  bottled beer  bottled water  brandy  \\\n",
       "9831  False    False      False         False          False   False   \n",
       "9832  False    False      False          True           True   False   \n",
       "9833  False    False      False         False          False   False   \n",
       "\n",
       "      brown bread  butter  butter milk  cake bar  candles  candy  canned beer  \\\n",
       "9831        False    True        False     False    False  False        False   \n",
       "9832        False   False        False     False    False  False        False   \n",
       "9833        False   False        False     False    False  False        False   \n",
       "\n",
       "      canned fish  canned fruit  canned vegetables  cat food  cereals  \\\n",
       "9831        False         False              False     False    False   \n",
       "9832        False         False              False     False    False   \n",
       "9833        False         False              False     False    False   \n",
       "\n",
       "      chewing gum  chicken  chocolate  chocolate marshmallow  citrus fruit  \\\n",
       "9831        False     True      False                  False          True   \n",
       "9832        False    False      False                  False         False   \n",
       "9833        False     True      False                  False         False   \n",
       "\n",
       "      cleaner  cling film/bags  cocoa drinks  coffee  condensed milk  \\\n",
       "9831    False             True         False   False           False   \n",
       "9832    False            False         False   False           False   \n",
       "9833    False            False         False   False           False   \n",
       "\n",
       "      cooking chocolate  cookware  cream  cream cheese   curd  curd cheese  \\\n",
       "9831              False     False  False         False  False        False   \n",
       "9832              False     False  False         False  False        False   \n",
       "9833              False     False  False         False  False        False   \n",
       "\n",
       "      decalcifier  dental care  dessert  detergent  dish cleaner  dishes  \\\n",
       "9831        False        False    False      False         False   False   \n",
       "9832        False        False    False      False         False   False   \n",
       "9833        False        False    False      False         False   False   \n",
       "\n",
       "      dog food  domestic eggs  female sanitary products  finished products  \\\n",
       "9831     False           True                     False              False   \n",
       "9832     False          False                     False              False   \n",
       "9833     False          False                     False              False   \n",
       "\n",
       "       fish  flour  flower (seeds)  flower soil/fertilizer  frankfurter  \\\n",
       "9831  False  False           False                   False        False   \n",
       "9832  False  False           False                   False        False   \n",
       "9833  False  False           False                   False        False   \n",
       "\n",
       "      frozen chicken  frozen dessert  frozen fish  frozen fruits  \\\n",
       "9831           False            True        False          False   \n",
       "9832           False           False        False          False   \n",
       "9833           False           False        False          False   \n",
       "\n",
       "      frozen meals  frozen potato products  frozen vegetables  \\\n",
       "9831         False                   False              False   \n",
       "9832         False                   False              False   \n",
       "9833         False                   False              False   \n",
       "\n",
       "      fruit/vegetable juice  grapes  hair spray    ham  hamburger meat  \\\n",
       "9831                  False   False       False  False           False   \n",
       "9832                  False   False       False  False           False   \n",
       "9833                  False   False       False  False           False   \n",
       "\n",
       "      hard cheese  herbs  honey  house keeping products  hygiene articles  \\\n",
       "9831        False  False  False                   False             False   \n",
       "9832        False  False  False                   False             False   \n",
       "9833        False  False  False                   False             False   \n",
       "\n",
       "      ice cream  instant coffee    jam  ketchup  kitchen towels  \\\n",
       "9831      False           False  False    False           False   \n",
       "9832      False           False  False    False           False   \n",
       "9833      False           False  False    False           False   \n",
       "\n",
       "      kitchen utensil  light bulbs  liqueur  liquor  liquor (appetizer)  \\\n",
       "9831            False        False    False   False               False   \n",
       "9832            False        False    False   False               False   \n",
       "9833            False        False    False   False               False   \n",
       "\n",
       "      liver loaf  long life bakery product  make up remover  male cosmetics  \\\n",
       "9831       False                     False            False           False   \n",
       "9832       False                     False            False           False   \n",
       "9833       False                     False            False           False   \n",
       "\n",
       "      margarine  mayonnaise   meat  meat spreads  misc. beverages  mustard  \\\n",
       "9831      False       False  False         False            False    False   \n",
       "9832      False       False  False         False            False    False   \n",
       "9833      False       False  False         False            False    False   \n",
       "\n",
       "      napkins  newspapers  nut snack  nuts/prunes    oil  onions  \\\n",
       "9831    False       False      False        False  False   False   \n",
       "9832    False       False      False        False  False   False   \n",
       "9833    False       False      False        False  False   False   \n",
       "\n",
       "      organic products  organic sausage  other vegetables  \\\n",
       "9831             False            False              True   \n",
       "9832             False            False             False   \n",
       "9833             False            False              True   \n",
       "\n",
       "      packaged fruit/vegetables  pasta  pastry  pet care  photo/film  \\\n",
       "9831                      False  False   False     False       False   \n",
       "9832                      False  False   False     False       False   \n",
       "9833                      False  False   False     False       False   \n",
       "\n",
       "      pickled vegetables  pip fruit  popcorn   pork  potato products  \\\n",
       "9831               False      False    False  False            False   \n",
       "9832               False      False    False  False            False   \n",
       "9833               False      False    False  False            False   \n",
       "\n",
       "      potted plants  preservation products  processed cheese  prosecco  \\\n",
       "9831          False                  False             False     False   \n",
       "9832          False                  False             False     False   \n",
       "9833          False                  False             False     False   \n",
       "\n",
       "      pudding powder  ready soups  red/blush wine   rice  roll products  \\\n",
       "9831           False        False           False  False          False   \n",
       "9832           False        False           False  False          False   \n",
       "9833           False        False           False  False          False   \n",
       "\n",
       "      rolls/buns  root vegetables  rubbing alcohol    rum  salad dressing  \\\n",
       "9831        True            False            False   True           False   \n",
       "9832       False            False            False  False           False   \n",
       "9833       False            False            False  False           False   \n",
       "\n",
       "       salt  salty snack  sauces  sausage  seasonal products  \\\n",
       "9831  False        False   False    False              False   \n",
       "9832  False        False   False    False              False   \n",
       "9833  False        False   False    False              False   \n",
       "\n",
       "      semi-finished bread  shopping bags  skin care  sliced cheese  \\\n",
       "9831                False          False      False          False   \n",
       "9832                 True          False      False          False   \n",
       "9833                False           True      False          False   \n",
       "\n",
       "      snack products   soap   soda  soft cheese  softener  \\\n",
       "9831           False  False  False        False     False   \n",
       "9832           False  False   True        False     False   \n",
       "9833           False  False  False        False     False   \n",
       "\n",
       "      sound storage medium  soups  sparkling wine  specialty bar  \\\n",
       "9831                 False  False           False          False   \n",
       "9832                 False  False           False          False   \n",
       "9833                 False  False           False          False   \n",
       "\n",
       "      specialty cheese  specialty chocolate  specialty fat  \\\n",
       "9831             False                False          False   \n",
       "9832             False                False          False   \n",
       "9833             False                False          False   \n",
       "\n",
       "      specialty vegetables  spices  spread cheese  sugar  sweet spreads  \\\n",
       "9831                 False   False          False  False          False   \n",
       "9832                 False   False          False  False          False   \n",
       "9833                 False   False          False  False          False   \n",
       "\n",
       "      syrup    tea  tidbits  toilet cleaner  tropical fruit  turkey  vinegar  \\\n",
       "9831  False  False    False           False           False   False    False   \n",
       "9832  False  False    False           False           False   False    False   \n",
       "9833  False  False    False           False            True   False     True   \n",
       "\n",
       "      waffles  whipped/sour cream  whisky  white bread  white wine  \\\n",
       "9831    False               False   False        False       False   \n",
       "9832    False               False   False        False       False   \n",
       "9833    False               False   False        False       False   \n",
       "\n",
       "      whole milk  yogurt  zwieback  \n",
       "9831       False    True     False  \n",
       "9832       False   False     False  \n",
       "9833       False   False     False  "
      ]
     },
     "execution_count": 270,
     "metadata": {},
     "output_type": "execute_result"
    }
   ],
   "source": [
    "# 데이터 전처리 : Bool 형태 변환\n",
    "te = TransactionEncoder()\n",
    "te_ary = te.fit_transform(groceries)\n",
    "df = pd.DataFrame(te_ary, columns=te.columns_)\n",
    "print(df.shape)\n",
    "df.tail(3)"
   ]
  },
  {
   "cell_type": "code",
   "execution_count": 285,
   "id": "304147de",
   "metadata": {},
   "outputs": [
    {
     "data": {
      "text/html": [
       "<div>\n",
       "<style scoped>\n",
       "    .dataframe tbody tr th:only-of-type {\n",
       "        vertical-align: middle;\n",
       "    }\n",
       "\n",
       "    .dataframe tbody tr th {\n",
       "        vertical-align: top;\n",
       "    }\n",
       "\n",
       "    .dataframe thead th {\n",
       "        text-align: right;\n",
       "    }\n",
       "</style>\n",
       "<table border=\"1\" class=\"dataframe\">\n",
       "  <thead>\n",
       "    <tr style=\"text-align: right;\">\n",
       "      <th></th>\n",
       "      <th>antecedents</th>\n",
       "      <th>consequents</th>\n",
       "      <th>antecedent support</th>\n",
       "      <th>consequent support</th>\n",
       "      <th>support</th>\n",
       "      <th>confidence</th>\n",
       "      <th>lift</th>\n",
       "      <th>leverage</th>\n",
       "      <th>conviction</th>\n",
       "      <th>antecedents_len</th>\n",
       "    </tr>\n",
       "  </thead>\n",
       "  <tbody>\n",
       "    <tr>\n",
       "      <th>420</th>\n",
       "      <td>(citrus fruit, root vegetables)</td>\n",
       "      <td>(other vegetables)</td>\n",
       "      <td>0.02</td>\n",
       "      <td>0.19</td>\n",
       "      <td>0.01</td>\n",
       "      <td>0.59</td>\n",
       "      <td>3.03</td>\n",
       "      <td>0.01</td>\n",
       "      <td>1.95</td>\n",
       "      <td>2</td>\n",
       "    </tr>\n",
       "    <tr>\n",
       "      <th>492</th>\n",
       "      <td>(root vegetables, tropical fruit)</td>\n",
       "      <td>(other vegetables)</td>\n",
       "      <td>0.02</td>\n",
       "      <td>0.19</td>\n",
       "      <td>0.01</td>\n",
       "      <td>0.58</td>\n",
       "      <td>3.02</td>\n",
       "      <td>0.01</td>\n",
       "      <td>1.94</td>\n",
       "      <td>2</td>\n",
       "    </tr>\n",
       "  </tbody>\n",
       "</table>\n",
       "</div>"
      ],
      "text/plain": [
       "                           antecedents         consequents  \\\n",
       "420    (citrus fruit, root vegetables)  (other vegetables)   \n",
       "492  (root vegetables, tropical fruit)  (other vegetables)   \n",
       "\n",
       "     antecedent support  consequent support  support  confidence  lift  \\\n",
       "420                0.02                0.19     0.01        0.59  3.03   \n",
       "492                0.02                0.19     0.01        0.58  3.02   \n",
       "\n",
       "     leverage  conviction  antecedents_len  \n",
       "420      0.01        1.95                2  \n",
       "492      0.01        1.94                2  "
      ]
     },
     "execution_count": 285,
     "metadata": {},
     "output_type": "execute_result"
    }
   ],
   "source": [
    "# 최종 결과 데이터 : 지지도 0.01 이상\n",
    "from mlxtend.frequent_patterns import apriori, association_rules \n",
    "df_apriori = apriori(df, min_support=0.01, use_colnames=True)\n",
    "\n",
    "# 신뢰도 0.3 이상 \n",
    "association_rules(df_apriori, metric='confidence', min_threshold=0.3)\n",
    "\n",
    "\n",
    "# 규칙 길이 2개 이상, 신뢰도 0.4, 향상도 3 이상 \n",
    "rules = association_rules(df_apriori, metric='lift', min_threshold=1)\n",
    "rules['antecedents_len'] = rules['antecedents'].apply(lambda x: len(x))  # 규칙 길이 생성 \n",
    "\n",
    "rules[ (rules['antecedents_len'] >=2) & (rules['confidence'] >= 0.4) & (rules['lift'] >= 3)]"
   ]
  },
  {
   "cell_type": "code",
   "execution_count": null,
   "id": "ffb8ee5f",
   "metadata": {},
   "outputs": [],
   "source": [
    "### 3번 유형 : ADP R 로또 문제 "
   ]
  },
  {
   "cell_type": "code",
   "execution_count": 287,
   "id": "6c122933",
   "metadata": {},
   "outputs": [
    {
     "data": {
      "text/html": [
       "<div>\n",
       "<style scoped>\n",
       "    .dataframe tbody tr th:only-of-type {\n",
       "        vertical-align: middle;\n",
       "    }\n",
       "\n",
       "    .dataframe tbody tr th {\n",
       "        vertical-align: top;\n",
       "    }\n",
       "\n",
       "    .dataframe thead th {\n",
       "        text-align: right;\n",
       "    }\n",
       "</style>\n",
       "<table border=\"1\" class=\"dataframe\">\n",
       "  <thead>\n",
       "    <tr style=\"text-align: right;\">\n",
       "      <th></th>\n",
       "      <th>time_id</th>\n",
       "      <th>num1</th>\n",
       "      <th>num2</th>\n",
       "      <th>num3</th>\n",
       "      <th>num4</th>\n",
       "      <th>num5</th>\n",
       "      <th>num6</th>\n",
       "    </tr>\n",
       "  </thead>\n",
       "  <tbody>\n",
       "    <tr>\n",
       "      <th>856</th>\n",
       "      <td>3</td>\n",
       "      <td>11</td>\n",
       "      <td>16</td>\n",
       "      <td>19</td>\n",
       "      <td>21</td>\n",
       "      <td>27</td>\n",
       "      <td>31</td>\n",
       "    </tr>\n",
       "    <tr>\n",
       "      <th>857</th>\n",
       "      <td>2</td>\n",
       "      <td>9</td>\n",
       "      <td>13</td>\n",
       "      <td>21</td>\n",
       "      <td>25</td>\n",
       "      <td>32</td>\n",
       "      <td>42</td>\n",
       "    </tr>\n",
       "    <tr>\n",
       "      <th>858</th>\n",
       "      <td>1</td>\n",
       "      <td>10</td>\n",
       "      <td>23</td>\n",
       "      <td>29</td>\n",
       "      <td>33</td>\n",
       "      <td>37</td>\n",
       "      <td>40</td>\n",
       "    </tr>\n",
       "  </tbody>\n",
       "</table>\n",
       "</div>"
      ],
      "text/plain": [
       "     time_id  num1  num2  num3  num4  num5  num6\n",
       "856        3    11    16    19    21    27    31\n",
       "857        2     9    13    21    25    32    42\n",
       "858        1    10    23    29    33    37    40"
      ]
     },
     "execution_count": 287,
     "metadata": {},
     "output_type": "execute_result"
    }
   ],
   "source": [
    "lotto = pd.read_csv('datafiles/lotto.csv')\n",
    "lotto.tail(3)  # time_id는 제외, num1~num6이 회차별 로또 번호 "
   ]
  },
  {
   "cell_type": "code",
   "execution_count": 301,
   "id": "8f44701f",
   "metadata": {},
   "outputs": [
    {
     "data": {
      "text/html": [
       "<div>\n",
       "<style scoped>\n",
       "    .dataframe tbody tr th:only-of-type {\n",
       "        vertical-align: middle;\n",
       "    }\n",
       "\n",
       "    .dataframe tbody tr th {\n",
       "        vertical-align: top;\n",
       "    }\n",
       "\n",
       "    .dataframe thead th {\n",
       "        text-align: right;\n",
       "    }\n",
       "</style>\n",
       "<table border=\"1\" class=\"dataframe\">\n",
       "  <thead>\n",
       "    <tr style=\"text-align: right;\">\n",
       "      <th></th>\n",
       "      <th>1</th>\n",
       "      <th>2</th>\n",
       "      <th>3</th>\n",
       "      <th>4</th>\n",
       "      <th>5</th>\n",
       "      <th>6</th>\n",
       "      <th>7</th>\n",
       "      <th>8</th>\n",
       "      <th>9</th>\n",
       "      <th>10</th>\n",
       "      <th>11</th>\n",
       "      <th>12</th>\n",
       "      <th>13</th>\n",
       "      <th>14</th>\n",
       "      <th>15</th>\n",
       "      <th>16</th>\n",
       "      <th>17</th>\n",
       "      <th>18</th>\n",
       "      <th>19</th>\n",
       "      <th>20</th>\n",
       "      <th>21</th>\n",
       "      <th>22</th>\n",
       "      <th>23</th>\n",
       "      <th>24</th>\n",
       "      <th>25</th>\n",
       "      <th>26</th>\n",
       "      <th>27</th>\n",
       "      <th>28</th>\n",
       "      <th>29</th>\n",
       "      <th>30</th>\n",
       "      <th>31</th>\n",
       "      <th>32</th>\n",
       "      <th>33</th>\n",
       "      <th>34</th>\n",
       "      <th>35</th>\n",
       "      <th>36</th>\n",
       "      <th>37</th>\n",
       "      <th>38</th>\n",
       "      <th>39</th>\n",
       "      <th>40</th>\n",
       "      <th>41</th>\n",
       "      <th>42</th>\n",
       "      <th>43</th>\n",
       "      <th>44</th>\n",
       "      <th>45</th>\n",
       "    </tr>\n",
       "  </thead>\n",
       "  <tbody>\n",
       "    <tr>\n",
       "      <th>856</th>\n",
       "      <td>False</td>\n",
       "      <td>False</td>\n",
       "      <td>False</td>\n",
       "      <td>False</td>\n",
       "      <td>False</td>\n",
       "      <td>False</td>\n",
       "      <td>False</td>\n",
       "      <td>False</td>\n",
       "      <td>False</td>\n",
       "      <td>False</td>\n",
       "      <td>True</td>\n",
       "      <td>False</td>\n",
       "      <td>False</td>\n",
       "      <td>False</td>\n",
       "      <td>False</td>\n",
       "      <td>True</td>\n",
       "      <td>False</td>\n",
       "      <td>False</td>\n",
       "      <td>True</td>\n",
       "      <td>False</td>\n",
       "      <td>True</td>\n",
       "      <td>False</td>\n",
       "      <td>False</td>\n",
       "      <td>False</td>\n",
       "      <td>False</td>\n",
       "      <td>False</td>\n",
       "      <td>True</td>\n",
       "      <td>False</td>\n",
       "      <td>False</td>\n",
       "      <td>False</td>\n",
       "      <td>True</td>\n",
       "      <td>False</td>\n",
       "      <td>False</td>\n",
       "      <td>False</td>\n",
       "      <td>False</td>\n",
       "      <td>False</td>\n",
       "      <td>False</td>\n",
       "      <td>False</td>\n",
       "      <td>False</td>\n",
       "      <td>False</td>\n",
       "      <td>False</td>\n",
       "      <td>False</td>\n",
       "      <td>False</td>\n",
       "      <td>False</td>\n",
       "      <td>False</td>\n",
       "    </tr>\n",
       "    <tr>\n",
       "      <th>857</th>\n",
       "      <td>False</td>\n",
       "      <td>False</td>\n",
       "      <td>False</td>\n",
       "      <td>False</td>\n",
       "      <td>False</td>\n",
       "      <td>False</td>\n",
       "      <td>False</td>\n",
       "      <td>False</td>\n",
       "      <td>True</td>\n",
       "      <td>False</td>\n",
       "      <td>False</td>\n",
       "      <td>False</td>\n",
       "      <td>True</td>\n",
       "      <td>False</td>\n",
       "      <td>False</td>\n",
       "      <td>False</td>\n",
       "      <td>False</td>\n",
       "      <td>False</td>\n",
       "      <td>False</td>\n",
       "      <td>False</td>\n",
       "      <td>True</td>\n",
       "      <td>False</td>\n",
       "      <td>False</td>\n",
       "      <td>False</td>\n",
       "      <td>True</td>\n",
       "      <td>False</td>\n",
       "      <td>False</td>\n",
       "      <td>False</td>\n",
       "      <td>False</td>\n",
       "      <td>False</td>\n",
       "      <td>False</td>\n",
       "      <td>True</td>\n",
       "      <td>False</td>\n",
       "      <td>False</td>\n",
       "      <td>False</td>\n",
       "      <td>False</td>\n",
       "      <td>False</td>\n",
       "      <td>False</td>\n",
       "      <td>False</td>\n",
       "      <td>False</td>\n",
       "      <td>False</td>\n",
       "      <td>True</td>\n",
       "      <td>False</td>\n",
       "      <td>False</td>\n",
       "      <td>False</td>\n",
       "    </tr>\n",
       "    <tr>\n",
       "      <th>858</th>\n",
       "      <td>False</td>\n",
       "      <td>False</td>\n",
       "      <td>False</td>\n",
       "      <td>False</td>\n",
       "      <td>False</td>\n",
       "      <td>False</td>\n",
       "      <td>False</td>\n",
       "      <td>False</td>\n",
       "      <td>False</td>\n",
       "      <td>True</td>\n",
       "      <td>False</td>\n",
       "      <td>False</td>\n",
       "      <td>False</td>\n",
       "      <td>False</td>\n",
       "      <td>False</td>\n",
       "      <td>False</td>\n",
       "      <td>False</td>\n",
       "      <td>False</td>\n",
       "      <td>False</td>\n",
       "      <td>False</td>\n",
       "      <td>False</td>\n",
       "      <td>False</td>\n",
       "      <td>True</td>\n",
       "      <td>False</td>\n",
       "      <td>False</td>\n",
       "      <td>False</td>\n",
       "      <td>False</td>\n",
       "      <td>False</td>\n",
       "      <td>True</td>\n",
       "      <td>False</td>\n",
       "      <td>False</td>\n",
       "      <td>False</td>\n",
       "      <td>True</td>\n",
       "      <td>False</td>\n",
       "      <td>False</td>\n",
       "      <td>False</td>\n",
       "      <td>True</td>\n",
       "      <td>False</td>\n",
       "      <td>False</td>\n",
       "      <td>True</td>\n",
       "      <td>False</td>\n",
       "      <td>False</td>\n",
       "      <td>False</td>\n",
       "      <td>False</td>\n",
       "      <td>False</td>\n",
       "    </tr>\n",
       "  </tbody>\n",
       "</table>\n",
       "</div>"
      ],
      "text/plain": [
       "        1      2      3      4      5      6      7      8      9      10  \\\n",
       "856  False  False  False  False  False  False  False  False  False  False   \n",
       "857  False  False  False  False  False  False  False  False   True  False   \n",
       "858  False  False  False  False  False  False  False  False  False   True   \n",
       "\n",
       "        11     12     13     14     15     16     17     18     19     20  \\\n",
       "856   True  False  False  False  False   True  False  False   True  False   \n",
       "857  False  False   True  False  False  False  False  False  False  False   \n",
       "858  False  False  False  False  False  False  False  False  False  False   \n",
       "\n",
       "        21     22     23     24     25     26     27     28     29     30  \\\n",
       "856   True  False  False  False  False  False   True  False  False  False   \n",
       "857   True  False  False  False   True  False  False  False  False  False   \n",
       "858  False  False   True  False  False  False  False  False   True  False   \n",
       "\n",
       "        31     32     33     34     35     36     37     38     39     40  \\\n",
       "856   True  False  False  False  False  False  False  False  False  False   \n",
       "857  False   True  False  False  False  False  False  False  False  False   \n",
       "858  False  False   True  False  False  False   True  False  False   True   \n",
       "\n",
       "        41     42     43     44     45  \n",
       "856  False  False  False  False  False  \n",
       "857  False   True  False  False  False  \n",
       "858  False  False  False  False  False  "
      ]
     },
     "execution_count": 301,
     "metadata": {},
     "output_type": "execute_result"
    }
   ],
   "source": [
    "te = TransactionEncoder()\n",
    "te_ary = te.fit_transform(lotto.iloc[:,1:].values)  # values로 행렬 처리해야 제대로 변환됨 \n",
    "df = pd.DataFrame(te_ary, columns=te.columns_)\n",
    "df.tail(3)"
   ]
  },
  {
   "cell_type": "code",
   "execution_count": 306,
   "id": "d1ca69db",
   "metadata": {},
   "outputs": [
    {
     "data": {
      "text/html": [
       "<div>\n",
       "<style scoped>\n",
       "    .dataframe tbody tr th:only-of-type {\n",
       "        vertical-align: middle;\n",
       "    }\n",
       "\n",
       "    .dataframe tbody tr th {\n",
       "        vertical-align: top;\n",
       "    }\n",
       "\n",
       "    .dataframe thead th {\n",
       "        text-align: right;\n",
       "    }\n",
       "</style>\n",
       "<table border=\"1\" class=\"dataframe\">\n",
       "  <thead>\n",
       "    <tr style=\"text-align: right;\">\n",
       "      <th></th>\n",
       "      <th>support</th>\n",
       "      <th>itemsets</th>\n",
       "    </tr>\n",
       "  </thead>\n",
       "  <tbody>\n",
       "    <tr>\n",
       "      <th>0</th>\n",
       "      <td>0.16</td>\n",
       "      <td>(34)</td>\n",
       "    </tr>\n",
       "    <tr>\n",
       "      <th>1</th>\n",
       "      <td>0.15</td>\n",
       "      <td>(27)</td>\n",
       "    </tr>\n",
       "    <tr>\n",
       "      <th>2</th>\n",
       "      <td>0.15</td>\n",
       "      <td>(40)</td>\n",
       "    </tr>\n",
       "    <tr>\n",
       "      <th>3</th>\n",
       "      <td>0.15</td>\n",
       "      <td>(43)</td>\n",
       "    </tr>\n",
       "    <tr>\n",
       "      <th>4</th>\n",
       "      <td>0.14</td>\n",
       "      <td>(20)</td>\n",
       "    </tr>\n",
       "    <tr>\n",
       "      <th>5</th>\n",
       "      <td>0.14</td>\n",
       "      <td>(17)</td>\n",
       "    </tr>\n",
       "    <tr>\n",
       "      <th>6</th>\n",
       "      <td>0.14</td>\n",
       "      <td>(12)</td>\n",
       "    </tr>\n",
       "    <tr>\n",
       "      <th>7</th>\n",
       "      <td>0.14</td>\n",
       "      <td>(14)</td>\n",
       "    </tr>\n",
       "    <tr>\n",
       "      <th>8</th>\n",
       "      <td>0.14</td>\n",
       "      <td>(13)</td>\n",
       "    </tr>\n",
       "    <tr>\n",
       "      <th>9</th>\n",
       "      <td>0.14</td>\n",
       "      <td>(1)</td>\n",
       "    </tr>\n",
       "  </tbody>\n",
       "</table>\n",
       "</div>"
      ],
      "text/plain": [
       "   support itemsets\n",
       "0     0.16     (34)\n",
       "1     0.15     (27)\n",
       "2     0.15     (40)\n",
       "3     0.15     (43)\n",
       "4     0.14     (20)\n",
       "5     0.14     (17)\n",
       "6     0.14     (12)\n",
       "7     0.14     (14)\n",
       "8     0.14     (13)\n",
       "9     0.14      (1)"
      ]
     },
     "execution_count": 306,
     "metadata": {},
     "output_type": "execute_result"
    },
    {
     "data": {
      "image/png": "[encoded data removed]",
      "text/plain": [
       "<Figure size 432x288 with 1 Axes>"
      ]
     },
     "metadata": {
      "needs_background": "light"
     },
     "output_type": "display_data"
    }
   ],
   "source": [
    "#가장 빈번하게 나오는 번호\n",
    "from mlxtend.frequent_patterns import apriori, association_rules \n",
    "\n",
    "res = apriori(df, min_support=0.001, use_colnames=True).sort_values(by='support', ascending=False).iloc[:10]\n",
    "sns.barplot(x='support', y='itemsets', data=res)\n",
    "res.reset_index(drop=True)"
   ]
  },
  {
   "cell_type": "code",
   "execution_count": 309,
   "id": "7a91276a",
   "metadata": {},
   "outputs": [
    {
     "data": {
      "text/html": [
       "<div>\n",
       "<style scoped>\n",
       "    .dataframe tbody tr th:only-of-type {\n",
       "        vertical-align: middle;\n",
       "    }\n",
       "\n",
       "    .dataframe tbody tr th {\n",
       "        vertical-align: top;\n",
       "    }\n",
       "\n",
       "    .dataframe thead th {\n",
       "        text-align: right;\n",
       "    }\n",
       "</style>\n",
       "<table border=\"1\" class=\"dataframe\">\n",
       "  <thead>\n",
       "    <tr style=\"text-align: right;\">\n",
       "      <th></th>\n",
       "      <th>antecedents</th>\n",
       "      <th>consequents</th>\n",
       "      <th>antecedent support</th>\n",
       "      <th>consequent support</th>\n",
       "      <th>support</th>\n",
       "      <th>confidence</th>\n",
       "      <th>lift</th>\n",
       "      <th>leverage</th>\n",
       "      <th>conviction</th>\n",
       "      <th>antecedents_len</th>\n",
       "      <th>consequents_len</th>\n",
       "    </tr>\n",
       "  </thead>\n",
       "  <tbody>\n",
       "    <tr>\n",
       "      <th>254</th>\n",
       "      <td>(28, 7, 23)</td>\n",
       "      <td>(9)</td>\n",
       "      <td>0.00</td>\n",
       "      <td>0.10</td>\n",
       "      <td>0.00</td>\n",
       "      <td>1.00</td>\n",
       "      <td>9.65</td>\n",
       "      <td>0.00</td>\n",
       "      <td>inf</td>\n",
       "      <td>3</td>\n",
       "      <td>1</td>\n",
       "    </tr>\n",
       "    <tr>\n",
       "      <th>335</th>\n",
       "      <td>(32, 43, 38)</td>\n",
       "      <td>(9)</td>\n",
       "      <td>0.00</td>\n",
       "      <td>0.10</td>\n",
       "      <td>0.00</td>\n",
       "      <td>1.00</td>\n",
       "      <td>9.65</td>\n",
       "      <td>0.00</td>\n",
       "      <td>inf</td>\n",
       "      <td>3</td>\n",
       "      <td>1</td>\n",
       "    </tr>\n",
       "    <tr>\n",
       "      <th>324</th>\n",
       "      <td>(17, 14, 33)</td>\n",
       "      <td>(9)</td>\n",
       "      <td>0.00</td>\n",
       "      <td>0.10</td>\n",
       "      <td>0.00</td>\n",
       "      <td>1.00</td>\n",
       "      <td>9.65</td>\n",
       "      <td>0.00</td>\n",
       "      <td>inf</td>\n",
       "      <td>3</td>\n",
       "      <td>1</td>\n",
       "    </tr>\n",
       "    <tr>\n",
       "      <th>330</th>\n",
       "      <td>(18, 35, 23)</td>\n",
       "      <td>(9)</td>\n",
       "      <td>0.00</td>\n",
       "      <td>0.10</td>\n",
       "      <td>0.00</td>\n",
       "      <td>1.00</td>\n",
       "      <td>9.65</td>\n",
       "      <td>0.00</td>\n",
       "      <td>inf</td>\n",
       "      <td>3</td>\n",
       "      <td>1</td>\n",
       "    </tr>\n",
       "    <tr>\n",
       "      <th>591</th>\n",
       "      <td>(33, 36, 37)</td>\n",
       "      <td>(22)</td>\n",
       "      <td>0.00</td>\n",
       "      <td>0.11</td>\n",
       "      <td>0.00</td>\n",
       "      <td>1.00</td>\n",
       "      <td>9.34</td>\n",
       "      <td>0.00</td>\n",
       "      <td>inf</td>\n",
       "      <td>3</td>\n",
       "      <td>1</td>\n",
       "    </tr>\n",
       "  </tbody>\n",
       "</table>\n",
       "</div>"
      ],
      "text/plain": [
       "      antecedents consequents  antecedent support  consequent support  \\\n",
       "254   (28, 7, 23)         (9)                0.00                0.10   \n",
       "335  (32, 43, 38)         (9)                0.00                0.10   \n",
       "324  (17, 14, 33)         (9)                0.00                0.10   \n",
       "330  (18, 35, 23)         (9)                0.00                0.10   \n",
       "591  (33, 36, 37)        (22)                0.00                0.11   \n",
       "\n",
       "     support  confidence  lift  leverage  conviction  antecedents_len  \\\n",
       "254     0.00        1.00  9.65      0.00         inf                3   \n",
       "335     0.00        1.00  9.65      0.00         inf                3   \n",
       "324     0.00        1.00  9.65      0.00         inf                3   \n",
       "330     0.00        1.00  9.65      0.00         inf                3   \n",
       "591     0.00        1.00  9.34      0.00         inf                3   \n",
       "\n",
       "     consequents_len  \n",
       "254                1  \n",
       "335                1  \n",
       "324                1  \n",
       "330                1  \n",
       "591                1  "
      ]
     },
     "execution_count": 309,
     "metadata": {},
     "output_type": "execute_result"
    }
   ],
   "source": [
    "# 최소지지도 0.002, 최소신뢰도 0.8, 최소조합항목수 2~6개 (우측항이 한개 세트인 경우만 고르기)\n",
    "res = apriori(df, min_support=0.002, use_colnames=True)\n",
    "res = association_rules(res, metric=\"confidence\", min_threshold=0.8)\n",
    "\n",
    "res['antecedents_len'] = res['antecedents'].apply(lambda x: len(x))\n",
    "res['consequents_len'] = res['consequents'].apply(lambda x: len(x))\n",
    "#res['len'] = res['antecedents_len'] + res['consequents_len']\n",
    "res.query(\" consequents_len == 1 \").sort_values(by='lift', ascending=False).iloc[:5]"
   ]
  },
  {
   "cell_type": "code",
   "execution_count": 311,
   "id": "d65fc882",
   "metadata": {},
   "outputs": [
    {
     "data": {
      "text/html": [
       "<div>\n",
       "<style scoped>\n",
       "    .dataframe tbody tr th:only-of-type {\n",
       "        vertical-align: middle;\n",
       "    }\n",
       "\n",
       "    .dataframe tbody tr th {\n",
       "        vertical-align: top;\n",
       "    }\n",
       "\n",
       "    .dataframe thead th {\n",
       "        text-align: right;\n",
       "    }\n",
       "</style>\n",
       "<table border=\"1\" class=\"dataframe\">\n",
       "  <thead>\n",
       "    <tr style=\"text-align: right;\">\n",
       "      <th></th>\n",
       "      <th>antecedents</th>\n",
       "      <th>consequents</th>\n",
       "      <th>antecedent support</th>\n",
       "      <th>consequent support</th>\n",
       "      <th>support</th>\n",
       "      <th>confidence</th>\n",
       "      <th>lift</th>\n",
       "      <th>leverage</th>\n",
       "      <th>conviction</th>\n",
       "      <th>antecedents_len</th>\n",
       "      <th>consequents_len</th>\n",
       "    </tr>\n",
       "  </thead>\n",
       "  <tbody>\n",
       "    <tr>\n",
       "      <th>0</th>\n",
       "      <td>(1, 5, 13)</td>\n",
       "      <td>(34)</td>\n",
       "      <td>0.00</td>\n",
       "      <td>0.16</td>\n",
       "      <td>0.00</td>\n",
       "      <td>1.00</td>\n",
       "      <td>6.41</td>\n",
       "      <td>0.00</td>\n",
       "      <td>inf</td>\n",
       "      <td>3</td>\n",
       "      <td>1</td>\n",
       "    </tr>\n",
       "    <tr>\n",
       "      <th>1</th>\n",
       "      <td>(2, 4, 31)</td>\n",
       "      <td>(34)</td>\n",
       "      <td>0.00</td>\n",
       "      <td>0.16</td>\n",
       "      <td>0.00</td>\n",
       "      <td>1.00</td>\n",
       "      <td>6.41</td>\n",
       "      <td>0.00</td>\n",
       "      <td>inf</td>\n",
       "      <td>3</td>\n",
       "      <td>1</td>\n",
       "    </tr>\n",
       "    <tr>\n",
       "      <th>2</th>\n",
       "      <td>(2, 21, 15)</td>\n",
       "      <td>(34)</td>\n",
       "      <td>0.00</td>\n",
       "      <td>0.16</td>\n",
       "      <td>0.00</td>\n",
       "      <td>1.00</td>\n",
       "      <td>6.41</td>\n",
       "      <td>0.00</td>\n",
       "      <td>inf</td>\n",
       "      <td>3</td>\n",
       "      <td>1</td>\n",
       "    </tr>\n",
       "  </tbody>\n",
       "</table>\n",
       "</div>"
      ],
      "text/plain": [
       "   antecedents consequents  antecedent support  consequent support  support  \\\n",
       "0   (1, 5, 13)        (34)                0.00                0.16     0.00   \n",
       "1   (2, 4, 31)        (34)                0.00                0.16     0.00   \n",
       "2  (2, 21, 15)        (34)                0.00                0.16     0.00   \n",
       "\n",
       "   confidence  lift  leverage  conviction  antecedents_len  consequents_len  \n",
       "0        1.00  6.41      0.00         inf                3                1  \n",
       "1        1.00  6.41      0.00         inf                3                1  \n",
       "2        1.00  6.41      0.00         inf                3                1  "
      ]
     },
     "execution_count": 311,
     "metadata": {},
     "output_type": "execute_result"
    }
   ],
   "source": [
    "# 34가 우측항에 존재하는 규칙만 추출 : frozenset 형식 유의할 것 \n",
    "res.loc[res['consequents'] == frozenset({34})].reset_index(drop=True).head(3)"
   ]
  },
  {
   "cell_type": "code",
   "execution_count": 312,
   "id": "d4ab421b",
   "metadata": {},
   "outputs": [
    {
     "data": {
      "text/html": [
       "<div>\n",
       "<style scoped>\n",
       "    .dataframe tbody tr th:only-of-type {\n",
       "        vertical-align: middle;\n",
       "    }\n",
       "\n",
       "    .dataframe tbody tr th {\n",
       "        vertical-align: top;\n",
       "    }\n",
       "\n",
       "    .dataframe thead th {\n",
       "        text-align: right;\n",
       "    }\n",
       "</style>\n",
       "<table border=\"1\" class=\"dataframe\">\n",
       "  <thead>\n",
       "    <tr style=\"text-align: right;\">\n",
       "      <th></th>\n",
       "      <th>antecedents</th>\n",
       "      <th>consequents</th>\n",
       "      <th>antecedent support</th>\n",
       "      <th>consequent support</th>\n",
       "      <th>support</th>\n",
       "      <th>confidence</th>\n",
       "      <th>lift</th>\n",
       "      <th>leverage</th>\n",
       "      <th>conviction</th>\n",
       "      <th>antecedents_len</th>\n",
       "      <th>consequents_len</th>\n",
       "    </tr>\n",
       "  </thead>\n",
       "  <tbody>\n",
       "    <tr>\n",
       "      <th>0</th>\n",
       "      <td>(1, 5, 13)</td>\n",
       "      <td>(34)</td>\n",
       "      <td>0.00</td>\n",
       "      <td>0.16</td>\n",
       "      <td>0.00</td>\n",
       "      <td>1.00</td>\n",
       "      <td>6.41</td>\n",
       "      <td>0.00</td>\n",
       "      <td>inf</td>\n",
       "      <td>3</td>\n",
       "      <td>1</td>\n",
       "    </tr>\n",
       "  </tbody>\n",
       "</table>\n",
       "</div>"
      ],
      "text/plain": [
       "  antecedents consequents  antecedent support  consequent support  support  \\\n",
       "0  (1, 5, 13)        (34)                0.00                0.16     0.00   \n",
       "\n",
       "   confidence  lift  leverage  conviction  antecedents_len  consequents_len  \n",
       "0        1.00  6.41      0.00         inf                3                1  "
      ]
     },
     "execution_count": 312,
     "metadata": {},
     "output_type": "execute_result"
    }
   ],
   "source": [
    "# 1,5,13가 좌측항에 존재하는 규칙만 추출 : frozenset 형식 유의할 것 \n",
    "res.loc[res['antecedents'] == frozenset({1,5,13})].reset_index(drop=True)"
   ]
  },
  {
   "cell_type": "code",
   "execution_count": null,
   "id": "908a79b7",
   "metadata": {},
   "outputs": [],
   "source": []
  }
 ],
 "metadata": {
  "kernelspec": {
   "display_name": "Python 3",
   "language": "python",
   "name": "python3"
  },
  "language_info": {
   "codemirror_mode": {
    "name": "ipython",
    "version": 3
   },
   "file_extension": ".py",
   "mimetype": "text/x-python",
   "name": "python",
   "nbconvert_exporter": "python",
   "pygments_lexer": "ipython3",
   "version": "3.8.8"
  }
 },
 "nbformat": 4,
 "nbformat_minor": 5
}
