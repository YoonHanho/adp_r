{
 "cells": [
  {
   "cell_type": "code",
   "execution_count": 1,
   "id": "7da81e06",
   "metadata": {},
   "outputs": [],
   "source": [
    "# https://wonhwa.tistory.com/m/24\n",
    "# https://github.com/lovit/customized_konlpy\n",
    "# https://wikidocs.net/92961\n",
    "\n",
    "# 데이터사이언스 스쿨 \n",
    "# - https://datascienceschool.net/03%20machine%20learning/03.01.02%20KoNLPy%20%ED%95%9C%EA%B5%AD%EC%96%B4%20%EC%B2%98%EB%A6%AC%20%ED%8C%A8%ED%82%A4%EC%A7%80.html\n",
    "# - https://datascienceschool.net/03%20machine%20learning/03.01.03%20Scikit-Learn%EC%9D%98%20%EB%AC%B8%EC%84%9C%20%EC%A0%84%EC%B2%98%EB%A6%AC%20%EA%B8%B0%EB%8A%A5.html\n",
    "\n",
    "# 하모니스트 박종성 흔적 "
   ]
  },
  {
   "cell_type": "code",
   "execution_count": 3,
   "id": "e61958bd",
   "metadata": {},
   "outputs": [],
   "source": [
    "from konlpy.tag import Kkma, Komoran, Okt, Hannanum \n",
    "\n",
    "okt = Okt()\n",
    "kkma = Kkma()\n",
    "komoran = Komoran()\n",
    "hannanum = Hannanum()"
   ]
  },
  {
   "cell_type": "code",
   "execution_count": 4,
   "id": "825be072",
   "metadata": {},
   "outputs": [],
   "source": [
    "text = '나랏말이 중국과 달라 한자와 서로 통하지 아니하므로, \\\n",
    "    우매한 백성들이 말하고 싶은 것이 있어도 마침내 제 뜻을 잘 표현하지 못하는 사람이 많다.\\\n",
    "    내 이를 딱하게 여기어 새로 스물여덟 자를 만들었으니, \\\n",
    "    사람들로 하여금 쉬 익히어 날마다 쓰는 데 편하게 할 뿐이다.'"
   ]
  },
  {
   "cell_type": "markdown",
   "id": "2ca2b48f",
   "metadata": {},
   "source": [
    "morphs로 형태소 분석"
   ]
  },
  {
   "cell_type": "code",
   "execution_count": 9,
   "id": "1b0ad15e",
   "metadata": {},
   "outputs": [
    {
     "name": "stdout",
     "output_type": "stream",
     "text": [
      "['나랏말', '이', '중국', '과', '달라', '한자', '와', '서로', '통', '하지', '아니하므로', ',', '우매', '한', '백성', '들', '이', '말', '하고', '싶은', '것', '이', '있어도', '마침내', '제', '뜻', '을', '잘', '표현', '하지', '못', '하는', '사람', '이', '많다', '.', '내', '이를', '딱하게', '여기어', '새로', '스물', '여덟', '자를', '만들었으니', ',', '사람', '들', '로', '하여금', '쉬', '익히어', '날', '마다', '쓰는', '데', '편하게', '할', '뿐', '이다', '.'] \n",
      "OKT\n",
      "\n",
      "['나랏말', '이', '중국', '과', '닿', 'ㄹ라', '한자', '와', '서로', '통하', '지', '아니하', '므로', ',', '우매', '하', 'ㄴ', '백성', '들', '이', '말하', '고', '싶', '은', '것', '이', '있', '어도', '마침내', '저', '의', '뜻', '을', '잘', '표현', '하', '지', '못하', '는', '사람', '이', '많', '다', '.', '내', '이르', 'ㄹ', '딱하', '게', '여기', '어', '새로', '스물', '여덟', '자', '를', '만들', '었', '으니', ',', '사람', '들', '로', '하여금', '쉬', '익히', '어', '날', '마다', '쓰', '는', '데', '편하', '게', '하', 'ㄹ', '뿐', '이', '다', '.'] \n",
      "Kkma\n",
      "\n",
      "['나랏말이', '중국', '과', '다르', '아', '한자', '와', '서로', '통하', '지', '아니하', '므로', ',', '우매', '하', 'ㄴ', '백성', '들', '이', '말', '하', '고', '싶', '은', '것', '이', '있', '어도', '마침내', '제', '뜻', '을', '잘', '표현', '하', '지', '못하', '는', '사람', '이', '많', '다', '.', '내', '이', '를', '딱하', '게', '여기', '어', '새로', '스물', '여덟', '자', '를', '만들', '었', '으니', ',', '사람', '들', '로', '하여금', '쉬', '익히', '어', '날', '마다', '쓰', '는', '데', '편하', '게', '하', 'ㄹ', '뿐', '이', '다', '.'] \n",
      "Komoran\n",
      "\n",
      "['나랏말', '이', '중국', '과', '다르', '아', '하', 'ㄴ', '자', '와', '서로', '통하', '지', '아니하', '므로', ',', '우매', '하', 'ㄴ', '백성들', '이', '말', '하고', '싶', '은', '것', '이', '있', '어도', '마침내', '저', '의', '뜻', '을', '잘', '표현', '하', '지', '못하', '는', '사람', '이', '많', '다', '.', '내', '이', '를', '딱하', '게', '여기', '이', '어', '새로', '스물여덟', '자', '를', '만들', '었으니', ',', '사람들', '로', '하여금', '쉬', '익히', '어', '날마다', '쓰', '는', '데', '편하', '게', '하', 'ㄹ', '뿐', '이', '다', '.'] \n",
      "Hannanum\n"
     ]
    }
   ],
   "source": [
    "print(okt.morphs(text), '\\nOKT\\n')\n",
    "print(kkma.morphs(text), '\\nKkma\\n')\n",
    "print(komoran.morphs(text), '\\nKomoran\\n')\n",
    "print(hannanum.morphs(text), '\\nHannanum')"
   ]
  },
  {
   "cell_type": "code",
   "execution_count": 10,
   "id": "1c7ca0d4",
   "metadata": {},
   "outputs": [
    {
     "name": "stdout",
     "output_type": "stream",
     "text": [
      "['나랏말', '이', '중국', '과', '달라', '한자', '와', '서로', '통', '하다', '아니다', ',', '우매', '한', '백성', '들', '이', '말', '하고', '싶다', '것', '이', '있다', '마침내', '제', '뜻', '을', '자다', '표현', '하다', '못', '하다', '사람', '이', '많다', '.', '내', '이르다', '딱하다', '여기다', '새롭다', '스물', '여덟', '자르다', '만들다', ',', '사람', '들', '로', '하여금', '쉬', '익히다', '날', '마다', '쓰다', '데', '편하다', '하다', '뿐', '이다', '.']\n"
     ]
    }
   ],
   "source": [
    "# Okt 어간추출 옵션 \n",
    "print(okt.morphs(text, stem=True))"
   ]
  },
  {
   "cell_type": "markdown",
   "id": "613e3767",
   "metadata": {},
   "source": [
    "결과 : 아니하므로 -> 아니하다, 딱하게 -> 딱하다 "
   ]
  },
  {
   "cell_type": "markdown",
   "id": "ff93d9af",
   "metadata": {},
   "source": [
    "명사추출 "
   ]
  },
  {
   "cell_type": "code",
   "execution_count": 11,
   "id": "9ba61e37",
   "metadata": {},
   "outputs": [
    {
     "name": "stdout",
     "output_type": "stream",
     "text": [
      "['나랏말', '중국', '달라', '한자', '서로', '통', '우매', '백성', '말', '것', '마침내', '제', '뜻', '표현', '사람', '내', '스물', '여덟', '사람', '쉬', '날', '데', '뿐'] \n",
      "OKT\n",
      "\n",
      "['나랏말', '중국', '한자', '우매', '백성', '저', '뜻', '표현', '사람', '내', '스물', '스물여덟', '여덟', '자', '로', '날', '데', '뿐'] \n",
      "Kkma\n",
      "\n",
      "['중국', '한자', '우매', '백성', '말', '것', '뜻', '표현', '사람', '자', '사람', '날', '데', '뿐'] \n",
      "Komoran\n",
      "\n",
      "['나랏말', '중국', '자', '우매', '백성들', '말', '것', '저', '뜻', '표현', '사람', '내', '이', '여기', '스물여덟', '자', '사람들', '데', '뿐'] \n",
      "Hannanum\n"
     ]
    }
   ],
   "source": [
    "print(okt.nouns(text), '\\nOKT\\n')\n",
    "print(kkma.nouns(text), '\\nKkma\\n')\n",
    "print(komoran.nouns(text), '\\nKomoran\\n')\n",
    "print(hannanum.nouns(text), '\\nHannanum')"
   ]
  },
  {
   "cell_type": "markdown",
   "id": "11332c59",
   "metadata": {},
   "source": [
    "어절 추출 (Okt만 지원)"
   ]
  },
  {
   "cell_type": "code",
   "execution_count": 13,
   "id": "b1ff7949",
   "metadata": {},
   "outputs": [
    {
     "name": "stdout",
     "output_type": "stream",
     "text": [
      "['나랏말', '중국', '중국과 달라', '중국과 달라 한자', '중국과 달라 한자와 서로', '중국과 달라 한자와 서로 통', '우매', '백성들', '마침내', '마침내 제', '마침내 제 뜻', '표현', '못하는 사람', '스물여덟', '사람들', '달라', '한자', '서로', '사람', '스물', '여덟']\n"
     ]
    }
   ],
   "source": [
    "print(okt.phrases(text))"
   ]
  },
  {
   "cell_type": "markdown",
   "id": "33ddd75d",
   "metadata": {},
   "source": [
    "품사 태깅 : 명사/조사/동사 등 구분하여 붙여줌 "
   ]
  },
  {
   "cell_type": "code",
   "execution_count": 14,
   "id": "6acccbaa",
   "metadata": {},
   "outputs": [
    {
     "name": "stdout",
     "output_type": "stream",
     "text": [
      "[('나랏말', 'Noun'), ('이', 'Josa'), ('중국', 'Noun'), ('과', 'Josa'), ('달라', 'Noun'), ('한자', 'Noun'), ('와', 'Josa'), ('서로', 'Noun'), ('통', 'Noun'), ('하지', 'Verb'), ('아니하므로', 'Adjective'), (',', 'Punctuation'), ('우매', 'Noun'), ('한', 'Josa'), ('백성', 'Noun'), ('들', 'Suffix'), ('이', 'Josa'), ('말', 'Noun'), ('하고', 'Josa'), ('싶은', 'Verb'), ('것', 'Noun'), ('이', 'Josa'), ('있어도', 'Adjective'), ('마침내', 'Noun'), ('제', 'Noun'), ('뜻', 'Noun'), ('을', 'Josa'), ('잘', 'Verb'), ('표현', 'Noun'), ('하지', 'Verb'), ('못', 'VerbPrefix'), ('하는', 'Verb'), ('사람', 'Noun'), ('이', 'Josa'), ('많다', 'Adjective'), ('.', 'Punctuation'), ('내', 'Noun'), ('이를', 'Verb'), ('딱하게', 'Adjective'), ('여기어', 'Verb'), ('새로', 'Adjective'), ('스물', 'Noun'), ('여덟', 'Noun'), ('자를', 'Verb'), ('만들었으니', 'Verb'), (',', 'Punctuation'), ('사람', 'Noun'), ('들', 'Suffix'), ('로', 'Josa'), ('하여금', 'Adverb'), ('쉬', 'Noun'), ('익히어', 'Verb'), ('날', 'Noun'), ('마다', 'Josa'), ('쓰는', 'Verb'), ('데', 'Noun'), ('편하게', 'Adjective'), ('할', 'Verb'), ('뿐', 'Noun'), ('이다', 'Josa'), ('.', 'Punctuation')] \n",
      "OKT\n",
      "\n",
      "[('나랏말', 'UN'), ('이', 'JKS'), ('중국', 'NNG'), ('과', 'JKM'), ('닿', 'VV'), ('ㄹ라', 'ECD'), ('한자', 'NNG'), ('와', 'JKM'), ('서로', 'MAG'), ('통하', 'VV'), ('지', 'ECD'), ('아니하', 'VXV'), ('므로', 'ECD'), (',', 'SP'), ('우매', 'NNG'), ('하', 'XSV'), ('ㄴ', 'ETD'), ('백성', 'NNG'), ('들', 'XSN'), ('이', 'JKS'), ('말하', 'VV'), ('고', 'ECE'), ('싶', 'VXA'), ('은', 'ETD'), ('것', 'NNB'), ('이', 'JKS'), ('있', 'VV'), ('어도', 'ECD'), ('마침내', 'MAG'), ('저', 'NP'), ('의', 'JKG'), ('뜻', 'NNG'), ('을', 'JKO'), ('잘', 'MAG'), ('표현', 'NNG'), ('하', 'XSV'), ('지', 'ECD'), ('못하', 'VX'), ('는', 'ETD'), ('사람', 'NNG'), ('이', 'JKS'), ('많', 'VA'), ('다', 'EFN'), ('.', 'SF'), ('내', 'NP'), ('이르', 'VV'), ('ㄹ', 'ETD'), ('딱하', 'VA'), ('게', 'ECD'), ('여기', 'VV'), ('어', 'ECD'), ('새로', 'MAG'), ('스물', 'NR'), ('여덟', 'NR'), ('자', 'NNG'), ('를', 'JKO'), ('만들', 'VV'), ('었', 'EPT'), ('으니', 'ECD'), (',', 'SP'), ('사람', 'NNG'), ('들', 'XSN'), ('로', 'NNG'), ('하여금', 'MAG'), ('쉬', 'MAG'), ('익히', 'VV'), ('어', 'ECD'), ('날', 'NNG'), ('마다', 'JX'), ('쓰', 'VV'), ('는', 'ETD'), ('데', 'NNB'), ('편하', 'VA'), ('게', 'ECD'), ('하', 'VV'), ('ㄹ', 'ETD'), ('뿐', 'NNB'), ('이', 'VCP'), ('다', 'EFN'), ('.', 'SF')] \n",
      "Kkma\n",
      "\n",
      "[('나랏말이', 'NA'), ('중국', 'NNP'), ('과', 'JC'), ('다르', 'VA'), ('아', 'EC'), ('한자', 'NNG'), ('와', 'JC'), ('서로', 'MAG'), ('통하', 'VV'), ('지', 'EC'), ('아니하', 'VX'), ('므로', 'EC'), (',', 'SP'), ('우매', 'NNG'), ('하', 'XSV'), ('ㄴ', 'ETM'), ('백성', 'NNG'), ('들', 'XSN'), ('이', 'JKS'), ('말', 'NNG'), ('하', 'XSV'), ('고', 'EC'), ('싶', 'VX'), ('은', 'ETM'), ('것', 'NNB'), ('이', 'JKS'), ('있', 'VV'), ('어도', 'EC'), ('마침내', 'MAG'), ('제', 'XPN'), ('뜻', 'NNG'), ('을', 'JKO'), ('잘', 'MAG'), ('표현', 'NNG'), ('하', 'XSV'), ('지', 'EC'), ('못하', 'VX'), ('는', 'ETM'), ('사람', 'NNG'), ('이', 'JKS'), ('많', 'VA'), ('다', 'EF'), ('.', 'SF'), ('내', 'NP'), ('이', 'NP'), ('를', 'JKO'), ('딱하', 'VA'), ('게', 'EC'), ('여기', 'VV'), ('어', 'EC'), ('새로', 'MAG'), ('스물', 'NR'), ('여덟', 'NR'), ('자', 'NNB'), ('를', 'JKO'), ('만들', 'VV'), ('었', 'EP'), ('으니', 'EC'), (',', 'SP'), ('사람', 'NNG'), ('들', 'XSN'), ('로', 'JKB'), ('하여금', 'MAG'), ('쉬', 'MAG'), ('익히', 'VV'), ('어', 'EC'), ('날', 'NNG'), ('마다', 'JX'), ('쓰', 'VV'), ('는', 'ETM'), ('데', 'NNB'), ('편하', 'VA'), ('게', 'EC'), ('하', 'VV'), ('ㄹ', 'ETM'), ('뿐', 'NNB'), ('이', 'VCP'), ('다', 'EF'), ('.', 'SF')] \n",
      "Komoran\n",
      "\n",
      "[('나랏말', 'N'), ('이', 'J'), ('중국', 'N'), ('과', 'J'), ('다르', 'P'), ('아', 'E'), ('하', 'P'), ('ㄴ', 'E'), ('자', 'N'), ('와', 'J'), ('서로', 'M'), ('통하', 'P'), ('지', 'E'), ('아니하', 'P'), ('므로', 'E'), (',', 'S'), ('우매', 'N'), ('하', 'X'), ('ㄴ', 'E'), ('백성들', 'N'), ('이', 'J'), ('말', 'N'), ('하고', 'J'), ('싶', 'P'), ('은', 'E'), ('것', 'N'), ('이', 'J'), ('있', 'P'), ('어도', 'E'), ('마침내', 'M'), ('저', 'N'), ('의', 'J'), ('뜻', 'N'), ('을', 'J'), ('잘', 'M'), ('표현', 'N'), ('하', 'X'), ('지', 'E'), ('못하', 'P'), ('는', 'E'), ('사람', 'N'), ('이', 'J'), ('많', 'P'), ('다', 'E'), ('.', 'S'), ('내', 'N'), ('이', 'N'), ('를', 'J'), ('딱하', 'P'), ('게', 'E'), ('여기', 'N'), ('이', 'J'), ('어', 'E'), ('새로', 'M'), ('스물여덟', 'N'), ('자', 'N'), ('를', 'J'), ('만들', 'P'), ('었으니', 'E'), (',', 'S'), ('사람들', 'N'), ('로', 'J'), ('하여금', 'M'), ('쉬', 'M'), ('익히', 'P'), ('어', 'E'), ('날마다', 'M'), ('쓰', 'P'), ('는', 'E'), ('데', 'N'), ('편하', 'P'), ('게', 'E'), ('하', 'P'), ('ㄹ', 'E'), ('뿐', 'N'), ('이', 'J'), ('다', 'E'), ('.', 'S')] \n",
      "Hannanum\n"
     ]
    }
   ],
   "source": [
    "print(okt.pos(text), '\\nOKT\\n')\n",
    "print(kkma.pos(text), '\\nKkma\\n')\n",
    "print(komoran.pos(text), '\\nKomoran\\n')\n",
    "print(hannanum.pos(text), '\\nHannanum')"
   ]
  },
  {
   "cell_type": "code",
   "execution_count": null,
   "id": "326310da",
   "metadata": {},
   "outputs": [],
   "source": []
  },
  {
   "cell_type": "markdown",
   "id": "3237275c",
   "metadata": {},
   "source": [
    "### 이외 패키지 "
   ]
  },
  {
   "cell_type": "markdown",
   "id": "064f8965",
   "metadata": {},
   "source": [
    "PyKoSpacing : 띄어쓰지 않은 문장 처리"
   ]
  },
  {
   "cell_type": "code",
   "execution_count": 27,
   "id": "a5289e34",
   "metadata": {
    "scrolled": true
   },
   "outputs": [],
   "source": [
    "#!pip install git+https://github.com/haven-jeon/PyKoSpacing.git"
   ]
  },
  {
   "cell_type": "code",
   "execution_count": 17,
   "id": "5647589d",
   "metadata": {},
   "outputs": [
    {
     "name": "stdout",
     "output_type": "stream",
     "text": [
      "김철수는극중두인격의사나이이광수역을맡았다.철수는한국유일의태권도전승자를가리는결전의날을앞두고10년간함께훈련한사형인유연재(김광수분)를찾으러속세로내려온인물이다.\n"
     ]
    }
   ],
   "source": [
    "sent = '김철수는 극중 두 인격의 사나이 이광수 역을 맡았다. 철수는 한국 유일의 태권도 전승자를 가리는 결전의 날을 앞두고 10년간 함께 훈련한 사형인 유연재(김광수 분)를 찾으러 속세로 내려온 인물이다.'\n",
    "new_sent = sent.replace(\" \", '') # 띄어쓰기가 없는 문장 임의로 만들기\n",
    "print(new_sent)"
   ]
  },
  {
   "cell_type": "code",
   "execution_count": 18,
   "id": "6d016fe0",
   "metadata": {},
   "outputs": [
    {
     "name": "stdout",
     "output_type": "stream",
     "text": [
      "김철수는 극중 두 인격의 사나이 이광수 역을 맡았다. 철수는 한국 유일의 태권도 전승자를 가리는 결전의 날을 앞두고 10년간 함께 훈련한 사형인 유연재(김광수 분)를 찾으러 속세로 내려온 인물이다.\n",
      "김철수는 극중 두 인격의 사나이 이광수 역을 맡았다. 철수는 한국 유일의 태권도 전승자를 가리는 결전의 날을 앞두고 10년간 함께 훈련한 사형인 유연재(김광수 분)를 찾으러 속세로 내려온 인물이다.\n"
     ]
    }
   ],
   "source": [
    "from pykospacing import Spacing\n",
    "spacing = Spacing()\n",
    "kospacing_sent = spacing(new_sent) \n",
    "\n",
    "print(sent)\n",
    "print(kospacing_sent)"
   ]
  },
  {
   "cell_type": "code",
   "execution_count": 23,
   "id": "a1613d6a",
   "metadata": {},
   "outputs": [
    {
     "name": "stdout",
     "output_type": "stream",
     "text": [
      "['김철수', '중', '인격', '사나이', '이광수', '역', '철수', '한국', '유일', '태권도', '승자', '결전', '날', '김광수', '를', '세로', '인물']\n"
     ]
    }
   ],
   "source": [
    "print(okt.nouns(new_sent))"
   ]
  },
  {
   "cell_type": "code",
   "execution_count": 22,
   "id": "f55804ce",
   "metadata": {},
   "outputs": [
    {
     "name": "stdout",
     "output_type": "stream",
     "text": [
      "['김철수', '중', '두', '인격', '사나이', '이광수', '역', '철수', '한국', '유일', '태권도', '승자', '결전', '날', '훈련', '사형', '유', '연재', '김광수', '분', '를', '속세', '인물']\n"
     ]
    }
   ],
   "source": [
    "print(okt.nouns(kospacing_sent))"
   ]
  },
  {
   "cell_type": "markdown",
   "id": "a47f8a88",
   "metadata": {},
   "source": [
    "Py-Hanspell : 맞춤법 검사기"
   ]
  },
  {
   "cell_type": "code",
   "execution_count": 26,
   "id": "4c4abf9e",
   "metadata": {
    "scrolled": true
   },
   "outputs": [],
   "source": [
    "#!pip install git+https://github.com/ssut/py-hanspell.git"
   ]
  },
  {
   "cell_type": "code",
   "execution_count": 25,
   "id": "ef3d8e5d",
   "metadata": {},
   "outputs": [
    {
     "name": "stdout",
     "output_type": "stream",
     "text": [
      "맞춤법 틀리면 왜 안돼? 쓰고 싶은 대로 쓰면 되지\n"
     ]
    }
   ],
   "source": [
    "from hanspell import spell_checker\n",
    "\n",
    "sent = \"맞춤법 틀리면 외 않되? 쓰고싶은대로쓰면돼지 \"\n",
    "spelled_sent = spell_checker.check(sent)\n",
    "\n",
    "hanspell_sent = spelled_sent.checked\n",
    "print(hanspell_sent)"
   ]
  },
  {
   "cell_type": "code",
   "execution_count": 81,
   "id": "16d100c5",
   "metadata": {},
   "outputs": [
    {
     "name": "stdout",
     "output_type": "stream",
     "text": [
      "그럼 월 금 이틀 중 하루 선택하라고 이멜 보내겠습니다\n"
     ]
    }
   ],
   "source": [
    "sent = \"그럼 월 금 2틀 중 하루 선택하라고 이멜 보내겠습니당\"  # 득환 선임님 ㅋㅋ\n",
    "spelled_sent = spell_checker.check(sent)\n",
    "\n",
    "hanspell_sent = spelled_sent.checked\n",
    "print(hanspell_sent)"
   ]
  },
  {
   "cell_type": "markdown",
   "id": "42045919",
   "metadata": {},
   "source": [
    "soynlpy : 학습기반 "
   ]
  },
  {
   "cell_type": "code",
   "execution_count": 28,
   "id": "5b44f2aa",
   "metadata": {},
   "outputs": [
    {
     "name": "stdout",
     "output_type": "stream",
     "text": [
      "['에이', '비식스', '이대', '휘', '1월', '최애', '돌', '기부', '요정']\n"
     ]
    }
   ],
   "source": [
    "# 신조어 학습 문제 \n",
    "from konlpy.tag import Okt\n",
    "tokenizer = Okt()\n",
    "print(tokenizer.morphs('에이비식스 이대휘 1월 최애돌 기부 요정'))"
   ]
  },
  {
   "cell_type": "code",
   "execution_count": 30,
   "id": "d7836135",
   "metadata": {},
   "outputs": [
    {
     "name": "stdout",
     "output_type": "stream",
     "text": [
      "training was done. used memory 2.279 Gb\n",
      "all cohesion probabilities was computed. # words = 223348\n",
      "all branching entropies was computed # words = 361598\n",
      "all accessor variety was computed # words = 361598\n"
     ]
    }
   ],
   "source": [
    "# 학습데이터 \n",
    "import urllib.request\n",
    "from soynlp import DoublespaceLineCorpus\n",
    "from soynlp.word import WordExtractor\n",
    "urllib.request.urlretrieve(\"https://raw.githubusercontent.com/lovit/soynlp/master/tutorials/2016-10-20.txt\", filename=\"2016-10-20.txt\")\n",
    "\n",
    "# 훈련 데이터를 다수의 문서로 분리\n",
    "corpus = DoublespaceLineCorpus(\"2016-10-20.txt\")\n",
    "\n",
    "# 단어 점수표 계산\n",
    "word_extractor = WordExtractor()\n",
    "word_extractor.train(corpus)\n",
    "word_score_table = word_extractor.extract()  # ncp 기준 1분 정도 소요 "
   ]
  },
  {
   "cell_type": "code",
   "execution_count": 31,
   "id": "aaa5e680",
   "metadata": {},
   "outputs": [
    {
     "name": "stdout",
     "output_type": "stream",
     "text": [
      "0.08838002913645132\n",
      "0.19841268168224552\n",
      "0.2972877884078849\n"
     ]
    }
   ],
   "source": [
    "# 응집확률 계산 : 높을수록 좋음 \n",
    "print(word_score_table[\"반포한\"].cohesion_forward)\n",
    "print(word_score_table[\"반포한강\"].cohesion_forward)\n",
    "print(word_score_table[\"반포한강공\"].cohesion_forward)"
   ]
  },
  {
   "cell_type": "code",
   "execution_count": 32,
   "id": "9a405fb2",
   "metadata": {},
   "outputs": [
    {
     "name": "stdout",
     "output_type": "stream",
     "text": [
      "1.6371694761537934\n",
      "-0.0\n",
      "-0.0\n",
      "3.1400392861792916\n"
     ]
    }
   ],
   "source": [
    "# 브랜칭 엔트로피 : 0일수록 최적 (단, 최종 단어완성시, 엔트로피 값 증가)\n",
    "print(word_score_table[\"디스\"].right_branching_entropy)\n",
    "print(word_score_table[\"디스플\"].right_branching_entropy)\n",
    "print(word_score_table[\"디스플레\"].right_branching_entropy)\n",
    "print(word_score_table[\"디스플레이\"].right_branching_entropy)"
   ]
  },
  {
   "cell_type": "code",
   "execution_count": 35,
   "id": "5b771e19",
   "metadata": {},
   "outputs": [
    {
     "data": {
      "text/plain": [
       "[('국제사회', '와'), ('우리', '의'), ('노력', '들로'), ('범죄', '를'), ('척결', '하자')]"
      ]
     },
     "execution_count": 35,
     "metadata": {},
     "output_type": "execute_result"
    }
   ],
   "source": [
    "# L 토크 나이저 : 모델 학습 기반으로 토큰 분리를 확실하게 함\n",
    "from soynlp.tokenizer import LTokenizer\n",
    "\n",
    "scores = {word:score.cohesion_forward for word, score in word_score_table.items()}\n",
    "l_tokenizer = LTokenizer(scores=scores)\n",
    "l_tokenizer.tokenize(\"국제사회와 우리의 노력들로 범죄를 척결하자\", flatten=False)"
   ]
  },
  {
   "cell_type": "code",
   "execution_count": 37,
   "id": "fdf5ca60",
   "metadata": {},
   "outputs": [
    {
     "name": "stdout",
     "output_type": "stream",
     "text": [
      "['국제사회', '우리', '노력', '범죄', '척', '결하']\n"
     ]
    }
   ],
   "source": [
    "print(okt.nouns(\"국제사회와 우리의 노력들로 범죄를 척결하자\")) # okt는 척결 식별 안됨"
   ]
  },
  {
   "cell_type": "code",
   "execution_count": 38,
   "id": "5e9c1e0b",
   "metadata": {},
   "outputs": [
    {
     "data": {
      "text/plain": [
       "['국제사회', '와', '우리', '의', '노력', '들로', '범죄', '를', '척결', '하자']"
      ]
     },
     "execution_count": 38,
     "metadata": {},
     "output_type": "execute_result"
    }
   ],
   "source": [
    "# 띄어쓰기 안되어 있는 문장에서 토크나이저 \n",
    "from soynlp.tokenizer import MaxScoreTokenizer\n",
    "\n",
    "maxscore_tokenizer = MaxScoreTokenizer(scores=scores)\n",
    "maxscore_tokenizer.tokenize(\"국제사회와우리의노력들로범죄를척결하자\")"
   ]
  },
  {
   "cell_type": "code",
   "execution_count": 39,
   "id": "50e506e2",
   "metadata": {},
   "outputs": [
    {
     "name": "stdout",
     "output_type": "stream",
     "text": [
      "아ㅋㅋ영화존잼쓰ㅠㅠ\n",
      "아ㅋㅋ영화존잼쓰ㅠㅠ\n",
      "아ㅋㅋ영화존잼쓰ㅠㅠ\n",
      "아ㅋㅋ영화존잼쓰ㅠㅠ\n"
     ]
    }
   ],
   "source": [
    "# 반복문자 정제\n",
    "from soynlp.normalizer import *\n",
    "print(emoticon_normalize('앜ㅋㅋㅋㅋ이영화존잼쓰ㅠㅠㅠㅠㅠ', num_repeats=2))\n",
    "print(emoticon_normalize('앜ㅋㅋㅋㅋㅋㅋㅋㅋㅋ이영화존잼쓰ㅠㅠㅠㅠ', num_repeats=2))\n",
    "print(emoticon_normalize('앜ㅋㅋㅋㅋㅋㅋㅋㅋㅋㅋㅋㅋ이영화존잼쓰ㅠㅠㅠㅠㅠㅠ', num_repeats=2))\n",
    "print(emoticon_normalize('앜ㅋㅋㅋㅋㅋㅋㅋㅋㅋㅋㅋㅋㅋㅋㅋㅋㅋ이영화존잼쓰ㅠㅠㅠㅠㅠㅠㅠㅠ', num_repeats=2))"
   ]
  },
  {
   "cell_type": "code",
   "execution_count": 40,
   "id": "e3d3591c",
   "metadata": {},
   "outputs": [
    {
     "name": "stdout",
     "output_type": "stream",
     "text": [
      "와하하핫\n",
      "와하하핫\n",
      "와하하핫\n"
     ]
    }
   ],
   "source": [
    "print(repeat_normalize('와하하하하하하하하하핫', num_repeats=2))\n",
    "print(repeat_normalize('와하하하하하하핫', num_repeats=2))\n",
    "print(repeat_normalize('와하하하하핫', num_repeats=2))"
   ]
  },
  {
   "cell_type": "markdown",
   "id": "6152c3ac",
   "metadata": {},
   "source": [
    "사용자 사전 등록"
   ]
  },
  {
   "cell_type": "code",
   "execution_count": 43,
   "id": "36a49468",
   "metadata": {
    "scrolled": true
   },
   "outputs": [],
   "source": [
    "#!pip install customized_konlpy"
   ]
  },
  {
   "cell_type": "code",
   "execution_count": 44,
   "id": "a4f82ea5",
   "metadata": {},
   "outputs": [
    {
     "name": "stderr",
     "output_type": "stream",
     "text": [
      "/opt/conda/lib/python3.8/site-packages/konlpy/tag/_okt.py:17: UserWarning: \"Twitter\" has changed to \"Okt\" since KoNLPy v0.4.5.\n",
      "  warn('\"Twitter\" has changed to \"Okt\" since KoNLPy v0.4.5.')\n"
     ]
    },
    {
     "data": {
      "text/plain": [
       "['은', '경이', '는', '사무실', '로', '갔습니다', '.']"
      ]
     },
     "execution_count": 44,
     "metadata": {},
     "output_type": "execute_result"
    }
   ],
   "source": [
    "from ckonlpy.tag import Twitter\n",
    "twitter = Twitter()\n",
    "twitter.morphs('은경이는 사무실로 갔습니다.')  # Okt "
   ]
  },
  {
   "cell_type": "code",
   "execution_count": 46,
   "id": "58dffd8f",
   "metadata": {},
   "outputs": [],
   "source": [
    "twitter.add_dictionary('은경이', 'Noun')"
   ]
  },
  {
   "cell_type": "code",
   "execution_count": 47,
   "id": "51035b82",
   "metadata": {},
   "outputs": [
    {
     "data": {
      "text/plain": [
       "['은경이', '는', '사무실', '로', '갔습니다', '.']"
      ]
     },
     "execution_count": 47,
     "metadata": {},
     "output_type": "execute_result"
    }
   ],
   "source": [
    "twitter.morphs('은경이는 사무실로 갔습니다.')"
   ]
  },
  {
   "cell_type": "code",
   "execution_count": 60,
   "id": "6ff54c2a",
   "metadata": {},
   "outputs": [
    {
     "name": "stdout",
     "output_type": "stream",
     "text": [
      "['미래에셋', '증권', '은', '주가', '가', '급상승', '하였습니다', '.', '미래', '일보', '김', '미래', '기자']\n"
     ]
    }
   ],
   "source": [
    "doc = \"미래에셋증권은 주가가 급상승하였습니다. 미래일보 김미래 기자\"\n",
    "print(twitter.morphs(doc))  # Okt "
   ]
  },
  {
   "cell_type": "code",
   "execution_count": 62,
   "id": "5e25c300",
   "metadata": {},
   "outputs": [],
   "source": [
    "twitter.add_dictionary('미래에셋증권', 'Noun')\n",
    "twitter.add_dictionary('미래일보', 'Noun')\n",
    "twitter.add_dictionary('김미래', 'Noun')"
   ]
  },
  {
   "cell_type": "code",
   "execution_count": 67,
   "id": "d9e641aa",
   "metadata": {},
   "outputs": [
    {
     "name": "stdout",
     "output_type": "stream",
     "text": [
      "[('미래에셋증권', 'Noun'), ('주가', 'Noun'), ('급상승', 'Noun'), ('하였습니다', 'Verb'), ('.', 'Punctuation'), ('미래일보', 'Noun'), ('김미래', 'Noun')]\n"
     ]
    }
   ],
   "source": [
    "from ckonlpy.tag import Postprocessor\n",
    "\n",
    "stopwords = {'은', '가', '기자'}\n",
    "postprocessor = Postprocessor(twitter, stopwords = stopwords)\n",
    "print(postprocessor.pos(doc))"
   ]
  },
  {
   "cell_type": "code",
   "execution_count": null,
   "id": "55bf66f6",
   "metadata": {},
   "outputs": [],
   "source": [
    "print(twitter.morphs(doc))  # Okt "
   ]
  },
  {
   "cell_type": "markdown",
   "id": "ccf58401",
   "metadata": {},
   "source": [
    "https://github.com/lovit/customized_konlpy"
   ]
  },
  {
   "cell_type": "code",
   "execution_count": 65,
   "id": "1842af7c",
   "metadata": {},
   "outputs": [
    {
     "name": "stdout",
     "output_type": "stream",
     "text": [
      "passwords : \n",
      " [('정말', 'Noun')]\n",
      "stopwords : \n",
      " [('우리', 'Noun'), ('아이오', 'Noun'), ('아', 'Josa'), ('이는', 'Verb'), ('정말', 'Noun'), ('이뻐요', 'Adjective')]\n"
     ]
    }
   ],
   "source": [
    "from ckonlpy.tag import Postprocessor\n",
    "\n",
    "# 해당 단어만 출력 \n",
    "passwords = {'아이오아이', ('정말', 'Noun')} \n",
    "postprocessor = Postprocessor(twitter, passwords = passwords)\n",
    "print(\"passwords : \\n\", postprocessor.pos('우리아이오아이는 정말 이뻐요'))\n",
    "# [('아이오아이', 'Noun'), ('정말', 'Noun')]\n",
    "\n",
    "# stopwords 에 등록된 단어, (단어, 품사)는 출력되지 않습니다.\n",
    "stopwords = {'는'}\n",
    "postprocessor = Postprocessor(twitter, stopwords = stopwords)\n",
    "print(\"stopwords : \\n\", postprocessor.pos('우리아이오아이는 정말 이뻐요'))"
   ]
  },
  {
   "cell_type": "markdown",
   "id": "5d1d1aaf",
   "metadata": {},
   "source": [
    "https://github.com/lovit/soynlp"
   ]
  },
  {
   "cell_type": "code",
   "execution_count": 72,
   "id": "dc460178",
   "metadata": {},
   "outputs": [
    {
     "name": "stdout",
     "output_type": "stream",
     "text": [
      "[('영화', ''), ('기생충은', ''), ('다은', ''), ('영화사이트의', ''), ('영화', ''), ('데이터', ''), ('리뷰이다.', ''), ('분석하라', '')]\n"
     ]
    }
   ],
   "source": [
    "from soynlp.tokenizer import LTokenizer\n",
    "\n",
    "scores = {'데이':0.5, '데이터':0.5, '데이터마이닝':0.5, '공부':0.5, '공부중':0.45}\n",
    "tokenizer = LTokenizer(scores=scores)\n",
    "\n",
    "sent = '영화 기생충은 다은 영화사이트의 영화 데이터 리뷰이다. 분석하라'\n",
    "\n",
    "print(tokenizer.tokenize(sent, flatten=False))"
   ]
  },
  {
   "cell_type": "code",
   "execution_count": 73,
   "id": "ba1f692b",
   "metadata": {},
   "outputs": [
    {
     "data": {
      "text/plain": [
       "['영화',\n",
       " '기생충',\n",
       " '은',\n",
       " '다',\n",
       " '은',\n",
       " '영화',\n",
       " '사이트',\n",
       " '의',\n",
       " '영화',\n",
       " '데이터',\n",
       " '리뷰',\n",
       " '이다',\n",
       " '.',\n",
       " '분석',\n",
       " '하라']"
      ]
     },
     "execution_count": 73,
     "metadata": {},
     "output_type": "execute_result"
    }
   ],
   "source": [
    "okt.morphs(sent)"
   ]
  },
  {
   "cell_type": "code",
   "execution_count": 75,
   "id": "93255b1b",
   "metadata": {},
   "outputs": [],
   "source": [
    "# 한국어 불용어 제거 \n",
    "# https://wikidocs.net/22530"
   ]
  },
  {
   "cell_type": "code",
   "execution_count": 80,
   "id": "d2938afc",
   "metadata": {},
   "outputs": [],
   "source": [
    "# 단어 표현 방법 \n",
    "# https://wikidocs.net/31767 \n",
    "# BoW : https://wikidocs.net/22650\n",
    "# 문서단어행렬 (DTM, Document-Term Matrix), 행과 열을 바꾸면 TDM \n",
    "### >> https://hanawithdata.tistory.com/entry/%ED%85%8D%EC%8A%A4%ED%8A%B8%EB%B6%84%EC%84%9D-TDM-Term-Document-Matrix-%EB%8B%A8%EC%96%B4-%EB%AC%B8%EC%84%9C-%ED%96%89%EB%A0%AC\n",
    "# TF-IDF : https://wikidocs.net/31698\n",
    "\n",
    "# 한글 word2vec : https://wikidocs.net/50739"
   ]
  },
  {
   "cell_type": "code",
   "execution_count": null,
   "id": "dbda5855",
   "metadata": {},
   "outputs": [],
   "source": []
  }
 ],
 "metadata": {
  "kernelspec": {
   "display_name": "Python 3",
   "language": "python",
   "name": "python3"
  },
  "language_info": {
   "codemirror_mode": {
    "name": "ipython",
    "version": 3
   },
   "file_extension": ".py",
   "mimetype": "text/x-python",
   "name": "python",
   "nbconvert_exporter": "python",
   "pygments_lexer": "ipython3",
   "version": "3.8.8"
  }
 },
 "nbformat": 4,
 "nbformat_minor": 5
}
