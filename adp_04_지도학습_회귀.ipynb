{
 "cells": [
  {
   "cell_type": "markdown",
   "id": "bc8e8959",
   "metadata": {},
   "source": [
    "### 단순 선형 회귀"
   ]
  },
  {
   "cell_type": "code",
   "execution_count": 48,
   "id": "ff0e2666",
   "metadata": {},
   "outputs": [],
   "source": [
    "import pandas as pd\n",
    "import numpy as np\n",
    "import matplotlib.pyplot as plt\n",
    "plt.rcParams['axes.unicode_minus'] = False\n",
    "from matplotlib import rc, rcParams, font_manager \n",
    "#!find / -name \"*Nanum*.ttf\"\n",
    "font_path = '/usr/share/fonts/truetype/nanum/NanumGothicCoding-Bold.ttf'\n",
    "fontName = font_manager.FontProperties(fname=font_path).get_name()\n",
    "rc('font', family=fontName)\n",
    "\n",
    "import seaborn as sns\n",
    "\n",
    "from sklearn.datasets import load_wine, load_iris\n",
    "import warnings \n",
    "warnings.filterwarnings('ignore')\n",
    "\n",
    "pd.set_option(\"display.float_format\", \"{:,.2f}\".format)\n",
    "pd.set_option(\"display.max_columns\", None)"
   ]
  },
  {
   "cell_type": "code",
   "execution_count": 116,
   "id": "8fa60e4d",
   "metadata": {},
   "outputs": [],
   "source": [
    "from statsmodels.formula.api import ols\n",
    "\n",
    "df = pd.read_csv('ADP_book_ver01/data/kc_house_data.csv')\n",
    "\n",
    "X = df[['sqft_living']]\n",
    "y = df['price'] "
   ]
  },
  {
   "cell_type": "code",
   "execution_count": 117,
   "id": "4e62a487",
   "metadata": {},
   "outputs": [],
   "source": [
    "lr = ols('price ~ sqft_living', data=df).fit()\n",
    "pred = lr.predict(X)"
   ]
  },
  {
   "cell_type": "code",
   "execution_count": 23,
   "id": "800d7ed7",
   "metadata": {},
   "outputs": [
    {
     "data": {
      "text/html": [
       "<table class=\"simpletable\">\n",
       "<caption>OLS Regression Results</caption>\n",
       "<tr>\n",
       "  <th>Dep. Variable:</th>          <td>price</td>      <th>  R-squared:         </th>  <td>   0.493</td>  \n",
       "</tr>\n",
       "<tr>\n",
       "  <th>Model:</th>                   <td>OLS</td>       <th>  Adj. R-squared:    </th>  <td>   0.493</td>  \n",
       "</tr>\n",
       "<tr>\n",
       "  <th>Method:</th>             <td>Least Squares</td>  <th>  F-statistic:       </th>  <td>2.100e+04</td> \n",
       "</tr>\n",
       "<tr>\n",
       "  <th>Date:</th>             <td>Thu, 17 Nov 2022</td> <th>  Prob (F-statistic):</th>   <td>  0.00</td>   \n",
       "</tr>\n",
       "<tr>\n",
       "  <th>Time:</th>                 <td>09:07:45</td>     <th>  Log-Likelihood:    </th> <td>-3.0027e+05</td>\n",
       "</tr>\n",
       "<tr>\n",
       "  <th>No. Observations:</th>      <td> 21613</td>      <th>  AIC:               </th>  <td>6.005e+05</td> \n",
       "</tr>\n",
       "<tr>\n",
       "  <th>Df Residuals:</th>          <td> 21611</td>      <th>  BIC:               </th>  <td>6.006e+05</td> \n",
       "</tr>\n",
       "<tr>\n",
       "  <th>Df Model:</th>              <td>     1</td>      <th>                     </th>      <td> </td>     \n",
       "</tr>\n",
       "<tr>\n",
       "  <th>Covariance Type:</th>      <td>nonrobust</td>    <th>                     </th>      <td> </td>     \n",
       "</tr>\n",
       "</table>\n",
       "<table class=\"simpletable\">\n",
       "<tr>\n",
       "       <td></td>          <th>coef</th>     <th>std err</th>      <th>t</th>      <th>P>|t|</th>  <th>[0.025</th>    <th>0.975]</th>  \n",
       "</tr>\n",
       "<tr>\n",
       "  <th>Intercept</th>   <td>-4.358e+04</td> <td> 4402.690</td> <td>   -9.899</td> <td> 0.000</td> <td>-5.22e+04</td> <td> -3.5e+04</td>\n",
       "</tr>\n",
       "<tr>\n",
       "  <th>sqft_living</th> <td>  280.6236</td> <td>    1.936</td> <td>  144.920</td> <td> 0.000</td> <td>  276.828</td> <td>  284.419</td>\n",
       "</tr>\n",
       "</table>\n",
       "<table class=\"simpletable\">\n",
       "<tr>\n",
       "  <th>Omnibus:</th>       <td>14832.490</td> <th>  Durbin-Watson:     </th>  <td>   1.983</td> \n",
       "</tr>\n",
       "<tr>\n",
       "  <th>Prob(Omnibus):</th>  <td> 0.000</td>   <th>  Jarque-Bera (JB):  </th> <td>546444.713</td>\n",
       "</tr>\n",
       "<tr>\n",
       "  <th>Skew:</th>           <td> 2.824</td>   <th>  Prob(JB):          </th>  <td>    0.00</td> \n",
       "</tr>\n",
       "<tr>\n",
       "  <th>Kurtosis:</th>       <td>26.977</td>   <th>  Cond. No.          </th>  <td>5.63e+03</td> \n",
       "</tr>\n",
       "</table><br/><br/>Notes:<br/>[1] Standard Errors assume that the covariance matrix of the errors is correctly specified.<br/>[2] The condition number is large, 5.63e+03. This might indicate that there are<br/>strong multicollinearity or other numerical problems."
      ],
      "text/plain": [
       "<class 'statsmodels.iolib.summary.Summary'>\n",
       "\"\"\"\n",
       "                            OLS Regression Results                            \n",
       "==============================================================================\n",
       "Dep. Variable:                  price   R-squared:                       0.493\n",
       "Model:                            OLS   Adj. R-squared:                  0.493\n",
       "Method:                 Least Squares   F-statistic:                 2.100e+04\n",
       "Date:                Thu, 17 Nov 2022   Prob (F-statistic):               0.00\n",
       "Time:                        09:07:45   Log-Likelihood:            -3.0027e+05\n",
       "No. Observations:               21613   AIC:                         6.005e+05\n",
       "Df Residuals:                   21611   BIC:                         6.006e+05\n",
       "Df Model:                           1                                         \n",
       "Covariance Type:            nonrobust                                         \n",
       "===============================================================================\n",
       "                  coef    std err          t      P>|t|      [0.025      0.975]\n",
       "-------------------------------------------------------------------------------\n",
       "Intercept   -4.358e+04   4402.690     -9.899      0.000   -5.22e+04    -3.5e+04\n",
       "sqft_living   280.6236      1.936    144.920      0.000     276.828     284.419\n",
       "==============================================================================\n",
       "Omnibus:                    14832.490   Durbin-Watson:                   1.983\n",
       "Prob(Omnibus):                  0.000   Jarque-Bera (JB):           546444.713\n",
       "Skew:                           2.824   Prob(JB):                         0.00\n",
       "Kurtosis:                      26.977   Cond. No.                     5.63e+03\n",
       "==============================================================================\n",
       "\n",
       "Notes:\n",
       "[1] Standard Errors assume that the covariance matrix of the errors is correctly specified.\n",
       "[2] The condition number is large, 5.63e+03. This might indicate that there are\n",
       "strong multicollinearity or other numerical problems.\n",
       "\"\"\""
      ]
     },
     "execution_count": 23,
     "metadata": {},
     "output_type": "execute_result"
    }
   ],
   "source": [
    "lr.summary()"
   ]
  },
  {
   "cell_type": "code",
   "execution_count": 21,
   "id": "2e125d37",
   "metadata": {},
   "outputs": [
    {
     "data": {
      "image/png": "[encoded data removed]",
      "text/plain": [
       "<Figure size 432x288 with 1 Axes>"
      ]
     },
     "metadata": {
      "needs_background": "light"
     },
     "output_type": "display_data"
    }
   ],
   "source": [
    "sns.regplot(x='sqft_living', y='price', data=df, \n",
    "            scatter_kws={'alpha':0.25}, line_kws={'color':'C1'});   # lowess=True 추가시 비선형 회귀식 피팅 "
   ]
  },
  {
   "cell_type": "code",
   "execution_count": 26,
   "id": "bcd7552c",
   "metadata": {},
   "outputs": [
    {
     "data": {
      "text/plain": [
       "1.9825552599878278"
      ]
     },
     "execution_count": 26,
     "metadata": {},
     "output_type": "execute_result"
    }
   ],
   "source": [
    "# 잔차 검증\n",
    "# 더빈왓슨 독립성 검정 : 2이면 독립성, 0에 가까울수록 양의 상관, 4에 가까울수록 음의 상관 \n",
    "# https://www.statsmodels.org/dev/generated/statsmodels.stats.stattools.durbin_watson.html\n",
    "# https://www.statology.org/durbin-watson-test-python/ \n",
    "from statsmodels.stats.stattools import durbin_watson\n",
    "\n",
    "durbin_watson(lr.resid)  # 2에 가깝기 때문에 독립성 가정 만족"
   ]
  },
  {
   "cell_type": "code",
   "execution_count": 31,
   "id": "f1bd30d9",
   "metadata": {},
   "outputs": [
    {
     "data": {
      "text/plain": [
       "ShapiroResult(statistic=0.8369508981704712, pvalue=0.0)"
      ]
     },
     "execution_count": 31,
     "metadata": {},
     "output_type": "execute_result"
    }
   ],
   "source": [
    "# 정규성 검증 : Ho 정규분포다 \n",
    "from scipy.stats import shapiro\n",
    "\n",
    "shapiro(lr.resid)  # 정규성 만족하지 않음 "
   ]
  },
  {
   "cell_type": "code",
   "execution_count": 37,
   "id": "19ffe494",
   "metadata": {},
   "outputs": [
    {
     "data": {
      "text/plain": [
       "<AxesSubplot:>"
      ]
     },
     "execution_count": 37,
     "metadata": {},
     "output_type": "execute_result"
    },
    {
     "data": {
      "image/png": "[encoded data removed]",
      "text/plain": [
       "<Figure size 432x288 with 1 Axes>"
      ]
     },
     "metadata": {
      "needs_background": "light"
     },
     "output_type": "display_data"
    }
   ],
   "source": [
    "# 잔차분석 시각화 : 등분산 가정 벗어남 (p323)\n",
    "sns.residplot(pred, lr.resid, lowess=True, line_kws=dict(color=\"r\"))\n",
    "#sns.residplot(data=df, x='sqft_living', y='price', lowess=True)  # 동일 결과"
   ]
  },
  {
   "cell_type": "code",
   "execution_count": 115,
   "id": "da622d0d",
   "metadata": {},
   "outputs": [],
   "source": [
    "# QQ plot : 정규성 만족하기 어려움 (r383)\n",
    "#import statsmodels.api as sm\n",
    "#fig = sm.qqplot(lr.resid, fit=True, line='45') "
   ]
  },
  {
   "cell_type": "code",
   "execution_count": 54,
   "id": "8c1e273e",
   "metadata": {},
   "outputs": [
    {
     "data": {
      "image/png": "[encoded data removed]",
      "text/plain": [
       "<Figure size 432x432 with 1 Axes>"
      ]
     },
     "metadata": {
      "needs_background": "light"
     },
     "output_type": "display_data"
    }
   ],
   "source": [
    "# QQ plot : 정규성 만족하기 어려움 (r383) --> 이차트가 더 깔끔\n",
    "import scipy.stats as stats\n",
    "\n",
    "fig, ax = plt.subplots(figsize=(6,6))\n",
    "stats.probplot(lr.resid, plot=ax);"
   ]
  },
  {
   "cell_type": "code",
   "execution_count": 118,
   "id": "4072ceba",
   "metadata": {},
   "outputs": [
    {
     "data": {
      "image/png": "[encoded data removed]",
      "text/plain": [
       "<Figure size 432x288 with 1 Axes>"
      ]
     },
     "metadata": {
      "needs_background": "light"
     },
     "output_type": "display_data"
    }
   ],
   "source": [
    "#검증 데이터에 대한 예측 : 특이값 있는지 확인\n",
    "plt.plot(np.array(y).flatten() - pred, label=\"predFull\");"
   ]
  },
  {
   "cell_type": "markdown",
   "id": "ce55160c",
   "metadata": {},
   "source": [
    "### 다항회귀 : 단순"
   ]
  },
  {
   "cell_type": "code",
   "execution_count": 121,
   "id": "b43e4b2a",
   "metadata": {},
   "outputs": [
    {
     "data": {
      "text/html": [
       "<div>\n",
       "<style scoped>\n",
       "    .dataframe tbody tr th:only-of-type {\n",
       "        vertical-align: middle;\n",
       "    }\n",
       "\n",
       "    .dataframe tbody tr th {\n",
       "        vertical-align: top;\n",
       "    }\n",
       "\n",
       "    .dataframe thead th {\n",
       "        text-align: right;\n",
       "    }\n",
       "</style>\n",
       "<table border=\"1\" class=\"dataframe\">\n",
       "  <thead>\n",
       "    <tr style=\"text-align: right;\">\n",
       "      <th></th>\n",
       "      <th>calories</th>\n",
       "      <th>protein</th>\n",
       "      <th>fat</th>\n",
       "      <th>sodium</th>\n",
       "      <th>fiber</th>\n",
       "      <th>carbo</th>\n",
       "      <th>sugars</th>\n",
       "      <th>potass</th>\n",
       "      <th>vitamins</th>\n",
       "      <th>shelf</th>\n",
       "      <th>weight</th>\n",
       "      <th>cups</th>\n",
       "      <th>rating</th>\n",
       "    </tr>\n",
       "  </thead>\n",
       "  <tbody>\n",
       "    <tr>\n",
       "      <th>73</th>\n",
       "      <td>100</td>\n",
       "      <td>3</td>\n",
       "      <td>1</td>\n",
       "      <td>230</td>\n",
       "      <td>3.00</td>\n",
       "      <td>17.00</td>\n",
       "      <td>3</td>\n",
       "      <td>115</td>\n",
       "      <td>25</td>\n",
       "      <td>1</td>\n",
       "      <td>1.00</td>\n",
       "      <td>0.67</td>\n",
       "      <td>49.79</td>\n",
       "    </tr>\n",
       "    <tr>\n",
       "      <th>74</th>\n",
       "      <td>100</td>\n",
       "      <td>3</td>\n",
       "      <td>1</td>\n",
       "      <td>200</td>\n",
       "      <td>3.00</td>\n",
       "      <td>17.00</td>\n",
       "      <td>3</td>\n",
       "      <td>110</td>\n",
       "      <td>25</td>\n",
       "      <td>1</td>\n",
       "      <td>1.00</td>\n",
       "      <td>1.00</td>\n",
       "      <td>51.59</td>\n",
       "    </tr>\n",
       "    <tr>\n",
       "      <th>75</th>\n",
       "      <td>110</td>\n",
       "      <td>2</td>\n",
       "      <td>1</td>\n",
       "      <td>200</td>\n",
       "      <td>1.00</td>\n",
       "      <td>16.00</td>\n",
       "      <td>8</td>\n",
       "      <td>60</td>\n",
       "      <td>25</td>\n",
       "      <td>1</td>\n",
       "      <td>1.00</td>\n",
       "      <td>0.75</td>\n",
       "      <td>36.19</td>\n",
       "    </tr>\n",
       "  </tbody>\n",
       "</table>\n",
       "</div>"
      ],
      "text/plain": [
       "    calories  protein  fat  sodium  fiber  carbo  sugars  potass  vitamins  \\\n",
       "73       100        3    1     230   3.00  17.00       3     115        25   \n",
       "74       100        3    1     200   3.00  17.00       3     110        25   \n",
       "75       110        2    1     200   1.00  16.00       8      60        25   \n",
       "\n",
       "    shelf  weight  cups  rating  \n",
       "73      1    1.00  0.67   49.79  \n",
       "74      1    1.00  1.00   51.59  \n",
       "75      1    1.00  0.75   36.19  "
      ]
     },
     "execution_count": 121,
     "metadata": {},
     "output_type": "execute_result"
    }
   ],
   "source": [
    "df = pd.read_csv('ADP_book_ver01/data/cereal.csv')\n",
    "\n",
    "df = df.select_dtypes(exclude='object').query(\" sugars >= 0\").reset_index(drop=True)\n",
    "df.tail(3)"
   ]
  },
  {
   "cell_type": "code",
   "execution_count": 122,
   "id": "d1ec4c6e",
   "metadata": {},
   "outputs": [
    {
     "data": {
      "text/plain": [
       "<AxesSubplot:>"
      ]
     },
     "execution_count": 122,
     "metadata": {},
     "output_type": "execute_result"
    },
    {
     "data": {
      "image/png": "[encoded data removed]",
      "text/plain": [
       "<Figure size 432x288 with 1 Axes>"
      ]
     },
     "metadata": {
      "needs_background": "light"
     },
     "output_type": "display_data"
    }
   ],
   "source": [
    "X = df['sugars'].values\n",
    "y = df['rating'].values\n",
    "\n",
    "sns.regplot(x=X, y=y)   # lmplot은 data가 지정되어야 함 sns.lmplot(x='sugars', y='rating', data=df)"
   ]
  },
  {
   "cell_type": "code",
   "execution_count": 123,
   "id": "bfef5695",
   "metadata": {},
   "outputs": [
    {
     "name": "stdout",
     "output_type": "stream",
     "text": [
      "(53,) (23,) (53,) (23,)\n"
     ]
    }
   ],
   "source": [
    "from sklearn.model_selection import train_test_split \n",
    "X_train, X_test, y_train, y_test = train_test_split(X, y, test_size=0.3, random_state=42)\n",
    "print(X_train.shape, X_test.shape, y_train.shape, y_test.shape)"
   ]
  },
  {
   "cell_type": "code",
   "execution_count": 108,
   "id": "00558a70",
   "metadata": {},
   "outputs": [
    {
     "data": {
      "text/plain": [
       "(53, 1)"
      ]
     },
     "execution_count": 108,
     "metadata": {},
     "output_type": "execute_result"
    }
   ],
   "source": [
    "X_train.reshape(-1,1).shape"
   ]
  },
  {
   "cell_type": "code",
   "execution_count": 124,
   "id": "2b6f9bb7",
   "metadata": {},
   "outputs": [
    {
     "data": {
      "text/plain": [
       "array([36.88901409, 32.45862139, 31.75396899, 41.77297212, 32.45862139,\n",
       "       41.77297212, 31.95644727, 51.99445352, 56.17375915, 31.75396899,\n",
       "       44.79406   , 51.99445352, 31.43538917, 35.02614394, 36.88901409,\n",
       "       51.99445352, 44.79406   , 33.54934638, 48.20122047, 33.54934638,\n",
       "       31.95644727, 51.99445352, 35.02614394])"
      ]
     },
     "execution_count": 124,
     "metadata": {},
     "output_type": "execute_result"
    }
   ],
   "source": [
    "# 다항회귀 \n",
    "from sklearn.preprocessing import PolynomialFeatures \n",
    "\n",
    "poly_reg = PolynomialFeatures(degree=2)\n",
    "X_poly = poly_reg.fit_transform(X_train.reshape(-1,1))\n",
    "\n",
    "from sklearn.linear_model import LinearRegression \n",
    "reg = LinearRegression()\n",
    "reg.fit(X_poly, y_train)\n",
    "\n",
    "X_test_poly = poly_reg.transform(X_test.reshape(-1,1))\n",
    "pred = reg.predict(X_test_poly)\n",
    "pred"
   ]
  },
  {
   "cell_type": "code",
   "execution_count": 125,
   "id": "577b4c02",
   "metadata": {},
   "outputs": [
    {
     "data": {
      "text/plain": [
       "array([2, 0, 0, 9, 8])"
      ]
     },
     "execution_count": 125,
     "metadata": {},
     "output_type": "execute_result"
    }
   ],
   "source": [
    "X_train[:5]"
   ]
  },
  {
   "cell_type": "code",
   "execution_count": 126,
   "id": "d3bfba0c",
   "metadata": {},
   "outputs": [
    {
     "data": {
      "text/plain": [
       "array([[ 1.,  2.,  4.],\n",
       "       [ 1.,  0.,  0.],\n",
       "       [ 1.,  0.,  0.],\n",
       "       [ 1.,  9., 81.],\n",
       "       [ 1.,  8., 64.]])"
      ]
     },
     "execution_count": 126,
     "metadata": {},
     "output_type": "execute_result"
    }
   ],
   "source": [
    "X_poly[:5]"
   ]
  },
  {
   "cell_type": "code",
   "execution_count": 127,
   "id": "79961808",
   "metadata": {},
   "outputs": [
    {
     "data": {
      "text/plain": [
       "array([40.42053465, 32.82974242, 30.29947834, 45.4810628 , 32.82974242,\n",
       "       45.4810628 , 22.70868611, 53.07185503, 55.60211911, 30.29947834,\n",
       "       48.01132688, 53.07185503, 27.76921426, 37.89027057, 40.42053465,\n",
       "       53.07185503, 48.01132688, 35.36000649, 50.54159096, 35.36000649,\n",
       "       22.70868611, 53.07185503, 37.89027057])"
      ]
     },
     "execution_count": 127,
     "metadata": {},
     "output_type": "execute_result"
    }
   ],
   "source": [
    "# 선형회귀 (비교용)\n",
    "lr_reg = LinearRegression()\n",
    "lr_reg.fit(X_train.reshape(-1,1), y_train)\n",
    "\n",
    "lr_pred = lr_reg.predict(X_test.reshape(-1,1))\n",
    "lr_pred"
   ]
  },
  {
   "cell_type": "code",
   "execution_count": 169,
   "id": "31601371",
   "metadata": {},
   "outputs": [
    {
     "name": "stdout",
     "output_type": "stream",
     "text": [
      "다항회귀 RMSE  9.48687865227822\n",
      "단순회귀 RMSE  9.695985755918286\n",
      "다항회귀 R2  0.4593801436327408\n",
      "단순회귀 R2  0.4352851095219278\n",
      "다항회귀 ACC(결정계수)  0.4593801436327408\n",
      "단순회귀 ACC(결정계수)  0.4352851095219278\n"
     ]
    }
   ],
   "source": [
    "from sklearn.metrics import mean_squared_error, r2_score \n",
    "\n",
    "print(\"다항회귀 RMSE \", np.sqrt(mean_squared_error(pred, y_test)))  # -> RMSE는 단순회귀보다 작다. 좋다!!! \n",
    "print(\"단순회귀 RMSE \", np.sqrt(mean_squared_error(lr_pred, y_test)))\n",
    "\n",
    "print(\"다항회귀 R2 \", r2_score(y_test, pred))  # r2_score(true, pred)  >> 순서 꼭 맞출 것!!!! r2_score 쓰지 말기! \n",
    "print(\"단순회귀 R2 \", r2_score(y_test, lr_pred))  \n",
    "\n",
    "print(\"다항회귀 ACC(결정계수) \", reg.score(X_test_poly, y_test))     # 회귀식 결정계수 (r2_score와 동일한 결과)  (**** score로 간단히)\n",
    "print(\"단순회귀 ACC(결정계수) \", lr_reg.score(X_test.reshape(-1,1), y_test))  "
   ]
  },
  {
   "cell_type": "code",
   "execution_count": 112,
   "id": "6ae2aecd",
   "metadata": {},
   "outputs": [
    {
     "data": {
      "image/png": "[encoded data removed]",
      "text/plain": [
       "<Figure size 432x288 with 1 Axes>"
      ]
     },
     "metadata": {
      "needs_background": "light"
     },
     "output_type": "display_data"
    }
   ],
   "source": [
    "X_new = np.linspace(0, 15, 100).reshape(100,1)\n",
    "X_new_poly = poly_reg.transform(X_new)\n",
    "y_new = reg.predict(X_new_poly)\n",
    "\n",
    "plt.plot(X, y, 'o', label='Actual')\n",
    "plt.plot(X_new, y_new, 'r-', label='Prediction')\n",
    "plt.legend(loc='upper right')\n",
    "plt.xlabel('Sugars')\n",
    "plt.ylabel('Rating')\n",
    "plt.show()"
   ]
  },
  {
   "cell_type": "code",
   "execution_count": 114,
   "id": "6bc81041",
   "metadata": {},
   "outputs": [
    {
     "data": {
      "image/png": "[encoded data removed]",
      "text/plain": [
       "<Figure size 432x288 with 1 Axes>"
      ]
     },
     "metadata": {
      "needs_background": "light"
     },
     "output_type": "display_data"
    }
   ],
   "source": [
    "#검증 데이터에 대한 예측 : 특이값 있는지 확인\n",
    "plt.plot(np.array(y_test).flatten() - pred, label=\"predFull\");"
   ]
  },
  {
   "cell_type": "code",
   "execution_count": 178,
   "id": "800a3c03",
   "metadata": {},
   "outputs": [
    {
     "name": "stdout",
     "output_type": "stream",
     "text": [
      "결정계수(score사용) :  0.7406426641094094\n",
      "df.shape (77, 16), 결정계수 0.7406426641094094, 수정결정계수 0.7337897263724629\n"
     ]
    }
   ],
   "source": [
    "########### 참고 : 결정계수(r2_score 또는 score), 수정결정계수 \n",
    "# https://engineer-mole.tistory.com/240\n",
    "from sklearn.datasets import load_boston\n",
    "\n",
    "def adj_r2(r2, n, p):  ##### 수정결정계수 (r2, 관측수, 피처수)\n",
    "    return 1 - (1-r2)*(n-1)/(n-p-1)\n",
    "\n",
    "X = pd.DataFrame(load_boston().data, columns=load_boston().feature_names)\n",
    "y = pd.DataFrame(load_boston().target, columns=['target'])\n",
    "\n",
    "lr = LinearRegression()\n",
    "lr.fit(X, y)\n",
    "y_pred = lr.predict(X)\n",
    "\n",
    "r2 = r2_score(y, y_pred)  # r2_score(true, pred) : 순서 유의!   \n",
    "r2_adj = adj_r2(r2, X.shape[0], X.shape[1])\n",
    "\n",
    "print(\"결정계수(score사용) : \", lr.score(X_b, y_b))\n",
    "print(\"df.shape {}, 결정계수 {}, 수정결정계수 {}\".format(df.shape, r2, r2_adj))"
   ]
  },
  {
   "cell_type": "markdown",
   "id": "f6d1f065",
   "metadata": {},
   "source": [
    "### 회귀모델 : 간단히 statsmodels로 적용하기 : summary에 일괄 출력 장점! \n",
    "\n",
    "- R2, 수정R2, AIC, p-value 확인 "
   ]
  },
  {
   "cell_type": "code",
   "execution_count": 181,
   "id": "d28fa56e",
   "metadata": {},
   "outputs": [
    {
     "name": "stdout",
     "output_type": "stream",
     "text": [
      "0.7406426641094095\n",
      "0.733789726372463\n"
     ]
    },
    {
     "data": {
      "text/html": [
       "<table class=\"simpletable\">\n",
       "<caption>OLS Regression Results</caption>\n",
       "<tr>\n",
       "  <th>Dep. Variable:</th>         <td>target</td>      <th>  R-squared:         </th> <td>   0.741</td> \n",
       "</tr>\n",
       "<tr>\n",
       "  <th>Model:</th>                   <td>OLS</td>       <th>  Adj. R-squared:    </th> <td>   0.734</td> \n",
       "</tr>\n",
       "<tr>\n",
       "  <th>Method:</th>             <td>Least Squares</td>  <th>  F-statistic:       </th> <td>   108.1</td> \n",
       "</tr>\n",
       "<tr>\n",
       "  <th>Date:</th>             <td>Fri, 18 Nov 2022</td> <th>  Prob (F-statistic):</th> <td>6.72e-135</td>\n",
       "</tr>\n",
       "<tr>\n",
       "  <th>Time:</th>                 <td>08:31:27</td>     <th>  Log-Likelihood:    </th> <td> -1498.8</td> \n",
       "</tr>\n",
       "<tr>\n",
       "  <th>No. Observations:</th>      <td>   506</td>      <th>  AIC:               </th> <td>   3026.</td> \n",
       "</tr>\n",
       "<tr>\n",
       "  <th>Df Residuals:</th>          <td>   492</td>      <th>  BIC:               </th> <td>   3085.</td> \n",
       "</tr>\n",
       "<tr>\n",
       "  <th>Df Model:</th>              <td>    13</td>      <th>                     </th>     <td> </td>    \n",
       "</tr>\n",
       "<tr>\n",
       "  <th>Covariance Type:</th>      <td>nonrobust</td>    <th>                     </th>     <td> </td>    \n",
       "</tr>\n",
       "</table>\n",
       "<table class=\"simpletable\">\n",
       "<tr>\n",
       "     <td></td>        <th>coef</th>     <th>std err</th>      <th>t</th>      <th>P>|t|</th>  <th>[0.025</th>    <th>0.975]</th>  \n",
       "</tr>\n",
       "<tr>\n",
       "  <th>const</th>   <td>   36.4595</td> <td>    5.103</td> <td>    7.144</td> <td> 0.000</td> <td>   26.432</td> <td>   46.487</td>\n",
       "</tr>\n",
       "<tr>\n",
       "  <th>CRIM</th>    <td>   -0.1080</td> <td>    0.033</td> <td>   -3.287</td> <td> 0.001</td> <td>   -0.173</td> <td>   -0.043</td>\n",
       "</tr>\n",
       "<tr>\n",
       "  <th>ZN</th>      <td>    0.0464</td> <td>    0.014</td> <td>    3.382</td> <td> 0.001</td> <td>    0.019</td> <td>    0.073</td>\n",
       "</tr>\n",
       "<tr>\n",
       "  <th>INDUS</th>   <td>    0.0206</td> <td>    0.061</td> <td>    0.334</td> <td> 0.738</td> <td>   -0.100</td> <td>    0.141</td>\n",
       "</tr>\n",
       "<tr>\n",
       "  <th>CHAS</th>    <td>    2.6867</td> <td>    0.862</td> <td>    3.118</td> <td> 0.002</td> <td>    0.994</td> <td>    4.380</td>\n",
       "</tr>\n",
       "<tr>\n",
       "  <th>NOX</th>     <td>  -17.7666</td> <td>    3.820</td> <td>   -4.651</td> <td> 0.000</td> <td>  -25.272</td> <td>  -10.262</td>\n",
       "</tr>\n",
       "<tr>\n",
       "  <th>RM</th>      <td>    3.8099</td> <td>    0.418</td> <td>    9.116</td> <td> 0.000</td> <td>    2.989</td> <td>    4.631</td>\n",
       "</tr>\n",
       "<tr>\n",
       "  <th>AGE</th>     <td>    0.0007</td> <td>    0.013</td> <td>    0.052</td> <td> 0.958</td> <td>   -0.025</td> <td>    0.027</td>\n",
       "</tr>\n",
       "<tr>\n",
       "  <th>DIS</th>     <td>   -1.4756</td> <td>    0.199</td> <td>   -7.398</td> <td> 0.000</td> <td>   -1.867</td> <td>   -1.084</td>\n",
       "</tr>\n",
       "<tr>\n",
       "  <th>RAD</th>     <td>    0.3060</td> <td>    0.066</td> <td>    4.613</td> <td> 0.000</td> <td>    0.176</td> <td>    0.436</td>\n",
       "</tr>\n",
       "<tr>\n",
       "  <th>TAX</th>     <td>   -0.0123</td> <td>    0.004</td> <td>   -3.280</td> <td> 0.001</td> <td>   -0.020</td> <td>   -0.005</td>\n",
       "</tr>\n",
       "<tr>\n",
       "  <th>PTRATIO</th> <td>   -0.9527</td> <td>    0.131</td> <td>   -7.283</td> <td> 0.000</td> <td>   -1.210</td> <td>   -0.696</td>\n",
       "</tr>\n",
       "<tr>\n",
       "  <th>B</th>       <td>    0.0093</td> <td>    0.003</td> <td>    3.467</td> <td> 0.001</td> <td>    0.004</td> <td>    0.015</td>\n",
       "</tr>\n",
       "<tr>\n",
       "  <th>LSTAT</th>   <td>   -0.5248</td> <td>    0.051</td> <td>  -10.347</td> <td> 0.000</td> <td>   -0.624</td> <td>   -0.425</td>\n",
       "</tr>\n",
       "</table>\n",
       "<table class=\"simpletable\">\n",
       "<tr>\n",
       "  <th>Omnibus:</th>       <td>178.041</td> <th>  Durbin-Watson:     </th> <td>   1.078</td> \n",
       "</tr>\n",
       "<tr>\n",
       "  <th>Prob(Omnibus):</th> <td> 0.000</td>  <th>  Jarque-Bera (JB):  </th> <td> 783.126</td> \n",
       "</tr>\n",
       "<tr>\n",
       "  <th>Skew:</th>          <td> 1.521</td>  <th>  Prob(JB):          </th> <td>8.84e-171</td>\n",
       "</tr>\n",
       "<tr>\n",
       "  <th>Kurtosis:</th>      <td> 8.281</td>  <th>  Cond. No.          </th> <td>1.51e+04</td> \n",
       "</tr>\n",
       "</table><br/><br/>Notes:<br/>[1] Standard Errors assume that the covariance matrix of the errors is correctly specified.<br/>[2] The condition number is large, 1.51e+04. This might indicate that there are<br/>strong multicollinearity or other numerical problems."
      ],
      "text/plain": [
       "<class 'statsmodels.iolib.summary.Summary'>\n",
       "\"\"\"\n",
       "                            OLS Regression Results                            \n",
       "==============================================================================\n",
       "Dep. Variable:                 target   R-squared:                       0.741\n",
       "Model:                            OLS   Adj. R-squared:                  0.734\n",
       "Method:                 Least Squares   F-statistic:                     108.1\n",
       "Date:                Fri, 18 Nov 2022   Prob (F-statistic):          6.72e-135\n",
       "Time:                        08:31:27   Log-Likelihood:                -1498.8\n",
       "No. Observations:                 506   AIC:                             3026.\n",
       "Df Residuals:                     492   BIC:                             3085.\n",
       "Df Model:                          13                                         \n",
       "Covariance Type:            nonrobust                                         \n",
       "==============================================================================\n",
       "                 coef    std err          t      P>|t|      [0.025      0.975]\n",
       "------------------------------------------------------------------------------\n",
       "const         36.4595      5.103      7.144      0.000      26.432      46.487\n",
       "CRIM          -0.1080      0.033     -3.287      0.001      -0.173      -0.043\n",
       "ZN             0.0464      0.014      3.382      0.001       0.019       0.073\n",
       "INDUS          0.0206      0.061      0.334      0.738      -0.100       0.141\n",
       "CHAS           2.6867      0.862      3.118      0.002       0.994       4.380\n",
       "NOX          -17.7666      3.820     -4.651      0.000     -25.272     -10.262\n",
       "RM             3.8099      0.418      9.116      0.000       2.989       4.631\n",
       "AGE            0.0007      0.013      0.052      0.958      -0.025       0.027\n",
       "DIS           -1.4756      0.199     -7.398      0.000      -1.867      -1.084\n",
       "RAD            0.3060      0.066      4.613      0.000       0.176       0.436\n",
       "TAX           -0.0123      0.004     -3.280      0.001      -0.020      -0.005\n",
       "PTRATIO       -0.9527      0.131     -7.283      0.000      -1.210      -0.696\n",
       "B              0.0093      0.003      3.467      0.001       0.004       0.015\n",
       "LSTAT         -0.5248      0.051    -10.347      0.000      -0.624      -0.425\n",
       "==============================================================================\n",
       "Omnibus:                      178.041   Durbin-Watson:                   1.078\n",
       "Prob(Omnibus):                  0.000   Jarque-Bera (JB):              783.126\n",
       "Skew:                           1.521   Prob(JB):                    8.84e-171\n",
       "Kurtosis:                       8.281   Cond. No.                     1.51e+04\n",
       "==============================================================================\n",
       "\n",
       "Notes:\n",
       "[1] Standard Errors assume that the covariance matrix of the errors is correctly specified.\n",
       "[2] The condition number is large, 1.51e+04. This might indicate that there are\n",
       "strong multicollinearity or other numerical problems.\n",
       "\"\"\""
      ]
     },
     "execution_count": 181,
     "metadata": {},
     "output_type": "execute_result"
    }
   ],
   "source": [
    "import statsmodels.api as sm\n",
    "\n",
    "X1 = sm.add_constant(X)  # statsmodels는 반드시 상수항 추가!!!!!!!\n",
    "m = sm.OLS(y, X1) \n",
    "result = m.fit()\n",
    "print(result.rsquared)\n",
    "print(result.rsquared_adj)\n",
    "result.summary()"
   ]
  },
  {
   "cell_type": "markdown",
   "id": "a301f5db",
   "metadata": {},
   "source": [
    "### 다항회귀 : 고차 "
   ]
  },
  {
   "cell_type": "code",
   "execution_count": 171,
   "id": "f051e0bf",
   "metadata": {},
   "outputs": [
    {
     "name": "stdout",
     "output_type": "stream",
     "text": [
      "(53, 12) (24, 12) (53,) (24,)\n"
     ]
    }
   ],
   "source": [
    "df = pd.read_csv('ADP_book_ver01/data/cereal.csv')\n",
    "\n",
    "X = df.select_dtypes(exclude='object').iloc[:, :-1].values\n",
    "y = df.iloc[:, -1].values\n",
    "\n",
    "from sklearn.model_selection import train_test_split \n",
    "X_train, X_test, y_train, y_test = train_test_split(X, y, test_size=0.3, random_state=42)\n",
    "print(X_train.shape, X_test.shape, y_train.shape, y_test.shape)"
   ]
  },
  {
   "cell_type": "code",
   "execution_count": 172,
   "id": "d53d43e9",
   "metadata": {},
   "outputs": [
    {
     "name": "stdout",
     "output_type": "stream",
     "text": [
      "(53, 91)\n"
     ]
    },
    {
     "data": {
      "text/plain": [
       "array([ 1.        , -2.73387494, -1.38781903, -0.98130676, -1.74533894,\n",
       "       -0.85847626, -0.39166097, -1.45322423, -1.12897186, -1.18441958,\n",
       "        0.95673744, -3.17596878,  0.79279271,  7.47407219,  3.79412367,\n",
       "        2.68276997,  4.77153838,  2.34696674,  1.07075211,  3.9729333 ,\n",
       "        3.08646786,  3.23805501, -2.61560052,  8.68270146, -2.16739613,\n",
       "        1.92604167,  1.3618762 ,  2.42221459,  1.1914097 ,  0.54355455,\n",
       "        2.01681224,  1.56680863,  1.64376004, -1.32777843,  4.40766992,\n",
       "       -1.10025282,  0.96296296,  1.7127129 ,  0.84242856,  0.38433956,\n",
       "        1.42605876,  1.10786772,  1.16227894, -0.93885292,  3.11659964,\n",
       "       -0.77797285,  3.046208  ,  1.49833205,  0.68358114,  2.53636883,\n",
       "        1.97043854,  2.06721361, -1.66983111,  5.54314197, -1.38369199,\n",
       "        0.73698149,  0.33623165,  1.2475585 ,  0.96919554,  1.01679609,\n",
       "       -0.82133638,  2.72649381, -0.68059373,  0.15339832,  0.56917121,\n",
       "        0.44217421,  0.46389092, -0.37471672,  1.24390302, -0.31050596,\n",
       "        2.11186066,  1.64064925,  1.72122723, -1.39035403,  4.61539478,\n",
       "       -1.15210558,  1.27457745,  1.33717637, -1.08012965,  3.58557937,\n",
       "       -0.89504066,  1.40284974, -1.13317856,  3.76167961, -0.93899921,\n",
       "        0.91534653, -3.03856825,  0.75849447, 10.08677769, -2.51788491,\n",
       "        0.62852029])"
      ]
     },
     "execution_count": 172,
     "metadata": {},
     "output_type": "execute_result"
    }
   ],
   "source": [
    "# 스케일링 \n",
    "from sklearn.preprocessing import StandardScaler\n",
    "\n",
    "sts = StandardScaler()\n",
    "X_train = sts.fit_transform(X_train)\n",
    "X_test = sts.transform(X_test)\n",
    "\n",
    "from sklearn.preprocessing import PolynomialFeatures\n",
    "poly_reg = PolynomialFeatures(degree=2)\n",
    "X_poly = poly_reg.fit_transform(X_train)\n",
    "X_test_poly = poly_reg.transform(X_test)\n",
    "\n",
    "print(X_poly.shape)\n",
    "X_poly[1,:]  # 첫번째 행 : 12개 -> 91개 "
   ]
  },
  {
   "cell_type": "code",
   "execution_count": 173,
   "id": "f0722093",
   "metadata": {},
   "outputs": [
    {
     "data": {
      "text/plain": [
       "array([37.59365777, 23.79912528, 19.50650215, 66.28934622, 33.82185468,\n",
       "       42.58510759, 32.01709009, 46.275773  , 59.57546899, 37.12204717,\n",
       "       57.78262739, 48.74687415, 22.42279688, 24.30807045, 38.32922404,\n",
       "       47.69980313, 55.01674942, 33.15142253, 43.34903096, 38.01911369,\n",
       "       37.08899223, 35.88357612, 34.93679205, 46.73495405])"
      ]
     },
     "execution_count": 173,
     "metadata": {},
     "output_type": "execute_result"
    }
   ],
   "source": [
    "from sklearn.linear_model import LinearRegression\n",
    "\n",
    "reg = LinearRegression()\n",
    "reg.fit(X_poly, y_train)\n",
    "\n",
    "pred = reg.predict(X_test_poly)\n",
    "pred "
   ]
  },
  {
   "cell_type": "code",
   "execution_count": 175,
   "id": "15cbfe6c",
   "metadata": {},
   "outputs": [
    {
     "name": "stdout",
     "output_type": "stream",
     "text": [
      "RMSE  2.626268527173543\n",
      "MAE  2.167325509220999\n",
      "R2(r2_score)  0.9577874539432917\n",
      "R2(score)  0.9577874539432917\n"
     ]
    }
   ],
   "source": [
    "from sklearn.metrics import mean_squared_error, r2_score, mean_absolute_error\n",
    "\n",
    "print(\"RMSE \", np.sqrt(mean_squared_error(pred, y_test))) \n",
    "print(\"MAE \", mean_absolute_error(pred, y_test))\n",
    "print(\"R2(r2_score) \", r2_score(y_test, pred))\n",
    "print(\"R2(score) \", reg.score(poly_reg.transform(X_test), y_test))"
   ]
  },
  {
   "cell_type": "code",
   "execution_count": 177,
   "id": "06aa6021",
   "metadata": {},
   "outputs": [
    {
     "data": {
      "text/plain": [
       "[<matplotlib.lines.Line2D at 0x7fa62174fe50>]"
      ]
     },
     "execution_count": 177,
     "metadata": {},
     "output_type": "execute_result"
    },
    {
     "data": {
      "image/png": "[encoded data removed]",
      "text/plain": [
       "<Figure size 432x288 with 1 Axes>"
      ]
     },
     "metadata": {
      "needs_background": "light"
     },
     "output_type": "display_data"
    }
   ],
   "source": [
    "#검증 데이터에 대한 예측 : 특이값 있는지 확인\n",
    "plt.plot(np.array(y_test).flatten() - pred, label=\"predFull\")"
   ]
  },
  {
   "cell_type": "markdown",
   "id": "2e0e3933",
   "metadata": {},
   "source": [
    "### 다중회귀"
   ]
  },
  {
   "cell_type": "code",
   "execution_count": 186,
   "id": "6643ffb3",
   "metadata": {},
   "outputs": [
    {
     "data": {
      "text/html": [
       "<table class=\"simpletable\">\n",
       "<caption>OLS Regression Results</caption>\n",
       "<tr>\n",
       "  <th>Dep. Variable:</th>          <td>Price</td>      <th>  R-squared:         </th> <td>   0.572</td>\n",
       "</tr>\n",
       "<tr>\n",
       "  <th>Model:</th>                   <td>OLS</td>       <th>  Adj. R-squared:    </th> <td>   0.542</td>\n",
       "</tr>\n",
       "<tr>\n",
       "  <th>Method:</th>             <td>Least Squares</td>  <th>  F-statistic:       </th> <td>   19.14</td>\n",
       "</tr>\n",
       "<tr>\n",
       "  <th>Date:</th>             <td>Fri, 18 Nov 2022</td> <th>  Prob (F-statistic):</th> <td>4.88e-14</td>\n",
       "</tr>\n",
       "<tr>\n",
       "  <th>Time:</th>                 <td>08:43:37</td>     <th>  Log-Likelihood:    </th> <td> -302.94</td>\n",
       "</tr>\n",
       "<tr>\n",
       "  <th>No. Observations:</th>      <td>    93</td>      <th>  AIC:               </th> <td>   619.9</td>\n",
       "</tr>\n",
       "<tr>\n",
       "  <th>Df Residuals:</th>          <td>    86</td>      <th>  BIC:               </th> <td>   637.6</td>\n",
       "</tr>\n",
       "<tr>\n",
       "  <th>Df Model:</th>              <td>     6</td>      <th>                     </th>     <td> </td>   \n",
       "</tr>\n",
       "<tr>\n",
       "  <th>Covariance Type:</th>      <td>nonrobust</td>    <th>                     </th>     <td> </td>   \n",
       "</tr>\n",
       "</table>\n",
       "<table class=\"simpletable\">\n",
       "<tr>\n",
       "       <td></td>         <th>coef</th>     <th>std err</th>      <th>t</th>      <th>P>|t|</th>  <th>[0.025</th>    <th>0.975]</th>  \n",
       "</tr>\n",
       "<tr>\n",
       "  <th>Intercept</th>  <td>  -32.2157</td> <td>   17.812</td> <td>   -1.809</td> <td> 0.074</td> <td>  -67.625</td> <td>    3.193</td>\n",
       "</tr>\n",
       "<tr>\n",
       "  <th>EngineSize</th> <td>    4.4732</td> <td>    1.410</td> <td>    3.172</td> <td> 0.002</td> <td>    1.670</td> <td>    7.276</td>\n",
       "</tr>\n",
       "<tr>\n",
       "  <th>RPM</th>        <td>    0.0071</td> <td>    0.001</td> <td>    5.138</td> <td> 0.000</td> <td>    0.004</td> <td>    0.010</td>\n",
       "</tr>\n",
       "<tr>\n",
       "  <th>Weight</th>     <td>    0.0056</td> <td>    0.003</td> <td>    1.634</td> <td> 0.106</td> <td>   -0.001</td> <td>    0.012</td>\n",
       "</tr>\n",
       "<tr>\n",
       "  <th>Length</th>     <td>   -0.0464</td> <td>    0.094</td> <td>   -0.496</td> <td> 0.621</td> <td>   -0.232</td> <td>    0.139</td>\n",
       "</tr>\n",
       "<tr>\n",
       "  <th>MPGcity</th>    <td>   -0.3478</td> <td>    0.448</td> <td>   -0.776</td> <td> 0.440</td> <td>   -1.239</td> <td>    0.544</td>\n",
       "</tr>\n",
       "<tr>\n",
       "  <th>MPGhighway</th> <td>    0.0582</td> <td>    0.460</td> <td>    0.126</td> <td> 0.900</td> <td>   -0.856</td> <td>    0.973</td>\n",
       "</tr>\n",
       "</table>\n",
       "<table class=\"simpletable\">\n",
       "<tr>\n",
       "  <th>Omnibus:</th>       <td>62.984</td> <th>  Durbin-Watson:     </th> <td>   1.446</td>\n",
       "</tr>\n",
       "<tr>\n",
       "  <th>Prob(Omnibus):</th> <td> 0.000</td> <th>  Jarque-Bera (JB):  </th> <td> 383.289</td>\n",
       "</tr>\n",
       "<tr>\n",
       "  <th>Skew:</th>          <td> 2.074</td> <th>  Prob(JB):          </th> <td>5.89e-84</td>\n",
       "</tr>\n",
       "<tr>\n",
       "  <th>Kurtosis:</th>      <td>12.039</td> <th>  Cond. No.          </th> <td>1.61e+05</td>\n",
       "</tr>\n",
       "</table><br/><br/>Notes:<br/>[1] Standard Errors assume that the covariance matrix of the errors is correctly specified.<br/>[2] The condition number is large, 1.61e+05. This might indicate that there are<br/>strong multicollinearity or other numerical problems."
      ],
      "text/plain": [
       "<class 'statsmodels.iolib.summary.Summary'>\n",
       "\"\"\"\n",
       "                            OLS Regression Results                            \n",
       "==============================================================================\n",
       "Dep. Variable:                  Price   R-squared:                       0.572\n",
       "Model:                            OLS   Adj. R-squared:                  0.542\n",
       "Method:                 Least Squares   F-statistic:                     19.14\n",
       "Date:                Fri, 18 Nov 2022   Prob (F-statistic):           4.88e-14\n",
       "Time:                        08:43:37   Log-Likelihood:                -302.94\n",
       "No. Observations:                  93   AIC:                             619.9\n",
       "Df Residuals:                      86   BIC:                             637.6\n",
       "Df Model:                           6                                         \n",
       "Covariance Type:            nonrobust                                         \n",
       "==============================================================================\n",
       "                 coef    std err          t      P>|t|      [0.025      0.975]\n",
       "------------------------------------------------------------------------------\n",
       "Intercept    -32.2157     17.812     -1.809      0.074     -67.625       3.193\n",
       "EngineSize     4.4732      1.410      3.172      0.002       1.670       7.276\n",
       "RPM            0.0071      0.001      5.138      0.000       0.004       0.010\n",
       "Weight         0.0056      0.003      1.634      0.106      -0.001       0.012\n",
       "Length        -0.0464      0.094     -0.496      0.621      -0.232       0.139\n",
       "MPGcity       -0.3478      0.448     -0.776      0.440      -1.239       0.544\n",
       "MPGhighway     0.0582      0.460      0.126      0.900      -0.856       0.973\n",
       "==============================================================================\n",
       "Omnibus:                       62.984   Durbin-Watson:                   1.446\n",
       "Prob(Omnibus):                  0.000   Jarque-Bera (JB):              383.289\n",
       "Skew:                           2.074   Prob(JB):                     5.89e-84\n",
       "Kurtosis:                      12.039   Cond. No.                     1.61e+05\n",
       "==============================================================================\n",
       "\n",
       "Notes:\n",
       "[1] Standard Errors assume that the covariance matrix of the errors is correctly specified.\n",
       "[2] The condition number is large, 1.61e+05. This might indicate that there are\n",
       "strong multicollinearity or other numerical problems.\n",
       "\"\"\""
      ]
     },
     "execution_count": 186,
     "metadata": {},
     "output_type": "execute_result"
    }
   ],
   "source": [
    "# 다중공선성 검증 : p330\n",
    "import statsmodels.api as sm \n",
    "import statsmodels.formula.api as smf\n",
    "\n",
    "cars = pd.read_csv('ADP_book_ver01/data/Cars93.csv')\n",
    "cars.columns = cars.columns.str.replace(\".\",\"\")  # 변수명 콤마 제거 \n",
    "\n",
    "formula = 'Price ~ EngineSize + RPM + Weight + Length + MPGcity + MPGhighway'\n",
    "model = smf.ols(formula, data=cars)\n",
    "model.fit().summary()"
   ]
  },
  {
   "cell_type": "code",
   "execution_count": 188,
   "id": "77cc64c6",
   "metadata": {},
   "outputs": [
    {
     "data": {
      "text/html": [
       "<div>\n",
       "<style scoped>\n",
       "    .dataframe tbody tr th:only-of-type {\n",
       "        vertical-align: middle;\n",
       "    }\n",
       "\n",
       "    .dataframe tbody tr th {\n",
       "        vertical-align: top;\n",
       "    }\n",
       "\n",
       "    .dataframe thead th {\n",
       "        text-align: right;\n",
       "    }\n",
       "</style>\n",
       "<table border=\"1\" class=\"dataframe\">\n",
       "  <thead>\n",
       "    <tr style=\"text-align: right;\">\n",
       "      <th></th>\n",
       "      <th>Price</th>\n",
       "      <th>EngineSize</th>\n",
       "      <th>RPM</th>\n",
       "      <th>Weight</th>\n",
       "      <th>Length</th>\n",
       "      <th>MPGcity</th>\n",
       "      <th>MPGhighway</th>\n",
       "    </tr>\n",
       "  </thead>\n",
       "  <tbody>\n",
       "    <tr>\n",
       "      <th>Price</th>\n",
       "      <td>1.00</td>\n",
       "      <td>0.60</td>\n",
       "      <td>-0.00</td>\n",
       "      <td>0.65</td>\n",
       "      <td>0.50</td>\n",
       "      <td>-0.59</td>\n",
       "      <td>-0.56</td>\n",
       "    </tr>\n",
       "    <tr>\n",
       "      <th>EngineSize</th>\n",
       "      <td>0.60</td>\n",
       "      <td>1.00</td>\n",
       "      <td>-0.55</td>\n",
       "      <td>0.85</td>\n",
       "      <td>0.78</td>\n",
       "      <td>-0.71</td>\n",
       "      <td>-0.63</td>\n",
       "    </tr>\n",
       "    <tr>\n",
       "      <th>RPM</th>\n",
       "      <td>-0.00</td>\n",
       "      <td>-0.55</td>\n",
       "      <td>1.00</td>\n",
       "      <td>-0.43</td>\n",
       "      <td>-0.44</td>\n",
       "      <td>0.36</td>\n",
       "      <td>0.31</td>\n",
       "    </tr>\n",
       "    <tr>\n",
       "      <th>Weight</th>\n",
       "      <td>0.65</td>\n",
       "      <td>0.85</td>\n",
       "      <td>-0.43</td>\n",
       "      <td>1.00</td>\n",
       "      <td>0.81</td>\n",
       "      <td>-0.84</td>\n",
       "      <td>-0.81</td>\n",
       "    </tr>\n",
       "    <tr>\n",
       "      <th>Length</th>\n",
       "      <td>0.50</td>\n",
       "      <td>0.78</td>\n",
       "      <td>-0.44</td>\n",
       "      <td>0.81</td>\n",
       "      <td>1.00</td>\n",
       "      <td>-0.67</td>\n",
       "      <td>-0.54</td>\n",
       "    </tr>\n",
       "    <tr>\n",
       "      <th>MPGcity</th>\n",
       "      <td>-0.59</td>\n",
       "      <td>-0.71</td>\n",
       "      <td>0.36</td>\n",
       "      <td>-0.84</td>\n",
       "      <td>-0.67</td>\n",
       "      <td>1.00</td>\n",
       "      <td>0.94</td>\n",
       "    </tr>\n",
       "    <tr>\n",
       "      <th>MPGhighway</th>\n",
       "      <td>-0.56</td>\n",
       "      <td>-0.63</td>\n",
       "      <td>0.31</td>\n",
       "      <td>-0.81</td>\n",
       "      <td>-0.54</td>\n",
       "      <td>0.94</td>\n",
       "      <td>1.00</td>\n",
       "    </tr>\n",
       "  </tbody>\n",
       "</table>\n",
       "</div>"
      ],
      "text/plain": [
       "            Price  EngineSize   RPM  Weight  Length  MPGcity  MPGhighway\n",
       "Price        1.00        0.60 -0.00    0.65    0.50    -0.59       -0.56\n",
       "EngineSize   0.60        1.00 -0.55    0.85    0.78    -0.71       -0.63\n",
       "RPM         -0.00       -0.55  1.00   -0.43   -0.44     0.36        0.31\n",
       "Weight       0.65        0.85 -0.43    1.00    0.81    -0.84       -0.81\n",
       "Length       0.50        0.78 -0.44    0.81    1.00    -0.67       -0.54\n",
       "MPGcity     -0.59       -0.71  0.36   -0.84   -0.67     1.00        0.94\n",
       "MPGhighway  -0.56       -0.63  0.31   -0.81   -0.54     0.94        1.00"
      ]
     },
     "execution_count": 188,
     "metadata": {},
     "output_type": "execute_result"
    }
   ],
   "source": [
    "cars[['Price', 'EngineSize', 'RPM', 'Weight', 'Length', 'MPGcity', 'MPGhighway']].corr()"
   ]
  },
  {
   "cell_type": "code",
   "execution_count": 187,
   "id": "9fffb46e",
   "metadata": {},
   "outputs": [
    {
     "data": {
      "text/html": [
       "<div>\n",
       "<style scoped>\n",
       "    .dataframe tbody tr th:only-of-type {\n",
       "        vertical-align: middle;\n",
       "    }\n",
       "\n",
       "    .dataframe tbody tr th {\n",
       "        vertical-align: top;\n",
       "    }\n",
       "\n",
       "    .dataframe thead th {\n",
       "        text-align: right;\n",
       "    }\n",
       "</style>\n",
       "<table border=\"1\" class=\"dataframe\">\n",
       "  <thead>\n",
       "    <tr style=\"text-align: right;\">\n",
       "      <th></th>\n",
       "      <th>vif</th>\n",
       "      <th>feats</th>\n",
       "    </tr>\n",
       "  </thead>\n",
       "  <tbody>\n",
       "    <tr>\n",
       "      <th>0</th>\n",
       "      <td>4.61</td>\n",
       "      <td>EngineSize</td>\n",
       "    </tr>\n",
       "    <tr>\n",
       "      <th>1</th>\n",
       "      <td>1.45</td>\n",
       "      <td>RPM</td>\n",
       "    </tr>\n",
       "    <tr>\n",
       "      <th>2</th>\n",
       "      <td>8.69</td>\n",
       "      <td>Weight</td>\n",
       "    </tr>\n",
       "    <tr>\n",
       "      <th>3</th>\n",
       "      <td>4.01</td>\n",
       "      <td>Length</td>\n",
       "    </tr>\n",
       "    <tr>\n",
       "      <th>4</th>\n",
       "      <td>13.67</td>\n",
       "      <td>MPGcity</td>\n",
       "    </tr>\n",
       "    <tr>\n",
       "      <th>5</th>\n",
       "      <td>12.94</td>\n",
       "      <td>MPGhighway</td>\n",
       "    </tr>\n",
       "  </tbody>\n",
       "</table>\n",
       "</div>"
      ],
      "text/plain": [
       "    vif       feats\n",
       "0  4.61  EngineSize\n",
       "1  1.45         RPM\n",
       "2  8.69      Weight\n",
       "3  4.01      Length\n",
       "4 13.67     MPGcity\n",
       "5 12.94  MPGhighway"
      ]
     },
     "execution_count": 187,
     "metadata": {},
     "output_type": "execute_result"
    }
   ],
   "source": [
    "# 다중공선성 : 10이상시 다중공선성 존재 \n",
    "from patsy import dmatrices \n",
    "from statsmodels.stats.outliers_influence import variance_inflation_factor\n",
    "\n",
    "y, X = dmatrices(formula, data=cars, return_type='dataframe')\n",
    "\n",
    "vif = [] \n",
    "for i in range(1, len(X.columns)):\n",
    "    vif.append([variance_inflation_factor(X.values, i), X.columns[i]])\n",
    "pd.DataFrame(vif, columns=['VIF', 'feats'])"
   ]
  },
  {
   "cell_type": "code",
   "execution_count": 189,
   "id": "ff6d9c66",
   "metadata": {},
   "outputs": [
    {
     "data": {
      "text/html": [
       "<table class=\"simpletable\">\n",
       "<caption>OLS Regression Results</caption>\n",
       "<tr>\n",
       "  <th>Dep. Variable:</th>          <td>Price</td>      <th>  R-squared:         </th> <td>   0.572</td>\n",
       "</tr>\n",
       "<tr>\n",
       "  <th>Model:</th>                   <td>OLS</td>       <th>  Adj. R-squared:    </th> <td>   0.547</td>\n",
       "</tr>\n",
       "<tr>\n",
       "  <th>Method:</th>             <td>Least Squares</td>  <th>  F-statistic:       </th> <td>   23.22</td>\n",
       "</tr>\n",
       "<tr>\n",
       "  <th>Date:</th>             <td>Fri, 18 Nov 2022</td> <th>  Prob (F-statistic):</th> <td>9.60e-15</td>\n",
       "</tr>\n",
       "<tr>\n",
       "  <th>Time:</th>                 <td>08:49:29</td>     <th>  Log-Likelihood:    </th> <td> -302.95</td>\n",
       "</tr>\n",
       "<tr>\n",
       "  <th>No. Observations:</th>      <td>    93</td>      <th>  AIC:               </th> <td>   617.9</td>\n",
       "</tr>\n",
       "<tr>\n",
       "  <th>Df Residuals:</th>          <td>    87</td>      <th>  BIC:               </th> <td>   633.1</td>\n",
       "</tr>\n",
       "<tr>\n",
       "  <th>Df Model:</th>              <td>     5</td>      <th>                     </th>     <td> </td>   \n",
       "</tr>\n",
       "<tr>\n",
       "  <th>Covariance Type:</th>      <td>nonrobust</td>    <th>                     </th>     <td> </td>   \n",
       "</tr>\n",
       "</table>\n",
       "<table class=\"simpletable\">\n",
       "<tr>\n",
       "       <td></td>         <th>coef</th>     <th>std err</th>      <th>t</th>      <th>P>|t|</th>  <th>[0.025</th>    <th>0.975]</th>  \n",
       "</tr>\n",
       "<tr>\n",
       "  <th>Intercept</th>  <td>  -32.1513</td> <td>   17.704</td> <td>   -1.816</td> <td> 0.073</td> <td>  -67.339</td> <td>    3.037</td>\n",
       "</tr>\n",
       "<tr>\n",
       "  <th>EngineSize</th> <td>    4.5082</td> <td>    1.375</td> <td>    3.279</td> <td> 0.001</td> <td>    1.776</td> <td>    7.241</td>\n",
       "</tr>\n",
       "<tr>\n",
       "  <th>RPM</th>        <td>    0.0071</td> <td>    0.001</td> <td>    5.176</td> <td> 0.000</td> <td>    0.004</td> <td>    0.010</td>\n",
       "</tr>\n",
       "<tr>\n",
       "  <th>Weight</th>     <td>    0.0054</td> <td>    0.003</td> <td>    1.766</td> <td> 0.081</td> <td>   -0.001</td> <td>    0.011</td>\n",
       "</tr>\n",
       "<tr>\n",
       "  <th>Length</th>     <td>   -0.0410</td> <td>    0.083</td> <td>   -0.495</td> <td> 0.622</td> <td>   -0.206</td> <td>    0.124</td>\n",
       "</tr>\n",
       "<tr>\n",
       "  <th>MPGcity</th>    <td>   -0.2988</td> <td>    0.225</td> <td>   -1.331</td> <td> 0.187</td> <td>   -0.745</td> <td>    0.148</td>\n",
       "</tr>\n",
       "</table>\n",
       "<table class=\"simpletable\">\n",
       "<tr>\n",
       "  <th>Omnibus:</th>       <td>62.828</td> <th>  Durbin-Watson:     </th> <td>   1.439</td>\n",
       "</tr>\n",
       "<tr>\n",
       "  <th>Prob(Omnibus):</th> <td> 0.000</td> <th>  Jarque-Bera (JB):  </th> <td> 381.157</td>\n",
       "</tr>\n",
       "<tr>\n",
       "  <th>Skew:</th>          <td> 2.069</td> <th>  Prob(JB):          </th> <td>1.71e-83</td>\n",
       "</tr>\n",
       "<tr>\n",
       "  <th>Kurtosis:</th>      <td>12.013</td> <th>  Cond. No.          </th> <td>1.61e+05</td>\n",
       "</tr>\n",
       "</table><br/><br/>Notes:<br/>[1] Standard Errors assume that the covariance matrix of the errors is correctly specified.<br/>[2] The condition number is large, 1.61e+05. This might indicate that there are<br/>strong multicollinearity or other numerical problems."
      ],
      "text/plain": [
       "<class 'statsmodels.iolib.summary.Summary'>\n",
       "\"\"\"\n",
       "                            OLS Regression Results                            \n",
       "==============================================================================\n",
       "Dep. Variable:                  Price   R-squared:                       0.572\n",
       "Model:                            OLS   Adj. R-squared:                  0.547\n",
       "Method:                 Least Squares   F-statistic:                     23.22\n",
       "Date:                Fri, 18 Nov 2022   Prob (F-statistic):           9.60e-15\n",
       "Time:                        08:49:29   Log-Likelihood:                -302.95\n",
       "No. Observations:                  93   AIC:                             617.9\n",
       "Df Residuals:                      87   BIC:                             633.1\n",
       "Df Model:                           5                                         \n",
       "Covariance Type:            nonrobust                                         \n",
       "==============================================================================\n",
       "                 coef    std err          t      P>|t|      [0.025      0.975]\n",
       "------------------------------------------------------------------------------\n",
       "Intercept    -32.1513     17.704     -1.816      0.073     -67.339       3.037\n",
       "EngineSize     4.5082      1.375      3.279      0.001       1.776       7.241\n",
       "RPM            0.0071      0.001      5.176      0.000       0.004       0.010\n",
       "Weight         0.0054      0.003      1.766      0.081      -0.001       0.011\n",
       "Length        -0.0410      0.083     -0.495      0.622      -0.206       0.124\n",
       "MPGcity       -0.2988      0.225     -1.331      0.187      -0.745       0.148\n",
       "==============================================================================\n",
       "Omnibus:                       62.828   Durbin-Watson:                   1.439\n",
       "Prob(Omnibus):                  0.000   Jarque-Bera (JB):              381.157\n",
       "Skew:                           2.069   Prob(JB):                     1.71e-83\n",
       "Kurtosis:                      12.013   Cond. No.                     1.61e+05\n",
       "==============================================================================\n",
       "\n",
       "Notes:\n",
       "[1] Standard Errors assume that the covariance matrix of the errors is correctly specified.\n",
       "[2] The condition number is large, 1.61e+05. This might indicate that there are\n",
       "strong multicollinearity or other numerical problems.\n",
       "\"\"\""
      ]
     },
     "execution_count": 189,
     "metadata": {},
     "output_type": "execute_result"
    }
   ],
   "source": [
    "formula = 'Price ~ EngineSize + RPM + Weight + Length + MPGcity'  # MPGhighway 제외\n",
    "model = smf.ols(formula, data=cars)\n",
    "model.fit().summary()"
   ]
  },
  {
   "cell_type": "markdown",
   "id": "930f6751",
   "metadata": {},
   "source": [
    "adj R2 비슷, AIC 하락. 변수별 p-value 작아짐 "
   ]
  },
  {
   "cell_type": "markdown",
   "id": "e5a61da0",
   "metadata": {},
   "source": [
    "### 변수선택법 "
   ]
  },
  {
   "cell_type": "code",
   "execution_count": 198,
   "id": "f45500ff",
   "metadata": {},
   "outputs": [
    {
     "name": "stdout",
     "output_type": "stream",
     "text": [
      "fatal: destination path 'reg_var_select' already exists and is not an empty directory.\r\n"
     ]
    }
   ],
   "source": [
    "# 변수선택 코드 불러오기 \n",
    "#!git clone https://github.com/YoonHanho/reg_var_select.git\n",
    "import var_select as vs\n",
    "vs?? # 물음표 두개 "
   ]
  },
  {
   "cell_type": "code",
   "execution_count": 204,
   "id": "79fd5fa0",
   "metadata": {},
   "outputs": [
    {
     "name": "stdout",
     "output_type": "stream",
     "text": [
      "Processed  6 models on 1 predictors in\n",
      "Selected predictors: ['Weight', 'Intercept']  AIC: <statsmodels.regression.linear_model.RegressionResultsWrapper object at 0x7fa621a52e50>\n",
      "forward\n",
      "Processed  1 models on 0 predictors in 0.002180337905883789\n",
      "Selected predictors: ['Intercept'] AIC: <statsmodels.regression.linear_model.RegressionResultsWrapper object at 0x7fa621bb8670>\n",
      "Processed  5 models on 2 predictors in\n",
      "Selected predictors: ['Weight', 'RPM', 'Intercept']  AIC: <statsmodels.regression.linear_model.RegressionResultsWrapper object at 0x7fa621a52880>\n",
      "forward\n",
      "Processed  2 models on 1 predictors in 0.00272369384765625\n",
      "Selected predictors: ['Weight', 'Intercept'] AIC: <statsmodels.regression.linear_model.RegressionResultsWrapper object at 0x7fa621bb89a0>\n",
      "Processed  4 models on 3 predictors in\n",
      "Selected predictors: ['Weight', 'RPM', 'EngineSize', 'Intercept']  AIC: <statsmodels.regression.linear_model.RegressionResultsWrapper object at 0x7fa621a529a0>\n",
      "forward\n",
      "Processed  3 models on 2 predictors in 0.0041713714599609375\n",
      "Selected predictors: ['Weight', 'RPM', 'Intercept'] AIC: <statsmodels.regression.linear_model.RegressionResultsWrapper object at 0x7fa621a335b0>\n",
      "Processed  3 models on 4 predictors in\n",
      "Selected predictors: ['Weight', 'RPM', 'EngineSize', 'MPGcity', 'Intercept']  AIC: <statsmodels.regression.linear_model.RegressionResultsWrapper object at 0x7fa621a52dc0>\n",
      "forward\n",
      "Processed  4 models on 3 predictors in 0.005423069000244141\n",
      "Selected predictors: ['Weight', 'RPM', 'EngineSize', 'Intercept'] AIC: <statsmodels.regression.linear_model.RegressionResultsWrapper object at 0x7fa621a52fd0>\n",
      "backward\n",
      "Processed  3 models on 4 predictors in\n",
      "Selected predictors: ['Weight', 'RPM', 'EngineSize', 'MPGcity', 'Intercept']  AIC: <statsmodels.regression.linear_model.RegressionResultsWrapper object at 0x7fa621ba90d0>\n",
      "forward\n",
      "Processed  4 models on 3 predictors in 0.00480341911315918\n",
      "Selected predictors: ['Weight', 'RPM', 'EngineSize', 'Intercept'] AIC: <statsmodels.regression.linear_model.RegressionResultsWrapper object at 0x7fa621bb8670>\n",
      "backward\n",
      "Processed  3 models on 4 predictors in\n",
      "Selected predictors: ['Weight', 'RPM', 'EngineSize', 'MPGcity', 'Intercept']  AIC: <statsmodels.regression.linear_model.RegressionResultsWrapper object at 0x7fa621bed940>\n",
      "forward\n",
      "Processed  4 models on 3 predictors in 0.00489354133605957\n",
      "Selected predictors: ['Weight', 'RPM', 'EngineSize', 'Intercept'] AIC: <statsmodels.regression.linear_model.RegressionResultsWrapper object at 0x7fa621b9da00>\n",
      "backward\n",
      "Total elapsed time: 0.09004020690917969 seconds.\n"
     ]
    }
   ],
   "source": [
    "stepwise_best_model = stepwise_model(X=X, y=y)"
   ]
  },
  {
   "cell_type": "code",
   "execution_count": 205,
   "id": "43f6d6d9",
   "metadata": {},
   "outputs": [
    {
     "data": {
      "text/html": [
       "<table class=\"simpletable\">\n",
       "<caption>OLS Regression Results</caption>\n",
       "<tr>\n",
       "  <th>Dep. Variable:</th>          <td>Price</td>      <th>  R-squared:         </th> <td>   0.561</td>\n",
       "</tr>\n",
       "<tr>\n",
       "  <th>Model:</th>                   <td>OLS</td>       <th>  Adj. R-squared:    </th> <td>   0.547</td>\n",
       "</tr>\n",
       "<tr>\n",
       "  <th>Method:</th>             <td>Least Squares</td>  <th>  F-statistic:       </th> <td>   37.98</td>\n",
       "</tr>\n",
       "<tr>\n",
       "  <th>Date:</th>             <td>Fri, 18 Nov 2022</td> <th>  Prob (F-statistic):</th> <td>6.75e-16</td>\n",
       "</tr>\n",
       "<tr>\n",
       "  <th>Time:</th>                 <td>09:12:05</td>     <th>  Log-Likelihood:    </th> <td> -304.05</td>\n",
       "</tr>\n",
       "<tr>\n",
       "  <th>No. Observations:</th>      <td>    93</td>      <th>  AIC:               </th> <td>   616.1</td>\n",
       "</tr>\n",
       "<tr>\n",
       "  <th>Df Residuals:</th>          <td>    89</td>      <th>  BIC:               </th> <td>   626.2</td>\n",
       "</tr>\n",
       "<tr>\n",
       "  <th>Df Model:</th>              <td>     3</td>      <th>                     </th>     <td> </td>   \n",
       "</tr>\n",
       "<tr>\n",
       "  <th>Covariance Type:</th>      <td>nonrobust</td>    <th>                     </th>     <td> </td>   \n",
       "</tr>\n",
       "</table>\n",
       "<table class=\"simpletable\">\n",
       "<tr>\n",
       "       <td></td>         <th>coef</th>     <th>std err</th>      <th>t</th>      <th>P>|t|</th>  <th>[0.025</th>    <th>0.975]</th>  \n",
       "</tr>\n",
       "<tr>\n",
       "  <th>Weight</th>     <td>    0.0073</td> <td>    0.002</td> <td>    3.372</td> <td> 0.001</td> <td>    0.003</td> <td>    0.012</td>\n",
       "</tr>\n",
       "<tr>\n",
       "  <th>RPM</th>        <td>    0.0071</td> <td>    0.001</td> <td>    5.208</td> <td> 0.000</td> <td>    0.004</td> <td>    0.010</td>\n",
       "</tr>\n",
       "<tr>\n",
       "  <th>EngineSize</th> <td>    4.3054</td> <td>    1.325</td> <td>    3.249</td> <td> 0.002</td> <td>    1.673</td> <td>    6.938</td>\n",
       "</tr>\n",
       "<tr>\n",
       "  <th>Intercept</th>  <td>  -51.7933</td> <td>    9.106</td> <td>   -5.688</td> <td> 0.000</td> <td>  -69.887</td> <td>  -33.699</td>\n",
       "</tr>\n",
       "</table>\n",
       "<table class=\"simpletable\">\n",
       "<tr>\n",
       "  <th>Omnibus:</th>       <td>62.441</td> <th>  Durbin-Watson:     </th> <td>   1.406</td>\n",
       "</tr>\n",
       "<tr>\n",
       "  <th>Prob(Omnibus):</th> <td> 0.000</td> <th>  Jarque-Bera (JB):  </th> <td> 361.880</td>\n",
       "</tr>\n",
       "<tr>\n",
       "  <th>Skew:</th>          <td> 2.076</td> <th>  Prob(JB):          </th> <td>2.62e-79</td>\n",
       "</tr>\n",
       "<tr>\n",
       "  <th>Kurtosis:</th>      <td>11.726</td> <th>  Cond. No.          </th> <td>8.27e+04</td>\n",
       "</tr>\n",
       "</table><br/><br/>Notes:<br/>[1] Standard Errors assume that the covariance matrix of the errors is correctly specified.<br/>[2] The condition number is large, 8.27e+04. This might indicate that there are<br/>strong multicollinearity or other numerical problems."
      ],
      "text/plain": [
       "<class 'statsmodels.iolib.summary.Summary'>\n",
       "\"\"\"\n",
       "                            OLS Regression Results                            \n",
       "==============================================================================\n",
       "Dep. Variable:                  Price   R-squared:                       0.561\n",
       "Model:                            OLS   Adj. R-squared:                  0.547\n",
       "Method:                 Least Squares   F-statistic:                     37.98\n",
       "Date:                Fri, 18 Nov 2022   Prob (F-statistic):           6.75e-16\n",
       "Time:                        09:12:05   Log-Likelihood:                -304.05\n",
       "No. Observations:                  93   AIC:                             616.1\n",
       "Df Residuals:                      89   BIC:                             626.2\n",
       "Df Model:                           3                                         \n",
       "Covariance Type:            nonrobust                                         \n",
       "==============================================================================\n",
       "                 coef    std err          t      P>|t|      [0.025      0.975]\n",
       "------------------------------------------------------------------------------\n",
       "Weight         0.0073      0.002      3.372      0.001       0.003       0.012\n",
       "RPM            0.0071      0.001      5.208      0.000       0.004       0.010\n",
       "EngineSize     4.3054      1.325      3.249      0.002       1.673       6.938\n",
       "Intercept    -51.7933      9.106     -5.688      0.000     -69.887     -33.699\n",
       "==============================================================================\n",
       "Omnibus:                       62.441   Durbin-Watson:                   1.406\n",
       "Prob(Omnibus):                  0.000   Jarque-Bera (JB):              361.880\n",
       "Skew:                           2.076   Prob(JB):                     2.62e-79\n",
       "Kurtosis:                      11.726   Cond. No.                     8.27e+04\n",
       "==============================================================================\n",
       "\n",
       "Notes:\n",
       "[1] Standard Errors assume that the covariance matrix of the errors is correctly specified.\n",
       "[2] The condition number is large, 8.27e+04. This might indicate that there are\n",
       "strong multicollinearity or other numerical problems.\n",
       "\"\"\""
      ]
     },
     "execution_count": 205,
     "metadata": {},
     "output_type": "execute_result"
    }
   ],
   "source": [
    "stepwise_best_model.summary()"
   ]
  },
  {
   "cell_type": "code",
   "execution_count": 206,
   "id": "ee1b7638",
   "metadata": {},
   "outputs": [
    {
     "data": {
      "text/plain": [
       "array([20.33244015, 26.8996387 , 23.83232493, 24.05045884, 30.19223491,\n",
       "       15.52094877, 23.86095473, 30.98119797, 24.04273298, 24.72003535,\n",
       "       39.20207837, 12.68520798, 14.8301914 , 19.04715031, 17.81135479,\n",
       "       25.64238163, 24.37196619, 27.96884668, 32.8060775 , 25.58368672,\n",
       "       19.03655003, 22.4353744 , 13.74894781, 11.15543185, 14.62838692,\n",
       "       23.54465077, 15.42821124, 31.36821274, 13.93072607, 29.81121027,\n",
       "        2.70119118, 20.47928215,  7.47352375, 11.47548417, 15.55271398,\n",
       "       22.34349488, 19.36233149, 26.53753722,  5.2864199 , 11.41219881,\n",
       "       20.10028985, 13.62099333, 19.52290919, 10.7460581 , 17.5854594 ,\n",
       "       10.66461274, 20.37338624, 39.24416316, 23.54607016, 29.25958497,\n",
       "       22.65837945, 30.13958547,  7.4829497 , 12.72843148, 20.30554608,\n",
       "       23.76278467, 20.98055134, 15.53268775, 26.64514914, 13.71417768,\n",
       "       17.78246401, 13.93072607, 30.82287797, 16.17904729, 20.45669783,\n",
       "       24.99745742, 21.29201979, 21.8467805 , 15.59366007, 25.64238163,\n",
       "       23.86095473, 10.63443305, 11.92259732, 12.44217672, 19.04715031,\n",
       "       23.41266724, 24.04273298, 20.00410059, 10.01065784,  7.98274793,\n",
       "       10.96305331, 19.85011005, 10.67017575,  6.50849566, 17.44921768,\n",
       "       18.03090809, 21.54310917, 11.27420544, 19.69787116, 19.68120948,\n",
       "       21.85307104, 18.1342459 , 26.13243759])"
      ]
     },
     "execution_count": 206,
     "metadata": {},
     "output_type": "execute_result"
    }
   ],
   "source": [
    "stepwise_best_model.predict()"
   ]
  },
  {
   "cell_type": "code",
   "execution_count": 208,
   "id": "6d4d170b",
   "metadata": {},
   "outputs": [
    {
     "data": {
      "text/plain": [
       "0    -4.43\n",
       "1     7.00\n",
       "2     5.27\n",
       "3    13.65\n",
       "4    -0.19\n",
       "      ... \n",
       "88    0.00\n",
       "89    0.32\n",
       "90    1.45\n",
       "91    4.57\n",
       "92    0.57\n",
       "Length: 93, dtype: float64"
      ]
     },
     "execution_count": 208,
     "metadata": {},
     "output_type": "execute_result"
    }
   ],
   "source": [
    "stepwise_best_model.resid"
   ]
  },
  {
   "cell_type": "code",
   "execution_count": 209,
   "id": "3bae2c3c",
   "metadata": {},
   "outputs": [
    {
     "data": {
      "text/plain": [
       "1.4060821562837071"
      ]
     },
     "execution_count": 209,
     "metadata": {},
     "output_type": "execute_result"
    }
   ],
   "source": [
    "# 잔차 검증\n",
    "# 더빈왓슨 독립성 검정 : 2이면 독립성, 0에 가까울수록 양의 상관, 4에 가까울수록 음의 상관 \n",
    "# https://www.statsmodels.org/dev/generated/statsmodels.stats.stattools.durbin_watson.html\n",
    "# https://www.statology.org/durbin-watson-test-python/ \n",
    "from statsmodels.stats.stattools import durbin_watson\n",
    "durbin_watson(stepwise_best_model.resid) "
   ]
  },
  {
   "cell_type": "code",
   "execution_count": 210,
   "id": "8da8d4af",
   "metadata": {},
   "outputs": [
    {
     "data": {
      "text/plain": [
       "ShapiroResult(statistic=0.8587311506271362, pvalue=5.97627476395246e-08)"
      ]
     },
     "execution_count": 210,
     "metadata": {},
     "output_type": "execute_result"
    }
   ],
   "source": [
    "# 정규성 검증 : Ho 정규분포다 \n",
    "from scipy.stats import shapiro\n",
    "shapiro(stepwise_best_model.resid)  # 정규성 만족"
   ]
  },
  {
   "cell_type": "code",
   "execution_count": 213,
   "id": "9968a8e4",
   "metadata": {},
   "outputs": [
    {
     "data": {
      "text/plain": [
       "<AxesSubplot:>"
      ]
     },
     "execution_count": 213,
     "metadata": {},
     "output_type": "execute_result"
    },
    {
     "data": {
      "image/png": "[encoded data removed]",
      "text/plain": [
       "<Figure size 432x288 with 1 Axes>"
      ]
     },
     "metadata": {
      "needs_background": "light"
     },
     "output_type": "display_data"
    }
   ],
   "source": [
    "# 잔차분석 시각화 : 등분산 가정 벗어남 (p323)\n",
    "sns.residplot(stepwise_best_model.predict(), stepwise_best_model.resid, lowess=True, line_kws=dict(color=\"r\"))"
   ]
  },
  {
   "cell_type": "code",
   "execution_count": 214,
   "id": "a339301b",
   "metadata": {},
   "outputs": [
    {
     "data": {
      "image/png": "[encoded data removed]",
      "text/plain": [
       "<Figure size 432x432 with 1 Axes>"
      ]
     },
     "metadata": {
      "needs_background": "light"
     },
     "output_type": "display_data"
    }
   ],
   "source": [
    "# QQ plot : 정규성 만족하기 어려움 (r383) --> 이차트가 더 깔끔\n",
    "import scipy.stats as stats\n",
    "fig, ax = plt.subplots(figsize=(6,6))\n",
    "stats.probplot(stepwise_best_model.resid, plot=ax);"
   ]
  },
  {
   "cell_type": "code",
   "execution_count": 216,
   "id": "d08b232e",
   "metadata": {},
   "outputs": [
    {
     "data": {
      "image/png": "[encoded data removed]",
      "text/plain": [
       "<Figure size 432x288 with 1 Axes>"
      ]
     },
     "metadata": {
      "needs_background": "light"
     },
     "output_type": "display_data"
    }
   ],
   "source": [
    "#검증 데이터에 대한 예측 : 특이값 있는지 확인\n",
    "plt.plot(np.array(y).flatten() - stepwise_best_model.predict(), label=\"predFull\");"
   ]
  },
  {
   "cell_type": "markdown",
   "id": "b7ba6ecf",
   "metadata": {},
   "source": [
    "### 정규회귀 "
   ]
  },
  {
   "cell_type": "code",
   "execution_count": 219,
   "id": "69bcafea",
   "metadata": {},
   "outputs": [],
   "source": [
    "### 통계분석 \n",
    "# 1. 데이터를 8:2로 분할하고 선형회귀를 적용후, 결정계수와 rmse 구하기 \n",
    "#!pip install mglearn\n",
    "import mglearn\n",
    "\n",
    "X, y = mglearn.datasets.load_extended_boston()"
   ]
  },
  {
   "cell_type": "code",
   "execution_count": 221,
   "id": "eb3ca42d",
   "metadata": {},
   "outputs": [
    {
     "name": "stdout",
     "output_type": "stream",
     "text": [
      "결정계수 :  0.6486839499987778\n",
      "RMSE :  5.408558693330343\n"
     ]
    }
   ],
   "source": [
    "from sklearn.model_selection import train_test_split, GridSearchCV \n",
    "from sklearn.linear_model import LinearRegression, Ridge, Lasso \n",
    "from sklearn.metrics import mean_squared_error \n",
    "\n",
    "X_train, X_test, y_train, y_test = train_test_split(X, y, test_size=0.3, random_state=0)\n",
    "\n",
    "# 선형회귀\n",
    "lr = LinearRegression()\n",
    "lr.fit(X_train, y_train)\n",
    "print(\"결정계수 : \", lr.score(X_test, y_test))\n",
    "print(\"RMSE : \", np.sqrt(mean_squared_error(lr.predict(X_test), y_test)))"
   ]
  },
  {
   "cell_type": "code",
   "execution_count": 226,
   "id": "4b33de0a",
   "metadata": {},
   "outputs": [
    {
     "name": "stdout",
     "output_type": "stream",
     "text": [
      "최적모델 :  {'alpha': 0.1}\n",
      "결정계수 :  0.7922741598687775\n",
      "RMSE :  4.158893636906414\n"
     ]
    }
   ],
   "source": [
    "# 릿지회귀 : 알파 0부터 1까지 0.1단위로 학습하여 가장 결정계수 높은 알파 찾기 \n",
    "alpha = np.arange(0, 1.1, 0.1)\n",
    "\n",
    "ridge = Ridge(normalize=True)\n",
    "param_grid = {'alpha':alpha}\n",
    "ridge_model = GridSearchCV(ridge, param_grid)\n",
    "ridge_model.fit(X_train, y_train)\n",
    "\n",
    "print(\"최적모델 : \", ridge_model.best_params_)\n",
    "print(\"결정계수 : \", ridge_model.score(X_test, y_test))\n",
    "print(\"RMSE : \", np.sqrt(mean_squared_error(ridge_model.predict(X_test), y_test)))"
   ]
  },
  {
   "cell_type": "code",
   "execution_count": 227,
   "id": "35667bfe",
   "metadata": {},
   "outputs": [
    {
     "name": "stdout",
     "output_type": "stream",
     "text": [
      "최적모델 :  {'alpha': 0.1}\n",
      "결정계수 :  0.6764782303499448\n",
      "RMSE :  5.190202543533811\n"
     ]
    }
   ],
   "source": [
    "# 라쏘회귀 : 알파 0부터 1까지 0.1단위로 학습하여 가장 결정계수 높은 알파 찾기 \n",
    "lasso = Lasso(normalize=True)\n",
    "param_grid = {'alpha':alpha}\n",
    "lasso_model = GridSearchCV(lasso, param_grid)\n",
    "lasso_model.fit(X_train, y_train)\n",
    "\n",
    "print(\"최적모델 : \", lasso_model.best_params_)\n",
    "print(\"결정계수 : \", lasso_model.score(X_test, y_test))\n",
    "print(\"RMSE : \", np.sqrt(mean_squared_error(lasso_model.predict(X_test), y_test)))"
   ]
  },
  {
   "cell_type": "code",
   "execution_count": 237,
   "id": "46cfbe2f",
   "metadata": {},
   "outputs": [
    {
     "name": "stdout",
     "output_type": "stream",
     "text": [
      "최적모델 :  {'alpha': 0.1, 'max_iter': 500, 'normalize': False, 'solver': 'svd'}\n",
      "결정계수 :  0.7974222058926244\n",
      "RMSE :  4.107035627850682\n"
     ]
    }
   ],
   "source": [
    "# 릿지모델 추가로 그리드서치 더 해 봄 \n",
    "params = {'alpha' : [0, 0.1, 1.0, 10],\n",
    "          'normalize' : [True, False],\n",
    "          'max_iter' : [500, 1000],\n",
    "          'solver' : ['auto', 'svd', 'cholesky']}\n",
    "\n",
    "ridge = Ridge()\n",
    "ridge_model = GridSearchCV(ridge, params)\n",
    "ridge_model.fit(X_train, y_train)\n",
    "\n",
    "print(\"최적모델 : \", ridge_model.best_params_)\n",
    "print(\"결정계수 : \", ridge_model.score(X_test, y_test))\n",
    "print(\"RMSE : \", np.sqrt(mean_squared_error(ridge_model.predict(X_test), y_test)))"
   ]
  },
  {
   "cell_type": "code",
   "execution_count": 238,
   "id": "1881f028",
   "metadata": {},
   "outputs": [
    {
     "name": "stdout",
     "output_type": "stream",
     "text": [
      "최적모델 :  {'C': 10, 'kernel': 'linear'}\n",
      "결정계수 :  0.7562525609640172\n",
      "RMSE :  4.50508077463113\n"
     ]
    }
   ],
   "source": [
    "# 서포트벡터 회귀 \n",
    "from sklearn.svm import SVR \n",
    "from sklearn.preprocessing import MinMaxScaler\n",
    "\n",
    "mms = MinMaxScaler()\n",
    "X_train_scaler = mms.fit_transform(X_train)\n",
    "X_test_scaler = mms.transform(X_test)\n",
    "\n",
    "svr = SVR()\n",
    "params = {'kernel':['rbf', 'linear', 'poly'],\n",
    "          'C':[0.1, 1, 10]}\n",
    "\n",
    "svr_model = GridSearchCV(svr, params)\n",
    "svr_model.fit(X_train_scaler, y_train)\n",
    "\n",
    "print(\"최적모델 : \", svr_model.best_params_)\n",
    "print(\"결정계수 : \", svr_model.score(X_test_scaler, y_test))\n",
    "print(\"RMSE : \", np.sqrt(mean_squared_error(svr_model.predict(X_test_scaler), y_test)))"
   ]
  },
  {
   "cell_type": "code",
   "execution_count": 249,
   "id": "9af080ad",
   "metadata": {},
   "outputs": [
    {
     "name": "stdout",
     "output_type": "stream",
     "text": [
      "최적모델 :  {'criterion': 'poisson', 'max_depth': 5}\n",
      "결정계수 :  0.7842465637364158\n",
      "RMSE :  4.238492432700937\n",
      "CPU times: user 52.4 s, sys: 56 ms, total: 52.4 s\n",
      "Wall time: 52.5 s\n"
     ]
    }
   ],
   "source": [
    "%%time   \n",
    "# 랜덤포레스트회귀 : 그리드서치 오래걸림 ㄷㄷ \n",
    "from sklearn.ensemble import RandomForestRegressor\n",
    "\n",
    "rfr = RandomForestRegressor()\n",
    "params = {'criterion' : [\"squared_error\", \"absolute_error\", \"poisson\"],    \n",
    "          'max_depth' : [1,3,5]}  \n",
    "\n",
    "rfr_model = GridSearchCV(rfr, params)\n",
    "rfr_model.fit(X_train, y_train)\n",
    "\n",
    "print(\"최적모델 : \", rfr_model.best_params_)\n",
    "print(\"결정계수 : \", rfr_model.score(X_test, y_test))\n",
    "print(\"RMSE : \", np.sqrt(mean_squared_error(rfr_model.predict(X_test), y_test)))"
   ]
  },
  {
   "cell_type": "code",
   "execution_count": 255,
   "id": "d26f4367",
   "metadata": {},
   "outputs": [
    {
     "name": "stdout",
     "output_type": "stream",
     "text": [
      "OOB Score :  0.8431694879390393\n",
      "결정계수 :  0.7597310758378819\n",
      "RMSE :  4.472819301067281\n",
      "CPU times: user 120 ms, sys: 4 ms, total: 124 ms\n",
      "Wall time: 123 ms\n"
     ]
    }
   ],
   "source": [
    "%%time\n",
    "# Bagging 회귀 : oob 활용 가능(test, train없이도 정확도 예측)\n",
    "from sklearn.ensemble import BaggingRegressor \n",
    "from sklearn.tree import DecisionTreeRegressor \n",
    "bag = BaggingRegressor(base_estimator=DecisionTreeRegressor(), oob_score=True)\n",
    "bag_model = bag.fit(X_train, y_train)  \n",
    "\n",
    "print(\"OOB Score : \", bag_model.oob_score_)  # OOB스코어는 X, y만으로도 나옴\n",
    "print(\"결정계수 : \", bag_model.score(X_test, y_test))\n",
    "print(\"RMSE : \", np.sqrt(mean_squared_error(bag_model.predict(X_test), y_test)))"
   ]
  },
  {
   "cell_type": "code",
   "execution_count": null,
   "id": "c3acdc72",
   "metadata": {},
   "outputs": [],
   "source": []
  },
  {
   "cell_type": "code",
   "execution_count": null,
   "id": "9bf9405a",
   "metadata": {},
   "outputs": [],
   "source": []
  },
  {
   "cell_type": "code",
   "execution_count": 203,
   "id": "cf1e11ba",
   "metadata": {},
   "outputs": [],
   "source": [
    "#### 변수선택법 소스코드 #########\n",
    "import pandas as pd\n",
    "import numpy as np\n",
    "\n",
    "import statsmodels.api as sm \n",
    "import statsmodels.formula.api as smf \n",
    "\n",
    "import time\n",
    "import itertools\n",
    "\n",
    "\n",
    "def processSubset(X,y, feature_set):\n",
    "            model = sm.OLS(y,X[list(feature_set)]) # Modeling\n",
    "            regr = model.fit() # 모델 학습\n",
    "            AIC = regr.aic # 모델의 AIC\n",
    "            return {\"model\":regr, \"AIC\":AIC}\n",
    "# 전진선택법\n",
    "def forward(X, y, predictors):\n",
    "    # 데이터 변수들이 미리정의된 predictors에 있는지 없는지 확인 및 분류\n",
    "    remaining_predictors = [p for p in X.columns.difference(['Intercept']) if p not in predictors]\n",
    "    results = []\n",
    "    for p in remaining_predictors:\n",
    "        results.append(processSubset(X=X, y= y,            feature_set=predictors+[p]+['Intercept']))\n",
    "        \n",
    "    # 데이터프레임으로 변환\n",
    "    models = pd.DataFrame(results)\n",
    "    # AIC가 가장 낮은 것을 선택\n",
    "    best_model = models.loc[models['AIC'].argmin()] # index\n",
    "    print(\"Processed \", models.shape[0], \"models on\", len(predictors)+1, \"predictors in\")\n",
    "    print('Selected predictors:',best_model['model'].model.exog_names,' AIC:',best_model[0] )\n",
    "    return best_model   \n",
    "\n",
    "\n",
    "def forward_model(X,y):\n",
    "\n",
    "    Fmodels = pd.DataFrame(columns=[\"AIC\",\"model\"])\n",
    "    tic = time.time()\n",
    "    \n",
    "    # 미리 정의된 데이터 변수\n",
    "    predictors = []\n",
    "    \n",
    "    # 변수 1~10개 : 0-9 -> 1-10\n",
    "    for i in range(1,len(X,columns.difference(['const']))+1):\n",
    "        Forward_result = forward(X=X,y=y,predictors=predictors)\n",
    "        if i > 1:\n",
    "            if Forward_result[\"AIC\"] > Fmodel_before:\n",
    "                break\n",
    "        Fmodels.loc[i] = Forward_result\n",
    "        predictors = Fmodels.loc[i][\"model\"].model.exog_names\n",
    "        Fmodel_before = Fmodels.loc[i][\"AIC\"]\n",
    "        predictors = [k for k in predictors if k != 'const']\n",
    "    toc = time.time()\n",
    "    print(\"Total elapsed time:\",(toc-tic), \"seconds.\")\n",
    "    \n",
    "    return (Fmodels['model'][len(Fmodels['model'])])\n",
    "    \n",
    "\n",
    "        \n",
    "# 후진소거법\n",
    "def backward(X,y,predictors):\n",
    "    tic = time.time()\n",
    "    results = []\n",
    "    \n",
    "    # 데이터 변수들이 미리정의된 predictors 조합 확인\n",
    "    for combo in itertools.combinations(predictors, len(predictors) -1):\n",
    "        results.append(processSubset(X=X, y= y,        feature_set = list(combo)+['Intercept']))\n",
    "    models = pd.DataFrame(results)\n",
    "    \n",
    "    # 가장 낮은 AIC를 가진 모델을 선택\n",
    "    best_model = models.loc[models['AIC'].argmin()]\n",
    "    toc = time.time()\n",
    "    print(\"Processed \", models.shape[0], \"models on\",          len(predictors) -1, \"predictors in\", (toc - tic))\n",
    "    print('Selected predictors:',best_model['model'].model.exog_names,         'AIC:',best_model[0] )\n",
    "\n",
    "    return best_model   \n",
    "\n",
    "\n",
    "def backward_model(X,y) :\n",
    "    Bmodels = pd.DataFrame(columns=[\"AIC\",\"model\"], index = range(1,len(X.columns)))\n",
    "    tic = time.time()\n",
    "    predictors = X.columns.difference(['const'])\n",
    "    Bmodel_before = processSubset(X,y,predictors)['AIC']\n",
    "    while (len(predictors) > 1):\n",
    "        Backward_result = backward(X=train_x, y= train_y, predictors=predictors)\n",
    "        if Backward_result['AIC'] > Bmodel_before :\n",
    "                break\n",
    "        Bmodels.loc[len(predictors) -1] = Backward_result\n",
    "        predictors = Bmodel.loc[len(predictors) - 1]['model'].model.exog_names\n",
    "        Bmodel_before = Backward_result[\"AIC\"]\n",
    "        predictors = [k for k in predictors if k != 'const']\n",
    "    \n",
    "    toc = time.time()\n",
    "    print(\"Total elapsed time:\",(toc-tic),\"seconds.\")\n",
    "    return (Bmodels[\"model\"].dropna().iloc[0])\n",
    "\n",
    "\n",
    "\n",
    "# 단계적 선택법\n",
    "def stepwise_model(X,y):\n",
    "    Stepmodels = pd.DataFrame(columns=[\"AIC\", \"model\"])\n",
    "    tic = time.time()\n",
    "    predictors = []\n",
    "    Smodel_before = processSubset(X,y,predictors+['Intercept'])['AIC']\n",
    "\n",
    "    for i in range(1, len(X.columns.difference(['Intercept'])) +1):\n",
    "        Forward_result = forward(X=X, y=y, predictors=predictors) \n",
    "        print('forward')\n",
    "        Stepmodels.loc[i] = Forward_result\n",
    "        predictors = Stepmodels.loc[i][\"model\"].model.exog_names\n",
    "        predictors = [ k for k in predictors if k !='Intercept']\n",
    "        Backward_result = backward(X=X, y=y, predictors=predictors)\n",
    "\n",
    "        if Backward_result['AIC']< Forward_result['AIC']:\n",
    "            Stepmodels.loc[i] = Backward_result\n",
    "            predictors = Stepmodels.loc[i][\"model\"].model.exog_names\n",
    "            Smodel_before = Stepmodels.loc[i][\"AIC\"]\n",
    "            predictors = [ k for k in predictors if k !='Intercept']\n",
    "            print('backward')\n",
    "\n",
    "        if Stepmodels.loc[i]['AIC']> Smodel_before:\n",
    "            break\n",
    "        else:\n",
    "            Smodel_before = Stepmodels.loc[i][\"AIC\"]\n",
    "    toc = time.time()\n",
    "    print(\"Total elapsed time:\", (toc - tic), \"seconds.\")\n",
    "\n",
    "    return (Stepmodels['model'][len(Stepmodels['model'])])"
   ]
  },
  {
   "cell_type": "code",
   "execution_count": null,
   "id": "0218806f",
   "metadata": {},
   "outputs": [],
   "source": []
  }
 ],
 "metadata": {
  "kernelspec": {
   "display_name": "Python 3",
   "language": "python",
   "name": "python3"
  },
  "language_info": {
   "codemirror_mode": {
    "name": "ipython",
    "version": 3
   },
   "file_extension": ".py",
   "mimetype": "text/x-python",
   "name": "python",
   "nbconvert_exporter": "python",
   "pygments_lexer": "ipython3",
   "version": "3.8.8"
  }
 },
 "nbformat": 4,
 "nbformat_minor": 5
}
