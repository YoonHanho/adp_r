{
 "cells": [
  {
   "cell_type": "code",
   "execution_count": 2,
   "id": "a01124f3",
   "metadata": {},
   "outputs": [],
   "source": [
    "import pandas as pd\n",
    "import numpy as np\n",
    "import matplotlib.pyplot as plt\n",
    "plt.rcParams['axes.unicode_minus'] = False\n",
    "\n",
    "import seaborn as sns\n",
    "\n",
    "from sklearn.datasets import load_wine, load_iris\n",
    "import warnings \n",
    "warnings.filterwarnings('ignore')\n",
    "\n",
    "pd.set_option(\"display.float_format\", \"{:,.2f}\".format)\n",
    "pd.set_option(\"display.max_columns\", None)"
   ]
  },
  {
   "cell_type": "code",
   "execution_count": null,
   "id": "69665d39",
   "metadata": {},
   "outputs": [],
   "source": [
    "wine_load = load_wine()\n",
    "wine = pd.DataFrame(wine_load.data, columns=wine_load.feature_names)\n",
    "wine['Class'] = wine_load.target\n",
    "wine['Class'] = wine['Class'].map({0:'Class1', 1:'Class2', 2:'Class3'})\n",
    "\n",
    "iris = load_iris()\n",
    "iris = pd.DataFrame(iris.data, columns=iris.feature_names)\n",
    "iris['Class'] = load_iris().target\n",
    "iris['Class'] = iris['Class'].map({0:'Setosa', 1:'Versicolour', 2:'Verginica'})"
   ]
  },
  {
   "cell_type": "markdown",
   "id": "ccedc559",
   "metadata": {},
   "source": [
    "### 데이터분할"
   ]
  },
  {
   "cell_type": "code",
   "execution_count": 7,
   "id": "76578c91",
   "metadata": {},
   "outputs": [
    {
     "name": "stdout",
     "output_type": "stream",
     "text": [
      "Versicolour    41\n",
      "Setosa         40\n",
      "Verginica      39\n",
      "Name: Class, dtype: int64\n",
      "Setosa         50\n",
      "Versicolour    50\n",
      "Verginica      50\n",
      "Name: Class, dtype: int64\n"
     ]
    }
   ],
   "source": [
    "# 층화추출\n",
    "from sklearn.model_selection import train_test_split \n",
    "\n",
    "X_train, X_test, y_train, y_test = train_test_split(iris.drop(columns='Class'), iris['Class'], \n",
    "                                                    test_size=0.2, random_state=42)\n",
    "\n",
    "print(y_train.value_counts())\n",
    "print(iris['Class'].value_counts())"
   ]
  },
  {
   "cell_type": "code",
   "execution_count": 9,
   "id": "e2bf57f9",
   "metadata": {},
   "outputs": [
    {
     "name": "stdout",
     "output_type": "stream",
     "text": [
      "Setosa         40\n",
      "Versicolour    40\n",
      "Verginica      40\n",
      "Name: Class, dtype: int64\n"
     ]
    }
   ],
   "source": [
    "X_train, X_test, y_train, y_test = train_test_split(iris.drop(columns='Class'), iris['Class'], \n",
    "                                                    test_size=0.2, random_state=42, stratify=iris['Class'])\n",
    "\n",
    "print(y_train.value_counts())"
   ]
  },
  {
   "cell_type": "code",
   "execution_count": 21,
   "id": "1112a1eb",
   "metadata": {},
   "outputs": [],
   "source": [
    "# 샘플링\n",
    "#!pip install imbalanced-learn\n",
    "from sklearn.datasets import make_classification\n",
    "from imblearn.under_sampling import RandomUnderSampler\n",
    "from imblearn.over_sampling import RandomOverSampler, SMOTE \n",
    "\n",
    "X, y = make_classification(n_samples=2000, n_features=6, weights=[0.95], flip_y=0)"
   ]
  },
  {
   "cell_type": "code",
   "execution_count": 16,
   "id": "294f0af2",
   "metadata": {},
   "outputs": [
    {
     "data": {
      "text/plain": [
       "0    1900\n",
       "1     100\n",
       "dtype: int64"
      ]
     },
     "execution_count": 16,
     "metadata": {},
     "output_type": "execute_result"
    }
   ],
   "source": [
    "pd.Series(y).value_counts()"
   ]
  },
  {
   "cell_type": "code",
   "execution_count": 19,
   "id": "a67b6215",
   "metadata": {},
   "outputs": [
    {
     "name": "stdout",
     "output_type": "stream",
     "text": [
      "CPU times: user 0 ns, sys: 0 ns, total: 0 ns\n",
      "Wall time: 7.15 µs\n"
     ]
    },
    {
     "data": {
      "text/plain": [
       "0    100\n",
       "1    100\n",
       "dtype: int64"
      ]
     },
     "execution_count": 19,
     "metadata": {},
     "output_type": "execute_result"
    }
   ],
   "source": [
    "# 언더샘플링 : 소수샘플수 만큼\n",
    "%time\n",
    "undersample = RandomUnderSampler(sampling_strategy='majority')  # 1:1 \n",
    "X_under, y_under = undersample.fit_resample(X, y)\n",
    "pd.Series(y_under).value_counts()"
   ]
  },
  {
   "cell_type": "code",
   "execution_count": 18,
   "id": "9bd55778",
   "metadata": {},
   "outputs": [
    {
     "data": {
      "text/plain": [
       "0    200\n",
       "1    100\n",
       "dtype: int64"
      ]
     },
     "execution_count": 18,
     "metadata": {},
     "output_type": "execute_result"
    }
   ],
   "source": [
    "undersample = RandomUnderSampler(sampling_strategy=0.5) # 2:1\n",
    "X_under, y_under = undersample.fit_resample(X, y)\n",
    "pd.Series(y_under).value_counts()"
   ]
  },
  {
   "cell_type": "code",
   "execution_count": 27,
   "id": "ff71899c",
   "metadata": {},
   "outputs": [
    {
     "name": "stdout",
     "output_type": "stream",
     "text": [
      "CPU times: user 0 ns, sys: 0 ns, total: 0 ns\n",
      "Wall time: 6.44 µs\n"
     ]
    },
    {
     "data": {
      "text/plain": [
       "1    1900\n",
       "0    1900\n",
       "dtype: int64"
      ]
     },
     "execution_count": 27,
     "metadata": {},
     "output_type": "execute_result"
    }
   ],
   "source": [
    "# 오버샘플링 : 소수샘플 증식 \n",
    "%time\n",
    "oversampling = RandomOverSampler(sampling_strategy='minority')  # 1:1\n",
    "X_over, y_over = oversampling.fit_resample(X, y)\n",
    "pd.Series(y_over).value_counts()"
   ]
  },
  {
   "cell_type": "code",
   "execution_count": 25,
   "id": "e5b975c6",
   "metadata": {},
   "outputs": [
    {
     "data": {
      "text/plain": [
       "0    1900\n",
       "1     950\n",
       "dtype: int64"
      ]
     },
     "execution_count": 25,
     "metadata": {},
     "output_type": "execute_result"
    }
   ],
   "source": [
    "oversampling = RandomOverSampler(sampling_strategy=0.5)  # 2:1\n",
    "X_over, y_over = oversampling.fit_resample(X, y)\n",
    "pd.Series(y_over).value_counts()"
   ]
  },
  {
   "cell_type": "code",
   "execution_count": 28,
   "id": "cf0bbbcf",
   "metadata": {},
   "outputs": [
    {
     "name": "stdout",
     "output_type": "stream",
     "text": [
      "CPU times: user 0 ns, sys: 0 ns, total: 0 ns\n",
      "Wall time: 11.7 µs\n"
     ]
    },
    {
     "data": {
      "text/plain": [
       "1    1900\n",
       "0    1900\n",
       "dtype: int64"
      ]
     },
     "execution_count": 28,
     "metadata": {},
     "output_type": "execute_result"
    }
   ],
   "source": [
    "# SMOTE : KNN으로 임의 데이터 생성 (오버샘플링)\n",
    "%time \n",
    "smote_sampling = SMOTE(sampling_strategy='minority')  # 1:1 \n",
    "X_smote, y_smote = smote_sampling.fit_resample(X, y)\n",
    "pd.Series(y_smote).value_counts()"
   ]
  },
  {
   "cell_type": "code",
   "execution_count": 29,
   "id": "ea26d3e9",
   "metadata": {},
   "outputs": [
    {
     "data": {
      "text/plain": [
       "0    1900\n",
       "1     950\n",
       "dtype: int64"
      ]
     },
     "execution_count": 29,
     "metadata": {},
     "output_type": "execute_result"
    }
   ],
   "source": [
    "smote_sampling = SMOTE(sampling_strategy=0.5)\n",
    "X_smote, y_smote = smote_sampling.fit_resample(X, y)\n",
    "pd.Series(y_smote).value_counts()"
   ]
  },
  {
   "cell_type": "markdown",
   "id": "5ef4902d",
   "metadata": {},
   "source": [
    "### 스케일링"
   ]
  },
  {
   "cell_type": "code",
   "execution_count": 46,
   "id": "9196d56e",
   "metadata": {},
   "outputs": [],
   "source": [
    "from sklearn.preprocessing import StandardScaler, MinMaxScaler, RobustScaler \n",
    "\n",
    "#X = iris[['sepal length (cm)']]\n",
    "X = iris.drop('Class', axis=1)\n",
    "\n",
    "std = StandardScaler()\n",
    "mms = MinMaxScaler()\n",
    "rbs = RobustScaler()  #######"
   ]
  },
  {
   "cell_type": "code",
   "execution_count": 47,
   "id": "876e1fd0",
   "metadata": {},
   "outputs": [
    {
     "data": {
      "text/plain": [
       "Index(['sepal length (cm)', 'sepal width (cm)', 'petal length (cm)',\n",
       "       'petal width (cm)', 'Class'],\n",
       "      dtype='object')"
      ]
     },
     "execution_count": 47,
     "metadata": {},
     "output_type": "execute_result"
    }
   ],
   "source": [
    "iris.columns"
   ]
  },
  {
   "cell_type": "code",
   "execution_count": 71,
   "id": "7996b7da",
   "metadata": {},
   "outputs": [
    {
     "name": "stdout",
     "output_type": "stream",
     "text": [
      "min > -1.87, mean > -0.00, max > 2.49\n"
     ]
    }
   ],
   "source": [
    "res = pd.DataFrame(std.fit_transform(X), columns=X.columns)['sepal length (cm)']\n",
    "print(\"min > {:4.2f}, mean > {:4.2f}, max > {:4.2f}\".format(res.min(), res.mean(), res.max()))"
   ]
  },
  {
   "cell_type": "code",
   "execution_count": 72,
   "id": "bd923fbd",
   "metadata": {},
   "outputs": [
    {
     "name": "stdout",
     "output_type": "stream",
     "text": [
      "min > 0.00, mean > 0.43, max > 1.00\n"
     ]
    }
   ],
   "source": [
    "res = pd.DataFrame(mms.fit_transform(X), columns=X.columns)['sepal length (cm)']\n",
    "print(\"min > {:4.2f}, mean > {:4.2f}, max > {:4.2f}\".format(res.min(), res.mean(), res.max()))"
   ]
  },
  {
   "cell_type": "code",
   "execution_count": 73,
   "id": "88280bd8",
   "metadata": {},
   "outputs": [
    {
     "name": "stdout",
     "output_type": "stream",
     "text": [
      "min > -1.15, mean > 0.03, max > 1.62\n"
     ]
    }
   ],
   "source": [
    "res = pd.DataFrame(rbs.fit_transform(X), columns=X.columns)['sepal length (cm)']\n",
    "print(\"min > {:4.2f}, mean > {:4.2f}, max > {:4.2f}\".format(res.min(), res.mean(), res.max()))"
   ]
  },
  {
   "cell_type": "markdown",
   "id": "5f4ec577",
   "metadata": {},
   "source": [
    "### 차원축소"
   ]
  },
  {
   "cell_type": "code",
   "execution_count": 78,
   "id": "2e6ec4f4",
   "metadata": {},
   "outputs": [
    {
     "name": "stdout",
     "output_type": "stream",
     "text": [
      "(150, 4)\n",
      "고유값 :  [20.92306556 11.7091661   4.69185798  1.76273239]\n",
      "분산설명력 :  [0.72962445 0.22850762 0.03668922 0.00517871]\n"
     ]
    }
   ],
   "source": [
    "from sklearn.preprocessing import StandardScaler\n",
    "X = StandardScaler().fit_transform(iris.drop('Class', axis=1))\n",
    "print(X.shape)\n",
    "\n",
    "from sklearn.decomposition import PCA\n",
    "\n",
    "pca = PCA(n_components=4)\n",
    "pca_fit = pca.fit(X)\n",
    "\n",
    "print(\"고유값 : \", pca.singular_values_)\n",
    "print(\"분산설명력 : \", pca.explained_variance_ratio_)"
   ]
  },
  {
   "cell_type": "code",
   "execution_count": 83,
   "id": "2f5fe842",
   "metadata": {},
   "outputs": [
    {
     "data": {
      "image/png": "[encoded data removed]",
      "text/plain": [
       "<Figure size 432x288 with 1 Axes>"
      ]
     },
     "metadata": {
      "needs_background": "light"
     },
     "output_type": "display_data"
    }
   ],
   "source": [
    "plt.plot(np.arange(1,5), pca.explained_variance_ratio_, 'o-');"
   ]
  },
  {
   "cell_type": "code",
   "execution_count": 85,
   "id": "626fd5b5",
   "metadata": {},
   "outputs": [
    {
     "data": {
      "image/png": "[encoded data removed]",
      "text/plain": [
       "<Figure size 432x288 with 1 Axes>"
      ]
     },
     "metadata": {
      "needs_background": "light"
     },
     "output_type": "display_data"
    }
   ],
   "source": [
    "plt.plot(np.cumsum(pca.explained_variance_ratio_), 'o-');"
   ]
  },
  {
   "cell_type": "code",
   "execution_count": 87,
   "id": "75541459",
   "metadata": {},
   "outputs": [
    {
     "data": {
      "text/html": [
       "<div>\n",
       "<style scoped>\n",
       "    .dataframe tbody tr th:only-of-type {\n",
       "        vertical-align: middle;\n",
       "    }\n",
       "\n",
       "    .dataframe tbody tr th {\n",
       "        vertical-align: top;\n",
       "    }\n",
       "\n",
       "    .dataframe thead th {\n",
       "        text-align: right;\n",
       "    }\n",
       "</style>\n",
       "<table border=\"1\" class=\"dataframe\">\n",
       "  <thead>\n",
       "    <tr style=\"text-align: right;\">\n",
       "      <th></th>\n",
       "      <th>pca1</th>\n",
       "      <th>pca2</th>\n",
       "    </tr>\n",
       "  </thead>\n",
       "  <tbody>\n",
       "    <tr>\n",
       "      <th>147</th>\n",
       "      <td>1.521170</td>\n",
       "      <td>0.269069</td>\n",
       "    </tr>\n",
       "    <tr>\n",
       "      <th>148</th>\n",
       "      <td>1.372788</td>\n",
       "      <td>1.011254</td>\n",
       "    </tr>\n",
       "    <tr>\n",
       "      <th>149</th>\n",
       "      <td>0.960656</td>\n",
       "      <td>-0.024332</td>\n",
       "    </tr>\n",
       "  </tbody>\n",
       "</table>\n",
       "</div>"
      ],
      "text/plain": [
       "         pca1      pca2\n",
       "147  1.521170  0.269069\n",
       "148  1.372788  1.011254\n",
       "149  0.960656 -0.024332"
      ]
     },
     "execution_count": 87,
     "metadata": {},
     "output_type": "execute_result"
    }
   ],
   "source": [
    "pca = PCA(n_components=2)\n",
    "pca_res = pd.DataFrame(pca.fit_transform(X), columns=['pca1', 'pca2'])\n",
    "pca_res.tail(3)"
   ]
  },
  {
   "cell_type": "markdown",
   "id": "efc1e9e9",
   "metadata": {},
   "source": [
    "### 피처 선택 \n",
    "\n",
    "- 쿡북 p.260"
   ]
  },
  {
   "cell_type": "markdown",
   "id": "6d51bbe5",
   "metadata": {},
   "source": [
    "분산 기준 선택 "
   ]
  },
  {
   "cell_type": "code",
   "execution_count": 94,
   "id": "e32c5ae8",
   "metadata": {},
   "outputs": [
    {
     "data": {
      "text/plain": [
       "array([[2, 0],\n",
       "       [1, 4],\n",
       "       [1, 1]])"
      ]
     },
     "execution_count": 94,
     "metadata": {},
     "output_type": "execute_result"
    }
   ],
   "source": [
    "from sklearn.feature_selection import VarianceThreshold\n",
    "\n",
    "X = [[0, 2, 0, 3], [0, 1, 4, 3], [0, 1, 1, 3]]\n",
    "selector = VarianceThreshold()\n",
    "selector.fit_transform(X)"
   ]
  },
  {
   "cell_type": "code",
   "execution_count": 96,
   "id": "06de0eee",
   "metadata": {},
   "outputs": [
    {
     "data": {
      "text/plain": [
       "array([[0, 2, 0, 3],\n",
       "       [0, 1, 4, 3],\n",
       "       [0, 1, 1, 3]])"
      ]
     },
     "execution_count": 96,
     "metadata": {},
     "output_type": "execute_result"
    }
   ],
   "source": [
    "np.array(X)  # 원본 "
   ]
  },
  {
   "cell_type": "code",
   "execution_count": 102,
   "id": "b8bffbfa",
   "metadata": {},
   "outputs": [
    {
     "name": "stdout",
     "output_type": "stream",
     "text": [
      "(150, 4)\n"
     ]
    },
    {
     "data": {
      "text/plain": [
       "(150, 3)"
      ]
     },
     "execution_count": 102,
     "metadata": {},
     "output_type": "execute_result"
    }
   ],
   "source": [
    "from sklearn.feature_selection import VarianceThreshold\n",
    "\n",
    "X = iris.drop('Class', axis=1)\n",
    "print(X.shape)\n",
    "\n",
    "selector = VarianceThreshold(threshold=0.5)  # threshold 설정 필요 \n",
    "selector.fit_transform(X).shape"
   ]
  },
  {
   "cell_type": "markdown",
   "id": "cefbd800",
   "metadata": {},
   "source": [
    "상관관계 큰 특성 중 하나 제거 "
   ]
  },
  {
   "cell_type": "code",
   "execution_count": 109,
   "id": "0fe54529",
   "metadata": {},
   "outputs": [
    {
     "name": "stdout",
     "output_type": "stream",
     "text": [
      "          0         1         2\n",
      "0  1.000000  0.976103 -0.273861\n",
      "1  0.976103  1.000000 -0.327327\n",
      "2 -0.273861 -0.327327  1.000000\n"
     ]
    }
   ],
   "source": [
    "# 예제 데이터 \n",
    "features = np.array([[1,1,1],\n",
    "                    [2,2,1],\n",
    "                    [3,3,1],\n",
    "                    [4,4,0],\n",
    "                    [5,5,1],\n",
    "                    [6,6,0],\n",
    "                    [7,7,1],\n",
    "                    [8,7,0],\n",
    "                    [9,7,1]])\n",
    "\n",
    "df = pd.DataFrame(features)\n",
    "print(df.corr())"
   ]
  },
  {
   "cell_type": "code",
   "execution_count": 112,
   "id": "5c60fa49",
   "metadata": {},
   "outputs": [
    {
     "name": "stdout",
     "output_type": "stream",
     "text": [
      "삭제 피처 인덱스 :  [1]\n"
     ]
    },
    {
     "data": {
      "text/html": [
       "<div>\n",
       "<style scoped>\n",
       "    .dataframe tbody tr th:only-of-type {\n",
       "        vertical-align: middle;\n",
       "    }\n",
       "\n",
       "    .dataframe tbody tr th {\n",
       "        vertical-align: top;\n",
       "    }\n",
       "\n",
       "    .dataframe thead th {\n",
       "        text-align: right;\n",
       "    }\n",
       "</style>\n",
       "<table border=\"1\" class=\"dataframe\">\n",
       "  <thead>\n",
       "    <tr style=\"text-align: right;\">\n",
       "      <th></th>\n",
       "      <th>0</th>\n",
       "      <th>2</th>\n",
       "    </tr>\n",
       "  </thead>\n",
       "  <tbody>\n",
       "    <tr>\n",
       "      <th>0</th>\n",
       "      <td>1</td>\n",
       "      <td>1</td>\n",
       "    </tr>\n",
       "    <tr>\n",
       "      <th>1</th>\n",
       "      <td>2</td>\n",
       "      <td>1</td>\n",
       "    </tr>\n",
       "    <tr>\n",
       "      <th>2</th>\n",
       "      <td>3</td>\n",
       "      <td>1</td>\n",
       "    </tr>\n",
       "  </tbody>\n",
       "</table>\n",
       "</div>"
      ],
      "text/plain": [
       "   0  2\n",
       "0  1  1\n",
       "1  2  1\n",
       "2  3  1"
      ]
     },
     "execution_count": 112,
     "metadata": {},
     "output_type": "execute_result"
    }
   ],
   "source": [
    "# 상관행렬 \n",
    "corr_matrix = df.corr().abs()\n",
    "\n",
    "# 상관행렬 상삼각(upper triangle) 행렬 선택 \n",
    "upper = corr_matrix.where(np.triu(np.ones(corr_matrix.shape), k=1).astype(np.bool))\n",
    "\n",
    "# 상관계수가 0.95보다 큰 피처 열 인덱스 찾기 \n",
    "threshold = 0.95\n",
    "to_drop = [c for c in upper.columns if any(upper[c] > threshold)]\n",
    "print(\"삭제 피처 인덱스 : \", to_drop)\n",
    "\n",
    "# 특성 삭제 \n",
    "df.drop(df.columns[to_drop], axis=1).head(3)"
   ]
  },
  {
   "cell_type": "markdown",
   "id": "32d45f79",
   "metadata": {},
   "source": [
    "타겟 벡터와 관련없는 특성 삭제 : 카이제곱\n",
    "\n",
    "- 범주형 X 범주형 (음수X) "
   ]
  },
  {
   "cell_type": "code",
   "execution_count": 115,
   "id": "37448b27",
   "metadata": {},
   "outputs": [],
   "source": [
    "from sklearn.datasets import load_iris\n",
    "from sklearn.feature_selection import SelectKBest, chi2, f_classif"
   ]
  },
  {
   "cell_type": "code",
   "execution_count": 122,
   "id": "085653ec",
   "metadata": {},
   "outputs": [
    {
     "name": "stdout",
     "output_type": "stream",
     "text": [
      "(150, 4)\n",
      "(150, 2)\n"
     ]
    }
   ],
   "source": [
    "# 데이터 로드 \n",
    "iris = load_iris()\n",
    "X = iris.data \n",
    "y = iris.target\n",
    "\n",
    "# 정수형 변환 (범주형으로 강제 변환)\n",
    "X = X.astype(int)\n",
    "print(X.shape)\n",
    "\n",
    "# 카이제곱 통계량이 가장 큰 2개 선택 \n",
    "chi2_selector = SelectKBest(chi2, k=2)\n",
    "X_kbest = chi2_selector.fit_transform(X, y)\n",
    "\n",
    "print(X_kbest.shape)"
   ]
  },
  {
   "cell_type": "code",
   "execution_count": 123,
   "id": "0e75cd04",
   "metadata": {},
   "outputs": [
    {
     "data": {
      "text/plain": [
       "array(['x2', 'x3'], dtype=object)"
      ]
     },
     "execution_count": 123,
     "metadata": {},
     "output_type": "execute_result"
    }
   ],
   "source": [
    "chi2_selector.get_feature_names_out()"
   ]
  },
  {
   "cell_type": "markdown",
   "id": "02a9e089",
   "metadata": {},
   "source": [
    "타겟 벡터와 관련없는 특성 삭제:Anova\n",
    "\n",
    "- 수치형 X 범주형(타겟) "
   ]
  },
  {
   "cell_type": "code",
   "execution_count": 128,
   "id": "0d9a2c31",
   "metadata": {},
   "outputs": [
    {
     "name": "stdout",
     "output_type": "stream",
     "text": [
      "(150, 3)\n"
     ]
    }
   ],
   "source": [
    "# 데이터 로드 \n",
    "iris = load_iris()\n",
    "X = iris.data \n",
    "y = iris.target\n",
    "\n",
    "# F-통계량이 가장 큰 2개 선택 \n",
    "from sklearn.feature_selection import SelectPercentile\n",
    "\n",
    "fvalue_selector = SelectPercentile(f_classif, percentile=75)\n",
    "X_kbest = fvalue_selector.fit_transform(X, y)\n",
    "\n",
    "print(X_kbest.shape)"
   ]
  },
  {
   "cell_type": "code",
   "execution_count": 129,
   "id": "54875f31",
   "metadata": {},
   "outputs": [
    {
     "data": {
      "text/plain": [
       "array(['x0', 'x2', 'x3'], dtype=object)"
      ]
     },
     "execution_count": 129,
     "metadata": {},
     "output_type": "execute_result"
    }
   ],
   "source": [
    "fvalue_selector.get_feature_names_out()"
   ]
  },
  {
   "cell_type": "markdown",
   "id": "63daeef3",
   "metadata": {},
   "source": [
    "(끝판왕) 재귀적 특성 제거 \n",
    "\n",
    "- 모델성능(예:정확도) 나빠지는 경우 특성 제거. 교차검증 "
   ]
  },
  {
   "cell_type": "code",
   "execution_count": 131,
   "id": "b4dc08c1",
   "metadata": {},
   "outputs": [
    {
     "data": {
      "text/plain": [
       "(10000, 2)"
      ]
     },
     "execution_count": 131,
     "metadata": {},
     "output_type": "execute_result"
    }
   ],
   "source": [
    "from sklearn.feature_selection import RFECV \n",
    "from sklearn.datasets import make_regression \n",
    "from sklearn import datasets, linear_model \n",
    "\n",
    "# 샘플데이터\n",
    "X, y = make_regression(n_samples = 10000,\n",
    "                       n_features = 100,\n",
    "                       n_informative = 2,\n",
    "                       random_state = 42)\n",
    "\n",
    "# 선형회귀모델 \n",
    "ols = linear_model.LinearRegression()\n",
    "\n",
    "# 재귀적 특성 제거 \n",
    "rfecv = RFECV(estimator=ols, step=1, scoring='neg_mean_squared_error')\n",
    "rfecv.fit(X, y)\n",
    "rfecv.transform(X).shape"
   ]
  },
  {
   "cell_type": "code",
   "execution_count": 132,
   "id": "bf2d7130",
   "metadata": {},
   "outputs": [
    {
     "data": {
      "text/plain": [
       "2"
      ]
     },
     "execution_count": 132,
     "metadata": {},
     "output_type": "execute_result"
    }
   ],
   "source": [
    "rfecv.n_features_"
   ]
  },
  {
   "cell_type": "code",
   "execution_count": 134,
   "id": "3d6dad28",
   "metadata": {},
   "outputs": [
    {
     "data": {
      "text/plain": [
       "array(['x50', 'x66'], dtype=object)"
      ]
     },
     "execution_count": 134,
     "metadata": {},
     "output_type": "execute_result"
    }
   ],
   "source": [
    "rfecv.get_feature_names_out()  # 컬럼명 "
   ]
  },
  {
   "cell_type": "code",
   "execution_count": 135,
   "id": "ba6acd71",
   "metadata": {},
   "outputs": [
    {
     "data": {
      "text/plain": [
       "array([75, 39, 66, 10, 72, 96, 58, 64, 91, 60, 84, 15, 76, 50, 40, 44,  6,\n",
       "       95, 20, 73, 41,  9, 48, 88, 99, 38, 86, 74, 81, 22, 79, 32, 46, 90,\n",
       "       59, 78, 71, 47, 92, 93, 62, 26, 24, 70, 12, 56, 61,  5, 54, 16,  1,\n",
       "       23, 34, 49, 83, 45,  4, 97, 85, 55, 13, 89, 69, 51, 80, 36,  1, 94,\n",
       "       27, 35, 33,  2, 77, 87, 21, 28, 42, 25, 65, 37, 68, 98, 43,  8, 67,\n",
       "       30, 63, 31, 52, 29,  7, 53, 82, 17,  3, 19, 18, 11, 14, 57])"
      ]
     },
     "execution_count": 135,
     "metadata": {},
     "output_type": "execute_result"
    }
   ],
   "source": [
    "rfecv.ranking_  # 컬럼별 우선순위 ************ 요거 유용!!!"
   ]
  },
  {
   "cell_type": "code",
   "execution_count": 140,
   "id": "68d00200",
   "metadata": {},
   "outputs": [
    {
     "data": {
      "text/plain": [
       "(150, 4)"
      ]
     },
     "execution_count": 140,
     "metadata": {},
     "output_type": "execute_result"
    }
   ],
   "source": [
    "from sklearn.linear_model import LogisticRegression\n",
    "\n",
    "# 데이터 로드 \n",
    "iris = load_iris()\n",
    "X = iris.data \n",
    "y = iris.target\n",
    "\n",
    "# 재귀적 특성 제거 \n",
    "rfecv = RFECV(estimator=linear_model.LogisticRegression(), step=1, scoring='neg_mean_squared_error')\n",
    "rfecv.fit(X, y)\n",
    "rfecv.transform(X).shape"
   ]
  },
  {
   "cell_type": "code",
   "execution_count": 139,
   "id": "e59e87c0",
   "metadata": {},
   "outputs": [
    {
     "data": {
      "text/plain": [
       "array(['x0', 'x1', 'x2', 'x3'], dtype=object)"
      ]
     },
     "execution_count": 139,
     "metadata": {},
     "output_type": "execute_result"
    }
   ],
   "source": [
    "rfecv.get_feature_names_out()  # 컬럼명 "
   ]
  },
  {
   "cell_type": "code",
   "execution_count": 142,
   "id": "11361d90",
   "metadata": {},
   "outputs": [
    {
     "data": {
      "text/plain": [
       "(150, 2)"
      ]
     },
     "execution_count": 142,
     "metadata": {},
     "output_type": "execute_result"
    }
   ],
   "source": [
    "from sklearn.feature_selection import RFE \n",
    "\n",
    "rfe = RFE(estimator=linear_model.LogisticRegression(), n_features_to_select=2)   # 선택 컬럼수를 지정할 수 있음!!! \n",
    "rfe.fit(X, y)\n",
    "rfe.transform(X).shape"
   ]
  },
  {
   "cell_type": "code",
   "execution_count": 143,
   "id": "3763d5cb",
   "metadata": {},
   "outputs": [
    {
     "data": {
      "text/plain": [
       "array(['x2', 'x3'], dtype=object)"
      ]
     },
     "execution_count": 143,
     "metadata": {},
     "output_type": "execute_result"
    }
   ],
   "source": [
    "rfe.get_feature_names_out()"
   ]
  },
  {
   "cell_type": "code",
   "execution_count": null,
   "id": "6c28b7f1",
   "metadata": {},
   "outputs": [],
   "source": []
  }
 ],
 "metadata": {
  "kernelspec": {
   "display_name": "Python 3",
   "language": "python",
   "name": "python3"
  },
  "language_info": {
   "codemirror_mode": {
    "name": "ipython",
    "version": 3
   },
   "file_extension": ".py",
   "mimetype": "text/x-python",
   "name": "python",
   "nbconvert_exporter": "python",
   "pygments_lexer": "ipython3",
   "version": "3.8.8"
  }
 },
 "nbformat": 4,
 "nbformat_minor": 5
}
