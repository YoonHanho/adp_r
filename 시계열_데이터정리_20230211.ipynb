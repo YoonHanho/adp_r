{
 "cells": [
  {
   "cell_type": "markdown",
   "metadata": {},
   "source": [
    "### 코로나 데이터로 시계열 분석용 데이터 만들기 \n",
    "\n",
    "- 데이터 출처: https://www.kaggle.com/code/neelkudu28/covid-19-visualizations-predictions-forecasting/notebook\n",
    "- 특정 지역 선택 \n",
    "- 결측값 확인(존재시 보간법)\n",
    "- csv파일로 저장 (시계열분석은 R에서 진행 )\n",
    "\n",
    "- 하단에 분석용 R코드 추가하였음 "
   ]
  },
  {
   "cell_type": "code",
   "execution_count": 8,
   "metadata": {},
   "outputs": [],
   "source": [
    "import pandas as pd \n",
    "import matplotlib.pyplot as plt\n",
    "\n",
    "from IPython.display import Image"
   ]
  },
  {
   "cell_type": "code",
   "execution_count": 5,
   "metadata": {},
   "outputs": [
    {
     "data": {
      "text/html": [
       "<div>\n",
       "<style scoped>\n",
       "    .dataframe tbody tr th:only-of-type {\n",
       "        vertical-align: middle;\n",
       "    }\n",
       "\n",
       "    .dataframe tbody tr th {\n",
       "        vertical-align: top;\n",
       "    }\n",
       "\n",
       "    .dataframe thead th {\n",
       "        text-align: right;\n",
       "    }\n",
       "</style>\n",
       "<table border=\"1\" class=\"dataframe\">\n",
       "  <thead>\n",
       "    <tr style=\"text-align: right;\">\n",
       "      <th></th>\n",
       "      <th>SNo</th>\n",
       "      <th>ObservationDate</th>\n",
       "      <th>Province/State</th>\n",
       "      <th>Country/Region</th>\n",
       "      <th>Last Update</th>\n",
       "      <th>Confirmed</th>\n",
       "      <th>Deaths</th>\n",
       "      <th>Recovered</th>\n",
       "    </tr>\n",
       "  </thead>\n",
       "  <tbody>\n",
       "    <tr>\n",
       "      <td>98247</td>\n",
       "      <td>98248</td>\n",
       "      <td>08/29/2020</td>\n",
       "      <td>Zaporizhia Oblast</td>\n",
       "      <td>Ukraine</td>\n",
       "      <td>2020-08-30 04:28:22</td>\n",
       "      <td>1520.0</td>\n",
       "      <td>25.0</td>\n",
       "      <td>883.0</td>\n",
       "    </tr>\n",
       "    <tr>\n",
       "      <td>98248</td>\n",
       "      <td>98249</td>\n",
       "      <td>08/29/2020</td>\n",
       "      <td>Zeeland</td>\n",
       "      <td>Netherlands</td>\n",
       "      <td>2020-08-30 04:28:22</td>\n",
       "      <td>1048.0</td>\n",
       "      <td>72.0</td>\n",
       "      <td>0.0</td>\n",
       "    </tr>\n",
       "    <tr>\n",
       "      <td>98249</td>\n",
       "      <td>98250</td>\n",
       "      <td>08/29/2020</td>\n",
       "      <td>Zhejiang</td>\n",
       "      <td>Mainland China</td>\n",
       "      <td>2020-08-30 04:28:22</td>\n",
       "      <td>1277.0</td>\n",
       "      <td>1.0</td>\n",
       "      <td>1268.0</td>\n",
       "    </tr>\n",
       "    <tr>\n",
       "      <td>98250</td>\n",
       "      <td>98251</td>\n",
       "      <td>08/29/2020</td>\n",
       "      <td>Zhytomyr Oblast</td>\n",
       "      <td>Ukraine</td>\n",
       "      <td>2020-08-30 04:28:22</td>\n",
       "      <td>3155.0</td>\n",
       "      <td>61.0</td>\n",
       "      <td>1837.0</td>\n",
       "    </tr>\n",
       "    <tr>\n",
       "      <td>98251</td>\n",
       "      <td>98252</td>\n",
       "      <td>08/29/2020</td>\n",
       "      <td>Zuid-Holland</td>\n",
       "      <td>Netherlands</td>\n",
       "      <td>2020-08-30 04:28:22</td>\n",
       "      <td>18774.0</td>\n",
       "      <td>1344.0</td>\n",
       "      <td>0.0</td>\n",
       "    </tr>\n",
       "  </tbody>\n",
       "</table>\n",
       "</div>"
      ],
      "text/plain": [
       "         SNo ObservationDate     Province/State  Country/Region  \\\n",
       "98247  98248      08/29/2020  Zaporizhia Oblast         Ukraine   \n",
       "98248  98249      08/29/2020            Zeeland     Netherlands   \n",
       "98249  98250      08/29/2020           Zhejiang  Mainland China   \n",
       "98250  98251      08/29/2020    Zhytomyr Oblast         Ukraine   \n",
       "98251  98252      08/29/2020       Zuid-Holland     Netherlands   \n",
       "\n",
       "               Last Update  Confirmed  Deaths  Recovered  \n",
       "98247  2020-08-30 04:28:22     1520.0    25.0      883.0  \n",
       "98248  2020-08-30 04:28:22     1048.0    72.0        0.0  \n",
       "98249  2020-08-30 04:28:22     1277.0     1.0     1268.0  \n",
       "98250  2020-08-30 04:28:22     3155.0    61.0     1837.0  \n",
       "98251  2020-08-30 04:28:22    18774.0  1344.0        0.0  "
      ]
     },
     "execution_count": 5,
     "metadata": {},
     "output_type": "execute_result"
    }
   ],
   "source": [
    "df = pd.read_csv('https://raw.githubusercontent.com/YoonHanho/adp_r/main/covid_19_data.csv')\n",
    "df.tail()"
   ]
  },
  {
   "cell_type": "code",
   "execution_count": 6,
   "metadata": {},
   "outputs": [
    {
     "name": "stdout",
     "output_type": "stream",
     "text": [
      "<class 'pandas.core.frame.DataFrame'>\n",
      "RangeIndex: 98252 entries, 0 to 98251\n",
      "Data columns (total 8 columns):\n",
      "SNo                98252 non-null int64\n",
      "ObservationDate    98252 non-null object\n",
      "Province/State     67099 non-null object\n",
      "Country/Region     98252 non-null object\n",
      "Last Update        98252 non-null object\n",
      "Confirmed          98252 non-null float64\n",
      "Deaths             98252 non-null float64\n",
      "Recovered          98252 non-null float64\n",
      "dtypes: float64(3), int64(1), object(4)\n",
      "memory usage: 6.0+ MB\n"
     ]
    }
   ],
   "source": [
    "df.info()"
   ]
  },
  {
   "cell_type": "code",
   "execution_count": 8,
   "metadata": {},
   "outputs": [
    {
     "data": {
      "text/plain": [
       "US                10906\n",
       "Russia             7592\n",
       "Mainland China     6849\n",
       "Japan              4682\n",
       "Mexico             3347\n",
       "Name: Country/Region, dtype: int64"
      ]
     },
     "execution_count": 8,
     "metadata": {},
     "output_type": "execute_result"
    }
   ],
   "source": [
    "df['Country/Region'].value_counts().head()"
   ]
  },
  {
   "cell_type": "code",
   "execution_count": 9,
   "metadata": {},
   "outputs": [
    {
     "data": {
      "text/plain": [
       "Washington    183\n",
       "Illinois      180\n",
       "California    179\n",
       "Arizona       179\n",
       "Maine         173\n",
       "Name: Province/State, dtype: int64"
      ]
     },
     "execution_count": 9,
     "metadata": {},
     "output_type": "execute_result"
    }
   ],
   "source": [
    "df[df['Country/Region']=='US']['Province/State'].value_counts().head()"
   ]
  },
  {
   "cell_type": "code",
   "execution_count": 45,
   "metadata": {},
   "outputs": [
    {
     "data": {
      "text/html": [
       "<div>\n",
       "<style scoped>\n",
       "    .dataframe tbody tr th:only-of-type {\n",
       "        vertical-align: middle;\n",
       "    }\n",
       "\n",
       "    .dataframe tbody tr th {\n",
       "        vertical-align: top;\n",
       "    }\n",
       "\n",
       "    .dataframe thead th {\n",
       "        text-align: right;\n",
       "    }\n",
       "</style>\n",
       "<table border=\"1\" class=\"dataframe\">\n",
       "  <thead>\n",
       "    <tr style=\"text-align: right;\">\n",
       "      <th></th>\n",
       "      <th>SNo</th>\n",
       "      <th>ObservationDate</th>\n",
       "      <th>Province/State</th>\n",
       "      <th>Country/Region</th>\n",
       "      <th>Last Update</th>\n",
       "      <th>Confirmed</th>\n",
       "      <th>Deaths</th>\n",
       "      <th>Recovered</th>\n",
       "    </tr>\n",
       "  </thead>\n",
       "  <tbody>\n",
       "    <tr>\n",
       "      <td>204</td>\n",
       "      <td>205</td>\n",
       "      <td>01/26/2020</td>\n",
       "      <td>California</td>\n",
       "      <td>US</td>\n",
       "      <td>1/26/20 16:00</td>\n",
       "      <td>2.0</td>\n",
       "      <td>0.0</td>\n",
       "      <td>0.0</td>\n",
       "    </tr>\n",
       "    <tr>\n",
       "      <td>251</td>\n",
       "      <td>252</td>\n",
       "      <td>01/27/2020</td>\n",
       "      <td>California</td>\n",
       "      <td>US</td>\n",
       "      <td>1/27/20 23:59</td>\n",
       "      <td>2.0</td>\n",
       "      <td>0.0</td>\n",
       "      <td>0.0</td>\n",
       "    </tr>\n",
       "    <tr>\n",
       "      <td>302</td>\n",
       "      <td>303</td>\n",
       "      <td>01/28/2020</td>\n",
       "      <td>California</td>\n",
       "      <td>US</td>\n",
       "      <td>1/28/20 23:00</td>\n",
       "      <td>2.0</td>\n",
       "      <td>0.0</td>\n",
       "      <td>0.0</td>\n",
       "    </tr>\n",
       "    <tr>\n",
       "      <td>354</td>\n",
       "      <td>355</td>\n",
       "      <td>01/29/2020</td>\n",
       "      <td>California</td>\n",
       "      <td>US</td>\n",
       "      <td>1/29/20 19:30</td>\n",
       "      <td>2.0</td>\n",
       "      <td>0.0</td>\n",
       "      <td>0.0</td>\n",
       "    </tr>\n",
       "    <tr>\n",
       "      <td>409</td>\n",
       "      <td>410</td>\n",
       "      <td>01/30/2020</td>\n",
       "      <td>California</td>\n",
       "      <td>US</td>\n",
       "      <td>1/30/20 16:00</td>\n",
       "      <td>2.0</td>\n",
       "      <td>0.0</td>\n",
       "      <td>0.0</td>\n",
       "    </tr>\n",
       "    <tr>\n",
       "      <td>...</td>\n",
       "      <td>...</td>\n",
       "      <td>...</td>\n",
       "      <td>...</td>\n",
       "      <td>...</td>\n",
       "      <td>...</td>\n",
       "      <td>...</td>\n",
       "      <td>...</td>\n",
       "      <td>...</td>\n",
       "    </tr>\n",
       "    <tr>\n",
       "      <td>94785</td>\n",
       "      <td>94786</td>\n",
       "      <td>08/25/2020</td>\n",
       "      <td>California</td>\n",
       "      <td>US</td>\n",
       "      <td>2020-08-26 04:28:11</td>\n",
       "      <td>681032.0</td>\n",
       "      <td>12382.0</td>\n",
       "      <td>0.0</td>\n",
       "    </tr>\n",
       "    <tr>\n",
       "      <td>95527</td>\n",
       "      <td>95528</td>\n",
       "      <td>08/26/2020</td>\n",
       "      <td>California</td>\n",
       "      <td>US</td>\n",
       "      <td>2020-08-27 04:28:15</td>\n",
       "      <td>687004.0</td>\n",
       "      <td>12532.0</td>\n",
       "      <td>0.0</td>\n",
       "    </tr>\n",
       "    <tr>\n",
       "      <td>96269</td>\n",
       "      <td>96270</td>\n",
       "      <td>08/27/2020</td>\n",
       "      <td>California</td>\n",
       "      <td>US</td>\n",
       "      <td>2020-08-28 04:28:11</td>\n",
       "      <td>691821.0</td>\n",
       "      <td>12677.0</td>\n",
       "      <td>0.0</td>\n",
       "    </tr>\n",
       "    <tr>\n",
       "      <td>97011</td>\n",
       "      <td>97012</td>\n",
       "      <td>08/28/2020</td>\n",
       "      <td>California</td>\n",
       "      <td>US</td>\n",
       "      <td>2020-08-29 04:28:19</td>\n",
       "      <td>697385.0</td>\n",
       "      <td>12805.0</td>\n",
       "      <td>0.0</td>\n",
       "    </tr>\n",
       "    <tr>\n",
       "      <td>97753</td>\n",
       "      <td>97754</td>\n",
       "      <td>08/29/2020</td>\n",
       "      <td>California</td>\n",
       "      <td>US</td>\n",
       "      <td>2020-08-30 04:28:22</td>\n",
       "      <td>702038.0</td>\n",
       "      <td>12894.0</td>\n",
       "      <td>0.0</td>\n",
       "    </tr>\n",
       "  </tbody>\n",
       "</table>\n",
       "<p>179 rows × 8 columns</p>\n",
       "</div>"
      ],
      "text/plain": [
       "         SNo ObservationDate Province/State Country/Region  \\\n",
       "204      205      01/26/2020     California             US   \n",
       "251      252      01/27/2020     California             US   \n",
       "302      303      01/28/2020     California             US   \n",
       "354      355      01/29/2020     California             US   \n",
       "409      410      01/30/2020     California             US   \n",
       "...      ...             ...            ...            ...   \n",
       "94785  94786      08/25/2020     California             US   \n",
       "95527  95528      08/26/2020     California             US   \n",
       "96269  96270      08/27/2020     California             US   \n",
       "97011  97012      08/28/2020     California             US   \n",
       "97753  97754      08/29/2020     California             US   \n",
       "\n",
       "               Last Update  Confirmed   Deaths  Recovered  \n",
       "204          1/26/20 16:00        2.0      0.0        0.0  \n",
       "251          1/27/20 23:59        2.0      0.0        0.0  \n",
       "302          1/28/20 23:00        2.0      0.0        0.0  \n",
       "354          1/29/20 19:30        2.0      0.0        0.0  \n",
       "409          1/30/20 16:00        2.0      0.0        0.0  \n",
       "...                    ...        ...      ...        ...  \n",
       "94785  2020-08-26 04:28:11   681032.0  12382.0        0.0  \n",
       "95527  2020-08-27 04:28:15   687004.0  12532.0        0.0  \n",
       "96269  2020-08-28 04:28:11   691821.0  12677.0        0.0  \n",
       "97011  2020-08-29 04:28:19   697385.0  12805.0        0.0  \n",
       "97753  2020-08-30 04:28:22   702038.0  12894.0        0.0  \n",
       "\n",
       "[179 rows x 8 columns]"
      ]
     },
     "execution_count": 45,
     "metadata": {},
     "output_type": "execute_result"
    }
   ],
   "source": [
    "cal = df[df['Province/State']=='California']\n",
    "cal"
   ]
  },
  {
   "cell_type": "code",
   "execution_count": 46,
   "metadata": {},
   "outputs": [
    {
     "name": "stderr",
     "output_type": "stream",
     "text": [
      "C:\\Users\\hanho\\Anaconda3\\lib\\site-packages\\ipykernel_launcher.py:1: SettingWithCopyWarning: \n",
      "A value is trying to be set on a copy of a slice from a DataFrame.\n",
      "Try using .loc[row_indexer,col_indexer] = value instead\n",
      "\n",
      "See the caveats in the documentation: http://pandas.pydata.org/pandas-docs/stable/user_guide/indexing.html#returning-a-view-versus-a-copy\n",
      "  \"\"\"Entry point for launching an IPython kernel.\n"
     ]
    },
    {
     "data": {
      "text/html": [
       "<div>\n",
       "<style scoped>\n",
       "    .dataframe tbody tr th:only-of-type {\n",
       "        vertical-align: middle;\n",
       "    }\n",
       "\n",
       "    .dataframe tbody tr th {\n",
       "        vertical-align: top;\n",
       "    }\n",
       "\n",
       "    .dataframe thead th {\n",
       "        text-align: right;\n",
       "    }\n",
       "</style>\n",
       "<table border=\"1\" class=\"dataframe\">\n",
       "  <thead>\n",
       "    <tr style=\"text-align: right;\">\n",
       "      <th></th>\n",
       "      <th>date</th>\n",
       "      <th>Confirmed</th>\n",
       "      <th>Deaths</th>\n",
       "    </tr>\n",
       "  </thead>\n",
       "  <tbody>\n",
       "    <tr>\n",
       "      <td>204</td>\n",
       "      <td>2020-01-26</td>\n",
       "      <td>2.0</td>\n",
       "      <td>0.0</td>\n",
       "    </tr>\n",
       "    <tr>\n",
       "      <td>251</td>\n",
       "      <td>2020-01-27</td>\n",
       "      <td>2.0</td>\n",
       "      <td>0.0</td>\n",
       "    </tr>\n",
       "    <tr>\n",
       "      <td>302</td>\n",
       "      <td>2020-01-28</td>\n",
       "      <td>2.0</td>\n",
       "      <td>0.0</td>\n",
       "    </tr>\n",
       "    <tr>\n",
       "      <td>354</td>\n",
       "      <td>2020-01-29</td>\n",
       "      <td>2.0</td>\n",
       "      <td>0.0</td>\n",
       "    </tr>\n",
       "    <tr>\n",
       "      <td>409</td>\n",
       "      <td>2020-01-30</td>\n",
       "      <td>2.0</td>\n",
       "      <td>0.0</td>\n",
       "    </tr>\n",
       "    <tr>\n",
       "      <td>476</td>\n",
       "      <td>2020-01-31</td>\n",
       "      <td>2.0</td>\n",
       "      <td>0.0</td>\n",
       "    </tr>\n",
       "    <tr>\n",
       "      <td>4553</td>\n",
       "      <td>2020-03-10</td>\n",
       "      <td>144.0</td>\n",
       "      <td>2.0</td>\n",
       "    </tr>\n",
       "    <tr>\n",
       "      <td>4758</td>\n",
       "      <td>2020-03-11</td>\n",
       "      <td>177.0</td>\n",
       "      <td>3.0</td>\n",
       "    </tr>\n",
       "    <tr>\n",
       "      <td>4972</td>\n",
       "      <td>2020-03-12</td>\n",
       "      <td>221.0</td>\n",
       "      <td>4.0</td>\n",
       "    </tr>\n",
       "    <tr>\n",
       "      <td>5328</td>\n",
       "      <td>2020-03-13</td>\n",
       "      <td>282.0</td>\n",
       "      <td>4.0</td>\n",
       "    </tr>\n",
       "  </tbody>\n",
       "</table>\n",
       "</div>"
      ],
      "text/plain": [
       "           date  Confirmed  Deaths\n",
       "204  2020-01-26        2.0     0.0\n",
       "251  2020-01-27        2.0     0.0\n",
       "302  2020-01-28        2.0     0.0\n",
       "354  2020-01-29        2.0     0.0\n",
       "409  2020-01-30        2.0     0.0\n",
       "476  2020-01-31        2.0     0.0\n",
       "4553 2020-03-10      144.0     2.0\n",
       "4758 2020-03-11      177.0     3.0\n",
       "4972 2020-03-12      221.0     4.0\n",
       "5328 2020-03-13      282.0     4.0"
      ]
     },
     "execution_count": 46,
     "metadata": {},
     "output_type": "execute_result"
    }
   ],
   "source": [
    "cal['date'] = pd.to_datetime(cal['ObservationDate'])\n",
    "cal = cal[['date', 'Confirmed', 'Deaths']]\n",
    "cal.head(10)"
   ]
  },
  {
   "cell_type": "code",
   "execution_count": 47,
   "metadata": {},
   "outputs": [
    {
     "data": {
      "text/plain": [
       "[<matplotlib.lines.Line2D at 0x2c3af57ce08>]"
      ]
     },
     "execution_count": 47,
     "metadata": {},
     "output_type": "execute_result"
    },
    {
     "data": {
      "image/png": "[encoded data removed]",
      "text/plain": [
       "<Figure size 432x288 with 1 Axes>"
      ]
     },
     "metadata": {
      "needs_background": "light"
     },
     "output_type": "display_data"
    }
   ],
   "source": [
    "plt.plot(cal['date'], cal['Confirmed']) # 누적수치 -> 일변환    "
   ]
  },
  {
   "cell_type": "code",
   "execution_count": 21,
   "metadata": {},
   "outputs": [],
   "source": [
    "pd.date_range?"
   ]
  },
  {
   "cell_type": "code",
   "execution_count": 48,
   "metadata": {},
   "outputs": [
    {
     "data": {
      "text/html": [
       "<div>\n",
       "<style scoped>\n",
       "    .dataframe tbody tr th:only-of-type {\n",
       "        vertical-align: middle;\n",
       "    }\n",
       "\n",
       "    .dataframe tbody tr th {\n",
       "        vertical-align: top;\n",
       "    }\n",
       "\n",
       "    .dataframe thead th {\n",
       "        text-align: right;\n",
       "    }\n",
       "</style>\n",
       "<table border=\"1\" class=\"dataframe\">\n",
       "  <thead>\n",
       "    <tr style=\"text-align: right;\">\n",
       "      <th></th>\n",
       "      <th>date</th>\n",
       "      <th>Confirmed</th>\n",
       "      <th>Deaths</th>\n",
       "    </tr>\n",
       "  </thead>\n",
       "  <tbody>\n",
       "    <tr>\n",
       "      <td>0</td>\n",
       "      <td>2020-01-26</td>\n",
       "      <td>2.0</td>\n",
       "      <td>0.0</td>\n",
       "    </tr>\n",
       "    <tr>\n",
       "      <td>1</td>\n",
       "      <td>2020-01-27</td>\n",
       "      <td>2.0</td>\n",
       "      <td>0.0</td>\n",
       "    </tr>\n",
       "    <tr>\n",
       "      <td>2</td>\n",
       "      <td>2020-01-28</td>\n",
       "      <td>2.0</td>\n",
       "      <td>0.0</td>\n",
       "    </tr>\n",
       "    <tr>\n",
       "      <td>3</td>\n",
       "      <td>2020-01-29</td>\n",
       "      <td>2.0</td>\n",
       "      <td>0.0</td>\n",
       "    </tr>\n",
       "    <tr>\n",
       "      <td>4</td>\n",
       "      <td>2020-01-30</td>\n",
       "      <td>2.0</td>\n",
       "      <td>0.0</td>\n",
       "    </tr>\n",
       "    <tr>\n",
       "      <td>5</td>\n",
       "      <td>2020-01-31</td>\n",
       "      <td>2.0</td>\n",
       "      <td>0.0</td>\n",
       "    </tr>\n",
       "    <tr>\n",
       "      <td>6</td>\n",
       "      <td>2020-02-01</td>\n",
       "      <td>NaN</td>\n",
       "      <td>NaN</td>\n",
       "    </tr>\n",
       "    <tr>\n",
       "      <td>7</td>\n",
       "      <td>2020-02-02</td>\n",
       "      <td>NaN</td>\n",
       "      <td>NaN</td>\n",
       "    </tr>\n",
       "    <tr>\n",
       "      <td>8</td>\n",
       "      <td>2020-02-03</td>\n",
       "      <td>NaN</td>\n",
       "      <td>NaN</td>\n",
       "    </tr>\n",
       "    <tr>\n",
       "      <td>9</td>\n",
       "      <td>2020-02-04</td>\n",
       "      <td>NaN</td>\n",
       "      <td>NaN</td>\n",
       "    </tr>\n",
       "  </tbody>\n",
       "</table>\n",
       "</div>"
      ],
      "text/plain": [
       "        date  Confirmed  Deaths\n",
       "0 2020-01-26        2.0     0.0\n",
       "1 2020-01-27        2.0     0.0\n",
       "2 2020-01-28        2.0     0.0\n",
       "3 2020-01-29        2.0     0.0\n",
       "4 2020-01-30        2.0     0.0\n",
       "5 2020-01-31        2.0     0.0\n",
       "6 2020-02-01        NaN     NaN\n",
       "7 2020-02-02        NaN     NaN\n",
       "8 2020-02-03        NaN     NaN\n",
       "9 2020-02-04        NaN     NaN"
      ]
     },
     "execution_count": 48,
     "metadata": {},
     "output_type": "execute_result"
    }
   ],
   "source": [
    "date_mast = pd.DataFrame({'date':pd.date_range(start='1/26/2020', end='8/29/2020')})\n",
    "date_mast = date_mast.merge(cal, how='left', on='date')\n",
    "date_mast.head(10)"
   ]
  },
  {
   "cell_type": "code",
   "execution_count": 49,
   "metadata": {},
   "outputs": [
    {
     "data": {
      "text/plain": [
       "date         0\n",
       "Confirmed    0\n",
       "Deaths       0\n",
       "dtype: int64"
      ]
     },
     "execution_count": 49,
     "metadata": {},
     "output_type": "execute_result"
    }
   ],
   "source": [
    "cal = date_mast.fillna(method='ffill')  # 결측치 보간 \n",
    "cal.isnull().sum()"
   ]
  },
  {
   "cell_type": "code",
   "execution_count": 50,
   "metadata": {},
   "outputs": [],
   "source": [
    "# 누적수치 -> 일 발생으로 변환 \n",
    "cal['Confirmed_daily'] = cal['Confirmed'] - cal['Confirmed'].shift(1)\n",
    "cal['Deaths_daily'] = cal['Deaths'] - cal['Deaths'].shift(1)"
   ]
  },
  {
   "cell_type": "code",
   "execution_count": 51,
   "metadata": {},
   "outputs": [
    {
     "data": {
      "text/plain": [
       "[<matplotlib.lines.Line2D at 0x2c3b08e5288>]"
      ]
     },
     "execution_count": 51,
     "metadata": {},
     "output_type": "execute_result"
    },
    {
     "data": {
      "image/png": "[encoded data removed]",
      "text/plain": [
       "<Figure size 432x288 with 1 Axes>"
      ]
     },
     "metadata": {
      "needs_background": "light"
     },
     "output_type": "display_data"
    }
   ],
   "source": [
    "plt.plot(cal['date'], cal['Confirmed_daily'])"
   ]
  },
  {
   "cell_type": "code",
   "execution_count": 52,
   "metadata": {},
   "outputs": [
    {
     "data": {
      "text/plain": [
       "[<matplotlib.lines.Line2D at 0x2c3af005ac8>]"
      ]
     },
     "execution_count": 52,
     "metadata": {},
     "output_type": "execute_result"
    },
    {
     "data": {
      "image/png": "[encoded data removed]",
      "text/plain": [
       "<Figure size 432x288 with 1 Axes>"
      ]
     },
     "metadata": {
      "needs_background": "light"
     },
     "output_type": "display_data"
    }
   ],
   "source": [
    "plt.plot(cal['date'], cal['Deaths_daily'])"
   ]
  },
  {
   "cell_type": "code",
   "execution_count": 55,
   "metadata": {},
   "outputs": [
    {
     "data": {
      "text/html": [
       "<div>\n",
       "<style scoped>\n",
       "    .dataframe tbody tr th:only-of-type {\n",
       "        vertical-align: middle;\n",
       "    }\n",
       "\n",
       "    .dataframe tbody tr th {\n",
       "        vertical-align: top;\n",
       "    }\n",
       "\n",
       "    .dataframe thead th {\n",
       "        text-align: right;\n",
       "    }\n",
       "</style>\n",
       "<table border=\"1\" class=\"dataframe\">\n",
       "  <thead>\n",
       "    <tr style=\"text-align: right;\">\n",
       "      <th></th>\n",
       "      <th>date</th>\n",
       "      <th>Confirmed</th>\n",
       "      <th>Deaths</th>\n",
       "      <th>Confirmed_daily</th>\n",
       "      <th>Deaths_daily</th>\n",
       "    </tr>\n",
       "  </thead>\n",
       "  <tbody>\n",
       "    <tr>\n",
       "      <td>0</td>\n",
       "      <td>2020-01-26</td>\n",
       "      <td>2.0</td>\n",
       "      <td>0.0</td>\n",
       "      <td>0.0</td>\n",
       "      <td>0.0</td>\n",
       "    </tr>\n",
       "    <tr>\n",
       "      <td>1</td>\n",
       "      <td>2020-01-27</td>\n",
       "      <td>2.0</td>\n",
       "      <td>0.0</td>\n",
       "      <td>0.0</td>\n",
       "      <td>0.0</td>\n",
       "    </tr>\n",
       "    <tr>\n",
       "      <td>2</td>\n",
       "      <td>2020-01-28</td>\n",
       "      <td>2.0</td>\n",
       "      <td>0.0</td>\n",
       "      <td>0.0</td>\n",
       "      <td>0.0</td>\n",
       "    </tr>\n",
       "    <tr>\n",
       "      <td>3</td>\n",
       "      <td>2020-01-29</td>\n",
       "      <td>2.0</td>\n",
       "      <td>0.0</td>\n",
       "      <td>0.0</td>\n",
       "      <td>0.0</td>\n",
       "    </tr>\n",
       "    <tr>\n",
       "      <td>4</td>\n",
       "      <td>2020-01-30</td>\n",
       "      <td>2.0</td>\n",
       "      <td>0.0</td>\n",
       "      <td>0.0</td>\n",
       "      <td>0.0</td>\n",
       "    </tr>\n",
       "  </tbody>\n",
       "</table>\n",
       "</div>"
      ],
      "text/plain": [
       "        date  Confirmed  Deaths  Confirmed_daily  Deaths_daily\n",
       "0 2020-01-26        2.0     0.0              0.0           0.0\n",
       "1 2020-01-27        2.0     0.0              0.0           0.0\n",
       "2 2020-01-28        2.0     0.0              0.0           0.0\n",
       "3 2020-01-29        2.0     0.0              0.0           0.0\n",
       "4 2020-01-30        2.0     0.0              0.0           0.0"
      ]
     },
     "execution_count": 55,
     "metadata": {},
     "output_type": "execute_result"
    }
   ],
   "source": [
    "cal.fillna(0, inplace=True)  # 결측 첫행 보간 \n",
    "cal.head()"
   ]
  },
  {
   "cell_type": "code",
   "execution_count": 56,
   "metadata": {},
   "outputs": [],
   "source": [
    "cal.to_csv(path + 'california_covid.csv')  \n",
    "# 깃헙 주소 : https://raw.githubusercontent.com/YoonHanho/adp_r/main/california_covid.csv"
   ]
  },
  {
   "cell_type": "code",
   "execution_count": 57,
   "metadata": {},
   "outputs": [
    {
     "data": {
      "text/html": [
       "<div>\n",
       "<style scoped>\n",
       "    .dataframe tbody tr th:only-of-type {\n",
       "        vertical-align: middle;\n",
       "    }\n",
       "\n",
       "    .dataframe tbody tr th {\n",
       "        vertical-align: top;\n",
       "    }\n",
       "\n",
       "    .dataframe thead th {\n",
       "        text-align: right;\n",
       "    }\n",
       "</style>\n",
       "<table border=\"1\" class=\"dataframe\">\n",
       "  <thead>\n",
       "    <tr style=\"text-align: right;\">\n",
       "      <th></th>\n",
       "      <th>date</th>\n",
       "      <th>Confirmed</th>\n",
       "      <th>Deaths</th>\n",
       "      <th>Confirmed_daily</th>\n",
       "      <th>Deaths_daily</th>\n",
       "    </tr>\n",
       "  </thead>\n",
       "  <tbody>\n",
       "    <tr>\n",
       "      <td>212</td>\n",
       "      <td>2020-08-25</td>\n",
       "      <td>681032.0</td>\n",
       "      <td>12382.0</td>\n",
       "      <td>5471.0</td>\n",
       "      <td>147.0</td>\n",
       "    </tr>\n",
       "    <tr>\n",
       "      <td>213</td>\n",
       "      <td>2020-08-26</td>\n",
       "      <td>687004.0</td>\n",
       "      <td>12532.0</td>\n",
       "      <td>5972.0</td>\n",
       "      <td>150.0</td>\n",
       "    </tr>\n",
       "    <tr>\n",
       "      <td>214</td>\n",
       "      <td>2020-08-27</td>\n",
       "      <td>691821.0</td>\n",
       "      <td>12677.0</td>\n",
       "      <td>4817.0</td>\n",
       "      <td>145.0</td>\n",
       "    </tr>\n",
       "    <tr>\n",
       "      <td>215</td>\n",
       "      <td>2020-08-28</td>\n",
       "      <td>697385.0</td>\n",
       "      <td>12805.0</td>\n",
       "      <td>5564.0</td>\n",
       "      <td>128.0</td>\n",
       "    </tr>\n",
       "    <tr>\n",
       "      <td>216</td>\n",
       "      <td>2020-08-29</td>\n",
       "      <td>702038.0</td>\n",
       "      <td>12894.0</td>\n",
       "      <td>4653.0</td>\n",
       "      <td>89.0</td>\n",
       "    </tr>\n",
       "  </tbody>\n",
       "</table>\n",
       "</div>"
      ],
      "text/plain": [
       "          date  Confirmed   Deaths  Confirmed_daily  Deaths_daily\n",
       "212 2020-08-25   681032.0  12382.0           5471.0         147.0\n",
       "213 2020-08-26   687004.0  12532.0           5972.0         150.0\n",
       "214 2020-08-27   691821.0  12677.0           4817.0         145.0\n",
       "215 2020-08-28   697385.0  12805.0           5564.0         128.0\n",
       "216 2020-08-29   702038.0  12894.0           4653.0          89.0"
      ]
     },
     "execution_count": 57,
     "metadata": {},
     "output_type": "execute_result"
    }
   ],
   "source": [
    "cal.tail()"
   ]
  },
  {
   "cell_type": "code",
   "execution_count": 5,
   "metadata": {},
   "outputs": [],
   "source": [
    "\"\"\"\n",
    "\n",
    "# 시계열 \n",
    "library(TTR)\n",
    "library(forecast)\n",
    "\n",
    "#### 추후 할 것 \n",
    "# 1. 분기/시간 등으로 월이 아닌 기간으로 나오는 것 \n",
    "# 2. 시간 데이터로 변환 : https://dr-hkim.github.io/R-110-Date-Values/\n",
    "# >> strDates <- c(\"01/05/1965\", \"08/16/1975\")\n",
    "# >> dates <- as.Date(strDates, \"%m/%d/%Y\")\n",
    "# >> mydates <- as.Date(c(\"2007-06-22\", \"2004-02-13\"))\n",
    "# 3. train/test로 나눠서 결과 검증(파이썬에 있음~!!!!)\n",
    "\n",
    "# 코로나 데이터로 시계열 돌려보기\n",
    ">> https://www.kaggle.com/code/neelkudu28/covid-19-visualizations-predictions-forecasting\n",
    "\n",
    "getwd()\n",
    "\n",
    "df <- read.csv('covid_19_data.csv')\n",
    "head(df)\n",
    "\n",
    "table( df$Province.State )\n",
    "\n",
    "# 파이썬에서 데이터 전처리 후 시계열분석만 R에서 진행\n",
    "library(TTR)\n",
    "library(forecast)\n",
    "library(zoo)\n",
    "\n",
    "cal <- read.csv('california_covid.csv') \n",
    "head(cal)\n",
    "nrow(cal)\n",
    "\n",
    "sum(is.na(cal$Confirmed_daily))\n",
    "\n",
    "covid <- ts(cal$Confirmed_daily, frequency = 365, start = c(2020,1,26), end = c(2020,8,29)is)\n",
    "covid\n",
    "plot.ts(covid)\n",
    "\n",
    "\n",
    "# 로그 변환 \n",
    "covid_log <- log1p(covid)   #### log(0) --> inf 이므로 log1p로 할 것!!!! \n",
    "plot.ts(covid_log)\n",
    "\n",
    "\n",
    "# 차분 \n",
    "covid_diff1 <- diff(covid_log, differences = 1)\n",
    "plot.ts(covid_diff1)\n",
    "\n",
    "# AR, MA 보기 \n",
    "acf(covid_diff1, lag.max = 20)\n",
    "pacf(covid_diff1, lag.max = 20)\n",
    "\n",
    "auto.arima(covid)  >> ARIMA(3,1,4)\n",
    "\n",
    "covid_arima <- arima(covid, order = c(3,1,4))\n",
    "covid_fcast <- forecast(covid_arima, h=50)\n",
    "plot(covid_fcast)\n",
    "covid_fcast\n",
    "\n",
    "\n",
    "#### 여기가 찐!!!!!!\n",
    "#### 일자별 데이터는 ts 대신 zoo를 활용한다!!! auto.arima로 한방에 본다!!!!\n",
    "#### zoo 라이브러리 활용하는 법\n",
    "# https://stackoverflow.com/questions/33128865/starting-a-daily-time-series-in-r\n",
    "\n",
    "# Confirmed_daily\n",
    "inds <- seq(as.Date(\"2020-01-26\"), as.Date(\"2020-08-29\"), by = \"day\")\n",
    "myzoo <- zoo(cal$Confirmed_daily, inds)\n",
    "myzoo\n",
    "plot(myzoo)\n",
    "\n",
    "fit <- auto.arima(myzoo) ## forecast for next 60 time points fore <- forecast(fit, h = 60)\n",
    "fit\n",
    "fore <- forecast(fit, h=60)\n",
    "plot(fore)\n",
    "\n",
    "# 차트 X축을 날짜 형식으로 표현 (분기 단위)\n",
    "plot(fore, xaxt = \"n\", main = \"Corona Confirmed Daily in California\")    # no x-axis \n",
    "Axis(inds, side = 1,\n",
    "     at = seq(inds[1], tail(inds, 1) + 60, by = \"3 months\"),\n",
    "     format = \"%b %Y\")\n",
    "\n",
    "# Deaths_daily\n",
    "inds <- seq(as.Date(\"2020-01-26\"), as.Date(\"2020-08-29\"), by = \"day\")\n",
    "myzoo <- zoo(cal$Deaths_daily, inds)\n",
    "myzoo\n",
    "plot(myzoo)\n",
    "\n",
    "fit <- auto.arima(myzoo) ## forecast for next 60 time points fore <- forecast(fit, h = 60)\n",
    "fit\n",
    "fore <- forecast(fit, h=60)\n",
    "plot(fore)\n",
    "\n",
    "plot(fore, xaxt = \"n\", main = \"Corona Deaths Daily in California\")    # no x-axis \n",
    "Axis(inds, side = 1,\n",
    "     at = seq(inds[1], tail(inds, 1) + 60, by = \"3 months\"),\n",
    "     format = \"%b %Y\")\n",
    "\"\"\";"
   ]
  },
  {
   "cell_type": "code",
   "execution_count": 9,
   "metadata": {},
   "outputs": [
    {
     "data": {
      "image/png": "[encoded data removed]",
      "text/plain": [
       "<IPython.core.display.Image object>"
      ]
     },
     "execution_count": 9,
     "metadata": {},
     "output_type": "execute_result"
    }
   ],
   "source": [
    "Image('코로나_confirmed.png')"
   ]
  },
  {
   "cell_type": "code",
   "execution_count": 10,
   "metadata": {},
   "outputs": [
    {
     "data": {
      "image/png": "[encoded data removed]",
      "text/plain": [
       "<IPython.core.display.Image object>"
      ]
     },
     "execution_count": 10,
     "metadata": {},
     "output_type": "execute_result"
    }
   ],
   "source": [
    "Image('코로나 Deaths.png')"
   ]
  }
 ],
 "metadata": {
  "kernelspec": {
   "display_name": "Python 3",
   "language": "python",
   "name": "python3"
  },
  "language_info": {
   "codemirror_mode": {
    "name": "ipython",
    "version": 3
   },
   "file_extension": ".py",
   "mimetype": "text/x-python",
   "name": "python",
   "nbconvert_exporter": "python",
   "pygments_lexer": "ipython3",
   "version": "3.7.4"
  }
 },
 "nbformat": 4,
 "nbformat_minor": 2
}
