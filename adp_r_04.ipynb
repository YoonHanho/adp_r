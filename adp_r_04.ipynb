{
 "cells": [
  {
   "cell_type": "code",
   "execution_count": 2,
   "id": "8b5a3309",
   "metadata": {},
   "outputs": [],
   "source": [
    "import numpy as np \n",
    "import pandas as pd \n",
    "\n",
    "import matplotlib.pyplot as plt\n",
    "import matplotlib\n",
    "matplotlib.rcParams['axes.unicode_minus'] = False  # 마이너스 깨짐 방지 \n",
    "\n",
    "%matplotlib inline\n",
    "\n",
    "import seaborn as sns\n",
    "\n",
    "from pandas_profiling import ProfileReport\n",
    "\n",
    "import os\n",
    "\n",
    "import warnings\n",
    "warnings.filterwarnings('ignore')\n",
    "\n",
    "#!git clone https://github.com/ADPclass/ADP_book_ver01.git\n",
    "#for dirname, _, filenames in os.walk('ADP_book_ver01/data'):\n",
    "#    for filename in filenames:\n",
    "#        print(os.path.join(dirname, filename))"
   ]
  },
  {
   "cell_type": "code",
   "execution_count": 3,
   "id": "60ba73e3",
   "metadata": {},
   "outputs": [
    {
     "name": "stdout",
     "output_type": "stream",
     "text": [
      "<class 'pandas.core.frame.DataFrame'>\n",
      "RangeIndex: 142193 entries, 0 to 142192\n",
      "Data columns (total 21 columns):\n",
      " #   Column         Non-Null Count   Dtype  \n",
      "---  ------         --------------   -----  \n",
      " 0   Date           142193 non-null  object \n",
      " 1   Location       142193 non-null  object \n",
      " 2   MinTemp        141556 non-null  float64\n",
      " 3   MaxTemp        141871 non-null  float64\n",
      " 4   Rainfall       140787 non-null  float64\n",
      " 5   WindGustDir    132863 non-null  object \n",
      " 6   WindGustSpeed  132923 non-null  float64\n",
      " 7   WindDir9am     132180 non-null  object \n",
      " 8   WindDir3pm     138415 non-null  object \n",
      " 9   WindSpeed9am   140845 non-null  float64\n",
      " 10  WindSpeed3pm   139563 non-null  float64\n",
      " 11  Humidity9am    140419 non-null  float64\n",
      " 12  Humidity3pm    138583 non-null  float64\n",
      " 13  Pressure9am    128179 non-null  float64\n",
      " 14  Pressure3pm    128212 non-null  float64\n",
      " 15  Cloud9am       88536 non-null   float64\n",
      " 16  Cloud3pm       85099 non-null   float64\n",
      " 17  Temp9am        141289 non-null  float64\n",
      " 18  Temp3pm        139467 non-null  float64\n",
      " 19  RainToday      140787 non-null  object \n",
      " 20  RainTomorrow   142193 non-null  object \n",
      "dtypes: float64(14), object(7)\n",
      "memory usage: 22.8+ MB\n",
      "None\n"
     ]
    },
    {
     "data": {
      "text/html": [
       "<div>\n",
       "<style scoped>\n",
       "    .dataframe tbody tr th:only-of-type {\n",
       "        vertical-align: middle;\n",
       "    }\n",
       "\n",
       "    .dataframe tbody tr th {\n",
       "        vertical-align: top;\n",
       "    }\n",
       "\n",
       "    .dataframe thead th {\n",
       "        text-align: right;\n",
       "    }\n",
       "</style>\n",
       "<table border=\"1\" class=\"dataframe\">\n",
       "  <thead>\n",
       "    <tr style=\"text-align: right;\">\n",
       "      <th></th>\n",
       "      <th>Date</th>\n",
       "      <th>Location</th>\n",
       "      <th>MinTemp</th>\n",
       "      <th>MaxTemp</th>\n",
       "      <th>Rainfall</th>\n",
       "      <th>WindGustDir</th>\n",
       "      <th>WindGustSpeed</th>\n",
       "      <th>WindDir9am</th>\n",
       "      <th>WindDir3pm</th>\n",
       "      <th>WindSpeed9am</th>\n",
       "      <th>...</th>\n",
       "      <th>Humidity9am</th>\n",
       "      <th>Humidity3pm</th>\n",
       "      <th>Pressure9am</th>\n",
       "      <th>Pressure3pm</th>\n",
       "      <th>Cloud9am</th>\n",
       "      <th>Cloud3pm</th>\n",
       "      <th>Temp9am</th>\n",
       "      <th>Temp3pm</th>\n",
       "      <th>RainToday</th>\n",
       "      <th>RainTomorrow</th>\n",
       "    </tr>\n",
       "  </thead>\n",
       "  <tbody>\n",
       "    <tr>\n",
       "      <th>142188</th>\n",
       "      <td>2017-06-20</td>\n",
       "      <td>Uluru</td>\n",
       "      <td>3.5</td>\n",
       "      <td>21.8</td>\n",
       "      <td>0.0</td>\n",
       "      <td>E</td>\n",
       "      <td>31.0</td>\n",
       "      <td>ESE</td>\n",
       "      <td>E</td>\n",
       "      <td>15.0</td>\n",
       "      <td>...</td>\n",
       "      <td>59.0</td>\n",
       "      <td>27.0</td>\n",
       "      <td>1024.7</td>\n",
       "      <td>1021.2</td>\n",
       "      <td>NaN</td>\n",
       "      <td>NaN</td>\n",
       "      <td>9.4</td>\n",
       "      <td>20.9</td>\n",
       "      <td>No</td>\n",
       "      <td>No</td>\n",
       "    </tr>\n",
       "    <tr>\n",
       "      <th>142189</th>\n",
       "      <td>2017-06-21</td>\n",
       "      <td>Uluru</td>\n",
       "      <td>2.8</td>\n",
       "      <td>23.4</td>\n",
       "      <td>0.0</td>\n",
       "      <td>E</td>\n",
       "      <td>31.0</td>\n",
       "      <td>SE</td>\n",
       "      <td>ENE</td>\n",
       "      <td>13.0</td>\n",
       "      <td>...</td>\n",
       "      <td>51.0</td>\n",
       "      <td>24.0</td>\n",
       "      <td>1024.6</td>\n",
       "      <td>1020.3</td>\n",
       "      <td>NaN</td>\n",
       "      <td>NaN</td>\n",
       "      <td>10.1</td>\n",
       "      <td>22.4</td>\n",
       "      <td>No</td>\n",
       "      <td>No</td>\n",
       "    </tr>\n",
       "    <tr>\n",
       "      <th>142190</th>\n",
       "      <td>2017-06-22</td>\n",
       "      <td>Uluru</td>\n",
       "      <td>3.6</td>\n",
       "      <td>25.3</td>\n",
       "      <td>0.0</td>\n",
       "      <td>NNW</td>\n",
       "      <td>22.0</td>\n",
       "      <td>SE</td>\n",
       "      <td>N</td>\n",
       "      <td>13.0</td>\n",
       "      <td>...</td>\n",
       "      <td>56.0</td>\n",
       "      <td>21.0</td>\n",
       "      <td>1023.5</td>\n",
       "      <td>1019.1</td>\n",
       "      <td>NaN</td>\n",
       "      <td>NaN</td>\n",
       "      <td>10.9</td>\n",
       "      <td>24.5</td>\n",
       "      <td>No</td>\n",
       "      <td>No</td>\n",
       "    </tr>\n",
       "    <tr>\n",
       "      <th>142191</th>\n",
       "      <td>2017-06-23</td>\n",
       "      <td>Uluru</td>\n",
       "      <td>5.4</td>\n",
       "      <td>26.9</td>\n",
       "      <td>0.0</td>\n",
       "      <td>N</td>\n",
       "      <td>37.0</td>\n",
       "      <td>SE</td>\n",
       "      <td>WNW</td>\n",
       "      <td>9.0</td>\n",
       "      <td>...</td>\n",
       "      <td>53.0</td>\n",
       "      <td>24.0</td>\n",
       "      <td>1021.0</td>\n",
       "      <td>1016.8</td>\n",
       "      <td>NaN</td>\n",
       "      <td>NaN</td>\n",
       "      <td>12.5</td>\n",
       "      <td>26.1</td>\n",
       "      <td>No</td>\n",
       "      <td>No</td>\n",
       "    </tr>\n",
       "    <tr>\n",
       "      <th>142192</th>\n",
       "      <td>2017-06-24</td>\n",
       "      <td>Uluru</td>\n",
       "      <td>7.8</td>\n",
       "      <td>27.0</td>\n",
       "      <td>0.0</td>\n",
       "      <td>SE</td>\n",
       "      <td>28.0</td>\n",
       "      <td>SSE</td>\n",
       "      <td>N</td>\n",
       "      <td>13.0</td>\n",
       "      <td>...</td>\n",
       "      <td>51.0</td>\n",
       "      <td>24.0</td>\n",
       "      <td>1019.4</td>\n",
       "      <td>1016.5</td>\n",
       "      <td>3.0</td>\n",
       "      <td>2.0</td>\n",
       "      <td>15.1</td>\n",
       "      <td>26.0</td>\n",
       "      <td>No</td>\n",
       "      <td>No</td>\n",
       "    </tr>\n",
       "  </tbody>\n",
       "</table>\n",
       "<p>5 rows × 21 columns</p>\n",
       "</div>"
      ],
      "text/plain": [
       "              Date Location  MinTemp  MaxTemp  Rainfall WindGustDir  \\\n",
       "142188  2017-06-20    Uluru      3.5     21.8       0.0           E   \n",
       "142189  2017-06-21    Uluru      2.8     23.4       0.0           E   \n",
       "142190  2017-06-22    Uluru      3.6     25.3       0.0         NNW   \n",
       "142191  2017-06-23    Uluru      5.4     26.9       0.0           N   \n",
       "142192  2017-06-24    Uluru      7.8     27.0       0.0          SE   \n",
       "\n",
       "        WindGustSpeed WindDir9am WindDir3pm  WindSpeed9am  ...  Humidity9am  \\\n",
       "142188           31.0        ESE          E          15.0  ...         59.0   \n",
       "142189           31.0         SE        ENE          13.0  ...         51.0   \n",
       "142190           22.0         SE          N          13.0  ...         56.0   \n",
       "142191           37.0         SE        WNW           9.0  ...         53.0   \n",
       "142192           28.0        SSE          N          13.0  ...         51.0   \n",
       "\n",
       "        Humidity3pm  Pressure9am  Pressure3pm  Cloud9am  Cloud3pm  Temp9am  \\\n",
       "142188         27.0       1024.7       1021.2       NaN       NaN      9.4   \n",
       "142189         24.0       1024.6       1020.3       NaN       NaN     10.1   \n",
       "142190         21.0       1023.5       1019.1       NaN       NaN     10.9   \n",
       "142191         24.0       1021.0       1016.8       NaN       NaN     12.5   \n",
       "142192         24.0       1019.4       1016.5       3.0       2.0     15.1   \n",
       "\n",
       "        Temp3pm  RainToday RainTomorrow  \n",
       "142188     20.9         No           No  \n",
       "142189     22.4         No           No  \n",
       "142190     24.5         No           No  \n",
       "142191     26.1         No           No  \n",
       "142192     26.0         No           No  \n",
       "\n",
       "[5 rows x 21 columns]"
      ]
     },
     "execution_count": 3,
     "metadata": {},
     "output_type": "execute_result"
    }
   ],
   "source": [
    "df = pd.read_csv('datafiles/weatherAUS.csv')\n",
    "print(df.info())\n",
    "df.tail()"
   ]
  },
  {
   "cell_type": "code",
   "execution_count": 4,
   "id": "4157b328",
   "metadata": {},
   "outputs": [
    {
     "data": {
      "text/plain": [
       "Date                 0\n",
       "Location             0\n",
       "MinTemp            637\n",
       "MaxTemp            322\n",
       "Rainfall          1406\n",
       "WindGustDir       9330\n",
       "WindGustSpeed     9270\n",
       "WindDir9am       10013\n",
       "WindDir3pm        3778\n",
       "WindSpeed9am      1348\n",
       "WindSpeed3pm      2630\n",
       "Humidity9am       1774\n",
       "Humidity3pm       3610\n",
       "Pressure9am      14014\n",
       "Pressure3pm      13981\n",
       "Cloud9am         53657\n",
       "Cloud3pm         57094\n",
       "Temp9am            904\n",
       "Temp3pm           2726\n",
       "RainToday         1406\n",
       "RainTomorrow         0\n",
       "dtype: int64"
      ]
     },
     "execution_count": 4,
     "metadata": {},
     "output_type": "execute_result"
    }
   ],
   "source": [
    "df.isnull().sum()"
   ]
  },
  {
   "cell_type": "code",
   "execution_count": 7,
   "id": "5aea78cd",
   "metadata": {},
   "outputs": [],
   "source": [
    "# NA 1만개 이상 제외 \n",
    "ser = df.isnull().sum() \n",
    "col_exc = list(ser[ser > 10000].index)\n",
    "df = df.drop(col_exc, axis=1)"
   ]
  },
  {
   "cell_type": "code",
   "execution_count": 8,
   "id": "e959ba76",
   "metadata": {},
   "outputs": [
    {
     "data": {
      "text/plain": [
       "Date                0\n",
       "Location            0\n",
       "MinTemp           637\n",
       "MaxTemp           322\n",
       "Rainfall         1406\n",
       "WindGustDir      9330\n",
       "WindGustSpeed    9270\n",
       "WindDir3pm       3778\n",
       "WindSpeed9am     1348\n",
       "WindSpeed3pm     2630\n",
       "Humidity9am      1774\n",
       "Humidity3pm      3610\n",
       "Temp9am           904\n",
       "Temp3pm          2726\n",
       "RainToday        1406\n",
       "RainTomorrow        0\n",
       "dtype: int64"
      ]
     },
     "execution_count": 8,
     "metadata": {},
     "output_type": "execute_result"
    }
   ],
   "source": [
    "df.isnull().sum()"
   ]
  },
  {
   "cell_type": "code",
   "execution_count": 9,
   "id": "b5b1e371",
   "metadata": {},
   "outputs": [
    {
     "data": {
      "text/html": [
       "<div>\n",
       "<style scoped>\n",
       "    .dataframe tbody tr th:only-of-type {\n",
       "        vertical-align: middle;\n",
       "    }\n",
       "\n",
       "    .dataframe tbody tr th {\n",
       "        vertical-align: top;\n",
       "    }\n",
       "\n",
       "    .dataframe thead th {\n",
       "        text-align: right;\n",
       "    }\n",
       "</style>\n",
       "<table border=\"1\" class=\"dataframe\">\n",
       "  <thead>\n",
       "    <tr style=\"text-align: right;\">\n",
       "      <th></th>\n",
       "      <th>Date</th>\n",
       "      <th>Location</th>\n",
       "      <th>MinTemp</th>\n",
       "      <th>MaxTemp</th>\n",
       "      <th>Rainfall</th>\n",
       "      <th>WindGustDir</th>\n",
       "      <th>WindGustSpeed</th>\n",
       "      <th>WindDir3pm</th>\n",
       "      <th>WindSpeed9am</th>\n",
       "      <th>WindSpeed3pm</th>\n",
       "      <th>Humidity9am</th>\n",
       "      <th>Humidity3pm</th>\n",
       "      <th>Temp9am</th>\n",
       "      <th>Temp3pm</th>\n",
       "      <th>RainToday</th>\n",
       "      <th>RainTomorrow</th>\n",
       "    </tr>\n",
       "  </thead>\n",
       "  <tbody>\n",
       "    <tr>\n",
       "      <th>0</th>\n",
       "      <td>2008-12-01</td>\n",
       "      <td>Albury</td>\n",
       "      <td>13.4</td>\n",
       "      <td>22.9</td>\n",
       "      <td>0.6</td>\n",
       "      <td>W</td>\n",
       "      <td>44.0</td>\n",
       "      <td>WNW</td>\n",
       "      <td>20.0</td>\n",
       "      <td>24.0</td>\n",
       "      <td>71.0</td>\n",
       "      <td>22.0</td>\n",
       "      <td>16.9</td>\n",
       "      <td>21.8</td>\n",
       "      <td>No</td>\n",
       "      <td>No</td>\n",
       "    </tr>\n",
       "    <tr>\n",
       "      <th>1</th>\n",
       "      <td>2008-12-02</td>\n",
       "      <td>Albury</td>\n",
       "      <td>7.4</td>\n",
       "      <td>25.1</td>\n",
       "      <td>0.0</td>\n",
       "      <td>WNW</td>\n",
       "      <td>44.0</td>\n",
       "      <td>WSW</td>\n",
       "      <td>4.0</td>\n",
       "      <td>22.0</td>\n",
       "      <td>44.0</td>\n",
       "      <td>25.0</td>\n",
       "      <td>17.2</td>\n",
       "      <td>24.3</td>\n",
       "      <td>No</td>\n",
       "      <td>No</td>\n",
       "    </tr>\n",
       "    <tr>\n",
       "      <th>2</th>\n",
       "      <td>2008-12-03</td>\n",
       "      <td>Albury</td>\n",
       "      <td>12.9</td>\n",
       "      <td>25.7</td>\n",
       "      <td>0.0</td>\n",
       "      <td>WSW</td>\n",
       "      <td>46.0</td>\n",
       "      <td>WSW</td>\n",
       "      <td>19.0</td>\n",
       "      <td>26.0</td>\n",
       "      <td>38.0</td>\n",
       "      <td>30.0</td>\n",
       "      <td>21.0</td>\n",
       "      <td>23.2</td>\n",
       "      <td>No</td>\n",
       "      <td>No</td>\n",
       "    </tr>\n",
       "    <tr>\n",
       "      <th>3</th>\n",
       "      <td>2008-12-04</td>\n",
       "      <td>Albury</td>\n",
       "      <td>9.2</td>\n",
       "      <td>28.0</td>\n",
       "      <td>0.0</td>\n",
       "      <td>NE</td>\n",
       "      <td>24.0</td>\n",
       "      <td>E</td>\n",
       "      <td>11.0</td>\n",
       "      <td>9.0</td>\n",
       "      <td>45.0</td>\n",
       "      <td>16.0</td>\n",
       "      <td>18.1</td>\n",
       "      <td>26.5</td>\n",
       "      <td>No</td>\n",
       "      <td>No</td>\n",
       "    </tr>\n",
       "    <tr>\n",
       "      <th>4</th>\n",
       "      <td>2008-12-05</td>\n",
       "      <td>Albury</td>\n",
       "      <td>17.5</td>\n",
       "      <td>32.3</td>\n",
       "      <td>1.0</td>\n",
       "      <td>W</td>\n",
       "      <td>41.0</td>\n",
       "      <td>NW</td>\n",
       "      <td>7.0</td>\n",
       "      <td>20.0</td>\n",
       "      <td>82.0</td>\n",
       "      <td>33.0</td>\n",
       "      <td>17.8</td>\n",
       "      <td>29.7</td>\n",
       "      <td>No</td>\n",
       "      <td>No</td>\n",
       "    </tr>\n",
       "  </tbody>\n",
       "</table>\n",
       "</div>"
      ],
      "text/plain": [
       "         Date Location  MinTemp  MaxTemp  Rainfall WindGustDir  WindGustSpeed  \\\n",
       "0  2008-12-01   Albury     13.4     22.9       0.6           W           44.0   \n",
       "1  2008-12-02   Albury      7.4     25.1       0.0         WNW           44.0   \n",
       "2  2008-12-03   Albury     12.9     25.7       0.0         WSW           46.0   \n",
       "3  2008-12-04   Albury      9.2     28.0       0.0          NE           24.0   \n",
       "4  2008-12-05   Albury     17.5     32.3       1.0           W           41.0   \n",
       "\n",
       "  WindDir3pm  WindSpeed9am  WindSpeed3pm  Humidity9am  Humidity3pm  Temp9am  \\\n",
       "0        WNW          20.0          24.0         71.0         22.0     16.9   \n",
       "1        WSW           4.0          22.0         44.0         25.0     17.2   \n",
       "2        WSW          19.0          26.0         38.0         30.0     21.0   \n",
       "3          E          11.0           9.0         45.0         16.0     18.1   \n",
       "4         NW           7.0          20.0         82.0         33.0     17.8   \n",
       "\n",
       "   Temp3pm RainToday RainTomorrow  \n",
       "0     21.8        No           No  \n",
       "1     24.3        No           No  \n",
       "2     23.2        No           No  \n",
       "3     26.5        No           No  \n",
       "4     29.7        No           No  "
      ]
     },
     "execution_count": 9,
     "metadata": {},
     "output_type": "execute_result"
    }
   ],
   "source": [
    "df.head()"
   ]
  },
  {
   "cell_type": "code",
   "execution_count": 10,
   "id": "afa949c2",
   "metadata": {},
   "outputs": [],
   "source": [
    "# NA값이 있는 행 삭제 \n",
    "df.dropna?"
   ]
  },
  {
   "cell_type": "code",
   "execution_count": 4,
   "id": "fddb15d5",
   "metadata": {},
   "outputs": [
    {
     "data": {
      "text/plain": [
       "(71045, 21)"
      ]
     },
     "execution_count": 4,
     "metadata": {},
     "output_type": "execute_result"
    }
   ],
   "source": [
    "aus = df.dropna(axis=0, how='any')\n",
    "#aus.isnull().sum() # --> 완료  \n",
    "aus.shape"
   ]
  },
  {
   "cell_type": "code",
   "execution_count": 5,
   "id": "986b4c6e",
   "metadata": {},
   "outputs": [],
   "source": [
    "# 날짜 변환\n",
    "aus['Date'] = pd.to_datetime(aus['Date'])"
   ]
  },
  {
   "cell_type": "code",
   "execution_count": 24,
   "id": "eeeb70bf",
   "metadata": {},
   "outputs": [
    {
     "name": "stdout",
     "output_type": "stream",
     "text": [
      "<class 'pandas.core.frame.DataFrame'>\n",
      "Int64Index: 128576 entries, 0 to 142192\n",
      "Data columns (total 16 columns):\n",
      " #   Column         Non-Null Count   Dtype         \n",
      "---  ------         --------------   -----         \n",
      " 0   Date           128576 non-null  datetime64[ns]\n",
      " 1   Location       128576 non-null  object        \n",
      " 2   MinTemp        128576 non-null  float64       \n",
      " 3   MaxTemp        128576 non-null  float64       \n",
      " 4   Rainfall       128576 non-null  float64       \n",
      " 5   WindGustDir    128576 non-null  object        \n",
      " 6   WindGustSpeed  128576 non-null  float64       \n",
      " 7   WindDir3pm     128576 non-null  object        \n",
      " 8   WindSpeed9am   128576 non-null  float64       \n",
      " 9   WindSpeed3pm   128576 non-null  float64       \n",
      " 10  Humidity9am    128576 non-null  float64       \n",
      " 11  Humidity3pm    128576 non-null  float64       \n",
      " 12  Temp9am        128576 non-null  float64       \n",
      " 13  Temp3pm        128576 non-null  float64       \n",
      " 14  RainToday      128576 non-null  object        \n",
      " 15  RainTomorrow   128576 non-null  object        \n",
      "dtypes: datetime64[ns](1), float64(10), object(5)\n",
      "memory usage: 16.7+ MB\n"
     ]
    }
   ],
   "source": [
    "aus.info()"
   ]
  },
  {
   "cell_type": "code",
   "execution_count": 6,
   "id": "92fb58e0",
   "metadata": {},
   "outputs": [
    {
     "name": "stdout",
     "output_type": "stream",
     "text": [
      "Location\n",
      "                  count       pct\n",
      "Darwin             3115  0.043845\n",
      "Perth              3031  0.042663\n",
      "Brisbane           3017  0.042466\n",
      "MelbourneAirport   2933  0.041284\n",
      "SydneyAirport      2925  0.041171\n",
      "PerthAirport       2918  0.041073\n",
      "NorfolkIsland      2782  0.039158\n",
      "MountGambier       2743  0.038609\n",
      "Watsonia           2734  0.038483\n",
      "Mildura            2711  0.038159\n",
      "Cairns             2650  0.037300\n",
      "Townsville         2592  0.036484\n",
      "WaggaWagga         2572  0.036202\n",
      "Cobar              2465  0.034696\n",
      "AliceSprings       2367  0.033317\n",
      "Sale               2314  0.032571\n",
      "Portland           2182  0.030713\n",
      "Woomera            2180  0.030685\n",
      "Moree              2169  0.030530\n",
      "Nuriootpa          2065  0.029066\n",
      "Hobart             1955  0.027518\n",
      "CoffsHarbour       1947  0.027405\n",
      "Melbourne          1899  0.026730\n",
      "Sydney             1726  0.024294\n",
      "Williamtown        1713  0.024111\n",
      "Bendigo            1702  0.023957\n",
      "Ballarat           1692  0.023816\n",
      "Canberra           1612  0.022690\n",
      "PearceRAAF         1402  0.019734\n",
      "Wollongong          872  0.012274\n",
      "Albury              794  0.011176\n",
      "Katherine           670  0.009431\n",
      "Richmond            364  0.005124\n",
      "Uluru               232  0.003266\n",
      "==================================================\n",
      "WindGustDir\n",
      "     count       pct\n",
      "E     5530  0.077838\n",
      "W     5409  0.076135\n",
      "SW    5168  0.072743\n",
      "N     5059  0.071208\n",
      "WSW   4965  0.069885\n",
      "SSW   4854  0.068323\n",
      "SE    4850  0.068267\n",
      "ENE   4757  0.066958\n",
      "S     4740  0.066718\n",
      "SSE   4255  0.059892\n",
      "ESE   4148  0.058386\n",
      "WNW   3926  0.055261\n",
      "NE    3870  0.054473\n",
      "NW    3369  0.047421\n",
      "NNE   3237  0.045563\n",
      "NNW   2908  0.040932\n",
      "==================================================\n",
      "WindDir9am\n",
      "     count       pct\n",
      "N     6196  0.087212\n",
      "E     5392  0.075896\n",
      "SSE   4960  0.069815\n",
      "SE    4937  0.069491\n",
      "ENE   4685  0.065944\n",
      "W     4556  0.064128\n",
      "S     4530  0.063762\n",
      "SW    4367  0.061468\n",
      "ESE   4251  0.059835\n",
      "NE    4136  0.058217\n",
      "NNE   4126  0.058076\n",
      "SSW   3877  0.054571\n",
      "WSW   3859  0.054318\n",
      "NNW   3776  0.053149\n",
      "WNW   3731  0.052516\n",
      "NW    3666  0.051601\n",
      "==================================================\n",
      "WindDir3pm\n",
      "     count       pct\n",
      "S     5267  0.074136\n",
      "SW    5180  0.072912\n",
      "W     5124  0.072123\n",
      "SE    5120  0.072067\n",
      "WSW   5006  0.070462\n",
      "ENE   4608  0.064860\n",
      "E     4595  0.064677\n",
      "ESE   4563  0.064227\n",
      "N     4539  0.063889\n",
      "SSW   4527  0.063720\n",
      "SSE   4292  0.060412\n",
      "WNW   4134  0.058188\n",
      "NE    4060  0.057147\n",
      "NW    3488  0.049096\n",
      "NNW   3458  0.048673\n",
      "NNE   3084  0.043409\n",
      "==================================================\n",
      "RainToday\n",
      "     count       pct\n",
      "No   54012  0.760251\n",
      "Yes  17033  0.239749\n",
      "==================================================\n",
      "RainTomorrow\n",
      "     count      pct\n",
      "No   54294  0.76422\n",
      "Yes  16751  0.23578\n",
      "==================================================\n"
     ]
    }
   ],
   "source": [
    "# 범주형 변수 eda\n",
    "cols_txt = aus.select_dtypes(include='object').columns\n",
    "\n",
    "for col in cols_txt:\n",
    "    print(col)\n",
    "    print(pd.concat([aus[col].value_counts(),\n",
    "                     aus[col].value_counts(normalize=True)], axis=1, keys=['count', 'pct']))\n",
    "    print('='*50)"
   ]
  },
  {
   "cell_type": "code",
   "execution_count": 7,
   "id": "ac000162",
   "metadata": {},
   "outputs": [
    {
     "data": {
      "text/html": [
       "<div>\n",
       "<style scoped>\n",
       "    .dataframe tbody tr th:only-of-type {\n",
       "        vertical-align: middle;\n",
       "    }\n",
       "\n",
       "    .dataframe tbody tr th {\n",
       "        vertical-align: top;\n",
       "    }\n",
       "\n",
       "    .dataframe thead th {\n",
       "        text-align: right;\n",
       "    }\n",
       "</style>\n",
       "<table border=\"1\" class=\"dataframe\">\n",
       "  <thead>\n",
       "    <tr style=\"text-align: right;\">\n",
       "      <th></th>\n",
       "      <th>count</th>\n",
       "      <th>mean</th>\n",
       "      <th>std</th>\n",
       "      <th>min</th>\n",
       "      <th>25%</th>\n",
       "      <th>50%</th>\n",
       "      <th>75%</th>\n",
       "      <th>max</th>\n",
       "    </tr>\n",
       "  </thead>\n",
       "  <tbody>\n",
       "    <tr>\n",
       "      <th>MinTemp</th>\n",
       "      <td>71045.0</td>\n",
       "      <td>13.195977</td>\n",
       "      <td>6.447023</td>\n",
       "      <td>-6.7</td>\n",
       "      <td>8.3</td>\n",
       "      <td>12.9</td>\n",
       "      <td>18.1</td>\n",
       "      <td>31.4</td>\n",
       "    </tr>\n",
       "    <tr>\n",
       "      <th>MaxTemp</th>\n",
       "      <td>71045.0</td>\n",
       "      <td>23.843106</td>\n",
       "      <td>7.160639</td>\n",
       "      <td>4.1</td>\n",
       "      <td>18.2</td>\n",
       "      <td>23.4</td>\n",
       "      <td>29.3</td>\n",
       "      <td>48.1</td>\n",
       "    </tr>\n",
       "    <tr>\n",
       "      <th>Rainfall</th>\n",
       "      <td>71045.0</td>\n",
       "      <td>2.653144</td>\n",
       "      <td>9.495474</td>\n",
       "      <td>0.0</td>\n",
       "      <td>0.0</td>\n",
       "      <td>0.0</td>\n",
       "      <td>1.0</td>\n",
       "      <td>367.6</td>\n",
       "    </tr>\n",
       "    <tr>\n",
       "      <th>WindGustSpeed</th>\n",
       "      <td>71045.0</td>\n",
       "      <td>41.056316</td>\n",
       "      <td>13.371500</td>\n",
       "      <td>9.0</td>\n",
       "      <td>31.0</td>\n",
       "      <td>39.0</td>\n",
       "      <td>48.0</td>\n",
       "      <td>126.0</td>\n",
       "    </tr>\n",
       "    <tr>\n",
       "      <th>WindSpeed9am</th>\n",
       "      <td>71045.0</td>\n",
       "      <td>15.771595</td>\n",
       "      <td>8.308285</td>\n",
       "      <td>2.0</td>\n",
       "      <td>9.0</td>\n",
       "      <td>15.0</td>\n",
       "      <td>20.0</td>\n",
       "      <td>69.0</td>\n",
       "    </tr>\n",
       "    <tr>\n",
       "      <th>WindSpeed3pm</th>\n",
       "      <td>71045.0</td>\n",
       "      <td>19.765360</td>\n",
       "      <td>8.540903</td>\n",
       "      <td>2.0</td>\n",
       "      <td>13.0</td>\n",
       "      <td>19.0</td>\n",
       "      <td>26.0</td>\n",
       "      <td>76.0</td>\n",
       "    </tr>\n",
       "    <tr>\n",
       "      <th>Humidity9am</th>\n",
       "      <td>71045.0</td>\n",
       "      <td>67.082230</td>\n",
       "      <td>19.030765</td>\n",
       "      <td>0.0</td>\n",
       "      <td>55.0</td>\n",
       "      <td>68.0</td>\n",
       "      <td>81.0</td>\n",
       "      <td>100.0</td>\n",
       "    </tr>\n",
       "    <tr>\n",
       "      <th>Humidity3pm</th>\n",
       "      <td>71045.0</td>\n",
       "      <td>50.660412</td>\n",
       "      <td>20.929371</td>\n",
       "      <td>0.0</td>\n",
       "      <td>36.0</td>\n",
       "      <td>51.0</td>\n",
       "      <td>65.0</td>\n",
       "      <td>100.0</td>\n",
       "    </tr>\n",
       "    <tr>\n",
       "      <th>Pressure9am</th>\n",
       "      <td>71045.0</td>\n",
       "      <td>1017.193739</td>\n",
       "      <td>6.975855</td>\n",
       "      <td>980.5</td>\n",
       "      <td>1012.6</td>\n",
       "      <td>1017.1</td>\n",
       "      <td>1021.9</td>\n",
       "      <td>1040.4</td>\n",
       "    </tr>\n",
       "    <tr>\n",
       "      <th>Pressure3pm</th>\n",
       "      <td>71045.0</td>\n",
       "      <td>1014.810935</td>\n",
       "      <td>6.931394</td>\n",
       "      <td>977.1</td>\n",
       "      <td>1010.0</td>\n",
       "      <td>1014.7</td>\n",
       "      <td>1019.5</td>\n",
       "      <td>1038.9</td>\n",
       "    </tr>\n",
       "    <tr>\n",
       "      <th>Cloud9am</th>\n",
       "      <td>71045.0</td>\n",
       "      <td>4.409839</td>\n",
       "      <td>2.866937</td>\n",
       "      <td>0.0</td>\n",
       "      <td>1.0</td>\n",
       "      <td>5.0</td>\n",
       "      <td>7.0</td>\n",
       "      <td>8.0</td>\n",
       "    </tr>\n",
       "    <tr>\n",
       "      <th>Cloud3pm</th>\n",
       "      <td>71045.0</td>\n",
       "      <td>4.490492</td>\n",
       "      <td>2.709274</td>\n",
       "      <td>0.0</td>\n",
       "      <td>2.0</td>\n",
       "      <td>5.0</td>\n",
       "      <td>7.0</td>\n",
       "      <td>9.0</td>\n",
       "    </tr>\n",
       "    <tr>\n",
       "      <th>Temp9am</th>\n",
       "      <td>71045.0</td>\n",
       "      <td>17.837231</td>\n",
       "      <td>6.609379</td>\n",
       "      <td>-1.0</td>\n",
       "      <td>12.7</td>\n",
       "      <td>17.4</td>\n",
       "      <td>22.9</td>\n",
       "      <td>39.4</td>\n",
       "    </tr>\n",
       "    <tr>\n",
       "      <th>Temp3pm</th>\n",
       "      <td>71045.0</td>\n",
       "      <td>22.335116</td>\n",
       "      <td>7.026431</td>\n",
       "      <td>1.7</td>\n",
       "      <td>16.9</td>\n",
       "      <td>21.9</td>\n",
       "      <td>27.6</td>\n",
       "      <td>46.7</td>\n",
       "    </tr>\n",
       "  </tbody>\n",
       "</table>\n",
       "</div>"
      ],
      "text/plain": [
       "                 count         mean        std    min     25%     50%     75%  \\\n",
       "MinTemp        71045.0    13.195977   6.447023   -6.7     8.3    12.9    18.1   \n",
       "MaxTemp        71045.0    23.843106   7.160639    4.1    18.2    23.4    29.3   \n",
       "Rainfall       71045.0     2.653144   9.495474    0.0     0.0     0.0     1.0   \n",
       "WindGustSpeed  71045.0    41.056316  13.371500    9.0    31.0    39.0    48.0   \n",
       "WindSpeed9am   71045.0    15.771595   8.308285    2.0     9.0    15.0    20.0   \n",
       "WindSpeed3pm   71045.0    19.765360   8.540903    2.0    13.0    19.0    26.0   \n",
       "Humidity9am    71045.0    67.082230  19.030765    0.0    55.0    68.0    81.0   \n",
       "Humidity3pm    71045.0    50.660412  20.929371    0.0    36.0    51.0    65.0   \n",
       "Pressure9am    71045.0  1017.193739   6.975855  980.5  1012.6  1017.1  1021.9   \n",
       "Pressure3pm    71045.0  1014.810935   6.931394  977.1  1010.0  1014.7  1019.5   \n",
       "Cloud9am       71045.0     4.409839   2.866937    0.0     1.0     5.0     7.0   \n",
       "Cloud3pm       71045.0     4.490492   2.709274    0.0     2.0     5.0     7.0   \n",
       "Temp9am        71045.0    17.837231   6.609379   -1.0    12.7    17.4    22.9   \n",
       "Temp3pm        71045.0    22.335116   7.026431    1.7    16.9    21.9    27.6   \n",
       "\n",
       "                  max  \n",
       "MinTemp          31.4  \n",
       "MaxTemp          48.1  \n",
       "Rainfall        367.6  \n",
       "WindGustSpeed   126.0  \n",
       "WindSpeed9am     69.0  \n",
       "WindSpeed3pm     76.0  \n",
       "Humidity9am     100.0  \n",
       "Humidity3pm     100.0  \n",
       "Pressure9am    1040.4  \n",
       "Pressure3pm    1038.9  \n",
       "Cloud9am          8.0  \n",
       "Cloud3pm          9.0  \n",
       "Temp9am          39.4  \n",
       "Temp3pm          46.7  "
      ]
     },
     "execution_count": 7,
     "metadata": {},
     "output_type": "execute_result"
    }
   ],
   "source": [
    "# 수치형 변수 \n",
    "cols_num = aus.select_dtypes(exclude='object').columns\n",
    "\n",
    "aus[cols_num].describe().T"
   ]
  },
  {
   "cell_type": "code",
   "execution_count": 8,
   "id": "2a5a71ba",
   "metadata": {},
   "outputs": [],
   "source": [
    "# 데이터 7:3 분할 후 예측 모델 3개 이상 생성 "
   ]
  },
  {
   "cell_type": "code",
   "execution_count": 9,
   "id": "ef83adc6",
   "metadata": {},
   "outputs": [],
   "source": [
    "# X데이터 컬럼만 더미처리 \n",
    "for col in cols_txt[:-1]:\n",
    "    aus = pd.concat([aus, \n",
    "                     pd.get_dummies(aus[col], prefix=col)], axis=1)\n",
    "aus.drop(cols_txt[:-1], axis=1, inplace=True)\n",
    "#np.sort(aus.columns)"
   ]
  },
  {
   "cell_type": "code",
   "execution_count": 12,
   "id": "b5158c3f",
   "metadata": {},
   "outputs": [
    {
     "name": "stdout",
     "output_type": "stream",
     "text": [
      "(49731, 98) (21314, 98) (49731,) (21314,)\n"
     ]
    }
   ],
   "source": [
    "from sklearn.model_selection import train_test_split\n",
    "from sklearn.preprocessing import MinMaxScaler\n",
    "\n",
    "# 모델링시 Date는 제외\n",
    "X = aus.drop(['RainTomorrow', 'Date'], axis=1)\n",
    "y = aus['RainTomorrow']\n",
    "\n",
    "# 스케일러\n",
    "mms = MinMaxScaler()\n",
    "X_scaled = pd.DataFrame(mms.fit_transform(X), columns=X.columns)\n",
    "\n",
    "# 분할 \n",
    "X_train, X_test, y_train, y_test = train_test_split(X_scaled, y, test_size=0.3, random_state=6789)\n",
    "print(X_train.shape, X_test.shape, y_train.shape, y_test.shape)"
   ]
  },
  {
   "cell_type": "code",
   "execution_count": 11,
   "id": "ddcabd3b",
   "metadata": {},
   "outputs": [
    {
     "data": {
      "text/html": [
       "<div>\n",
       "<style scoped>\n",
       "    .dataframe tbody tr th:only-of-type {\n",
       "        vertical-align: middle;\n",
       "    }\n",
       "\n",
       "    .dataframe tbody tr th {\n",
       "        vertical-align: top;\n",
       "    }\n",
       "\n",
       "    .dataframe thead th {\n",
       "        text-align: right;\n",
       "    }\n",
       "</style>\n",
       "<table border=\"1\" class=\"dataframe\">\n",
       "  <thead>\n",
       "    <tr style=\"text-align: right;\">\n",
       "      <th></th>\n",
       "      <th>MinTemp</th>\n",
       "      <th>MaxTemp</th>\n",
       "      <th>Rainfall</th>\n",
       "      <th>WindGustSpeed</th>\n",
       "      <th>WindSpeed9am</th>\n",
       "      <th>WindSpeed3pm</th>\n",
       "      <th>Humidity9am</th>\n",
       "      <th>Humidity3pm</th>\n",
       "      <th>Pressure9am</th>\n",
       "      <th>Pressure3pm</th>\n",
       "      <th>...</th>\n",
       "      <th>WindDir3pm_S</th>\n",
       "      <th>WindDir3pm_SE</th>\n",
       "      <th>WindDir3pm_SSE</th>\n",
       "      <th>WindDir3pm_SSW</th>\n",
       "      <th>WindDir3pm_SW</th>\n",
       "      <th>WindDir3pm_W</th>\n",
       "      <th>WindDir3pm_WNW</th>\n",
       "      <th>WindDir3pm_WSW</th>\n",
       "      <th>RainToday_No</th>\n",
       "      <th>RainToday_Yes</th>\n",
       "    </tr>\n",
       "  </thead>\n",
       "  <tbody>\n",
       "    <tr>\n",
       "      <th>17350</th>\n",
       "      <td>0.291339</td>\n",
       "      <td>0.170455</td>\n",
       "      <td>0.03482</td>\n",
       "      <td>0.179487</td>\n",
       "      <td>0.104478</td>\n",
       "      <td>0.243243</td>\n",
       "      <td>0.85</td>\n",
       "      <td>0.72</td>\n",
       "      <td>0.654424</td>\n",
       "      <td>0.700647</td>\n",
       "      <td>...</td>\n",
       "      <td>0.0</td>\n",
       "      <td>0.0</td>\n",
       "      <td>0.0</td>\n",
       "      <td>0.0</td>\n",
       "      <td>0.0</td>\n",
       "      <td>1.0</td>\n",
       "      <td>0.0</td>\n",
       "      <td>0.0</td>\n",
       "      <td>0.0</td>\n",
       "      <td>1.0</td>\n",
       "    </tr>\n",
       "    <tr>\n",
       "      <th>46848</th>\n",
       "      <td>0.832021</td>\n",
       "      <td>0.613636</td>\n",
       "      <td>0.00000</td>\n",
       "      <td>0.239316</td>\n",
       "      <td>0.074627</td>\n",
       "      <td>0.297297</td>\n",
       "      <td>0.87</td>\n",
       "      <td>0.70</td>\n",
       "      <td>0.312187</td>\n",
       "      <td>0.309061</td>\n",
       "      <td>...</td>\n",
       "      <td>0.0</td>\n",
       "      <td>0.0</td>\n",
       "      <td>0.0</td>\n",
       "      <td>0.0</td>\n",
       "      <td>0.0</td>\n",
       "      <td>0.0</td>\n",
       "      <td>0.0</td>\n",
       "      <td>0.0</td>\n",
       "      <td>1.0</td>\n",
       "      <td>0.0</td>\n",
       "    </tr>\n",
       "    <tr>\n",
       "      <th>42177</th>\n",
       "      <td>0.511811</td>\n",
       "      <td>0.504545</td>\n",
       "      <td>0.00000</td>\n",
       "      <td>0.128205</td>\n",
       "      <td>0.059701</td>\n",
       "      <td>0.148649</td>\n",
       "      <td>0.63</td>\n",
       "      <td>0.50</td>\n",
       "      <td>0.656093</td>\n",
       "      <td>0.601942</td>\n",
       "      <td>...</td>\n",
       "      <td>0.0</td>\n",
       "      <td>0.0</td>\n",
       "      <td>0.0</td>\n",
       "      <td>0.0</td>\n",
       "      <td>0.0</td>\n",
       "      <td>0.0</td>\n",
       "      <td>0.0</td>\n",
       "      <td>0.0</td>\n",
       "      <td>1.0</td>\n",
       "      <td>0.0</td>\n",
       "    </tr>\n",
       "  </tbody>\n",
       "</table>\n",
       "<p>3 rows × 98 columns</p>\n",
       "</div>"
      ],
      "text/plain": [
       "        MinTemp   MaxTemp  Rainfall  WindGustSpeed  WindSpeed9am  \\\n",
       "17350  0.291339  0.170455   0.03482       0.179487      0.104478   \n",
       "46848  0.832021  0.613636   0.00000       0.239316      0.074627   \n",
       "42177  0.511811  0.504545   0.00000       0.128205      0.059701   \n",
       "\n",
       "       WindSpeed3pm  Humidity9am  Humidity3pm  Pressure9am  Pressure3pm  ...  \\\n",
       "17350      0.243243         0.85         0.72     0.654424     0.700647  ...   \n",
       "46848      0.297297         0.87         0.70     0.312187     0.309061  ...   \n",
       "42177      0.148649         0.63         0.50     0.656093     0.601942  ...   \n",
       "\n",
       "       WindDir3pm_S  WindDir3pm_SE  WindDir3pm_SSE  WindDir3pm_SSW  \\\n",
       "17350           0.0            0.0             0.0             0.0   \n",
       "46848           0.0            0.0             0.0             0.0   \n",
       "42177           0.0            0.0             0.0             0.0   \n",
       "\n",
       "       WindDir3pm_SW  WindDir3pm_W  WindDir3pm_WNW  WindDir3pm_WSW  \\\n",
       "17350            0.0           1.0             0.0             0.0   \n",
       "46848            0.0           0.0             0.0             0.0   \n",
       "42177            0.0           0.0             0.0             0.0   \n",
       "\n",
       "       RainToday_No  RainToday_Yes  \n",
       "17350           0.0            1.0  \n",
       "46848           1.0            0.0  \n",
       "42177           1.0            0.0  \n",
       "\n",
       "[3 rows x 98 columns]"
      ]
     },
     "execution_count": 11,
     "metadata": {},
     "output_type": "execute_result"
    }
   ],
   "source": [
    "X_train.tail(3)"
   ]
  },
  {
   "cell_type": "code",
   "execution_count": 14,
   "id": "b3a03538",
   "metadata": {},
   "outputs": [],
   "source": [
    "#X_train.info()"
   ]
  },
  {
   "cell_type": "code",
   "execution_count": 31,
   "id": "b3b7884d",
   "metadata": {},
   "outputs": [
    {
     "name": "stdout",
     "output_type": "stream",
     "text": [
      "0.8487848362578587\n"
     ]
    }
   ],
   "source": [
    "# 모델 1 : + 계수해석 \n",
    "from sklearn.linear_model import LogisticRegression\n",
    "\n",
    "lr = LogisticRegression(random_state=42)\n",
    "lr.fit(X_train, y_train)\n",
    "pred = lr.predict(X_test)\n",
    "print(sum(y_test==pred) / len(y_test))"
   ]
  },
  {
   "cell_type": "code",
   "execution_count": 32,
   "id": "2eb3845c",
   "metadata": {},
   "outputs": [],
   "source": [
    "# 모델 2 --> 겁나 느림 ㅠ.ㅜ \n",
    "#from sklearn.svm import SVC\n",
    "\n",
    "#sv = SVC()\n",
    "#sv.fit(X_train, y_train)\n",
    "#pred = sv.predict(X_test)\n",
    "#print(sum(y_test==pred) / len(y_test))"
   ]
  },
  {
   "cell_type": "code",
   "execution_count": 33,
   "id": "ee63e400",
   "metadata": {},
   "outputs": [
    {
     "name": "stdout",
     "output_type": "stream",
     "text": [
      "0.8408088580275875\n"
     ]
    }
   ],
   "source": [
    "# 모델 : 트리 + 트리해석 \n",
    "from sklearn.tree import DecisionTreeClassifier\n",
    "\n",
    "dt = DecisionTreeClassifier(max_depth=5, random_state=42)  #트리는 max_depth 반드시 지정\n",
    "dt.fit(X_train, y_train)\n",
    "pred = dt.predict(X_test)\n",
    "print(sum(y_test==pred)/len(y_test))"
   ]
  },
  {
   "cell_type": "code",
   "execution_count": 35,
   "id": "96b3e128",
   "metadata": {},
   "outputs": [
    {
     "name": "stdout",
     "output_type": "stream",
     "text": [
      "0.8535235056770198\n"
     ]
    }
   ],
   "source": [
    "# 모델 3 + 변수중요도\n",
    "from sklearn.ensemble import RandomForestClassifier\n",
    "\n",
    "rf = RandomForestClassifier(random_state=42)\n",
    "rf.fit(X_train, y_train)\n",
    "pred = rf.predict(X_test)\n",
    "print(sum(y_test==pred) / len(y_test))"
   ]
  },
  {
   "cell_type": "code",
   "execution_count": 25,
   "id": "06404162",
   "metadata": {},
   "outputs": [
    {
     "name": "stdout",
     "output_type": "stream",
     "text": [
      "              precision    recall  f1-score   support\n",
      "\n",
      "          No       0.87      0.95      0.91     16268\n",
      "         Yes       0.78      0.53      0.63      5046\n",
      "\n",
      "    accuracy                           0.85     21314\n",
      "   macro avg       0.82      0.74      0.77     21314\n",
      "weighted avg       0.85      0.85      0.84     21314\n",
      "\n"
     ]
    }
   ],
   "source": [
    "# 성능 평가 \n",
    "from sklearn.metrics import classification_report \n",
    "print(classification_report(y_test, pred))"
   ]
  },
  {
   "cell_type": "code",
   "execution_count": 36,
   "id": "3c00445e",
   "metadata": {},
   "outputs": [
    {
     "data": {
      "image/png": "[encoded data removed]",
      "text/plain": [
       "<Figure size 432x288 with 1 Axes>"
      ]
     },
     "metadata": {
      "needs_background": "light"
     },
     "output_type": "display_data"
    }
   ],
   "source": [
    "from sklearn.metrics import plot_roc_curve, roc_auc_score   # yellowbrick 추가 \n",
    "\n",
    "lr_roc = plot_roc_curve(lr, X_test, y_test)\n",
    "dt_roc = plot_roc_curve(dt, X_test, y_test, ax=lr_roc.ax_)\n",
    "rf_roc = plot_roc_curve(rf, X_test, y_test, ax=lr_roc.ax_)\n",
    "\n",
    "rf_roc.figure_.suptitle(\"ROC Curve Comparision\")\n",
    "plt.show()"
   ]
  },
  {
   "cell_type": "markdown",
   "id": "249e5bd9",
   "metadata": {},
   "source": [
    "### 시간이 남으면 추가로 할 것\n",
    "- 해석 : 로지스틱 변수설명, 트리 해석, 랜덤포레스트 변수 중요도 \n",
    "- k-fold 교차검증 \n",
    "- 오버샘플링 \n",
    "- 파생변수 생성 \n",
    "- 피처 엔지니어링\n",
    "- EDA 시각화 등 "
   ]
  },
  {
   "cell_type": "markdown",
   "id": "177534bb",
   "metadata": {},
   "source": [
    "---\n",
    "### 통계분석"
   ]
  },
  {
   "cell_type": "code",
   "execution_count": 37,
   "id": "ef5dcbbf",
   "metadata": {},
   "outputs": [
    {
     "name": "stdout",
     "output_type": "stream",
     "text": [
      "<class 'pandas.core.frame.DataFrame'>\n",
      "RangeIndex: 172 entries, 0 to 171\n",
      "Data columns (total 8 columns):\n",
      " #   Column           Non-Null Count  Dtype  \n",
      "---  ------           --------------  -----  \n",
      " 0   company_num      172 non-null    int64  \n",
      " 1   google_adwords   172 non-null    float64\n",
      " 2   facebook         172 non-null    float64\n",
      " 3   twitter          172 non-null    float64\n",
      " 4   marketing_total  172 non-null    int64  \n",
      " 5   revenues         172 non-null    float64\n",
      " 6   employees        172 non-null    int64  \n",
      " 7   pop_density      172 non-null    object \n",
      "dtypes: float64(4), int64(3), object(1)\n",
      "memory usage: 10.9+ KB\n",
      "None\n"
     ]
    },
    {
     "data": {
      "text/html": [
       "<div>\n",
       "<style scoped>\n",
       "    .dataframe tbody tr th:only-of-type {\n",
       "        vertical-align: middle;\n",
       "    }\n",
       "\n",
       "    .dataframe tbody tr th {\n",
       "        vertical-align: top;\n",
       "    }\n",
       "\n",
       "    .dataframe thead th {\n",
       "        text-align: right;\n",
       "    }\n",
       "</style>\n",
       "<table border=\"1\" class=\"dataframe\">\n",
       "  <thead>\n",
       "    <tr style=\"text-align: right;\">\n",
       "      <th></th>\n",
       "      <th>company_num</th>\n",
       "      <th>google_adwords</th>\n",
       "      <th>facebook</th>\n",
       "      <th>twitter</th>\n",
       "      <th>marketing_total</th>\n",
       "      <th>revenues</th>\n",
       "      <th>employees</th>\n",
       "      <th>pop_density</th>\n",
       "    </tr>\n",
       "  </thead>\n",
       "  <tbody>\n",
       "    <tr>\n",
       "      <th>169</th>\n",
       "      <td>170</td>\n",
       "      <td>59.86</td>\n",
       "      <td>12.76</td>\n",
       "      <td>21.66</td>\n",
       "      <td>94</td>\n",
       "      <td>36.96</td>\n",
       "      <td>4</td>\n",
       "      <td>Low</td>\n",
       "    </tr>\n",
       "    <tr>\n",
       "      <th>170</th>\n",
       "      <td>171</td>\n",
       "      <td>117.91</td>\n",
       "      <td>16.01</td>\n",
       "      <td>18.01</td>\n",
       "      <td>152</td>\n",
       "      <td>41.11</td>\n",
       "      <td>7</td>\n",
       "      <td>Low</td>\n",
       "    </tr>\n",
       "    <tr>\n",
       "      <th>171</th>\n",
       "      <td>172</td>\n",
       "      <td>308.78</td>\n",
       "      <td>54.58</td>\n",
       "      <td>77.58</td>\n",
       "      <td>441</td>\n",
       "      <td>58.38</td>\n",
       "      <td>10</td>\n",
       "      <td>Medium</td>\n",
       "    </tr>\n",
       "  </tbody>\n",
       "</table>\n",
       "</div>"
      ],
      "text/plain": [
       "     company_num  google_adwords  facebook  twitter  marketing_total  \\\n",
       "169          170           59.86     12.76    21.66               94   \n",
       "170          171          117.91     16.01    18.01              152   \n",
       "171          172          308.78     54.58    77.58              441   \n",
       "\n",
       "     revenues  employees pop_density  \n",
       "169     36.96          4         Low  \n",
       "170     41.11          7         Low  \n",
       "171     58.38         10      Medium  "
      ]
     },
     "execution_count": 37,
     "metadata": {},
     "output_type": "execute_result"
    }
   ],
   "source": [
    "bike = pd.read_csv('datafiles/bike_marketing.csv')\n",
    "print(bike.info())\n",
    "bike.tail(3)"
   ]
  },
  {
   "cell_type": "code",
   "execution_count": 39,
   "id": "36df6b46",
   "metadata": {},
   "outputs": [],
   "source": [
    "# bike.isnull().sum() --> 결측없음"
   ]
  },
  {
   "cell_type": "code",
   "execution_count": 40,
   "id": "108cae0b",
   "metadata": {},
   "outputs": [
    {
     "data": {
      "text/plain": [
       "Low       68\n",
       "High      52\n",
       "Medium    52\n",
       "Name: pop_density, dtype: int64"
      ]
     },
     "execution_count": 40,
     "metadata": {},
     "output_type": "execute_result"
    }
   ],
   "source": [
    "# pop_density별 revenue 차이 분석 (ANOVA)\n",
    "bike['pop_density'].value_counts()"
   ]
  },
  {
   "cell_type": "code",
   "execution_count": 45,
   "id": "0e128769",
   "metadata": {},
   "outputs": [
    {
     "data": {
      "text/plain": [
       "LeveneResult(statistic=1.3018605034247601, pvalue=0.2747390092674645)"
      ]
     },
     "execution_count": 45,
     "metadata": {},
     "output_type": "execute_result"
    }
   ],
   "source": [
    "# 정규성 검정 \n",
    "import scipy.stats as stats\n",
    "\n",
    "low = bike.query(\" pop_density == 'Low'\")['revenues']\n",
    "high = bike.query(\" pop_density == 'High'\")['revenues']\n",
    "medium = bike.query(\" pop_density == 'Medium'\")['revenues']\n",
    "\n",
    "stats.levene(low, high, medium)  # 정규성 검정 귀무가설 채택 "
   ]
  },
  {
   "cell_type": "code",
   "execution_count": 46,
   "id": "34eca1fe",
   "metadata": {},
   "outputs": [
    {
     "data": {
      "text/plain": [
       "F_onewayResult(statistic=0.6099442141289079, pvalue=0.544572945313452)"
      ]
     },
     "execution_count": 46,
     "metadata": {},
     "output_type": "execute_result"
    }
   ],
   "source": [
    "stats.f_oneway(low, high, medium) # 분산분석 : 평균차이 없음 "
   ]
  },
  {
   "cell_type": "code",
   "execution_count": 49,
   "id": "9a8a27ee",
   "metadata": {},
   "outputs": [
    {
     "name": "stdout",
     "output_type": "stream",
     "text": [
      "             count       mean       std    min      25%     50%      75%  \\\n",
      "pop_density                                                                \n",
      "High          52.0  44.877692  5.324741  36.59  40.9825  44.545  47.2100   \n",
      "Low           68.0  44.013529  6.095934  30.45  40.4200  43.570  47.0525   \n",
      "Medium        52.0  45.125385  6.015655  35.43  39.7675  44.470  50.5700   \n",
      "\n",
      "               max  \n",
      "pop_density         \n",
      "High         58.30  \n",
      "Low          58.17  \n",
      "Medium       58.38  \n"
     ]
    },
    {
     "data": {
      "text/plain": [
       "<AxesSubplot:xlabel='pop_density', ylabel='revenues'>"
      ]
     },
     "execution_count": 49,
     "metadata": {},
     "output_type": "execute_result"
    },
    {
     "data": {
      "image/png": "[encoded data removed]",
      "text/plain": [
       "<Figure size 432x288 with 1 Axes>"
      ]
     },
     "metadata": {
      "needs_background": "light"
     },
     "output_type": "display_data"
    }
   ],
   "source": [
    "print(bike.groupby('pop_density')['revenues'].describe())\n",
    "sns.boxplot(x='pop_density', y='revenues', data=bike)"
   ]
  },
  {
   "cell_type": "markdown",
   "id": "0407c90c",
   "metadata": {},
   "source": [
    "### 회귀분석\n",
    "- 단계적선택법은 파이썬, 전진/후진선택법은 R에서 해보기 "
   ]
  },
  {
   "cell_type": "code",
   "execution_count": 75,
   "id": "f55c50ce",
   "metadata": {},
   "outputs": [],
   "source": [
    "# 단계선택법 \n",
    "from patsy import dmatrices\n",
    "from statsmodels.stats.outliers_influence import variance_inflation_factor \n",
    "\n",
    "formula = \"revenues ~ google_adwords + facebook + twitter + marketing_total + employees\"    \n",
    "y, X = dmatrices(formula, data=bike, return_type='dataframe')"
   ]
  },
  {
   "cell_type": "code",
   "execution_count": 76,
   "id": "c01d406c",
   "metadata": {},
   "outputs": [
    {
     "data": {
      "text/html": [
       "<div>\n",
       "<style scoped>\n",
       "    .dataframe tbody tr th:only-of-type {\n",
       "        vertical-align: middle;\n",
       "    }\n",
       "\n",
       "    .dataframe tbody tr th {\n",
       "        vertical-align: top;\n",
       "    }\n",
       "\n",
       "    .dataframe thead th {\n",
       "        text-align: right;\n",
       "    }\n",
       "</style>\n",
       "<table border=\"1\" class=\"dataframe\">\n",
       "  <thead>\n",
       "    <tr style=\"text-align: right;\">\n",
       "      <th></th>\n",
       "      <th>Intercept</th>\n",
       "      <th>google_adwords</th>\n",
       "      <th>facebook</th>\n",
       "      <th>twitter</th>\n",
       "      <th>marketing_total</th>\n",
       "      <th>employees</th>\n",
       "    </tr>\n",
       "  </thead>\n",
       "  <tbody>\n",
       "    <tr>\n",
       "      <th>0</th>\n",
       "      <td>1.0</td>\n",
       "      <td>65.66</td>\n",
       "      <td>47.86</td>\n",
       "      <td>52.46</td>\n",
       "      <td>166.0</td>\n",
       "      <td>5.0</td>\n",
       "    </tr>\n",
       "  </tbody>\n",
       "</table>\n",
       "</div>"
      ],
      "text/plain": [
       "   Intercept  google_adwords  facebook  twitter  marketing_total  employees\n",
       "0        1.0           65.66     47.86    52.46            166.0        5.0"
      ]
     },
     "execution_count": 76,
     "metadata": {},
     "output_type": "execute_result"
    }
   ],
   "source": [
    "X.head(1)"
   ]
  },
  {
   "cell_type": "code",
   "execution_count": 77,
   "id": "fd4fbc58",
   "metadata": {},
   "outputs": [
    {
     "data": {
      "text/html": [
       "<div>\n",
       "<style scoped>\n",
       "    .dataframe tbody tr th:only-of-type {\n",
       "        vertical-align: middle;\n",
       "    }\n",
       "\n",
       "    .dataframe tbody tr th {\n",
       "        vertical-align: top;\n",
       "    }\n",
       "\n",
       "    .dataframe thead th {\n",
       "        text-align: right;\n",
       "    }\n",
       "</style>\n",
       "<table border=\"1\" class=\"dataframe\">\n",
       "  <thead>\n",
       "    <tr style=\"text-align: right;\">\n",
       "      <th></th>\n",
       "      <th>google_adwords</th>\n",
       "      <th>facebook</th>\n",
       "      <th>twitter</th>\n",
       "      <th>marketing_total</th>\n",
       "      <th>employees</th>\n",
       "    </tr>\n",
       "  </thead>\n",
       "  <tbody>\n",
       "    <tr>\n",
       "      <th>google_adwords</th>\n",
       "      <td>1.000000</td>\n",
       "      <td>0.076432</td>\n",
       "      <td>0.098975</td>\n",
       "      <td>0.947289</td>\n",
       "      <td>0.661031</td>\n",
       "    </tr>\n",
       "    <tr>\n",
       "      <th>facebook</th>\n",
       "      <td>0.076432</td>\n",
       "      <td>1.000000</td>\n",
       "      <td>0.354341</td>\n",
       "      <td>0.310304</td>\n",
       "      <td>0.410197</td>\n",
       "    </tr>\n",
       "    <tr>\n",
       "      <th>twitter</th>\n",
       "      <td>0.098975</td>\n",
       "      <td>0.354341</td>\n",
       "      <td>1.000000</td>\n",
       "      <td>0.376064</td>\n",
       "      <td>0.229062</td>\n",
       "    </tr>\n",
       "    <tr>\n",
       "      <th>marketing_total</th>\n",
       "      <td>0.947289</td>\n",
       "      <td>0.310304</td>\n",
       "      <td>0.376064</td>\n",
       "      <td>1.000000</td>\n",
       "      <td>0.720843</td>\n",
       "    </tr>\n",
       "    <tr>\n",
       "      <th>employees</th>\n",
       "      <td>0.661031</td>\n",
       "      <td>0.410197</td>\n",
       "      <td>0.229062</td>\n",
       "      <td>0.720843</td>\n",
       "      <td>1.000000</td>\n",
       "    </tr>\n",
       "  </tbody>\n",
       "</table>\n",
       "</div>"
      ],
      "text/plain": [
       "                 google_adwords  facebook   twitter  marketing_total  \\\n",
       "google_adwords         1.000000  0.076432  0.098975         0.947289   \n",
       "facebook               0.076432  1.000000  0.354341         0.310304   \n",
       "twitter                0.098975  0.354341  1.000000         0.376064   \n",
       "marketing_total        0.947289  0.310304  0.376064         1.000000   \n",
       "employees              0.661031  0.410197  0.229062         0.720843   \n",
       "\n",
       "                 employees  \n",
       "google_adwords    0.661031  \n",
       "facebook          0.410197  \n",
       "twitter           0.229062  \n",
       "marketing_total   0.720843  \n",
       "employees         1.000000  "
      ]
     },
     "execution_count": 77,
     "metadata": {},
     "output_type": "execute_result"
    }
   ],
   "source": [
    "X.iloc[:,1:].corr()"
   ]
  },
  {
   "cell_type": "code",
   "execution_count": 78,
   "id": "44e86fdd",
   "metadata": {},
   "outputs": [
    {
     "data": {
      "text/html": [
       "<div>\n",
       "<style scoped>\n",
       "    .dataframe tbody tr th:only-of-type {\n",
       "        vertical-align: middle;\n",
       "    }\n",
       "\n",
       "    .dataframe tbody tr th {\n",
       "        vertical-align: top;\n",
       "    }\n",
       "\n",
       "    .dataframe thead th {\n",
       "        text-align: right;\n",
       "    }\n",
       "</style>\n",
       "<table border=\"1\" class=\"dataframe\">\n",
       "  <thead>\n",
       "    <tr style=\"text-align: right;\">\n",
       "      <th></th>\n",
       "      <th>VIF</th>\n",
       "      <th>Variable</th>\n",
       "    </tr>\n",
       "  </thead>\n",
       "  <tbody>\n",
       "    <tr>\n",
       "      <th>0</th>\n",
       "      <td>95943.197321</td>\n",
       "      <td>google_adwords</td>\n",
       "    </tr>\n",
       "    <tr>\n",
       "      <th>1</th>\n",
       "      <td>2929.810283</td>\n",
       "      <td>facebook</td>\n",
       "    </tr>\n",
       "    <tr>\n",
       "      <th>2</th>\n",
       "      <td>6058.485476</td>\n",
       "      <td>twitter</td>\n",
       "    </tr>\n",
       "    <tr>\n",
       "      <th>3</th>\n",
       "      <td>115182.138083</td>\n",
       "      <td>marketing_total</td>\n",
       "    </tr>\n",
       "    <tr>\n",
       "      <th>4</th>\n",
       "      <td>2.336456</td>\n",
       "      <td>employees</td>\n",
       "    </tr>\n",
       "  </tbody>\n",
       "</table>\n",
       "</div>"
      ],
      "text/plain": [
       "             VIF         Variable\n",
       "0   95943.197321   google_adwords\n",
       "1    2929.810283         facebook\n",
       "2    6058.485476          twitter\n",
       "3  115182.138083  marketing_total\n",
       "4       2.336456        employees"
      ]
     },
     "execution_count": 78,
     "metadata": {},
     "output_type": "execute_result"
    }
   ],
   "source": [
    "# VIP 검증 : 10이상시 다중공선성 존재 \n",
    "vif_list = []\n",
    "for i in range(1, len(X.columns)):\n",
    "    vif_list.append([variance_inflation_factor(X.values, i), X.columns[i]])\n",
    "pd.DataFrame(vif_list, columns=['VIF', 'Variable'])  "
   ]
  },
  {
   "cell_type": "markdown",
   "id": "ccb68a08",
   "metadata": {},
   "source": [
    "VIF가 너무 크게 나옴 ㅠ.ㅜ "
   ]
  },
  {
   "cell_type": "code",
   "execution_count": 82,
   "id": "8490a668",
   "metadata": {},
   "outputs": [
    {
     "data": {
      "text/html": [
       "<table class=\"simpletable\">\n",
       "<caption>OLS Regression Results</caption>\n",
       "<tr>\n",
       "  <th>Dep. Variable:</th>        <td>revenues</td>     <th>  R-squared:         </th> <td>   0.873</td>\n",
       "</tr>\n",
       "<tr>\n",
       "  <th>Model:</th>                   <td>OLS</td>       <th>  Adj. R-squared:    </th> <td>   0.870</td>\n",
       "</tr>\n",
       "<tr>\n",
       "  <th>Method:</th>             <td>Least Squares</td>  <th>  F-statistic:       </th> <td>   228.9</td>\n",
       "</tr>\n",
       "<tr>\n",
       "  <th>Date:</th>             <td>Sun, 06 Nov 2022</td> <th>  Prob (F-statistic):</th> <td>1.57e-72</td>\n",
       "</tr>\n",
       "<tr>\n",
       "  <th>Time:</th>                 <td>04:11:47</td>     <th>  Log-Likelihood:    </th> <td> -369.26</td>\n",
       "</tr>\n",
       "<tr>\n",
       "  <th>No. Observations:</th>      <td>   172</td>      <th>  AIC:               </th> <td>   750.5</td>\n",
       "</tr>\n",
       "<tr>\n",
       "  <th>Df Residuals:</th>          <td>   166</td>      <th>  BIC:               </th> <td>   769.4</td>\n",
       "</tr>\n",
       "<tr>\n",
       "  <th>Df Model:</th>              <td>     5</td>      <th>                     </th>     <td> </td>   \n",
       "</tr>\n",
       "<tr>\n",
       "  <th>Covariance Type:</th>      <td>nonrobust</td>    <th>                     </th>     <td> </td>   \n",
       "</tr>\n",
       "</table>\n",
       "<table class=\"simpletable\">\n",
       "<tr>\n",
       "         <td></td>            <th>coef</th>     <th>std err</th>      <th>t</th>      <th>P>|t|</th>  <th>[0.025</th>    <th>0.975]</th>  \n",
       "</tr>\n",
       "<tr>\n",
       "  <th>Intercept</th>       <td>   28.4433</td> <td>    0.596</td> <td>   47.706</td> <td> 0.000</td> <td>   27.266</td> <td>   29.621</td>\n",
       "</tr>\n",
       "<tr>\n",
       "  <th>google_adwords</th>  <td>    1.2110</td> <td>    0.571</td> <td>    2.122</td> <td> 0.035</td> <td>    0.084</td> <td>    2.338</td>\n",
       "</tr>\n",
       "<tr>\n",
       "  <th>facebook</th>        <td>    1.3464</td> <td>    0.571</td> <td>    2.356</td> <td> 0.020</td> <td>    0.218</td> <td>    2.474</td>\n",
       "</tr>\n",
       "<tr>\n",
       "  <th>twitter</th>         <td>    1.1724</td> <td>    0.571</td> <td>    2.052</td> <td> 0.042</td> <td>    0.045</td> <td>    2.300</td>\n",
       "</tr>\n",
       "<tr>\n",
       "  <th>marketing_total</th> <td>   -1.1696</td> <td>    0.571</td> <td>   -2.049</td> <td> 0.042</td> <td>   -2.297</td> <td>   -0.043</td>\n",
       "</tr>\n",
       "<tr>\n",
       "  <th>employees</th>       <td>    0.3865</td> <td>    0.104</td> <td>    3.708</td> <td> 0.000</td> <td>    0.181</td> <td>    0.592</td>\n",
       "</tr>\n",
       "</table>\n",
       "<table class=\"simpletable\">\n",
       "<tr>\n",
       "  <th>Omnibus:</th>       <td> 3.945</td> <th>  Durbin-Watson:     </th> <td>   2.111</td>\n",
       "</tr>\n",
       "<tr>\n",
       "  <th>Prob(Omnibus):</th> <td> 0.139</td> <th>  Jarque-Bera (JB):  </th> <td>   3.974</td>\n",
       "</tr>\n",
       "<tr>\n",
       "  <th>Skew:</th>          <td>-0.341</td> <th>  Prob(JB):          </th> <td>   0.137</td>\n",
       "</tr>\n",
       "<tr>\n",
       "  <th>Kurtosis:</th>      <td> 2.702</td> <th>  Cond. No.          </th> <td>2.32e+03</td>\n",
       "</tr>\n",
       "</table><br/><br/>Notes:<br/>[1] Standard Errors assume that the covariance matrix of the errors is correctly specified.<br/>[2] The condition number is large, 2.32e+03. This might indicate that there are<br/>strong multicollinearity or other numerical problems."
      ],
      "text/plain": [
       "<class 'statsmodels.iolib.summary.Summary'>\n",
       "\"\"\"\n",
       "                            OLS Regression Results                            \n",
       "==============================================================================\n",
       "Dep. Variable:               revenues   R-squared:                       0.873\n",
       "Model:                            OLS   Adj. R-squared:                  0.870\n",
       "Method:                 Least Squares   F-statistic:                     228.9\n",
       "Date:                Sun, 06 Nov 2022   Prob (F-statistic):           1.57e-72\n",
       "Time:                        04:11:47   Log-Likelihood:                -369.26\n",
       "No. Observations:                 172   AIC:                             750.5\n",
       "Df Residuals:                     166   BIC:                             769.4\n",
       "Df Model:                           5                                         \n",
       "Covariance Type:            nonrobust                                         \n",
       "===================================================================================\n",
       "                      coef    std err          t      P>|t|      [0.025      0.975]\n",
       "-----------------------------------------------------------------------------------\n",
       "Intercept          28.4433      0.596     47.706      0.000      27.266      29.621\n",
       "google_adwords      1.2110      0.571      2.122      0.035       0.084       2.338\n",
       "facebook            1.3464      0.571      2.356      0.020       0.218       2.474\n",
       "twitter             1.1724      0.571      2.052      0.042       0.045       2.300\n",
       "marketing_total    -1.1696      0.571     -2.049      0.042      -2.297      -0.043\n",
       "employees           0.3865      0.104      3.708      0.000       0.181       0.592\n",
       "==============================================================================\n",
       "Omnibus:                        3.945   Durbin-Watson:                   2.111\n",
       "Prob(Omnibus):                  0.139   Jarque-Bera (JB):                3.974\n",
       "Skew:                          -0.341   Prob(JB):                        0.137\n",
       "Kurtosis:                       2.702   Cond. No.                     2.32e+03\n",
       "==============================================================================\n",
       "\n",
       "Notes:\n",
       "[1] Standard Errors assume that the covariance matrix of the errors is correctly specified.\n",
       "[2] The condition number is large, 2.32e+03. This might indicate that there are\n",
       "strong multicollinearity or other numerical problems.\n",
       "\"\"\""
      ]
     },
     "execution_count": 82,
     "metadata": {},
     "output_type": "execute_result"
    }
   ],
   "source": [
    "# Full model \n",
    "import statsmodels.api as sm \n",
    "import statsmodels.formula.api as smf\n",
    "\n",
    "model = smf.ols(formula, data=bike)\n",
    "res = model.fit()\n",
    "res.summary()"
   ]
  },
  {
   "cell_type": "code",
   "execution_count": 84,
   "id": "b5dc076c",
   "metadata": {},
   "outputs": [
    {
     "name": "stdout",
     "output_type": "stream",
     "text": [
      "Processed  5 models on 1 predictors in\n",
      "Selected predictors: ['marketing_total', 'Intercept']  AIC: <statsmodels.regression.linear_model.RegressionResultsWrapper object at 0x7f3e17a0ea90>\n",
      "forward\n",
      "Processed  1 models on 0 predictors in 0.00498652458190918\n",
      "Selected predictors: ['Intercept'] AIC: <statsmodels.regression.linear_model.RegressionResultsWrapper object at 0x7f3e17aa0e80>\n",
      "Processed  4 models on 2 predictors in\n",
      "Selected predictors: ['marketing_total', 'facebook', 'Intercept']  AIC: <statsmodels.regression.linear_model.RegressionResultsWrapper object at 0x7f3e17a0edc0>\n",
      "forward\n",
      "Processed  2 models on 1 predictors in 0.007058143615722656\n",
      "Selected predictors: ['marketing_total', 'Intercept'] AIC: <statsmodels.regression.linear_model.RegressionResultsWrapper object at 0x7f3e17a0ee80>\n",
      "Processed  3 models on 3 predictors in\n",
      "Selected predictors: ['marketing_total', 'facebook', 'google_adwords', 'Intercept']  AIC: <statsmodels.regression.linear_model.RegressionResultsWrapper object at 0x7f3e17a0ef70>\n",
      "forward\n",
      "Processed  3 models on 2 predictors in 0.004361629486083984\n",
      "Selected predictors: ['facebook', 'google_adwords', 'Intercept'] AIC: <statsmodels.regression.linear_model.RegressionResultsWrapper object at 0x7f3e17a2f1c0>\n",
      "backward\n",
      "Processed  3 models on 3 predictors in\n",
      "Selected predictors: ['facebook', 'google_adwords', 'employees', 'Intercept']  AIC: <statsmodels.regression.linear_model.RegressionResultsWrapper object at 0x7f3e17a0ec10>\n",
      "forward\n",
      "Processed  3 models on 2 predictors in 0.004485130310058594\n",
      "Selected predictors: ['facebook', 'google_adwords', 'Intercept'] AIC: <statsmodels.regression.linear_model.RegressionResultsWrapper object at 0x7f3e17a0eb80>\n",
      "Processed  2 models on 4 predictors in\n",
      "Selected predictors: ['facebook', 'google_adwords', 'employees', 'twitter', 'Intercept']  AIC: <statsmodels.regression.linear_model.RegressionResultsWrapper object at 0x7f3e17a2f730>\n",
      "forward\n",
      "Processed  4 models on 3 predictors in 0.005887269973754883\n",
      "Selected predictors: ['facebook', 'google_adwords', 'employees', 'Intercept'] AIC: <statsmodels.regression.linear_model.RegressionResultsWrapper object at 0x7f3e17a90e80>\n",
      "backward\n",
      "Total elapsed time: 0.11514854431152344 seconds.\n"
     ]
    }
   ],
   "source": [
    "# 변수선택법 : 소스코드는 맨 하단 참조\n",
    "stepwise_best_model = stepwise_model(X=X, y=y)"
   ]
  },
  {
   "cell_type": "code",
   "execution_count": 85,
   "id": "03162a8e",
   "metadata": {},
   "outputs": [
    {
     "data": {
      "text/html": [
       "<table class=\"simpletable\">\n",
       "<caption>OLS Regression Results</caption>\n",
       "<tr>\n",
       "  <th>Dep. Variable:</th>        <td>revenues</td>     <th>  R-squared:         </th> <td>   0.870</td>\n",
       "</tr>\n",
       "<tr>\n",
       "  <th>Model:</th>                   <td>OLS</td>       <th>  Adj. R-squared:    </th> <td>   0.868</td>\n",
       "</tr>\n",
       "<tr>\n",
       "  <th>Method:</th>             <td>Least Squares</td>  <th>  F-statistic:       </th> <td>   375.1</td>\n",
       "</tr>\n",
       "<tr>\n",
       "  <th>Date:</th>             <td>Sun, 06 Nov 2022</td> <th>  Prob (F-statistic):</th> <td>3.41e-74</td>\n",
       "</tr>\n",
       "<tr>\n",
       "  <th>Time:</th>                 <td>04:15:02</td>     <th>  Log-Likelihood:    </th> <td> -371.44</td>\n",
       "</tr>\n",
       "<tr>\n",
       "  <th>No. Observations:</th>      <td>   172</td>      <th>  AIC:               </th> <td>   750.9</td>\n",
       "</tr>\n",
       "<tr>\n",
       "  <th>Df Residuals:</th>          <td>   168</td>      <th>  BIC:               </th> <td>   763.5</td>\n",
       "</tr>\n",
       "<tr>\n",
       "  <th>Df Model:</th>              <td>     3</td>      <th>                     </th>     <td> </td>   \n",
       "</tr>\n",
       "<tr>\n",
       "  <th>Covariance Type:</th>      <td>nonrobust</td>    <th>                     </th>     <td> </td>   \n",
       "</tr>\n",
       "</table>\n",
       "<table class=\"simpletable\">\n",
       "<tr>\n",
       "         <td></td>           <th>coef</th>     <th>std err</th>      <th>t</th>      <th>P>|t|</th>  <th>[0.025</th>    <th>0.975]</th>  \n",
       "</tr>\n",
       "<tr>\n",
       "  <th>facebook</th>       <td>    0.1768</td> <td>    0.012</td> <td>   14.548</td> <td> 0.000</td> <td>    0.153</td> <td>    0.201</td>\n",
       "</tr>\n",
       "<tr>\n",
       "  <th>google_adwords</th> <td>    0.0415</td> <td>    0.003</td> <td>   16.090</td> <td> 0.000</td> <td>    0.036</td> <td>    0.047</td>\n",
       "</tr>\n",
       "<tr>\n",
       "  <th>employees</th>      <td>    0.4066</td> <td>    0.104</td> <td>    3.898</td> <td> 0.000</td> <td>    0.201</td> <td>    0.612</td>\n",
       "</tr>\n",
       "<tr>\n",
       "  <th>Intercept</th>      <td>   28.3751</td> <td>    0.584</td> <td>   48.601</td> <td> 0.000</td> <td>   27.222</td> <td>   29.528</td>\n",
       "</tr>\n",
       "</table>\n",
       "<table class=\"simpletable\">\n",
       "<tr>\n",
       "  <th>Omnibus:</th>       <td> 3.324</td> <th>  Durbin-Watson:     </th> <td>   2.101</td>\n",
       "</tr>\n",
       "<tr>\n",
       "  <th>Prob(Omnibus):</th> <td> 0.190</td> <th>  Jarque-Bera (JB):  </th> <td>   3.340</td>\n",
       "</tr>\n",
       "<tr>\n",
       "  <th>Skew:</th>          <td>-0.306</td> <th>  Prob(JB):          </th> <td>   0.188</td>\n",
       "</tr>\n",
       "<tr>\n",
       "  <th>Kurtosis:</th>      <td> 2.696</td> <th>  Cond. No.          </th> <td>    702.</td>\n",
       "</tr>\n",
       "</table><br/><br/>Notes:<br/>[1] Standard Errors assume that the covariance matrix of the errors is correctly specified."
      ],
      "text/plain": [
       "<class 'statsmodels.iolib.summary.Summary'>\n",
       "\"\"\"\n",
       "                            OLS Regression Results                            \n",
       "==============================================================================\n",
       "Dep. Variable:               revenues   R-squared:                       0.870\n",
       "Model:                            OLS   Adj. R-squared:                  0.868\n",
       "Method:                 Least Squares   F-statistic:                     375.1\n",
       "Date:                Sun, 06 Nov 2022   Prob (F-statistic):           3.41e-74\n",
       "Time:                        04:15:02   Log-Likelihood:                -371.44\n",
       "No. Observations:                 172   AIC:                             750.9\n",
       "Df Residuals:                     168   BIC:                             763.5\n",
       "Df Model:                           3                                         \n",
       "Covariance Type:            nonrobust                                         \n",
       "==================================================================================\n",
       "                     coef    std err          t      P>|t|      [0.025      0.975]\n",
       "----------------------------------------------------------------------------------\n",
       "facebook           0.1768      0.012     14.548      0.000       0.153       0.201\n",
       "google_adwords     0.0415      0.003     16.090      0.000       0.036       0.047\n",
       "employees          0.4066      0.104      3.898      0.000       0.201       0.612\n",
       "Intercept         28.3751      0.584     48.601      0.000      27.222      29.528\n",
       "==============================================================================\n",
       "Omnibus:                        3.324   Durbin-Watson:                   2.101\n",
       "Prob(Omnibus):                  0.190   Jarque-Bera (JB):                3.340\n",
       "Skew:                          -0.306   Prob(JB):                        0.188\n",
       "Kurtosis:                       2.696   Cond. No.                         702.\n",
       "==============================================================================\n",
       "\n",
       "Notes:\n",
       "[1] Standard Errors assume that the covariance matrix of the errors is correctly specified.\n",
       "\"\"\""
      ]
     },
     "execution_count": 85,
     "metadata": {},
     "output_type": "execute_result"
    }
   ],
   "source": [
    "stepwise_best_model.summary()"
   ]
  },
  {
   "cell_type": "markdown",
   "id": "6fcb5a65",
   "metadata": {},
   "source": [
    "잔차분석 "
   ]
  },
  {
   "cell_type": "code",
   "execution_count": 86,
   "id": "98e8a07c",
   "metadata": {},
   "outputs": [
    {
     "data": {
      "text/plain": [
       "2.1013277351950252"
      ]
     },
     "execution_count": 86,
     "metadata": {},
     "output_type": "execute_result"
    }
   ],
   "source": [
    "# 더빈왓슨 독립성 검정 : 2이면 독립성, 0에 가까울수록 양의 상관, 4에 가까울수록 음의 상관 \n",
    "# https://www.statsmodels.org/dev/generated/statsmodels.stats.stattools.durbin_watson.html\n",
    "# https://www.statology.org/durbin-watson-test-python/ \n",
    "\n",
    "from statsmodels.stats.stattools import durbin_watson\n",
    "\n",
    "pred = stepwise_best_model.predict()   # numpy \n",
    "resid = stepwise_best_model.resid     # Series \n",
    "\n",
    "durbin_watson(resid) # 2에 가깝기 떄문에 독립성 검정 "
   ]
  },
  {
   "cell_type": "code",
   "execution_count": 87,
   "id": "995d3a9b",
   "metadata": {},
   "outputs": [
    {
     "data": {
      "text/plain": [
       "ShapiroResult(statistic=0.9883638024330139, pvalue=0.16835027933120728)"
      ]
     },
     "execution_count": 87,
     "metadata": {},
     "output_type": "execute_result"
    }
   ],
   "source": [
    "# 정규성 \n",
    "from scipy.stats import shapiro\n",
    "\n",
    "shapiro(resid)  # 정규성 만족"
   ]
  },
  {
   "cell_type": "code",
   "execution_count": null,
   "id": "3b2ef9da",
   "metadata": {},
   "outputs": [],
   "source": [
    "# 등분산 : 잔차 분포"
   ]
  },
  {
   "cell_type": "code",
   "execution_count": 93,
   "id": "114bc1b6",
   "metadata": {},
   "outputs": [
    {
     "data": {
      "image/png": "[encoded data removed]",
      "text/plain": [
       "<Figure size 576x576 with 1 Axes>"
      ]
     },
     "metadata": {
      "needs_background": "light"
     },
     "output_type": "display_data"
    }
   ],
   "source": [
    "fig, ax = plt.subplots(figsize=(8,8))\n",
    "sns.regplot(pred, resid, \n",
    "            scatter_kws={'alpha':0.5}, line_kws={'color':'C1'},\n",
    "            lowess=True)\n",
    "ax.set_xlabel('predicted')\n",
    "ax.set_ylabel('residual')\n",
    "plt.hlines(y=0, xmin=33, xmax=57, color='red', linestyles='dotted');  # 코딩하는데 오래걸림 ㅠ.ㅜ"
   ]
  },
  {
   "cell_type": "markdown",
   "id": "577fc935",
   "metadata": {},
   "source": [
    "그래프 기울기를 나타내는 빨간색 선이 포물선 성향을 띄고 있기 때문에 잔차는 평규인 0을 중심으로 고르게 분포한다고 판단하기 힘들다. "
   ]
  },
  {
   "cell_type": "code",
   "execution_count": null,
   "id": "c8105128",
   "metadata": {},
   "outputs": [],
   "source": []
  },
  {
   "cell_type": "code",
   "execution_count": 96,
   "id": "35289bb7",
   "metadata": {},
   "outputs": [
    {
     "data": {
      "image/png": "[encoded data removed]",
      "text/plain": [
       "<Figure size 432x288 with 1 Axes>"
      ]
     },
     "metadata": {
      "needs_background": "light"
     },
     "output_type": "display_data"
    }
   ],
   "source": [
    "# QQPlot (정규성 가정 )\n",
    "import scipy.stats as stats\n",
    "\n",
    "fig = sm.qqplot(resid,  fit=True, line='45') "
   ]
  },
  {
   "cell_type": "markdown",
   "id": "fa5e364f",
   "metadata": {},
   "source": [
    "오늘쪽 위를 향하는 45도 각도 직선위에 그래프 점들이 주로 위치한 것으로 보아 정규성 만족한다고 볼 수 있다."
   ]
  },
  {
   "cell_type": "code",
   "execution_count": 98,
   "id": "ad26b013",
   "metadata": {},
   "outputs": [
    {
     "name": "stdout",
     "output_type": "stream",
     "text": [
      "eval_env: 1\n"
     ]
    },
    {
     "data": {
      "image/png": "[encoded data removed]",
      "text/plain": [
       "<Figure size 1008x576 with 4 Axes>"
      ]
     },
     "metadata": {
      "needs_background": "light"
     },
     "output_type": "display_data"
    }
   ],
   "source": [
    "# https://www.statsmodels.org/dev/generated/statsmodels.graphics.regressionplots.plot_regress_exog.html\n",
    "fig = plt.figure(figsize=(14, 8))\n",
    "fig = sm.graphics.plot_regress_exog(stepwise_best_model, 'facebook', fig=fig)  # 독립변수 한개씩만 됨. QQ플롯 없음 "
   ]
  },
  {
   "cell_type": "code",
   "execution_count": 99,
   "id": "8228ad29",
   "metadata": {},
   "outputs": [
    {
     "name": "stdout",
     "output_type": "stream",
     "text": [
      "eval_env: 1\n"
     ]
    },
    {
     "data": {
      "image/png": "[encoded data removed]",
      "text/plain": [
       "<Figure size 1008x576 with 4 Axes>"
      ]
     },
     "metadata": {
      "needs_background": "light"
     },
     "output_type": "display_data"
    }
   ],
   "source": [
    "fig = plt.figure(figsize=(14, 8))\n",
    "fig = sm.graphics.plot_regress_exog(stepwise_best_model, 'google_adwords', fig=fig)  # 독립변수 한개씩만 됨. QQ플롯 없음 "
   ]
  },
  {
   "cell_type": "code",
   "execution_count": 100,
   "id": "58c90a09",
   "metadata": {},
   "outputs": [
    {
     "name": "stdout",
     "output_type": "stream",
     "text": [
      "eval_env: 1\n"
     ]
    },
    {
     "data": {
      "image/png": "[encoded data removed]",
      "text/plain": [
       "<Figure size 1008x576 with 4 Axes>"
      ]
     },
     "metadata": {
      "needs_background": "light"
     },
     "output_type": "display_data"
    }
   ],
   "source": [
    "fig = plt.figure(figsize=(14, 8))\n",
    "fig = sm.graphics.plot_regress_exog(stepwise_best_model, 'employees', fig=fig)  # 독립변수 한개씩만 됨. QQ플롯 없음 "
   ]
  },
  {
   "cell_type": "markdown",
   "id": "588bc1dd",
   "metadata": {},
   "source": [
    "해석하는법 : 꽃개 책에서 ... "
   ]
  },
  {
   "cell_type": "code",
   "execution_count": 97,
   "id": "dd7f5bf8",
   "metadata": {},
   "outputs": [
    {
     "data": {
      "text/plain": [
       "[<matplotlib.lines.Line2D at 0x7f3e1783f6a0>]"
      ]
     },
     "execution_count": 97,
     "metadata": {},
     "output_type": "execute_result"
    },
    {
     "data": {
      "image/png": "[encoded data removed]",
      "text/plain": [
       "<Figure size 432x288 with 1 Axes>"
      ]
     },
     "metadata": {
      "needs_background": "light"
     },
     "output_type": "display_data"
    }
   ],
   "source": [
    "#검증 데이터에 대한 예측 : 특이값 있는지 확인\n",
    "plt.plot(np.array(y).flatten() - pred,label=\"predFull\")"
   ]
  },
  {
   "cell_type": "code",
   "execution_count": 109,
   "id": "c421920f",
   "metadata": {},
   "outputs": [
    {
     "data": {
      "image/png": "[encoded data removed]",
      "text/plain": [
       "<Figure size 576x396 with 1 Axes>"
      ]
     },
     "metadata": {},
     "output_type": "display_data"
    },
    {
     "data": {
      "text/plain": [
       "<AxesSubplot:title={'center':'Residuals for LinearRegression Model'}, xlabel='Predicted Value', ylabel='Residuals'>"
      ]
     },
     "execution_count": 109,
     "metadata": {},
     "output_type": "execute_result"
    }
   ],
   "source": [
    "# yellowbrick (사이킷런 기반)  ---> QQ plot이 안그려짐 ㅠ.ㅜ \n",
    "from sklearn.linear_model import LinearRegression\n",
    "from sklearn.model_selection import train_test_split\n",
    "\n",
    "from yellowbrick.datasets import load_concrete\n",
    "from yellowbrick.regressor import ResidualsPlot\n",
    "\n",
    "# Create the train and test data\n",
    "X_train, X_test, y_train, y_test = train_test_split(X, y, test_size=0.2, random_state=42)\n",
    "\n",
    "# Instantiate the linear model and visualizer\n",
    "model = LinearRegression()\n",
    "\n",
    "#visualizer = ResidualsPlot(model, hist=False, qqplot=True)\n",
    "visualizer = ResidualsPlot(model, hist=False)\n",
    "visualizer.fit(X_train, y_train)  # Fit the training data to the visualizer\n",
    "visualizer.score(X_test, y_test)  # Evaluate the model on the test data\n",
    "visualizer.show()                 # Finalize and render the figure"
   ]
  },
  {
   "cell_type": "code",
   "execution_count": 110,
   "id": "a241560b",
   "metadata": {},
   "outputs": [],
   "source": [
    "bike.to_csv('bike_for_r.csv', index=False)"
   ]
  },
  {
   "cell_type": "code",
   "execution_count": null,
   "id": "1827ddb0",
   "metadata": {},
   "outputs": [],
   "source": [
    "\"\"\"\n",
    "getwd()   # R 작업 공간  \n",
    "bike <- read.csv('bike_for_r.csv') \n",
    "tail(bike)\n",
    "\n",
    "# full model \n",
    "bike.lm <- lm(revenues ~ google_adwords + facebook + twitter + marketing_total  + employees, data=bike)\n",
    "summary(bike.lm)\n",
    "\n",
    "# 단계선택법 (변수선택 과정을 보여준다)\n",
    "formula_low <- lm(revenues~1, data=bike)\n",
    "formula_up <- lm(revenues~google_adwords+facebook+twitter+marketing_total+employees, data=bike)\n",
    "step(formula_low, scope=list(upper=formula_up), direction='forward')\n",
    "\n",
    "# 단계선택법 (선택과정 생략하고, 결과 한번에 보기)\n",
    "step(lm(revenues~google_adwords+facebook+twitter+marketing_total+employees, data=bike), direct='both')\n",
    "step(lm(revenues~google_adwords+facebook+twitter+marketing_total+employees, data=bike), direct='forward')\n",
    "step(lm(revenues~google_adwords+facebook+twitter+marketing_total+employees, data=bike), direct='backward')\n",
    "# --> 분석결과 어떠한 변수도 제거되지 않음 \n",
    "\n",
    "# 잔차분석 \n",
    "# 독립성 검정 : 더빈왓슨 \n",
    "library(lmtest)\n",
    "dwtest(bike.lm)\n",
    "\n",
    "# 정규성 검정 \n",
    "shapiro.test(resid(bike.lm))\n",
    "\n",
    "# 등분산성, 정규성 \n",
    "par(mfrow=c(2,2))\n",
    "plot(bike.lm)\n",
    "\n",
    "\"\"\""
   ]
  },
  {
   "cell_type": "code",
   "execution_count": null,
   "id": "7428fbe9",
   "metadata": {},
   "outputs": [],
   "source": [
    "https://wikidocs.net/92961\n",
    "\n",
    "사용자 사전을 추가하는 방법은 형태소 분석기마다 다른데, 생각보다 복잡한 경우들이 많습니다. \n",
    "이번 실습에서는 Customized Konlpy라는 사용자 사전 추가가 매우 쉬운 패키지를 사용합니다.\n",
    "\n",
    "pip install customized_konlpy"
   ]
  },
  {
   "cell_type": "code",
   "execution_count": null,
   "id": "c5079801",
   "metadata": {},
   "outputs": [],
   "source": []
  },
  {
   "cell_type": "code",
   "execution_count": 83,
   "id": "682a99b8",
   "metadata": {},
   "outputs": [],
   "source": [
    "#############################\n",
    "# 회귀분석 변수선택법 코드 \n",
    "import pandas as pd\n",
    "import numpy as np\n",
    "\n",
    "import statsmodels.api as sm \n",
    "import statsmodels.formula.api as smf \n",
    "\n",
    "import time\n",
    "import itertools\n",
    "\n",
    "\n",
    "def processSubset(X,y, feature_set):\n",
    "            model = sm.OLS(y,X[list(feature_set)]) # Modeling\n",
    "            regr = model.fit() # 모델 학습\n",
    "            AIC = regr.aic # 모델의 AIC\n",
    "            return {\"model\":regr, \"AIC\":AIC}\n",
    "        \n",
    "# 전진선택법\n",
    "def forward(X, y, predictors):\n",
    "    # 데이터 변수들이 미리정의된 predictors에 있는지 없는지 확인 및 분류\n",
    "    remaining_predictors = [p for p in X.columns.difference(['Intercept']) if p not in predictors]\n",
    "    results = []\n",
    "    for p in remaining_predictors:\n",
    "        results.append(processSubset(X=X, y= y,            feature_set=predictors+[p]+['Intercept']))\n",
    "        \n",
    "    # 데이터프레임으로 변환\n",
    "    models = pd.DataFrame(results)\n",
    "    # AIC가 가장 낮은 것을 선택\n",
    "    best_model = models.loc[models['AIC'].argmin()] # index\n",
    "    print(\"Processed \", models.shape[0], \"models on\", len(predictors)+1, \"predictors in\")\n",
    "    print('Selected predictors:',best_model['model'].model.exog_names,' AIC:',best_model[0] )\n",
    "    return best_model\t\n",
    "\n",
    "\n",
    "def forward_model(X,y):\n",
    "\n",
    "    Fmodels = pd.DataFrame(columns=[\"AIC\",\"model\"])\n",
    "    tic = time.time()\n",
    "    \n",
    "    # 미리 정의된 데이터 변수\n",
    "    predictors = []\n",
    "    \n",
    "    # 변수 1~10개 : 0-9 -> 1-10\n",
    "    for i in range(1,len(X,columns.difference(['const']))+1):\n",
    "    \tForward_result = forward(X=X,y=y,predictors=predictors)\n",
    "    \tif i > 1:\n",
    "            if Forward_result[\"AIC\"] > Fmodel_before:\n",
    "                break\n",
    "    \tFmodels.loc[i] = Forward_result\n",
    "    \tpredictors = Fmodels.loc[i][\"model\"].model.exog_names\n",
    "    \tFmodel_before = Fmodels.loc[i][\"AIC\"]\n",
    "    \tpredictors = [k for k in predictors if k != 'const']\n",
    "    toc = time.time()\n",
    "    print(\"Total elapsed time:\",(toc-tic), \"seconds.\")\n",
    "    \n",
    "    return (Fmodels['model'][len(Fmodels['model'])])\n",
    "    \n",
    "\n",
    "\t\n",
    "# 후진소거법\n",
    "def backward(X,y,predictors):\n",
    "    tic = time.time()\n",
    "    results = []\n",
    "    \n",
    "    # 데이터 변수들이 미리정의된 predictors 조합 확인\n",
    "    for combo in itertools.combinations(predictors, len(predictors) -1):\n",
    "        results.append(processSubset(X=X, y= y,        feature_set = list(combo)+['Intercept']))\n",
    "    models = pd.DataFrame(results)\n",
    "    \n",
    "    # 가장 낮은 AIC를 가진 모델을 선택\n",
    "    best_model = models.loc[models['AIC'].argmin()]\n",
    "    toc = time.time()\n",
    "    print(\"Processed \", models.shape[0], \"models on\",          len(predictors) -1, \"predictors in\", (toc - tic))\n",
    "    print('Selected predictors:',best_model['model'].model.exog_names,         'AIC:',best_model[0] )\n",
    "\n",
    "    return best_model\t\n",
    "\n",
    "\n",
    "def backward_model(X,y) :\n",
    "    Bmodels = pd.DataFrame(columns=[\"AIC\",\"model\"], index = range(1,len(X.columns)))\n",
    "    tic = time.time()\n",
    "    predictors = X.columns.difference(['const'])\n",
    "    Bmodel_before = processSubset(X,y,predictors)['AIC']\n",
    "    while (len(predictors) > 1):\n",
    "    \tBackward_result = backward(X=train_x, y= train_y, predictors=predictors)\n",
    "    \tif Backward_result['AIC'] > Bmodel_before :\n",
    "        \tbreak\n",
    "    \tBmodels.loc[len(predictors) -1] = Backward_result\n",
    "    \tpredictors = Bmodel.loc[len(predictors) - 1]['model'].model.exog_names\n",
    "    \tBmodel_before = Backward_result[\"AIC\"]\n",
    "    \tpredictors = [k for k in predictors if k != 'const']\n",
    "    \n",
    "    toc = time.time()\n",
    "    print(\"Total elapsed time:\",(toc-tic),\"seconds.\")\n",
    "    return (Bmodels[\"model\"].dropna().iloc[0])\n",
    "\n",
    "\n",
    "\n",
    "# 단계적 선택법\n",
    "def stepwise_model(X,y):\n",
    "    Stepmodels = pd.DataFrame(columns=[\"AIC\", \"model\"])\n",
    "    tic = time.time()\n",
    "    predictors = []\n",
    "    Smodel_before = processSubset(X,y,predictors+['Intercept'])['AIC']\n",
    "\n",
    "    for i in range(1, len(X.columns.difference(['Intercept'])) +1):\n",
    "        Forward_result = forward(X=X, y=y, predictors=predictors) \n",
    "        print('forward')\n",
    "        Stepmodels.loc[i] = Forward_result\n",
    "        predictors = Stepmodels.loc[i][\"model\"].model.exog_names\n",
    "        predictors = [ k for k in predictors if k !='Intercept']\n",
    "        Backward_result = backward(X=X, y=y, predictors=predictors)\n",
    "\n",
    "        if Backward_result['AIC']< Forward_result['AIC']:\n",
    "            Stepmodels.loc[i] = Backward_result\n",
    "            predictors = Stepmodels.loc[i][\"model\"].model.exog_names\n",
    "            Smodel_before = Stepmodels.loc[i][\"AIC\"]\n",
    "            predictors = [ k for k in predictors if k !='Intercept']\n",
    "            print('backward')\n",
    "\n",
    "        if Stepmodels.loc[i]['AIC']> Smodel_before:\n",
    "            break\n",
    "        else:\n",
    "            Smodel_before = Stepmodels.loc[i][\"AIC\"]\n",
    "    toc = time.time()\n",
    "    print(\"Total elapsed time:\", (toc - tic), \"seconds.\")\n",
    "\n",
    "    return (Stepmodels['model'][len(Stepmodels['model'])])\t"
   ]
  },
  {
   "cell_type": "code",
   "execution_count": null,
   "id": "d6fde924",
   "metadata": {},
   "outputs": [],
   "source": []
  }
 ],
 "metadata": {
  "kernelspec": {
   "display_name": "Python 3",
   "language": "python",
   "name": "python3"
  },
  "language_info": {
   "codemirror_mode": {
    "name": "ipython",
    "version": 3
   },
   "file_extension": ".py",
   "mimetype": "text/x-python",
   "name": "python",
   "nbconvert_exporter": "python",
   "pygments_lexer": "ipython3",
   "version": "3.8.8"
  }
 },
 "nbformat": 4,
 "nbformat_minor": 5
}
