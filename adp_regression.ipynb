{
 "cells": [
  {
   "cell_type": "markdown",
   "id": "bb0bb3d0",
   "metadata": {},
   "source": [
    "회귀분석 코드 모음 "
   ]
  },
  {
   "cell_type": "code",
   "execution_count": null,
   "id": "f6efc70c",
   "metadata": {},
   "outputs": [],
   "source": [
    "# 파이썬 변수선택법 지원 라이브러리 : 교재와 결과가 너무 틀려 난감 \n",
    "# 책을 사야 되나봄 ㅠ.ㅜ 설명이나 구글링 안됨\n",
    "# 꽃게 책에만 있음 \n",
    "# https://github.com/gedeck/dmba\n",
    "\n",
    "!pip install dmba\n",
    "\n",
    "from dmba import backward_elimination, stepwise_selection, forward_selection, AIC_score\n",
    "\n",
    "def train_model(variables):\n",
    "    if len(variables) == 0:\n",
    "        return None\n",
    "    model = LinearRegression()\n",
    "    model.fit(X[variables], y)\n",
    "    return model \n",
    "\n",
    "def score_model(model, variables):\n",
    "    if len(variables) == 0:\n",
    "        return AIC_score(y, [y.mean()]*len(y), model, df=1)\n",
    "    return AIC_score(y, model.predict(X[variables]), model)\n",
    "\n",
    "\n",
    "best_model, best_variables = stepwise_selection(X.columns, train_model, score_model, verbose=True)\n",
    "#f_best_model, f_best_variables = forward_selection(X.columns, train_model, score_model, verbose=True)\n",
    "#b_best_model, b_best_variables = backward_elimination(X.columns, train_model, score_model, verbose=True)\n",
    "\n",
    "stepwise_selection?\n",
    "pd.DataFrame({'feat':best_variables, 'coef':best_model.coef_.flatten()})"
   ]
  }
 ],
 "metadata": {
  "kernelspec": {
   "display_name": "Python 3",
   "language": "python",
   "name": "python3"
  },
  "language_info": {
   "codemirror_mode": {
    "name": "ipython",
    "version": 3
   },
   "file_extension": ".py",
   "mimetype": "text/x-python",
   "name": "python",
   "nbconvert_exporter": "python",
   "pygments_lexer": "ipython3",
   "version": "3.8.8"
  }
 },
 "nbformat": 4,
 "nbformat_minor": 5
}
